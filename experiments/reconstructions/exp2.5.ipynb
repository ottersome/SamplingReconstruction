{
 "cells": [
  {
   "cell_type": "markdown",
   "metadata": {},
   "source": [
    "# Introduction \n",
    "The experminet below tries to extend the idea that we hav eprocured in exp1. Instead of checking the error rate for normal bandlimited signals we will work with markov chains.\n",
    "\n",
    "- We will start with markov chains backed up by some generator matrix.\n",
    "- They will generate paths of \"high resolution\" from which we will sample ant try to reconstruct the entirety of the chain. Let say that we will do a decimation rate of 1-4 samples.\n",
    "- Once we have those samples we passe them to a neural network which will likely have a BCE loss and will try to predict 0 or 1 in a specifc spot;\n",
    "- Our hope is that we will see some point where there will be a *stark* drop in performance, probably due to an analogous phenomenon to sampling at subnyquist rate."
   ]
  },
  {
   "cell_type": "code",
   "execution_count": 1,
   "metadata": {},
   "outputs": [],
   "source": [
    "import numpy as np\n",
    "import matplotlib.pyplot as plt\n",
    "import numpy.random as rnd\n",
    "from sp_sims.simulators.stochasticprocesses import RaceOfExponentials,TransitionMatrixBD\n",
    "\n",
    "plt.style.use('rose-pine-dawn')\n",
    "%load_ext autoreload\n",
    "%autoreload 2"
   ]
  },
  {
   "cell_type": "markdown",
   "metadata": {},
   "source": [
    "# Setup"
   ]
  },
  {
   "cell_type": "markdown",
   "metadata": {},
   "source": [
    "## Constant Declarations"
   ]
  },
  {
   "cell_type": "code",
   "execution_count": 2,
   "metadata": {},
   "outputs": [
    {
     "name": "stdout",
     "output_type": "stream",
     "text": [
      "Decimation factor is 6\n"
     ]
    }
   ],
   "source": [
    "high_res_delta = 1 # For generating the dataset and later sample\n",
    "baseline_rates = {\"lam\": 1/10,\"mu\":4/10}\n",
    "sim_path_length = 256\n",
    "used_path_length = 64 # So that we can let the process reach stationarity and take samples from stationary distribution\n",
    "decimanation_factor = int(np.mean(1/np.array(list(baseline_rates.values())))//high_res_delta)\n",
    "print(f\"Decimation factor is {decimanation_factor}\")\n",
    "baseline_dataset_size = 2048\n",
    "initial_state = 0"
   ]
  },
  {
   "cell_type": "markdown",
   "metadata": {},
   "source": [
    "## Create Datasets"
   ]
  },
  {
   "cell_type": "code",
   "execution_count": 3,
   "metadata": {},
   "outputs": [],
   "source": [
    "# Generate Basline dataset (the one we learn on )\n",
    "def generate_state_tape(dataset_size: int, rates: dict, path_length: int, init_state: int = 0):\n",
    "    sts = []\n",
    "    for i in range(dataset_size):\n",
    "        Q = np.array([[-rates[\"lam\"],rates[\"lam\"]],[rates[\"mu\"],-rates[\"mu\"]]])# Necessary to fit into TransitionMatrixBD generator\n",
    "        # This generator will generate at the same interval so there is no need to have \n",
    "        generator = TransitionMatrixBD(Q, sampling_interval = high_res_delta)\n",
    "        state_tape = generator.generate_history(init_state, path_length)\n",
    "        sts.append(state_tape[-used_path_length:])\n",
    "    return sts\n",
    "state_tape = generate_state_tape(baseline_dataset_size,baseline_rates,used_path_length)"
   ]
  },
  {
   "cell_type": "code",
   "execution_count": 4,
   "metadata": {},
   "outputs": [
    {
     "name": "stdout",
     "output_type": "stream",
     "text": [
      "Sampled state tape length is 11\n"
     ]
    }
   ],
   "source": [
    "# Sample the dataset\n",
    "sampled_sts = []\n",
    "for i in range(len(state_tape)):\n",
    "    sampled_sts.append(state_tape[i][::decimanation_factor])\n",
    "print(f\"Sampled state tape length is {len(sampled_sts[0])}\")\n"
   ]
  },
  {
   "cell_type": "code",
   "execution_count": 5,
   "metadata": {},
   "outputs": [
    {
     "name": "stdout",
     "output_type": "stream",
     "text": [
      "[1]\n"
     ]
    }
   ],
   "source": [
    "a = [1,2,3,4]\n",
    "b= a[::4]\n",
    "print(b)"
   ]
  },
  {
   "cell_type": "markdown",
   "metadata": {},
   "source": [
    "## Create Networks\n"
   ]
  },
  {
   "cell_type": "code",
   "execution_count": 6,
   "metadata": {},
   "outputs": [],
   "source": [
    "from samprecon.reconstructors.markov_reconstructors import BCEReconstructor\n",
    "import torch\n",
    "# import binary cross entorpy loss\n",
    "import torch.nn as nn\n",
    "from samprecon.reconstructors.markov_reconstructors import BCEReconstructor\n",
    "from torch.optim import Adam\n",
    "from tqdm.notebook import tqdm"
   ]
  },
  {
   "cell_type": "code",
   "execution_count": 7,
   "metadata": {},
   "outputs": [],
   "source": [
    "num_epochs = 10\n",
    "batch_size = 16\n",
    "input_size = 1 + used_path_length//decimanation_factor\n",
    "bce_network = BCEReconstructor(input_size, used_path_length)\n",
    "optimizer = Adam(bce_network.parameters(), lr=0.001)\n",
    "\n",
    "criterion = nn.BCEWithLogitsLoss()"
   ]
  },
  {
   "cell_type": "markdown",
   "metadata": {},
   "source": [
    "## Train Network"
   ]
  },
  {
   "cell_type": "code",
   "execution_count": 8,
   "metadata": {},
   "outputs": [
    {
     "name": "stdout",
     "output_type": "stream",
     "text": [
      "Executing the training with 128 batches\n"
     ]
    },
    {
     "data": {
      "application/json": {
       "ascii": false,
       "bar_format": null,
       "colour": null,
       "elapsed": 0.008022069931030273,
       "initial": 0,
       "n": 0,
       "ncols": null,
       "nrows": null,
       "postfix": null,
       "prefix": "Epochs",
       "rate": null,
       "total": 10,
       "unit": "it",
       "unit_divisor": 1000,
       "unit_scale": false
      },
      "application/vnd.jupyter.widget-view+json": {
       "model_id": "5020ae4a93ba44aa881c6a6593a852d5",
       "version_major": 2,
       "version_minor": 0
      },
      "text/plain": [
       "Epochs:   0%|          | 0/10 [00:00<?, ?it/s]"
      ]
     },
     "metadata": {},
     "output_type": "display_data"
    },
    {
     "data": {
      "application/json": {
       "ascii": false,
       "bar_format": null,
       "colour": null,
       "elapsed": 0.010187625885009766,
       "initial": 0,
       "n": 0,
       "ncols": null,
       "nrows": null,
       "postfix": null,
       "prefix": "Batch",
       "rate": null,
       "total": 128,
       "unit": "it",
       "unit_divisor": 1000,
       "unit_scale": false
      },
      "application/vnd.jupyter.widget-view+json": {
       "model_id": "37a90260d7b44b63af6c4bb6e06e2325",
       "version_major": 2,
       "version_minor": 0
      },
      "text/plain": [
       "Batch:   0%|          | 0/128 [00:00<?, ?it/s]"
      ]
     },
     "metadata": {},
     "output_type": "display_data"
    },
    {
     "name": "stderr",
     "output_type": "stream",
     "text": [
      "/tmp/ipykernel_394245/3443470027.py:7: UserWarning: Creating a tensor from a list of numpy.ndarrays is extremely slow. Please consider converting the list to a single numpy.ndarray with numpy.array() before converting to a tensor. (Triggered internally at /opt/conda/conda-bld/pytorch_1695392035629/work/torch/csrc/utils/tensor_new.cpp:261.)\n",
      "  batch_sts = torch.Tensor(sampled_sts[i*batch_size:(i+1)*batch_size]).to(torch.float).view(batch_size,-1)# Careful with len(sampled_sts)%batch_size != 0\n"
     ]
    },
    {
     "data": {
      "application/json": {
       "ascii": false,
       "bar_format": null,
       "colour": null,
       "elapsed": 0.006554841995239258,
       "initial": 0,
       "n": 0,
       "ncols": null,
       "nrows": null,
       "postfix": null,
       "prefix": "Batch",
       "rate": null,
       "total": 128,
       "unit": "it",
       "unit_divisor": 1000,
       "unit_scale": false
      },
      "application/vnd.jupyter.widget-view+json": {
       "model_id": "5a7a99197c784295aa6641974730f0fd",
       "version_major": 2,
       "version_minor": 0
      },
      "text/plain": [
       "Batch:   0%|          | 0/128 [00:00<?, ?it/s]"
      ]
     },
     "metadata": {},
     "output_type": "display_data"
    },
    {
     "data": {
      "application/json": {
       "ascii": false,
       "bar_format": null,
       "colour": null,
       "elapsed": 0.008477449417114258,
       "initial": 0,
       "n": 0,
       "ncols": null,
       "nrows": null,
       "postfix": null,
       "prefix": "Batch",
       "rate": null,
       "total": 128,
       "unit": "it",
       "unit_divisor": 1000,
       "unit_scale": false
      },
      "application/vnd.jupyter.widget-view+json": {
       "model_id": "37a817fdc4b04824a41ab10474ee8fdb",
       "version_major": 2,
       "version_minor": 0
      },
      "text/plain": [
       "Batch:   0%|          | 0/128 [00:00<?, ?it/s]"
      ]
     },
     "metadata": {},
     "output_type": "display_data"
    },
    {
     "data": {
      "application/json": {
       "ascii": false,
       "bar_format": null,
       "colour": null,
       "elapsed": 0.00940704345703125,
       "initial": 0,
       "n": 0,
       "ncols": null,
       "nrows": null,
       "postfix": null,
       "prefix": "Batch",
       "rate": null,
       "total": 128,
       "unit": "it",
       "unit_divisor": 1000,
       "unit_scale": false
      },
      "application/vnd.jupyter.widget-view+json": {
       "model_id": "48c2eb0136ef4fa69548a27e284bafce",
       "version_major": 2,
       "version_minor": 0
      },
      "text/plain": [
       "Batch:   0%|          | 0/128 [00:00<?, ?it/s]"
      ]
     },
     "metadata": {},
     "output_type": "display_data"
    },
    {
     "data": {
      "application/json": {
       "ascii": false,
       "bar_format": null,
       "colour": null,
       "elapsed": 0.012054443359375,
       "initial": 0,
       "n": 0,
       "ncols": null,
       "nrows": null,
       "postfix": null,
       "prefix": "Batch",
       "rate": null,
       "total": 128,
       "unit": "it",
       "unit_divisor": 1000,
       "unit_scale": false
      },
      "application/vnd.jupyter.widget-view+json": {
       "model_id": "13e4d9ffa78f400d83c429a68d07e278",
       "version_major": 2,
       "version_minor": 0
      },
      "text/plain": [
       "Batch:   0%|          | 0/128 [00:00<?, ?it/s]"
      ]
     },
     "metadata": {},
     "output_type": "display_data"
    },
    {
     "data": {
      "application/json": {
       "ascii": false,
       "bar_format": null,
       "colour": null,
       "elapsed": 0.016172409057617188,
       "initial": 0,
       "n": 0,
       "ncols": null,
       "nrows": null,
       "postfix": null,
       "prefix": "Batch",
       "rate": null,
       "total": 128,
       "unit": "it",
       "unit_divisor": 1000,
       "unit_scale": false
      },
      "application/vnd.jupyter.widget-view+json": {
       "model_id": "ea63e6b0283c4cafbf1a9d7c28f5b6e3",
       "version_major": 2,
       "version_minor": 0
      },
      "text/plain": [
       "Batch:   0%|          | 0/128 [00:00<?, ?it/s]"
      ]
     },
     "metadata": {},
     "output_type": "display_data"
    },
    {
     "data": {
      "application/json": {
       "ascii": false,
       "bar_format": null,
       "colour": null,
       "elapsed": 0.013624429702758789,
       "initial": 0,
       "n": 0,
       "ncols": null,
       "nrows": null,
       "postfix": null,
       "prefix": "Batch",
       "rate": null,
       "total": 128,
       "unit": "it",
       "unit_divisor": 1000,
       "unit_scale": false
      },
      "application/vnd.jupyter.widget-view+json": {
       "model_id": "587188f19966445daa11058ed5d91314",
       "version_major": 2,
       "version_minor": 0
      },
      "text/plain": [
       "Batch:   0%|          | 0/128 [00:00<?, ?it/s]"
      ]
     },
     "metadata": {},
     "output_type": "display_data"
    },
    {
     "data": {
      "application/json": {
       "ascii": false,
       "bar_format": null,
       "colour": null,
       "elapsed": 0.005724668502807617,
       "initial": 0,
       "n": 0,
       "ncols": null,
       "nrows": null,
       "postfix": null,
       "prefix": "Batch",
       "rate": null,
       "total": 128,
       "unit": "it",
       "unit_divisor": 1000,
       "unit_scale": false
      },
      "application/vnd.jupyter.widget-view+json": {
       "model_id": "1bd5e6fce4b34193b6cd7d9b14523dac",
       "version_major": 2,
       "version_minor": 0
      },
      "text/plain": [
       "Batch:   0%|          | 0/128 [00:00<?, ?it/s]"
      ]
     },
     "metadata": {},
     "output_type": "display_data"
    },
    {
     "data": {
      "application/json": {
       "ascii": false,
       "bar_format": null,
       "colour": null,
       "elapsed": 0.010899543762207031,
       "initial": 0,
       "n": 0,
       "ncols": null,
       "nrows": null,
       "postfix": null,
       "prefix": "Batch",
       "rate": null,
       "total": 128,
       "unit": "it",
       "unit_divisor": 1000,
       "unit_scale": false
      },
      "application/vnd.jupyter.widget-view+json": {
       "model_id": "fcb50b890688412fad49e9660de7ade5",
       "version_major": 2,
       "version_minor": 0
      },
      "text/plain": [
       "Batch:   0%|          | 0/128 [00:00<?, ?it/s]"
      ]
     },
     "metadata": {},
     "output_type": "display_data"
    },
    {
     "data": {
      "application/json": {
       "ascii": false,
       "bar_format": null,
       "colour": null,
       "elapsed": 0.006234169006347656,
       "initial": 0,
       "n": 0,
       "ncols": null,
       "nrows": null,
       "postfix": null,
       "prefix": "Batch",
       "rate": null,
       "total": 128,
       "unit": "it",
       "unit_divisor": 1000,
       "unit_scale": false
      },
      "application/vnd.jupyter.widget-view+json": {
       "model_id": "53db8400ea05481aad8e83bd7229c482",
       "version_major": 2,
       "version_minor": 0
      },
      "text/plain": [
       "Batch:   0%|          | 0/128 [00:00<?, ?it/s]"
      ]
     },
     "metadata": {},
     "output_type": "display_data"
    }
   ],
   "source": [
    "# Training\n",
    "num_batches = len(sampled_sts)//batch_size\n",
    "print(f'Executing the training with {num_batches} batches')\n",
    "for epoch in tqdm(range(num_epochs),desc=\"Epochs\",leave=False):\n",
    "    batch_tqdm = tqdm(range(num_batches), desc=\"Batch\",leave=True)\n",
    "    for i in range(num_batches):\n",
    "        batch_sts = torch.Tensor(sampled_sts[i*batch_size:(i+1)*batch_size]).to(torch.float).view(batch_size,-1)# Careful with len(sampled_sts)%batch_size != 0\n",
    "        y_batch = torch.Tensor(state_tape[i*batch_size:(i+1)*batch_size]).to(torch.float).view(batch_size,-1)\n",
    "        upsampled = bce_network(batch_sts)\n",
    "\n",
    "        # Compute Loss\n",
    "        loss = criterion(upsampled,y_batch)\n",
    "        # Set batch_tqdm description\n",
    "        batch_tqdm.set_description(f\"Loss is {loss.item()}\")\n",
    "        batch_tqdm.update(1)\n",
    "        optimizer.zero_grad()\n",
    "        loss.backward()\n",
    "        optimizer.step()"
   ]
  },
  {
   "cell_type": "code",
   "execution_count": 9,
   "metadata": {},
   "outputs": [
    {
     "name": "stdout",
     "output_type": "stream",
     "text": [
      "Batch shape is torch.Size([1, 16, 64])\n",
      "Average loss is 0.374397337436676\n"
     ]
    }
   ],
   "source": [
    "# Generate one more batch\n",
    "batch = torch.Tensor(generate_state_tape(batch_size, baseline_rates, used_path_length)).to(torch.float).view(1,-1,64)\n",
    "batch_sampled = batch[:,:,::decimanation_factor]\n",
    "print(f\"Batch shape is {batch.shape}\")\n",
    "bce_network.eval()\n",
    "res = bce_network(batch_sampled)\n",
    "loss = criterion(res,batch).detach().item()\n",
    "siggy = nn.Sigmoid()\n",
    "\n",
    "batch = batch.detach().numpy().squeeze()\n",
    "batch_sampled = batch_sampled.detach().numpy().squeeze()\n",
    "res = siggy(res).detach().numpy().squeeze()\n",
    "# Hard set 0 or 1 instead of sigmoid. Threshold is 0.5\n",
    "\n",
    "print(f\"Average loss is {loss}\")"
   ]
  },
  {
   "cell_type": "code",
   "execution_count": 10,
   "metadata": {},
   "outputs": [
    {
     "name": "stdout",
     "output_type": "stream",
     "text": [
      "Shape of the three is (64,), (11,), (64,)\n",
      "Shape of the three is (64,), (11,), (64,)\n",
      "Shape of the three is (64,), (11,), (64,)\n"
     ]
    },
    {
     "data": {
      "text/plain": [
       "[]"
      ]
     },
     "execution_count": 10,
     "metadata": {},
     "output_type": "execute_result"
    },
    {
     "data": {
      "image/png": "[encoded data removed]",
      "text/plain": [
       "<Figure size 1200x800 with 3 Axes>"
      ]
     },
     "metadata": {},
     "output_type": "display_data"
    }
   ],
   "source": [
    "# Take few samples\n",
    "num_examples = 3\n",
    "\n",
    "# Plot the results\n",
    "fig,axs = plt.subplots(3,1,figsize=(12,8))\n",
    "for i in range(num_examples):\n",
    "    full_res = batch[i]\n",
    "    sample = batch_sampled[i]\n",
    "    reconstruction = res[i]\n",
    "\n",
    "    print(f\"Shape of the three is {full_res.shape}, {sample.shape}, {reconstruction.shape}\")\n",
    "    high_res_x = np.linspace(0,used_path_length*high_res_delta, len(full_res))\n",
    "\n",
    "    # Plot full resolution stair plot\n",
    "    axs[i].plot(np.linspace(0,used_path_length*high_res_delta, len(full_res)),full_res,drawstyle=\"steps-post\",label=\"Full resolution\", marker=\"^\",markersize=3)\n",
    "\n",
    "    # Plot Samples\n",
    "    x_tickies = np.linspace(0,used_path_length*high_res_delta, len(sample))\n",
    "    axs[i].scatter(x_tickies,sample,label=\"Decimated Samples\")\n",
    "    axs[i].set_xticks(x_tickies)\n",
    "\n",
    "    # Plot Reconstruction\n",
    "    axs[i].plot(np.linspace(0,used_path_length*high_res_delta, len(reconstruction)),reconstruction,drawstyle=\"steps-post\",label=\"Network Reconstruction\")\n",
    "\n",
    "    axs[i].legend()\n",
    "    axs[i].set_title(f\"Sample {i}\")\n",
    "fig.tight_layout()\n",
    "plt.plot()"
   ]
  },
  {
   "cell_type": "markdown",
   "metadata": {},
   "source": [
    "# Test Performance on Different Rates"
   ]
  },
  {
   "cell_type": "code",
   "execution_count": 11,
   "metadata": {},
   "outputs": [
    {
     "name": "stdout",
     "output_type": "stream",
     "text": [
      "Created 100 available surprises\n"
     ]
    }
   ],
   "source": [
    "## Generate surprises\n",
    "##all_possible_lams = np.logspace(0.01,8,100, base=2)\n",
    "#all_possible_lams = [1/10]\n",
    "#\n",
    "#available_surprises = []\n",
    "## Generate Mus such that mu > lam \n",
    "#for lam in all_possible_lams:\n",
    "#    for mu in np.logspace(np.log2(lam),8,100,base=2):\n",
    "#        available_surprises.append({\n",
    "#            \"lam\": lam,\n",
    "#            \"mu\": mu\n",
    "#        })\n",
    "#print(f\"Created {len(available_surprises)} available surprises\")\n",
    "#\n",
    "## What if instead "
   ]
  },
  {
   "cell_type": "code",
   "execution_count": 23,
   "metadata": {},
   "outputs": [],
   "source": [
    "range_of_scales = np.logspace(-3,8,100)\n",
    "available_surprises = [ {\n",
    "    \"lam\": baseline_rates[\"lam\"]*scale,\n",
    "    \"mu\": baseline_rates[\"mu\"]*scale\n",
    "} for scale in range_of_scales]"
   ]
  },
  {
   "cell_type": "code",
   "execution_count": 25,
   "metadata": {},
   "outputs": [],
   "source": [
    "# Create the surprise dataset\n",
    "def multimodal_generation(rates_list, path_length, initial_state):\n",
    "    surprise_tapes = []\n",
    "    for rates in rates_list:\n",
    "        Q = np.array([[-rates[\"lam\"],rates[\"lam\"]],[rates[\"mu\"],-rates[\"mu\"]]])# Necessary to fit into TransitionMatrixBD generator\n",
    "        generator = TransitionMatrixBD(Q, sampling_interval=high_res_delta)\n",
    "        state_tape = generator.generate_history(initial_state,path_length)\n",
    "        surprise_tapes.append(state_tape[-used_path_length:])\n",
    "    return surprise_tapes\n",
    "\n",
    "#surprise_sts = multimodal_generation(available_surprises, sim_path_length, initial_state)"
   ]
  },
  {
   "cell_type": "code",
   "execution_count": 26,
   "metadata": {},
   "outputs": [
    {
     "name": "stdout",
     "output_type": "stream",
     "text": [
      "We have realized len(sorted_surprise) = 100 mappings\n"
     ]
    }
   ],
   "source": [
    "# Take the pretrained network and show it the surprise dataset\n",
    "# Create a mapping from the surprise dataset to a calculaation performed on it\n",
    "avg_exit_rate_mappign = { np.mean(list(dicto.values())) : dicto for dicto in available_surprises}\n",
    "# Sort based on key \n",
    "sorted_surprise = sorted(avg_exit_rate_mappign.items(), key=lambda x: x[0])\n",
    "print(f\"We have realized len(sorted_surprise) = {len(sorted_surprise)} mappings\")"
   ]
  },
  {
   "cell_type": "code",
   "execution_count": 27,
   "metadata": {},
   "outputs": [],
   "source": [
    "# Once they are sorted we will generate a batch each and feed it to the network\n",
    "# Then we will check for the loss and plot the results as a function of the surprise\n",
    "\n",
    "losses = []\n",
    "input_size = 1 + used_path_length//decimanation_factor\n",
    "for avg_exit_rate, surprise in sorted_surprise:\n",
    "    sts = []\n",
    "    for b in range(256):\n",
    "        Q = np.array([[-surprise[\"lam\"],surprise[\"lam\"]],[surprise[\"mu\"],-surprise[\"mu\"]]])# Necessary to fit into TransitionMatrixBD generator\n",
    "        generator = TransitionMatrixBD(Q, high_res_delta)\n",
    "        sts.append(generator.generate_history(initial_state,sim_path_length)[-used_path_length:])\n",
    "    sts = torch.Tensor(sts).to(torch.float).view(1,-1,used_path_length)\n",
    "    sts_sampled = sts[:,:,::decimanation_factor]\n",
    "    res = bce_network(sts_sampled)\n",
    "    losses.append(criterion(res,sts).detach().item())\n"
   ]
  },
  {
   "cell_type": "code",
   "execution_count": 29,
   "metadata": {},
   "outputs": [
    {
     "data": {
      "image/png": "[encoded data removed]",
      "text/plain": [
       "<Figure size 800x400 with 1 Axes>"
      ]
     },
     "metadata": {},
     "output_type": "display_data"
    }
   ],
   "source": [
    "# Plot the losses\n",
    "fig, axs = plt.subplots(1,1,figsize=(8,4))\n",
    "axs.plot([x[0] for x in sorted_surprise],losses)\n",
    "axs.set_xlabel(\"Average Exit Rate\")\n",
    "axs.set_xscale(\"log\",basex=2)\n",
    "axs.set_ylabel(\"Loss\")\n",
    "axs.set_title(\"Loss as a function of the average exit rate (with scaling)\")\n",
    "plt.show()"
   ]
  },
  {
   "cell_type": "markdown",
   "metadata": {},
   "source": [
    "# Quesitons\n",
    "\n",
    "1. How to prove similarities between using race of exponentials and sampling $P_{\\Delta t}$\n",
    "    - Statistica similarities to prove something analogous to isomorphism ?"
   ]
  },
  {
   "cell_type": "code",
   "execution_count": null,
   "metadata": {},
   "outputs": [],
   "source": []
  }
 ],
 "metadata": {
  "kernelspec": {
   "display_name": "rs39",
   "language": "python",
   "name": "python3"
  },
  "language_info": {
   "codemirror_mode": {
    "name": "ipython",
    "version": 3
   },
   "file_extension": ".py",
   "mimetype": "text/x-python",
   "name": "python",
   "nbconvert_exporter": "python",
   "pygments_lexer": "ipython3",
   "version": "3.9.18"
  }
 },
 "nbformat": 4,
 "nbformat_minor": 2
}
