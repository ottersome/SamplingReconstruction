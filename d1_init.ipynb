{
 "cells": [
  {
   "cell_type": "markdown",
   "id": "5f5ffbd6",
   "metadata": {},
   "source": [
    "# Introduction\n",
    "This experiment will be simply of detection. It will attempt to learn a single environment\n",
    "This will be done by:\n",
    "- Using Likelihood Ratio as Optimal Test for feedback\n",
    "- Using the differentiabel algorithm we have already developed before\n",
    "- Probably using some notion of memory"
   ]
  },
  {
   "cell_type": "code",
   "execution_count": 1,
   "id": "a5a9ce8f",
   "metadata": {
    "title": "[python]"
   },
   "outputs": [],
   "source": [
    "# Get all imports\n",
    "\n",
    "import numpy as np\n",
    "import torch\n",
    "\n",
    "from samprecon.environments.OneEpisodeEnvironments import (\n",
    "    MarkovianDualCumulativeEnvironment,\n",
    ")\n",
    "# Auto reload ipynb \n",
    "%load_ext autoreload\n",
    "%autoreload 2"
   ]
  },
  {
   "cell_type": "markdown",
   "id": "8c10daae",
   "metadata": {},
   "source": [
    "## Setup all Constants"
   ]
  },
  {
   "cell_type": "code",
   "execution_count": 2,
   "id": "11abd596",
   "metadata": {
    "title": "[python]"
   },
   "outputs": [],
   "source": [
    "hyp0_baseline_rates = {\"lam\": 1 / 10, \"mu\": 4 / 10}\n",
    "hyp1_baseline_rates = {\"lam\": 4 / 10, \"mu\": 4 / 10}\n",
    "sampling_budget = 10\n",
    "highest_frequency = 1e-0\n",
    "num_states = 4\n",
    "avg_timespan = torch.mean(\n",
    "    1\n",
    "    / torch.tensor(\n",
    "        list(hyp0_baseline_rates.values()) + list(hyp1_baseline_rates.values())\n",
    "    )\n",
    ").item()\n",
    "decimation_ranges = [1, int(avg_timespan // highest_frequency * 4)]"
   ]
  },
  {
   "cell_type": "markdown",
   "id": "be38ebb7",
   "metadata": {},
   "source": [
    "## Setup Environments"
   ]
  },
  {
   "cell_type": "code",
   "execution_count": 3,
   "id": "41c0aab0",
   "metadata": {
    "title": "[python]"
   },
   "outputs": [],
   "source": [
    "\n",
    "dual_env = MarkovianDualCumulativeEnvironment(\n",
    "    hyp0_rates=hyp0_baseline_rates,\n",
    "    hyp1_rates=hyp1_baseline_rates,\n",
    "    sampling_budget=10,\n",
    "    highest_frequency=highest_frequency,\n",
    "    num_states=num_states,\n",
    "    decimation_ranges=decimation_ranges,\n",
    "    selection_probabilities=[0.5, 0.5],\n",
    "    parallel_paths=4,\n",
    ")"
   ]
  },
  {
   "cell_type": "markdown",
   "id": "8ab6f684",
   "metadata": {},
   "source": [
    "# Executions"
   ]
  },
  {
   "cell_type": "code",
   "execution_count": 7,
   "id": "fdd4cdf5",
   "metadata": {},
   "outputs": [
    {
     "ename": "IndexError",
     "evalue": "tensors used as indices must be long, int, byte or bool tensors",
     "output_type": "error",
     "traceback": [
      "\u001b[0;31m---------------------------------------------------------------------------\u001b[0m",
      "\u001b[0;31mIndexError\u001b[0m                                Traceback (most recent call last)",
      "\u001b[1;32m/home/ottersome/Research/SamplingReconstruction/d1_init.ipynb Cell 8\u001b[0m line \u001b[0;36m1\n\u001b[0;32m----> <a href='vscode-notebook-cell:/home/ottersome/Research/SamplingReconstruction/d1_init.ipynb#X10sZmlsZQ%3D%3D?line=0'>1</a>\u001b[0m dual_env\u001b[39m.\u001b[39;49mreset()\n",
      "File \u001b[0;32m~/Research/SamplingReconstruction/samprecon/environments/OneEpisodeEnvironments.py:90\u001b[0m, in \u001b[0;36mMarkovianDualCumulativeEnvironment.reset\u001b[0;34m(self)\u001b[0m\n\u001b[1;32m     88\u001b[0m paths \u001b[39m=\u001b[39m torch\u001b[39m.\u001b[39mzeros((\u001b[39mself\u001b[39m\u001b[39m.\u001b[39mparallel_paths, max_len\u001b[39m.\u001b[39mitem()))  \u001b[39m# type: ignore\u001b[39;00m\n\u001b[1;32m     89\u001b[0m \u001b[39mfor\u001b[39;00m step \u001b[39min\u001b[39;00m paths:\n\u001b[0;32m---> 90\u001b[0m     paths[:, step] \u001b[39m=\u001b[39m \u001b[39mself\u001b[39;49m\u001b[39m.\u001b[39;49m_single_state_step(paths[:, \u001b[39m-\u001b[39;49m\u001b[39m1\u001b[39;49m])\n",
      "File \u001b[0;32m~/Research/SamplingReconstruction/samprecon/environments/OneEpisodeEnvironments.py:95\u001b[0m, in \u001b[0;36mMarkovianDualCumulativeEnvironment._single_state_step\u001b[0;34m(self, last_states)\u001b[0m\n\u001b[1;32m     93\u001b[0m hyp_gen \u001b[39m=\u001b[39m torch\u001b[39m.\u001b[39mmultinomial(\u001b[39mself\u001b[39m\u001b[39m.\u001b[39mselection_probabilities, \u001b[39m1\u001b[39m)\u001b[39m.\u001b[39mview(\u001b[39m-\u001b[39m\u001b[39m1\u001b[39m, \u001b[39m1\u001b[39m)\n\u001b[1;32m     94\u001b[0m possible_probabilities \u001b[39m=\u001b[39m torch\u001b[39m.\u001b[39mTensor((\u001b[39mself\u001b[39m\u001b[39m.\u001b[39mhypgens[\u001b[39m0\u001b[39m]\u001b[39m.\u001b[39mP, \u001b[39mself\u001b[39m\u001b[39m.\u001b[39mhypgens[\u001b[39m1\u001b[39m]\u001b[39m.\u001b[39mP))\n\u001b[0;32m---> 95\u001b[0m selection_probabilities \u001b[39m=\u001b[39m possible_probabilities[hyp_gen, last_states]\n\u001b[1;32m     96\u001b[0m next_states \u001b[39m=\u001b[39m torch\u001b[39m.\u001b[39mmultinomial(selection_probabilities, \u001b[39m1\u001b[39m)\n\u001b[1;32m     97\u001b[0m \u001b[39mreturn\u001b[39;00m next_states\n",
      "\u001b[0;31mIndexError\u001b[0m: tensors used as indices must be long, int, byte or bool tensors"
     ]
    }
   ],
   "source": [
    "dual_env.reset()"
   ]
  }
 ],
 "metadata": {
  "jupytext": {
   "cell_metadata_filter": "title,-all",
   "formats": "ipynb,py:percent",
   "main_language": "python"
  },
  "kernelspec": {
   "display_name": "research",
   "language": "python",
   "name": "python3"
  },
  "language_info": {
   "codemirror_mode": {
    "name": "ipython",
    "version": 3
   },
   "file_extension": ".py",
   "mimetype": "text/x-python",
   "name": "python",
   "nbconvert_exporter": "python",
   "pygments_lexer": "ipython3",
   "version": "3.9.18"
  }
 },
 "nbformat": 4,
 "nbformat_minor": 5
}
