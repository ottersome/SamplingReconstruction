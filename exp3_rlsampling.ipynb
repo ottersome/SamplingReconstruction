{
 "cells": [
  {
   "cell_type": "markdown",
   "metadata": {},
   "source": [
    "# Imports\n"
   ]
  },
  {
   "cell_type": "code",
   "execution_count": 1,
   "metadata": {},
   "outputs": [],
   "source": [
    "import numpy as np\n",
    "import matplotlib.pyplot as plt\n",
    "import numpy.random as rnd\n",
    "from time import time\n",
    "from sp_sims.simulators.stochasticprocesses import BDStates\n",
    "from samprecon.environments.OneEpisodeEnvironments import MarkovianUniformEnvironment\n",
    "from samprecon.samplers.agents import SimpleAgent \n",
    "from samprecon.reconstructors.NNReconstructors import RNNReconstructor\n",
    "from tqdm.notebook import tqdm\n",
    "\n",
    "plt.style.use('rose-pine-dawn')\n",
    "rnd.seed(int(time()))\n",
    "%load_ext autoreload\n",
    "%autoreload 2"
   ]
  },
  {
   "cell_type": "code",
   "execution_count": 2,
   "metadata": {},
   "outputs": [
    {
     "name": "stdout",
     "output_type": "stream",
     "text": [
      "Decimation factor is 62\n"
     ]
    }
   ],
   "source": [
    "# Generate Environments on which to learn \n",
    "high_res_delta = 1e-1 # For generating the dataset and later sample\n",
    "baseline_rates = {\"lam\": 1/10,\"mu\":4/10}\n",
    "epochs = 100\n",
    "lenth_of_episode = 12\n",
    "step_path_length = 1\n",
    "sampling_budget = 4\n",
    "used_path_length = 64 # So that we can let the process reach stationarity and take samples from stationary distribution\n",
    "num_states = 4\n",
    "avg_span = np.mean(1/np.array(\n",
    "            list(baseline_rates.values())\n",
    "    ))\n",
    "max_decimation = (avg_span/high_res_delta)*4 # Max decimation factor #CHECK: Maybe not divide by 2\n",
    "current_decimation_factor = int(# We can start somewhere in between \n",
    "    avg_span//high_res_delta)\n",
    "print(f\"Decimation factor is {current_decimation_factor}\")\n",
    "# Set random seed with time for randomnessj"
   ]
  },
  {
   "cell_type": "code",
   "execution_count": 3,
   "metadata": {},
   "outputs": [],
   "source": [
    "# Initialize context first\n",
    "stateGen = BDStates(baseline_rates, high_res_delta, num_states)\n",
    "sampling_arbiter = SimpleAgent(num_states,max_decimation)\n",
    "reconstructor = RNNReconstructor(amnt_states = num_states)\n",
    "\n",
    "env = MarkovianUniformEnvironment(\n",
    "    state_generator = stateGen,\n",
    "    sampling_arbiter = sampling_arbiter,\n",
    "    reconstructor = reconstructor, \n",
    "    starting_decrate = current_decimation_factor,\n",
    ")"
   ]
  },
  {
   "cell_type": "code",
   "execution_count": 4,
   "metadata": {},
   "outputs": [
    {
     "data": {
      "application/vnd.jupyter.widget-view+json": {
       "model_id": "5214c685a96d44e3b8cfd5faa800d326",
       "version_major": 2,
       "version_minor": 0
      },
      "text/plain": [
       "Epochs:   0%|          | 0/100 [00:00<?, ?it/s]"
      ]
     },
     "metadata": {},
     "output_type": "display_data"
    },
    {
     "data": {
      "application/vnd.jupyter.widget-view+json": {
       "model_id": "810f1afb4c3748509c99fac2165228c9",
       "version_major": 2,
       "version_minor": 0
      },
      "text/plain": [
       "Steps:   0%|          | 0/12 [00:00<?, ?it/s]"
      ]
     },
     "metadata": {},
     "output_type": "display_data"
    },
    {
     "name": "stderr",
     "output_type": "stream",
     "text": [
      "/Users/rac716/Research/SamplingReconstruction/samprecon/samplers/spatial_transformers.py:54: UserWarning: To copy construct from a tensor, it is recommended to use sourceTensor.clone().detach() or sourceTensor.clone().detach().requires_grad_(True), rather than torch.tensor(sourceTensor).\n",
      "  torch.tensor(decimation_intervals[i])\n",
      "2023-12-06 15:14:49,861 - MarkovianUniformEnvironment - INFO - Sum of weight difference arbiterer0.0000\n",
      "2023-12-06 15:14:49,862 - MarkovianUniformEnvironment - INFO - Sum of weight difference  reconstructor0.0000\n",
      "2023-12-06 15:14:49,912 - MarkovianUniformEnvironment - INFO - Sum of weight difference arbiterer0.0000\n",
      "2023-12-06 15:14:49,914 - MarkovianUniformEnvironment - INFO - Sum of weight difference  reconstructor0.0000\n",
      "2023-12-06 15:14:49,965 - MarkovianUniformEnvironment - INFO - Sum of weight difference arbiterer0.0000\n",
      "2023-12-06 15:14:49,968 - MarkovianUniformEnvironment - INFO - Sum of weight difference  reconstructor0.0000\n",
      "2023-12-06 15:14:50,029 - MarkovianUniformEnvironment - INFO - Sum of weight difference arbiterer0.0000\n",
      "2023-12-06 15:14:50,030 - MarkovianUniformEnvironment - INFO - Sum of weight difference  reconstructor0.0000\n",
      "2023-12-06 15:14:50,081 - MarkovianUniformEnvironment - INFO - Sum of weight difference arbiterer0.0000\n",
      "2023-12-06 15:14:50,082 - MarkovianUniformEnvironment - INFO - Sum of weight difference  reconstructor0.0000\n",
      "2023-12-06 15:14:50,134 - MarkovianUniformEnvironment - INFO - Sum of weight difference arbiterer0.0000\n",
      "2023-12-06 15:14:50,135 - MarkovianUniformEnvironment - INFO - Sum of weight difference  reconstructor0.0000\n",
      "2023-12-06 15:14:50,184 - MarkovianUniformEnvironment - INFO - Sum of weight difference arbiterer0.0000\n",
      "2023-12-06 15:14:50,185 - MarkovianUniformEnvironment - INFO - Sum of weight difference  reconstructor0.0000\n",
      "2023-12-06 15:14:50,235 - MarkovianUniformEnvironment - INFO - Sum of weight difference arbiterer0.0000\n",
      "2023-12-06 15:14:50,236 - MarkovianUniformEnvironment - INFO - Sum of weight difference  reconstructor0.0000\n",
      "2023-12-06 15:14:50,292 - MarkovianUniformEnvironment - INFO - Sum of weight difference arbiterer0.0000\n",
      "2023-12-06 15:14:50,292 - MarkovianUniformEnvironment - INFO - Sum of weight difference  reconstructor0.0000\n",
      "2023-12-06 15:14:50,344 - MarkovianUniformEnvironment - INFO - Sum of weight difference arbiterer0.0000\n",
      "2023-12-06 15:14:50,345 - MarkovianUniformEnvironment - INFO - Sum of weight difference  reconstructor0.0000\n",
      "2023-12-06 15:14:50,393 - MarkovianUniformEnvironment - INFO - Sum of weight difference arbiterer0.0000\n",
      "2023-12-06 15:14:50,394 - MarkovianUniformEnvironment - INFO - Sum of weight difference  reconstructor0.0000\n",
      "2023-12-06 15:14:50,448 - MarkovianUniformEnvironment - INFO - Sum of weight difference arbiterer0.0000\n",
      "2023-12-06 15:14:50,449 - MarkovianUniformEnvironment - INFO - Sum of weight difference  reconstructor0.0000\n",
      "/Users/rac716/miniforge3/envs/rs39/lib/python3.9/site-packages/numpy/core/fromnumeric.py:3464: RuntimeWarning: Mean of empty slice.\n",
      "  return _methods._mean(a, axis=axis, dtype=dtype,\n",
      "/Users/rac716/miniforge3/envs/rs39/lib/python3.9/site-packages/numpy/core/_methods.py:192: RuntimeWarning: invalid value encountered in scalar divide\n",
      "  ret = ret.dtype.type(ret / rcount)\n"
     ]
    },
    {
     "data": {
      "application/vnd.jupyter.widget-view+json": {
       "model_id": "7bf555cf17d34eb598a3d47c8497914d",
       "version_major": 2,
       "version_minor": 0
      },
      "text/plain": [
       "Steps:   0%|          | 0/12 [00:00<?, ?it/s]"
      ]
     },
     "metadata": {},
     "output_type": "display_data"
    },
    {
     "name": "stderr",
     "output_type": "stream",
     "text": [
      "2023-12-06 15:14:50,510 - MarkovianUniformEnvironment - INFO - Sum of weight difference arbiterer0.0000\n",
      "2023-12-06 15:14:50,511 - MarkovianUniformEnvironment - INFO - Sum of weight difference  reconstructor0.0000\n",
      "2023-12-06 15:14:50,564 - MarkovianUniformEnvironment - INFO - Sum of weight difference arbiterer0.0000\n",
      "2023-12-06 15:14:50,565 - MarkovianUniformEnvironment - INFO - Sum of weight difference  reconstructor0.0000\n",
      "2023-12-06 15:14:50,619 - MarkovianUniformEnvironment - INFO - Sum of weight difference arbiterer0.0000\n",
      "2023-12-06 15:14:50,619 - MarkovianUniformEnvironment - INFO - Sum of weight difference  reconstructor0.0000\n",
      "2023-12-06 15:14:50,668 - MarkovianUniformEnvironment - INFO - Sum of weight difference arbiterer0.0000\n",
      "2023-12-06 15:14:50,669 - MarkovianUniformEnvironment - INFO - Sum of weight difference  reconstructor0.0000\n",
      "2023-12-06 15:14:50,719 - MarkovianUniformEnvironment - INFO - Sum of weight difference arbiterer0.0000\n",
      "2023-12-06 15:14:50,720 - MarkovianUniformEnvironment - INFO - Sum of weight difference  reconstructor0.0000\n",
      "2023-12-06 15:14:50,771 - MarkovianUniformEnvironment - INFO - Sum of weight difference arbiterer0.0000\n",
      "2023-12-06 15:14:50,772 - MarkovianUniformEnvironment - INFO - Sum of weight difference  reconstructor0.0000\n",
      "2023-12-06 15:14:50,823 - MarkovianUniformEnvironment - INFO - Sum of weight difference arbiterer0.0000\n",
      "2023-12-06 15:14:50,823 - MarkovianUniformEnvironment - INFO - Sum of weight difference  reconstructor0.0000\n",
      "2023-12-06 15:14:50,872 - MarkovianUniformEnvironment - INFO - Sum of weight difference arbiterer0.0000\n",
      "2023-12-06 15:14:50,873 - MarkovianUniformEnvironment - INFO - Sum of weight difference  reconstructor0.0000\n",
      "2023-12-06 15:14:50,923 - MarkovianUniformEnvironment - INFO - Sum of weight difference arbiterer0.0000\n",
      "2023-12-06 15:14:50,923 - MarkovianUniformEnvironment - INFO - Sum of weight difference  reconstructor0.0000\n",
      "2023-12-06 15:14:50,977 - MarkovianUniformEnvironment - INFO - Sum of weight difference arbiterer0.0000\n",
      "2023-12-06 15:14:50,978 - MarkovianUniformEnvironment - INFO - Sum of weight difference  reconstructor0.0000\n",
      "2023-12-06 15:14:51,030 - MarkovianUniformEnvironment - INFO - Sum of weight difference arbiterer0.0000\n",
      "2023-12-06 15:14:51,031 - MarkovianUniformEnvironment - INFO - Sum of weight difference  reconstructor0.0000\n",
      "2023-12-06 15:14:51,081 - MarkovianUniformEnvironment - INFO - Sum of weight difference arbiterer0.0000\n",
      "2023-12-06 15:14:51,081 - MarkovianUniformEnvironment - INFO - Sum of weight difference  reconstructor0.0000\n"
     ]
    },
    {
     "data": {
      "application/vnd.jupyter.widget-view+json": {
       "model_id": "a9a6e1944375460b81f8cec95fe0c22c",
       "version_major": 2,
       "version_minor": 0
      },
      "text/plain": [
       "Steps:   0%|          | 0/12 [00:00<?, ?it/s]"
      ]
     },
     "metadata": {},
     "output_type": "display_data"
    },
    {
     "name": "stderr",
     "output_type": "stream",
     "text": [
      "2023-12-06 15:14:51,142 - MarkovianUniformEnvironment - INFO - Sum of weight difference arbiterer0.0000\n",
      "2023-12-06 15:14:51,143 - MarkovianUniformEnvironment - INFO - Sum of weight difference  reconstructor0.0000\n",
      "2023-12-06 15:14:51,198 - MarkovianUniformEnvironment - INFO - Sum of weight difference arbiterer0.0000\n",
      "2023-12-06 15:14:51,199 - MarkovianUniformEnvironment - INFO - Sum of weight difference  reconstructor0.0000\n",
      "2023-12-06 15:14:51,249 - MarkovianUniformEnvironment - INFO - Sum of weight difference arbiterer0.0000\n",
      "2023-12-06 15:14:51,250 - MarkovianUniformEnvironment - INFO - Sum of weight difference  reconstructor0.0000\n",
      "2023-12-06 15:14:51,300 - MarkovianUniformEnvironment - INFO - Sum of weight difference arbiterer0.0000\n",
      "2023-12-06 15:14:51,301 - MarkovianUniformEnvironment - INFO - Sum of weight difference  reconstructor0.0000\n",
      "2023-12-06 15:14:51,351 - MarkovianUniformEnvironment - INFO - Sum of weight difference arbiterer0.0000\n",
      "2023-12-06 15:14:51,352 - MarkovianUniformEnvironment - INFO - Sum of weight difference  reconstructor0.0000\n",
      "2023-12-06 15:14:51,401 - MarkovianUniformEnvironment - INFO - Sum of weight difference arbiterer0.0000\n",
      "2023-12-06 15:14:51,401 - MarkovianUniformEnvironment - INFO - Sum of weight difference  reconstructor0.0000\n",
      "2023-12-06 15:14:51,453 - MarkovianUniformEnvironment - INFO - Sum of weight difference arbiterer0.0000\n",
      "2023-12-06 15:14:51,454 - MarkovianUniformEnvironment - INFO - Sum of weight difference  reconstructor0.0000\n",
      "2023-12-06 15:14:51,506 - MarkovianUniformEnvironment - INFO - Sum of weight difference arbiterer0.0000\n",
      "2023-12-06 15:14:51,507 - MarkovianUniformEnvironment - INFO - Sum of weight difference  reconstructor0.0000\n",
      "2023-12-06 15:14:51,563 - MarkovianUniformEnvironment - INFO - Sum of weight difference arbiterer0.0000\n",
      "2023-12-06 15:14:51,564 - MarkovianUniformEnvironment - INFO - Sum of weight difference  reconstructor0.0000\n",
      "2023-12-06 15:14:51,621 - MarkovianUniformEnvironment - INFO - Sum of weight difference arbiterer0.0000\n",
      "2023-12-06 15:14:51,622 - MarkovianUniformEnvironment - INFO - Sum of weight difference  reconstructor0.0000\n",
      "2023-12-06 15:14:51,675 - MarkovianUniformEnvironment - INFO - Sum of weight difference arbiterer0.0000\n",
      "2023-12-06 15:14:51,676 - MarkovianUniformEnvironment - INFO - Sum of weight difference  reconstructor0.0000\n",
      "2023-12-06 15:14:51,725 - MarkovianUniformEnvironment - INFO - Sum of weight difference arbiterer0.0000\n",
      "2023-12-06 15:14:51,726 - MarkovianUniformEnvironment - INFO - Sum of weight difference  reconstructor0.0000\n"
     ]
    },
    {
     "data": {
      "application/vnd.jupyter.widget-view+json": {
       "model_id": "ef931c8424b24f2689b1634f0d991ab0",
       "version_major": 2,
       "version_minor": 0
      },
      "text/plain": [
       "Steps:   0%|          | 0/12 [00:00<?, ?it/s]"
      ]
     },
     "metadata": {},
     "output_type": "display_data"
    },
    {
     "name": "stderr",
     "output_type": "stream",
     "text": [
      "2023-12-06 15:14:51,785 - MarkovianUniformEnvironment - INFO - Sum of weight difference arbiterer0.0000\n",
      "2023-12-06 15:14:51,787 - MarkovianUniformEnvironment - INFO - Sum of weight difference  reconstructor0.0000\n",
      "2023-12-06 15:14:51,847 - MarkovianUniformEnvironment - INFO - Sum of weight difference arbiterer0.0000\n",
      "2023-12-06 15:14:51,848 - MarkovianUniformEnvironment - INFO - Sum of weight difference  reconstructor0.0000\n",
      "2023-12-06 15:14:51,900 - MarkovianUniformEnvironment - INFO - Sum of weight difference arbiterer0.0000\n",
      "2023-12-06 15:14:51,901 - MarkovianUniformEnvironment - INFO - Sum of weight difference  reconstructor0.0000\n",
      "2023-12-06 15:14:51,952 - MarkovianUniformEnvironment - INFO - Sum of weight difference arbiterer0.0000\n",
      "2023-12-06 15:14:51,953 - MarkovianUniformEnvironment - INFO - Sum of weight difference  reconstructor0.0000\n",
      "2023-12-06 15:14:52,020 - MarkovianUniformEnvironment - INFO - Sum of weight difference arbiterer0.0000\n",
      "2023-12-06 15:14:52,021 - MarkovianUniformEnvironment - INFO - Sum of weight difference  reconstructor0.0000\n",
      "2023-12-06 15:14:52,075 - MarkovianUniformEnvironment - INFO - Sum of weight difference arbiterer0.0000\n",
      "2023-12-06 15:14:52,076 - MarkovianUniformEnvironment - INFO - Sum of weight difference  reconstructor0.0000\n",
      "2023-12-06 15:14:52,129 - MarkovianUniformEnvironment - INFO - Sum of weight difference arbiterer0.0000\n",
      "2023-12-06 15:14:52,130 - MarkovianUniformEnvironment - INFO - Sum of weight difference  reconstructor0.0000\n",
      "2023-12-06 15:14:52,180 - MarkovianUniformEnvironment - INFO - Sum of weight difference arbiterer0.0000\n",
      "2023-12-06 15:14:52,181 - MarkovianUniformEnvironment - INFO - Sum of weight difference  reconstructor0.0000\n",
      "2023-12-06 15:14:52,232 - MarkovianUniformEnvironment - INFO - Sum of weight difference arbiterer0.0000\n",
      "2023-12-06 15:14:52,233 - MarkovianUniformEnvironment - INFO - Sum of weight difference  reconstructor0.0000\n",
      "2023-12-06 15:14:52,283 - MarkovianUniformEnvironment - INFO - Sum of weight difference arbiterer0.0000\n",
      "2023-12-06 15:14:52,284 - MarkovianUniformEnvironment - INFO - Sum of weight difference  reconstructor0.0000\n",
      "2023-12-06 15:14:52,335 - MarkovianUniformEnvironment - INFO - Sum of weight difference arbiterer0.0000\n",
      "2023-12-06 15:14:52,335 - MarkovianUniformEnvironment - INFO - Sum of weight difference  reconstructor0.0000\n",
      "2023-12-06 15:14:52,384 - MarkovianUniformEnvironment - INFO - Sum of weight difference arbiterer0.0000\n",
      "2023-12-06 15:14:52,385 - MarkovianUniformEnvironment - INFO - Sum of weight difference  reconstructor0.0000\n"
     ]
    },
    {
     "data": {
      "application/vnd.jupyter.widget-view+json": {
       "model_id": "97541e385b134bd082c61b4fcc151834",
       "version_major": 2,
       "version_minor": 0
      },
      "text/plain": [
       "Steps:   0%|          | 0/12 [00:00<?, ?it/s]"
      ]
     },
     "metadata": {},
     "output_type": "display_data"
    },
    {
     "name": "stderr",
     "output_type": "stream",
     "text": [
      "2023-12-06 15:14:52,443 - MarkovianUniformEnvironment - INFO - Sum of weight difference arbiterer0.0000\n",
      "2023-12-06 15:14:52,445 - MarkovianUniformEnvironment - INFO - Sum of weight difference  reconstructor0.0000\n",
      "2023-12-06 15:14:52,501 - MarkovianUniformEnvironment - INFO - Sum of weight difference arbiterer0.0000\n",
      "2023-12-06 15:14:52,502 - MarkovianUniformEnvironment - INFO - Sum of weight difference  reconstructor0.0000\n",
      "2023-12-06 15:14:52,559 - MarkovianUniformEnvironment - INFO - Sum of weight difference arbiterer0.0000\n",
      "2023-12-06 15:14:52,560 - MarkovianUniformEnvironment - INFO - Sum of weight difference  reconstructor0.0000\n",
      "2023-12-06 15:14:52,609 - MarkovianUniformEnvironment - INFO - Sum of weight difference arbiterer0.0000\n",
      "2023-12-06 15:14:52,609 - MarkovianUniformEnvironment - INFO - Sum of weight difference  reconstructor0.0000\n",
      "2023-12-06 15:14:52,661 - MarkovianUniformEnvironment - INFO - Sum of weight difference arbiterer0.0000\n",
      "2023-12-06 15:14:52,662 - MarkovianUniformEnvironment - INFO - Sum of weight difference  reconstructor0.0000\n",
      "2023-12-06 15:14:52,712 - MarkovianUniformEnvironment - INFO - Sum of weight difference arbiterer0.0000\n",
      "2023-12-06 15:14:52,713 - MarkovianUniformEnvironment - INFO - Sum of weight difference  reconstructor0.0000\n",
      "2023-12-06 15:14:52,763 - MarkovianUniformEnvironment - INFO - Sum of weight difference arbiterer0.0000\n",
      "2023-12-06 15:14:52,764 - MarkovianUniformEnvironment - INFO - Sum of weight difference  reconstructor0.0000\n",
      "2023-12-06 15:14:52,814 - MarkovianUniformEnvironment - INFO - Sum of weight difference arbiterer0.0000\n",
      "2023-12-06 15:14:52,815 - MarkovianUniformEnvironment - INFO - Sum of weight difference  reconstructor0.0000\n",
      "2023-12-06 15:14:52,875 - MarkovianUniformEnvironment - INFO - Sum of weight difference arbiterer0.0000\n",
      "2023-12-06 15:14:52,875 - MarkovianUniformEnvironment - INFO - Sum of weight difference  reconstructor0.0000\n",
      "2023-12-06 15:14:52,926 - MarkovianUniformEnvironment - INFO - Sum of weight difference arbiterer0.0000\n",
      "2023-12-06 15:14:52,927 - MarkovianUniformEnvironment - INFO - Sum of weight difference  reconstructor0.0000\n",
      "2023-12-06 15:14:52,981 - MarkovianUniformEnvironment - INFO - Sum of weight difference arbiterer0.0000\n",
      "2023-12-06 15:14:52,982 - MarkovianUniformEnvironment - INFO - Sum of weight difference  reconstructor0.0000\n",
      "2023-12-06 15:14:53,032 - MarkovianUniformEnvironment - INFO - Sum of weight difference arbiterer0.0000\n",
      "2023-12-06 15:14:53,033 - MarkovianUniformEnvironment - INFO - Sum of weight difference  reconstructor0.0000\n"
     ]
    },
    {
     "data": {
      "application/vnd.jupyter.widget-view+json": {
       "model_id": "a18bba1361bd4f97b5be594c816e6778",
       "version_major": 2,
       "version_minor": 0
      },
      "text/plain": [
       "Steps:   0%|          | 0/12 [00:00<?, ?it/s]"
      ]
     },
     "metadata": {},
     "output_type": "display_data"
    },
    {
     "name": "stderr",
     "output_type": "stream",
     "text": [
      "2023-12-06 15:14:53,092 - MarkovianUniformEnvironment - INFO - Sum of weight difference arbiterer0.0000\n",
      "2023-12-06 15:14:53,093 - MarkovianUniformEnvironment - INFO - Sum of weight difference  reconstructor0.0000\n",
      "2023-12-06 15:14:53,143 - MarkovianUniformEnvironment - INFO - Sum of weight difference arbiterer0.0000\n",
      "2023-12-06 15:14:53,147 - MarkovianUniformEnvironment - INFO - Sum of weight difference  reconstructor0.0000\n",
      "2023-12-06 15:14:53,205 - MarkovianUniformEnvironment - INFO - Sum of weight difference arbiterer0.0000\n",
      "2023-12-06 15:14:53,206 - MarkovianUniformEnvironment - INFO - Sum of weight difference  reconstructor0.0000\n",
      "2023-12-06 15:14:53,253 - MarkovianUniformEnvironment - INFO - Sum of weight difference arbiterer0.0000\n",
      "2023-12-06 15:14:53,254 - MarkovianUniformEnvironment - INFO - Sum of weight difference  reconstructor0.0000\n",
      "2023-12-06 15:14:53,307 - MarkovianUniformEnvironment - INFO - Sum of weight difference arbiterer0.0000\n",
      "2023-12-06 15:14:53,308 - MarkovianUniformEnvironment - INFO - Sum of weight difference  reconstructor0.0000\n",
      "2023-12-06 15:14:53,358 - MarkovianUniformEnvironment - INFO - Sum of weight difference arbiterer0.0000\n",
      "2023-12-06 15:14:53,359 - MarkovianUniformEnvironment - INFO - Sum of weight difference  reconstructor0.0000\n",
      "2023-12-06 15:14:53,412 - MarkovianUniformEnvironment - INFO - Sum of weight difference arbiterer0.0000\n",
      "2023-12-06 15:14:53,413 - MarkovianUniformEnvironment - INFO - Sum of weight difference  reconstructor0.0000\n",
      "2023-12-06 15:14:53,463 - MarkovianUniformEnvironment - INFO - Sum of weight difference arbiterer0.0000\n",
      "2023-12-06 15:14:53,464 - MarkovianUniformEnvironment - INFO - Sum of weight difference  reconstructor0.0000\n",
      "2023-12-06 15:14:53,520 - MarkovianUniformEnvironment - INFO - Sum of weight difference arbiterer0.0000\n",
      "2023-12-06 15:14:53,521 - MarkovianUniformEnvironment - INFO - Sum of weight difference  reconstructor0.0000\n",
      "2023-12-06 15:14:53,573 - MarkovianUniformEnvironment - INFO - Sum of weight difference arbiterer0.0000\n",
      "2023-12-06 15:14:53,573 - MarkovianUniformEnvironment - INFO - Sum of weight difference  reconstructor0.0000\n",
      "2023-12-06 15:14:53,624 - MarkovianUniformEnvironment - INFO - Sum of weight difference arbiterer0.0000\n",
      "2023-12-06 15:14:53,625 - MarkovianUniformEnvironment - INFO - Sum of weight difference  reconstructor0.0000\n",
      "2023-12-06 15:14:53,675 - MarkovianUniformEnvironment - INFO - Sum of weight difference arbiterer0.0000\n",
      "2023-12-06 15:14:53,676 - MarkovianUniformEnvironment - INFO - Sum of weight difference  reconstructor0.0000\n"
     ]
    },
    {
     "data": {
      "application/vnd.jupyter.widget-view+json": {
       "model_id": "878e1ade22fe4d25bead060e01985997",
       "version_major": 2,
       "version_minor": 0
      },
      "text/plain": [
       "Steps:   0%|          | 0/12 [00:00<?, ?it/s]"
      ]
     },
     "metadata": {},
     "output_type": "display_data"
    },
    {
     "name": "stderr",
     "output_type": "stream",
     "text": [
      "2023-12-06 15:14:53,737 - MarkovianUniformEnvironment - INFO - Sum of weight difference arbiterer0.0000\n",
      "2023-12-06 15:14:53,739 - MarkovianUniformEnvironment - INFO - Sum of weight difference  reconstructor0.0000\n",
      "2023-12-06 15:14:53,799 - MarkovianUniformEnvironment - INFO - Sum of weight difference arbiterer0.0000\n",
      "2023-12-06 15:14:53,800 - MarkovianUniformEnvironment - INFO - Sum of weight difference  reconstructor0.0000\n",
      "2023-12-06 15:14:53,854 - MarkovianUniformEnvironment - INFO - Sum of weight difference arbiterer0.0000\n",
      "2023-12-06 15:14:53,855 - MarkovianUniformEnvironment - INFO - Sum of weight difference  reconstructor0.0000\n",
      "2023-12-06 15:14:53,906 - MarkovianUniformEnvironment - INFO - Sum of weight difference arbiterer0.0000\n",
      "2023-12-06 15:14:53,907 - MarkovianUniformEnvironment - INFO - Sum of weight difference  reconstructor0.0000\n",
      "2023-12-06 15:14:53,962 - MarkovianUniformEnvironment - INFO - Sum of weight difference arbiterer0.0000\n",
      "2023-12-06 15:14:53,963 - MarkovianUniformEnvironment - INFO - Sum of weight difference  reconstructor0.0000\n",
      "2023-12-06 15:14:54,013 - MarkovianUniformEnvironment - INFO - Sum of weight difference arbiterer0.0000\n",
      "2023-12-06 15:14:54,014 - MarkovianUniformEnvironment - INFO - Sum of weight difference  reconstructor0.0000\n",
      "2023-12-06 15:14:54,068 - MarkovianUniformEnvironment - INFO - Sum of weight difference arbiterer0.0000\n",
      "2023-12-06 15:14:54,069 - MarkovianUniformEnvironment - INFO - Sum of weight difference  reconstructor0.0000\n",
      "2023-12-06 15:14:54,122 - MarkovianUniformEnvironment - INFO - Sum of weight difference arbiterer0.0000\n",
      "2023-12-06 15:14:54,123 - MarkovianUniformEnvironment - INFO - Sum of weight difference  reconstructor0.0000\n",
      "2023-12-06 15:14:54,175 - MarkovianUniformEnvironment - INFO - Sum of weight difference arbiterer0.0000\n",
      "2023-12-06 15:14:54,176 - MarkovianUniformEnvironment - INFO - Sum of weight difference  reconstructor0.0000\n",
      "2023-12-06 15:14:54,228 - MarkovianUniformEnvironment - INFO - Sum of weight difference arbiterer0.0000\n",
      "2023-12-06 15:14:54,229 - MarkovianUniformEnvironment - INFO - Sum of weight difference  reconstructor0.0000\n",
      "2023-12-06 15:14:54,300 - MarkovianUniformEnvironment - INFO - Sum of weight difference arbiterer0.0000\n",
      "2023-12-06 15:14:54,301 - MarkovianUniformEnvironment - INFO - Sum of weight difference  reconstructor0.0000\n",
      "2023-12-06 15:14:54,352 - MarkovianUniformEnvironment - INFO - Sum of weight difference arbiterer0.0000\n",
      "2023-12-06 15:14:54,353 - MarkovianUniformEnvironment - INFO - Sum of weight difference  reconstructor0.0000\n"
     ]
    },
    {
     "data": {
      "application/vnd.jupyter.widget-view+json": {
       "model_id": "9674cba4b0b148b6a46b332ba23886ba",
       "version_major": 2,
       "version_minor": 0
      },
      "text/plain": [
       "Steps:   0%|          | 0/12 [00:00<?, ?it/s]"
      ]
     },
     "metadata": {},
     "output_type": "display_data"
    },
    {
     "name": "stderr",
     "output_type": "stream",
     "text": [
      "2023-12-06 15:14:54,423 - MarkovianUniformEnvironment - INFO - Sum of weight difference arbiterer0.0000\n",
      "2023-12-06 15:14:54,425 - MarkovianUniformEnvironment - INFO - Sum of weight difference  reconstructor0.0000\n",
      "2023-12-06 15:14:54,477 - MarkovianUniformEnvironment - INFO - Sum of weight difference arbiterer0.0000\n",
      "2023-12-06 15:14:54,478 - MarkovianUniformEnvironment - INFO - Sum of weight difference  reconstructor0.0000\n",
      "2023-12-06 15:14:54,531 - MarkovianUniformEnvironment - INFO - Sum of weight difference arbiterer0.0000\n",
      "2023-12-06 15:14:54,532 - MarkovianUniformEnvironment - INFO - Sum of weight difference  reconstructor0.0000\n",
      "2023-12-06 15:14:54,583 - MarkovianUniformEnvironment - INFO - Sum of weight difference arbiterer0.0000\n",
      "2023-12-06 15:14:54,584 - MarkovianUniformEnvironment - INFO - Sum of weight difference  reconstructor0.0000\n",
      "2023-12-06 15:14:54,640 - MarkovianUniformEnvironment - INFO - Sum of weight difference arbiterer0.0000\n",
      "2023-12-06 15:14:54,642 - MarkovianUniformEnvironment - INFO - Sum of weight difference  reconstructor0.0000\n",
      "2023-12-06 15:14:54,692 - MarkovianUniformEnvironment - INFO - Sum of weight difference arbiterer0.0000\n",
      "2023-12-06 15:14:54,693 - MarkovianUniformEnvironment - INFO - Sum of weight difference  reconstructor0.0000\n",
      "2023-12-06 15:14:54,745 - MarkovianUniformEnvironment - INFO - Sum of weight difference arbiterer0.0000\n",
      "2023-12-06 15:14:54,746 - MarkovianUniformEnvironment - INFO - Sum of weight difference  reconstructor0.0000\n",
      "2023-12-06 15:14:54,803 - MarkovianUniformEnvironment - INFO - Sum of weight difference arbiterer0.0000\n",
      "2023-12-06 15:14:54,804 - MarkovianUniformEnvironment - INFO - Sum of weight difference  reconstructor0.0000\n",
      "2023-12-06 15:14:54,856 - MarkovianUniformEnvironment - INFO - Sum of weight difference arbiterer0.0000\n",
      "2023-12-06 15:14:54,856 - MarkovianUniformEnvironment - INFO - Sum of weight difference  reconstructor0.0000\n",
      "2023-12-06 15:14:54,906 - MarkovianUniformEnvironment - INFO - Sum of weight difference arbiterer0.0000\n",
      "2023-12-06 15:14:54,906 - MarkovianUniformEnvironment - INFO - Sum of weight difference  reconstructor0.0000\n",
      "2023-12-06 15:14:54,954 - MarkovianUniformEnvironment - INFO - Sum of weight difference arbiterer0.0000\n",
      "2023-12-06 15:14:54,955 - MarkovianUniformEnvironment - INFO - Sum of weight difference  reconstructor0.0000\n",
      "2023-12-06 15:14:55,001 - MarkovianUniformEnvironment - INFO - Sum of weight difference arbiterer0.0000\n",
      "2023-12-06 15:14:55,002 - MarkovianUniformEnvironment - INFO - Sum of weight difference  reconstructor0.0000\n"
     ]
    },
    {
     "data": {
      "application/vnd.jupyter.widget-view+json": {
       "model_id": "0c0372ae971d4d30824c396214064a70",
       "version_major": 2,
       "version_minor": 0
      },
      "text/plain": [
       "Steps:   0%|          | 0/12 [00:00<?, ?it/s]"
      ]
     },
     "metadata": {},
     "output_type": "display_data"
    },
    {
     "name": "stderr",
     "output_type": "stream",
     "text": [
      "2023-12-06 15:14:55,060 - MarkovianUniformEnvironment - INFO - Sum of weight difference arbiterer0.0000\n",
      "2023-12-06 15:14:55,061 - MarkovianUniformEnvironment - INFO - Sum of weight difference  reconstructor0.0000\n",
      "2023-12-06 15:14:55,113 - MarkovianUniformEnvironment - INFO - Sum of weight difference arbiterer0.0000\n",
      "2023-12-06 15:14:55,113 - MarkovianUniformEnvironment - INFO - Sum of weight difference  reconstructor0.0000\n",
      "2023-12-06 15:14:55,167 - MarkovianUniformEnvironment - INFO - Sum of weight difference arbiterer0.0000\n",
      "2023-12-06 15:14:55,168 - MarkovianUniformEnvironment - INFO - Sum of weight difference  reconstructor0.0000\n",
      "2023-12-06 15:14:55,219 - MarkovianUniformEnvironment - INFO - Sum of weight difference arbiterer0.0000\n",
      "2023-12-06 15:14:55,220 - MarkovianUniformEnvironment - INFO - Sum of weight difference  reconstructor0.0000\n",
      "2023-12-06 15:14:55,282 - MarkovianUniformEnvironment - INFO - Sum of weight difference arbiterer0.0000\n",
      "2023-12-06 15:14:55,283 - MarkovianUniformEnvironment - INFO - Sum of weight difference  reconstructor0.0000\n",
      "2023-12-06 15:14:55,333 - MarkovianUniformEnvironment - INFO - Sum of weight difference arbiterer0.0000\n",
      "2023-12-06 15:14:55,333 - MarkovianUniformEnvironment - INFO - Sum of weight difference  reconstructor0.0000\n",
      "2023-12-06 15:14:55,383 - MarkovianUniformEnvironment - INFO - Sum of weight difference arbiterer0.0000\n",
      "2023-12-06 15:14:55,384 - MarkovianUniformEnvironment - INFO - Sum of weight difference  reconstructor0.0000\n",
      "2023-12-06 15:14:55,430 - MarkovianUniformEnvironment - INFO - Sum of weight difference arbiterer0.0000\n",
      "2023-12-06 15:14:55,431 - MarkovianUniformEnvironment - INFO - Sum of weight difference  reconstructor0.0000\n",
      "2023-12-06 15:14:55,478 - MarkovianUniformEnvironment - INFO - Sum of weight difference arbiterer0.0000\n",
      "2023-12-06 15:14:55,479 - MarkovianUniformEnvironment - INFO - Sum of weight difference  reconstructor0.0000\n",
      "2023-12-06 15:14:55,536 - MarkovianUniformEnvironment - INFO - Sum of weight difference arbiterer0.0000\n",
      "2023-12-06 15:14:55,537 - MarkovianUniformEnvironment - INFO - Sum of weight difference  reconstructor0.0000\n",
      "2023-12-06 15:14:55,583 - MarkovianUniformEnvironment - INFO - Sum of weight difference arbiterer0.0000\n",
      "2023-12-06 15:14:55,584 - MarkovianUniformEnvironment - INFO - Sum of weight difference  reconstructor0.0000\n",
      "2023-12-06 15:14:55,633 - MarkovianUniformEnvironment - INFO - Sum of weight difference arbiterer0.0000\n",
      "2023-12-06 15:14:55,633 - MarkovianUniformEnvironment - INFO - Sum of weight difference  reconstructor0.0000\n"
     ]
    },
    {
     "data": {
      "application/vnd.jupyter.widget-view+json": {
       "model_id": "05f62c4e90104f48966bb27183717e05",
       "version_major": 2,
       "version_minor": 0
      },
      "text/plain": [
       "Steps:   0%|          | 0/12 [00:00<?, ?it/s]"
      ]
     },
     "metadata": {},
     "output_type": "display_data"
    },
    {
     "name": "stderr",
     "output_type": "stream",
     "text": [
      "2023-12-06 15:14:55,690 - MarkovianUniformEnvironment - INFO - Sum of weight difference arbiterer0.0000\n",
      "2023-12-06 15:14:55,691 - MarkovianUniformEnvironment - INFO - Sum of weight difference  reconstructor0.0000\n",
      "2023-12-06 15:14:55,751 - MarkovianUniformEnvironment - INFO - Sum of weight difference arbiterer0.0000\n",
      "2023-12-06 15:14:55,752 - MarkovianUniformEnvironment - INFO - Sum of weight difference  reconstructor0.0000\n",
      "2023-12-06 15:14:55,803 - MarkovianUniformEnvironment - INFO - Sum of weight difference arbiterer0.0000\n",
      "2023-12-06 15:14:55,804 - MarkovianUniformEnvironment - INFO - Sum of weight difference  reconstructor0.0000\n",
      "2023-12-06 15:14:55,852 - MarkovianUniformEnvironment - INFO - Sum of weight difference arbiterer0.0000\n",
      "2023-12-06 15:14:55,853 - MarkovianUniformEnvironment - INFO - Sum of weight difference  reconstructor0.0000\n",
      "2023-12-06 15:14:55,907 - MarkovianUniformEnvironment - INFO - Sum of weight difference arbiterer0.0000\n",
      "2023-12-06 15:14:55,908 - MarkovianUniformEnvironment - INFO - Sum of weight difference  reconstructor0.0000\n",
      "2023-12-06 15:14:55,959 - MarkovianUniformEnvironment - INFO - Sum of weight difference arbiterer0.0000\n",
      "2023-12-06 15:14:55,959 - MarkovianUniformEnvironment - INFO - Sum of weight difference  reconstructor0.0000\n",
      "2023-12-06 15:14:56,010 - MarkovianUniformEnvironment - INFO - Sum of weight difference arbiterer0.0000\n",
      "2023-12-06 15:14:56,011 - MarkovianUniformEnvironment - INFO - Sum of weight difference  reconstructor0.0000\n",
      "2023-12-06 15:14:56,062 - MarkovianUniformEnvironment - INFO - Sum of weight difference arbiterer0.0000\n",
      "2023-12-06 15:14:56,063 - MarkovianUniformEnvironment - INFO - Sum of weight difference  reconstructor0.0000\n",
      "2023-12-06 15:14:56,117 - MarkovianUniformEnvironment - INFO - Sum of weight difference arbiterer0.0000\n",
      "2023-12-06 15:14:56,117 - MarkovianUniformEnvironment - INFO - Sum of weight difference  reconstructor0.0000\n",
      "2023-12-06 15:14:56,173 - MarkovianUniformEnvironment - INFO - Sum of weight difference arbiterer0.0000\n",
      "2023-12-06 15:14:56,173 - MarkovianUniformEnvironment - INFO - Sum of weight difference  reconstructor0.0000\n",
      "2023-12-06 15:14:56,227 - MarkovianUniformEnvironment - INFO - Sum of weight difference arbiterer0.0000\n",
      "2023-12-06 15:14:56,228 - MarkovianUniformEnvironment - INFO - Sum of weight difference  reconstructor0.0000\n",
      "2023-12-06 15:14:56,276 - MarkovianUniformEnvironment - INFO - Sum of weight difference arbiterer0.0000\n",
      "2023-12-06 15:14:56,277 - MarkovianUniformEnvironment - INFO - Sum of weight difference  reconstructor0.0000\n"
     ]
    },
    {
     "data": {
      "application/vnd.jupyter.widget-view+json": {
       "model_id": "2f824759294e4be3b29769e515909960",
       "version_major": 2,
       "version_minor": 0
      },
      "text/plain": [
       "Steps:   0%|          | 0/12 [00:00<?, ?it/s]"
      ]
     },
     "metadata": {},
     "output_type": "display_data"
    },
    {
     "name": "stderr",
     "output_type": "stream",
     "text": [
      "2023-12-06 15:14:56,343 - MarkovianUniformEnvironment - INFO - Sum of weight difference arbiterer0.0000\n",
      "2023-12-06 15:14:56,348 - MarkovianUniformEnvironment - INFO - Sum of weight difference  reconstructor0.0000\n",
      "2023-12-06 15:14:56,398 - MarkovianUniformEnvironment - INFO - Sum of weight difference arbiterer0.0000\n",
      "2023-12-06 15:14:56,399 - MarkovianUniformEnvironment - INFO - Sum of weight difference  reconstructor0.0000\n",
      "2023-12-06 15:14:56,450 - MarkovianUniformEnvironment - INFO - Sum of weight difference arbiterer0.0000\n",
      "2023-12-06 15:14:56,451 - MarkovianUniformEnvironment - INFO - Sum of weight difference  reconstructor0.0000\n",
      "2023-12-06 15:14:56,498 - MarkovianUniformEnvironment - INFO - Sum of weight difference arbiterer0.0000\n",
      "2023-12-06 15:14:56,499 - MarkovianUniformEnvironment - INFO - Sum of weight difference  reconstructor0.0000\n",
      "2023-12-06 15:14:56,546 - MarkovianUniformEnvironment - INFO - Sum of weight difference arbiterer0.0000\n",
      "2023-12-06 15:14:56,547 - MarkovianUniformEnvironment - INFO - Sum of weight difference  reconstructor0.0000\n",
      "2023-12-06 15:14:56,594 - MarkovianUniformEnvironment - INFO - Sum of weight difference arbiterer0.0000\n",
      "2023-12-06 15:14:56,595 - MarkovianUniformEnvironment - INFO - Sum of weight difference  reconstructor0.0000\n",
      "2023-12-06 15:14:56,644 - MarkovianUniformEnvironment - INFO - Sum of weight difference arbiterer0.0000\n",
      "2023-12-06 15:14:56,645 - MarkovianUniformEnvironment - INFO - Sum of weight difference  reconstructor0.0000\n",
      "2023-12-06 15:14:56,693 - MarkovianUniformEnvironment - INFO - Sum of weight difference arbiterer0.0000\n",
      "2023-12-06 15:14:56,693 - MarkovianUniformEnvironment - INFO - Sum of weight difference  reconstructor0.0000\n",
      "2023-12-06 15:14:56,743 - MarkovianUniformEnvironment - INFO - Sum of weight difference arbiterer0.0000\n",
      "2023-12-06 15:14:56,744 - MarkovianUniformEnvironment - INFO - Sum of weight difference  reconstructor0.0000\n",
      "2023-12-06 15:14:56,795 - MarkovianUniformEnvironment - INFO - Sum of weight difference arbiterer0.0000\n",
      "2023-12-06 15:14:56,796 - MarkovianUniformEnvironment - INFO - Sum of weight difference  reconstructor0.0000\n",
      "2023-12-06 15:14:56,848 - MarkovianUniformEnvironment - INFO - Sum of weight difference arbiterer0.0000\n",
      "2023-12-06 15:14:56,848 - MarkovianUniformEnvironment - INFO - Sum of weight difference  reconstructor0.0000\n",
      "2023-12-06 15:14:56,897 - MarkovianUniformEnvironment - INFO - Sum of weight difference arbiterer0.0000\n",
      "2023-12-06 15:14:56,897 - MarkovianUniformEnvironment - INFO - Sum of weight difference  reconstructor0.0000\n"
     ]
    },
    {
     "data": {
      "application/vnd.jupyter.widget-view+json": {
       "model_id": "340e620338ca4c4ab26f34ca33ee9f6f",
       "version_major": 2,
       "version_minor": 0
      },
      "text/plain": [
       "Steps:   0%|          | 0/12 [00:00<?, ?it/s]"
      ]
     },
     "metadata": {},
     "output_type": "display_data"
    },
    {
     "name": "stderr",
     "output_type": "stream",
     "text": [
      "2023-12-06 15:14:56,965 - MarkovianUniformEnvironment - INFO - Sum of weight difference arbiterer0.0000\n",
      "2023-12-06 15:14:56,966 - MarkovianUniformEnvironment - INFO - Sum of weight difference  reconstructor0.0000\n",
      "2023-12-06 15:14:57,017 - MarkovianUniformEnvironment - INFO - Sum of weight difference arbiterer0.0000\n",
      "2023-12-06 15:14:57,017 - MarkovianUniformEnvironment - INFO - Sum of weight difference  reconstructor0.0000\n",
      "2023-12-06 15:14:57,065 - MarkovianUniformEnvironment - INFO - Sum of weight difference arbiterer0.0000\n",
      "2023-12-06 15:14:57,066 - MarkovianUniformEnvironment - INFO - Sum of weight difference  reconstructor0.0000\n",
      "2023-12-06 15:14:57,114 - MarkovianUniformEnvironment - INFO - Sum of weight difference arbiterer0.0000\n",
      "2023-12-06 15:14:57,115 - MarkovianUniformEnvironment - INFO - Sum of weight difference  reconstructor0.0000\n",
      "2023-12-06 15:14:57,165 - MarkovianUniformEnvironment - INFO - Sum of weight difference arbiterer0.0000\n",
      "2023-12-06 15:14:57,166 - MarkovianUniformEnvironment - INFO - Sum of weight difference  reconstructor0.0000\n",
      "2023-12-06 15:14:57,216 - MarkovianUniformEnvironment - INFO - Sum of weight difference arbiterer0.0000\n",
      "2023-12-06 15:14:57,217 - MarkovianUniformEnvironment - INFO - Sum of weight difference  reconstructor0.0000\n",
      "2023-12-06 15:14:57,263 - MarkovianUniformEnvironment - INFO - Sum of weight difference arbiterer0.0000\n",
      "2023-12-06 15:14:57,264 - MarkovianUniformEnvironment - INFO - Sum of weight difference  reconstructor0.0000\n",
      "2023-12-06 15:14:57,315 - MarkovianUniformEnvironment - INFO - Sum of weight difference arbiterer0.0000\n",
      "2023-12-06 15:14:57,315 - MarkovianUniformEnvironment - INFO - Sum of weight difference  reconstructor0.0000\n",
      "2023-12-06 15:14:57,364 - MarkovianUniformEnvironment - INFO - Sum of weight difference arbiterer0.0000\n",
      "2023-12-06 15:14:57,365 - MarkovianUniformEnvironment - INFO - Sum of weight difference  reconstructor0.0000\n",
      "2023-12-06 15:14:57,413 - MarkovianUniformEnvironment - INFO - Sum of weight difference arbiterer0.0000\n",
      "2023-12-06 15:14:57,414 - MarkovianUniformEnvironment - INFO - Sum of weight difference  reconstructor0.0000\n",
      "2023-12-06 15:14:57,461 - MarkovianUniformEnvironment - INFO - Sum of weight difference arbiterer0.0000\n",
      "2023-12-06 15:14:57,461 - MarkovianUniformEnvironment - INFO - Sum of weight difference  reconstructor0.0000\n",
      "2023-12-06 15:14:57,508 - MarkovianUniformEnvironment - INFO - Sum of weight difference arbiterer0.0000\n",
      "2023-12-06 15:14:57,509 - MarkovianUniformEnvironment - INFO - Sum of weight difference  reconstructor0.0000\n"
     ]
    },
    {
     "data": {
      "application/vnd.jupyter.widget-view+json": {
       "model_id": "2062bd5698594856adc3350186ce26fc",
       "version_major": 2,
       "version_minor": 0
      },
      "text/plain": [
       "Steps:   0%|          | 0/12 [00:00<?, ?it/s]"
      ]
     },
     "metadata": {},
     "output_type": "display_data"
    },
    {
     "name": "stderr",
     "output_type": "stream",
     "text": [
      "2023-12-06 15:14:57,580 - MarkovianUniformEnvironment - INFO - Sum of weight difference arbiterer0.0000\n",
      "2023-12-06 15:14:57,580 - MarkovianUniformEnvironment - INFO - Sum of weight difference  reconstructor0.0000\n",
      "2023-12-06 15:14:57,634 - MarkovianUniformEnvironment - INFO - Sum of weight difference arbiterer0.0000\n",
      "2023-12-06 15:14:57,635 - MarkovianUniformEnvironment - INFO - Sum of weight difference  reconstructor0.0000\n",
      "2023-12-06 15:14:57,683 - MarkovianUniformEnvironment - INFO - Sum of weight difference arbiterer0.0000\n",
      "2023-12-06 15:14:57,684 - MarkovianUniformEnvironment - INFO - Sum of weight difference  reconstructor0.0000\n",
      "2023-12-06 15:14:57,731 - MarkovianUniformEnvironment - INFO - Sum of weight difference arbiterer0.0000\n",
      "2023-12-06 15:14:57,732 - MarkovianUniformEnvironment - INFO - Sum of weight difference  reconstructor0.0000\n",
      "2023-12-06 15:14:57,783 - MarkovianUniformEnvironment - INFO - Sum of weight difference arbiterer0.0000\n",
      "2023-12-06 15:14:57,784 - MarkovianUniformEnvironment - INFO - Sum of weight difference  reconstructor0.0000\n",
      "2023-12-06 15:14:57,835 - MarkovianUniformEnvironment - INFO - Sum of weight difference arbiterer0.0000\n",
      "2023-12-06 15:14:57,836 - MarkovianUniformEnvironment - INFO - Sum of weight difference  reconstructor0.0000\n",
      "2023-12-06 15:14:57,884 - MarkovianUniformEnvironment - INFO - Sum of weight difference arbiterer0.0000\n",
      "2023-12-06 15:14:57,885 - MarkovianUniformEnvironment - INFO - Sum of weight difference  reconstructor0.0000\n",
      "2023-12-06 15:14:57,932 - MarkovianUniformEnvironment - INFO - Sum of weight difference arbiterer0.0000\n",
      "2023-12-06 15:14:57,932 - MarkovianUniformEnvironment - INFO - Sum of weight difference  reconstructor0.0000\n",
      "2023-12-06 15:14:57,983 - MarkovianUniformEnvironment - INFO - Sum of weight difference arbiterer0.0000\n",
      "2023-12-06 15:14:57,984 - MarkovianUniformEnvironment - INFO - Sum of weight difference  reconstructor0.0000\n",
      "2023-12-06 15:14:58,036 - MarkovianUniformEnvironment - INFO - Sum of weight difference arbiterer0.0000\n",
      "2023-12-06 15:14:58,037 - MarkovianUniformEnvironment - INFO - Sum of weight difference  reconstructor0.0000\n",
      "2023-12-06 15:14:58,087 - MarkovianUniformEnvironment - INFO - Sum of weight difference arbiterer0.0000\n",
      "2023-12-06 15:14:58,088 - MarkovianUniformEnvironment - INFO - Sum of weight difference  reconstructor0.0000\n",
      "2023-12-06 15:14:58,136 - MarkovianUniformEnvironment - INFO - Sum of weight difference arbiterer0.0000\n",
      "2023-12-06 15:14:58,137 - MarkovianUniformEnvironment - INFO - Sum of weight difference  reconstructor0.0000\n"
     ]
    },
    {
     "data": {
      "application/vnd.jupyter.widget-view+json": {
       "model_id": "6ecb91b47f454915a8f3810b1fc6ce42",
       "version_major": 2,
       "version_minor": 0
      },
      "text/plain": [
       "Steps:   0%|          | 0/12 [00:00<?, ?it/s]"
      ]
     },
     "metadata": {},
     "output_type": "display_data"
    },
    {
     "name": "stderr",
     "output_type": "stream",
     "text": [
      "2023-12-06 15:14:58,220 - MarkovianUniformEnvironment - INFO - Sum of weight difference arbiterer0.0000\n",
      "2023-12-06 15:14:58,221 - MarkovianUniformEnvironment - INFO - Sum of weight difference  reconstructor0.0000\n",
      "2023-12-06 15:14:58,269 - MarkovianUniformEnvironment - INFO - Sum of weight difference arbiterer0.0000\n",
      "2023-12-06 15:14:58,269 - MarkovianUniformEnvironment - INFO - Sum of weight difference  reconstructor0.0000\n",
      "2023-12-06 15:14:58,321 - MarkovianUniformEnvironment - INFO - Sum of weight difference arbiterer0.0000\n",
      "2023-12-06 15:14:58,322 - MarkovianUniformEnvironment - INFO - Sum of weight difference  reconstructor0.0000\n",
      "2023-12-06 15:14:58,370 - MarkovianUniformEnvironment - INFO - Sum of weight difference arbiterer0.0000\n",
      "2023-12-06 15:14:58,370 - MarkovianUniformEnvironment - INFO - Sum of weight difference  reconstructor0.0000\n",
      "2023-12-06 15:14:58,417 - MarkovianUniformEnvironment - INFO - Sum of weight difference arbiterer0.0000\n",
      "2023-12-06 15:14:58,417 - MarkovianUniformEnvironment - INFO - Sum of weight difference  reconstructor0.0000\n",
      "2023-12-06 15:14:58,464 - MarkovianUniformEnvironment - INFO - Sum of weight difference arbiterer0.0000\n",
      "2023-12-06 15:14:58,465 - MarkovianUniformEnvironment - INFO - Sum of weight difference  reconstructor0.0000\n",
      "2023-12-06 15:14:58,516 - MarkovianUniformEnvironment - INFO - Sum of weight difference arbiterer0.0000\n",
      "2023-12-06 15:14:58,516 - MarkovianUniformEnvironment - INFO - Sum of weight difference  reconstructor0.0000\n",
      "2023-12-06 15:14:58,565 - MarkovianUniformEnvironment - INFO - Sum of weight difference arbiterer0.0000\n",
      "2023-12-06 15:14:58,565 - MarkovianUniformEnvironment - INFO - Sum of weight difference  reconstructor0.0000\n",
      "2023-12-06 15:14:58,615 - MarkovianUniformEnvironment - INFO - Sum of weight difference arbiterer0.0000\n",
      "2023-12-06 15:14:58,616 - MarkovianUniformEnvironment - INFO - Sum of weight difference  reconstructor0.0000\n",
      "2023-12-06 15:14:58,670 - MarkovianUniformEnvironment - INFO - Sum of weight difference arbiterer0.0000\n",
      "2023-12-06 15:14:58,670 - MarkovianUniformEnvironment - INFO - Sum of weight difference  reconstructor0.0000\n",
      "2023-12-06 15:14:58,718 - MarkovianUniformEnvironment - INFO - Sum of weight difference arbiterer0.0000\n",
      "2023-12-06 15:14:58,719 - MarkovianUniformEnvironment - INFO - Sum of weight difference  reconstructor0.0000\n",
      "2023-12-06 15:14:58,766 - MarkovianUniformEnvironment - INFO - Sum of weight difference arbiterer0.0000\n",
      "2023-12-06 15:14:58,766 - MarkovianUniformEnvironment - INFO - Sum of weight difference  reconstructor0.0000\n"
     ]
    },
    {
     "data": {
      "application/vnd.jupyter.widget-view+json": {
       "model_id": "9abc6dccab3944428ba6484d59594eee",
       "version_major": 2,
       "version_minor": 0
      },
      "text/plain": [
       "Steps:   0%|          | 0/12 [00:00<?, ?it/s]"
      ]
     },
     "metadata": {},
     "output_type": "display_data"
    },
    {
     "name": "stderr",
     "output_type": "stream",
     "text": [
      "2023-12-06 15:14:58,825 - MarkovianUniformEnvironment - INFO - Sum of weight difference arbiterer0.0000\n",
      "2023-12-06 15:14:58,826 - MarkovianUniformEnvironment - INFO - Sum of weight difference  reconstructor0.0000\n",
      "2023-12-06 15:14:58,874 - MarkovianUniformEnvironment - INFO - Sum of weight difference arbiterer0.0000\n",
      "2023-12-06 15:14:58,874 - MarkovianUniformEnvironment - INFO - Sum of weight difference  reconstructor0.0000\n",
      "2023-12-06 15:14:58,924 - MarkovianUniformEnvironment - INFO - Sum of weight difference arbiterer0.0000\n",
      "2023-12-06 15:14:58,925 - MarkovianUniformEnvironment - INFO - Sum of weight difference  reconstructor0.0000\n",
      "2023-12-06 15:14:58,977 - MarkovianUniformEnvironment - INFO - Sum of weight difference arbiterer0.0000\n",
      "2023-12-06 15:14:58,978 - MarkovianUniformEnvironment - INFO - Sum of weight difference  reconstructor0.0000\n",
      "2023-12-06 15:14:59,030 - MarkovianUniformEnvironment - INFO - Sum of weight difference arbiterer0.0000\n",
      "2023-12-06 15:14:59,031 - MarkovianUniformEnvironment - INFO - Sum of weight difference  reconstructor0.0000\n",
      "2023-12-06 15:14:59,078 - MarkovianUniformEnvironment - INFO - Sum of weight difference arbiterer0.0000\n",
      "2023-12-06 15:14:59,079 - MarkovianUniformEnvironment - INFO - Sum of weight difference  reconstructor0.0000\n",
      "2023-12-06 15:14:59,131 - MarkovianUniformEnvironment - INFO - Sum of weight difference arbiterer0.0000\n",
      "2023-12-06 15:14:59,132 - MarkovianUniformEnvironment - INFO - Sum of weight difference  reconstructor0.0000\n",
      "2023-12-06 15:14:59,180 - MarkovianUniformEnvironment - INFO - Sum of weight difference arbiterer0.0000\n",
      "2023-12-06 15:14:59,181 - MarkovianUniformEnvironment - INFO - Sum of weight difference  reconstructor0.0000\n",
      "2023-12-06 15:14:59,232 - MarkovianUniformEnvironment - INFO - Sum of weight difference arbiterer0.0000\n",
      "2023-12-06 15:14:59,233 - MarkovianUniformEnvironment - INFO - Sum of weight difference  reconstructor0.0000\n",
      "2023-12-06 15:14:59,280 - MarkovianUniformEnvironment - INFO - Sum of weight difference arbiterer0.0000\n",
      "2023-12-06 15:14:59,280 - MarkovianUniformEnvironment - INFO - Sum of weight difference  reconstructor0.0000\n",
      "2023-12-06 15:14:59,330 - MarkovianUniformEnvironment - INFO - Sum of weight difference arbiterer0.0000\n",
      "2023-12-06 15:14:59,334 - MarkovianUniformEnvironment - INFO - Sum of weight difference  reconstructor0.0000\n",
      "2023-12-06 15:14:59,382 - MarkovianUniformEnvironment - INFO - Sum of weight difference arbiterer0.0000\n",
      "2023-12-06 15:14:59,383 - MarkovianUniformEnvironment - INFO - Sum of weight difference  reconstructor0.0000\n"
     ]
    },
    {
     "data": {
      "application/vnd.jupyter.widget-view+json": {
       "model_id": "118d469b1dd84d839955ab4a69dab2fd",
       "version_major": 2,
       "version_minor": 0
      },
      "text/plain": [
       "Steps:   0%|          | 0/12 [00:00<?, ?it/s]"
      ]
     },
     "metadata": {},
     "output_type": "display_data"
    },
    {
     "name": "stderr",
     "output_type": "stream",
     "text": [
      "2023-12-06 15:14:59,451 - MarkovianUniformEnvironment - INFO - Sum of weight difference arbiterer0.0000\n",
      "2023-12-06 15:14:59,451 - MarkovianUniformEnvironment - INFO - Sum of weight difference  reconstructor0.0000\n",
      "2023-12-06 15:14:59,500 - MarkovianUniformEnvironment - INFO - Sum of weight difference arbiterer0.0000\n",
      "2023-12-06 15:14:59,501 - MarkovianUniformEnvironment - INFO - Sum of weight difference  reconstructor0.0000\n",
      "2023-12-06 15:14:59,554 - MarkovianUniformEnvironment - INFO - Sum of weight difference arbiterer0.0000\n",
      "2023-12-06 15:14:59,555 - MarkovianUniformEnvironment - INFO - Sum of weight difference  reconstructor0.0000\n",
      "2023-12-06 15:14:59,606 - MarkovianUniformEnvironment - INFO - Sum of weight difference arbiterer0.0000\n",
      "2023-12-06 15:14:59,607 - MarkovianUniformEnvironment - INFO - Sum of weight difference  reconstructor0.0000\n",
      "2023-12-06 15:14:59,661 - MarkovianUniformEnvironment - INFO - Sum of weight difference arbiterer0.0000\n",
      "2023-12-06 15:14:59,662 - MarkovianUniformEnvironment - INFO - Sum of weight difference  reconstructor0.0000\n",
      "2023-12-06 15:14:59,709 - MarkovianUniformEnvironment - INFO - Sum of weight difference arbiterer0.0000\n",
      "2023-12-06 15:14:59,710 - MarkovianUniformEnvironment - INFO - Sum of weight difference  reconstructor0.0000\n",
      "2023-12-06 15:14:59,762 - MarkovianUniformEnvironment - INFO - Sum of weight difference arbiterer0.0000\n",
      "2023-12-06 15:14:59,762 - MarkovianUniformEnvironment - INFO - Sum of weight difference  reconstructor0.0000\n",
      "2023-12-06 15:14:59,809 - MarkovianUniformEnvironment - INFO - Sum of weight difference arbiterer0.0000\n",
      "2023-12-06 15:14:59,809 - MarkovianUniformEnvironment - INFO - Sum of weight difference  reconstructor0.0000\n",
      "2023-12-06 15:14:59,860 - MarkovianUniformEnvironment - INFO - Sum of weight difference arbiterer0.0000\n",
      "2023-12-06 15:14:59,861 - MarkovianUniformEnvironment - INFO - Sum of weight difference  reconstructor0.0000\n",
      "2023-12-06 15:14:59,915 - MarkovianUniformEnvironment - INFO - Sum of weight difference arbiterer0.0000\n",
      "2023-12-06 15:14:59,916 - MarkovianUniformEnvironment - INFO - Sum of weight difference  reconstructor0.0000\n",
      "2023-12-06 15:14:59,963 - MarkovianUniformEnvironment - INFO - Sum of weight difference arbiterer0.0000\n",
      "2023-12-06 15:14:59,964 - MarkovianUniformEnvironment - INFO - Sum of weight difference  reconstructor0.0000\n",
      "2023-12-06 15:15:00,015 - MarkovianUniformEnvironment - INFO - Sum of weight difference arbiterer0.0000\n",
      "2023-12-06 15:15:00,016 - MarkovianUniformEnvironment - INFO - Sum of weight difference  reconstructor0.0000\n"
     ]
    },
    {
     "data": {
      "application/vnd.jupyter.widget-view+json": {
       "model_id": "93847ac92bdb4ba9a490256227a692ca",
       "version_major": 2,
       "version_minor": 0
      },
      "text/plain": [
       "Steps:   0%|          | 0/12 [00:00<?, ?it/s]"
      ]
     },
     "metadata": {},
     "output_type": "display_data"
    },
    {
     "name": "stderr",
     "output_type": "stream",
     "text": [
      "2023-12-06 15:15:00,078 - MarkovianUniformEnvironment - INFO - Sum of weight difference arbiterer0.0000\n",
      "2023-12-06 15:15:00,079 - MarkovianUniformEnvironment - INFO - Sum of weight difference  reconstructor0.0000\n",
      "2023-12-06 15:15:00,128 - MarkovianUniformEnvironment - INFO - Sum of weight difference arbiterer0.0000\n",
      "2023-12-06 15:15:00,129 - MarkovianUniformEnvironment - INFO - Sum of weight difference  reconstructor0.0000\n",
      "2023-12-06 15:15:00,181 - MarkovianUniformEnvironment - INFO - Sum of weight difference arbiterer0.0000\n",
      "2023-12-06 15:15:00,182 - MarkovianUniformEnvironment - INFO - Sum of weight difference  reconstructor0.0000\n",
      "2023-12-06 15:15:00,231 - MarkovianUniformEnvironment - INFO - Sum of weight difference arbiterer0.0000\n",
      "2023-12-06 15:15:00,232 - MarkovianUniformEnvironment - INFO - Sum of weight difference  reconstructor0.0000\n",
      "2023-12-06 15:15:00,282 - MarkovianUniformEnvironment - INFO - Sum of weight difference arbiterer0.0000\n",
      "2023-12-06 15:15:00,283 - MarkovianUniformEnvironment - INFO - Sum of weight difference  reconstructor0.0000\n",
      "2023-12-06 15:15:00,333 - MarkovianUniformEnvironment - INFO - Sum of weight difference arbiterer0.0000\n",
      "2023-12-06 15:15:00,333 - MarkovianUniformEnvironment - INFO - Sum of weight difference  reconstructor0.0000\n",
      "2023-12-06 15:15:00,384 - MarkovianUniformEnvironment - INFO - Sum of weight difference arbiterer0.0000\n",
      "2023-12-06 15:15:00,385 - MarkovianUniformEnvironment - INFO - Sum of weight difference  reconstructor0.0000\n",
      "2023-12-06 15:15:00,431 - MarkovianUniformEnvironment - INFO - Sum of weight difference arbiterer0.0000\n",
      "2023-12-06 15:15:00,432 - MarkovianUniformEnvironment - INFO - Sum of weight difference  reconstructor0.0000\n",
      "2023-12-06 15:15:00,482 - MarkovianUniformEnvironment - INFO - Sum of weight difference arbiterer0.0000\n",
      "2023-12-06 15:15:00,483 - MarkovianUniformEnvironment - INFO - Sum of weight difference  reconstructor0.0000\n",
      "2023-12-06 15:15:00,545 - MarkovianUniformEnvironment - INFO - Sum of weight difference arbiterer0.0000\n",
      "2023-12-06 15:15:00,546 - MarkovianUniformEnvironment - INFO - Sum of weight difference  reconstructor0.0000\n",
      "2023-12-06 15:15:00,592 - MarkovianUniformEnvironment - INFO - Sum of weight difference arbiterer0.0000\n",
      "2023-12-06 15:15:00,593 - MarkovianUniformEnvironment - INFO - Sum of weight difference  reconstructor0.0000\n",
      "2023-12-06 15:15:00,642 - MarkovianUniformEnvironment - INFO - Sum of weight difference arbiterer0.0000\n",
      "2023-12-06 15:15:00,643 - MarkovianUniformEnvironment - INFO - Sum of weight difference  reconstructor0.0000\n"
     ]
    },
    {
     "data": {
      "application/vnd.jupyter.widget-view+json": {
       "model_id": "f750226a6bf44a8bb15d7f8b762e936a",
       "version_major": 2,
       "version_minor": 0
      },
      "text/plain": [
       "Steps:   0%|          | 0/12 [00:00<?, ?it/s]"
      ]
     },
     "metadata": {},
     "output_type": "display_data"
    },
    {
     "name": "stderr",
     "output_type": "stream",
     "text": [
      "2023-12-06 15:15:00,718 - MarkovianUniformEnvironment - INFO - Sum of weight difference arbiterer0.0000\n",
      "2023-12-06 15:15:00,718 - MarkovianUniformEnvironment - INFO - Sum of weight difference  reconstructor0.0000\n",
      "2023-12-06 15:15:00,773 - MarkovianUniformEnvironment - INFO - Sum of weight difference arbiterer0.0000\n",
      "2023-12-06 15:15:00,774 - MarkovianUniformEnvironment - INFO - Sum of weight difference  reconstructor0.0000\n",
      "2023-12-06 15:15:00,822 - MarkovianUniformEnvironment - INFO - Sum of weight difference arbiterer0.0000\n",
      "2023-12-06 15:15:00,823 - MarkovianUniformEnvironment - INFO - Sum of weight difference  reconstructor0.0000\n",
      "2023-12-06 15:15:00,869 - MarkovianUniformEnvironment - INFO - Sum of weight difference arbiterer0.0000\n",
      "2023-12-06 15:15:00,869 - MarkovianUniformEnvironment - INFO - Sum of weight difference  reconstructor0.0000\n",
      "2023-12-06 15:15:00,919 - MarkovianUniformEnvironment - INFO - Sum of weight difference arbiterer0.0000\n",
      "2023-12-06 15:15:00,919 - MarkovianUniformEnvironment - INFO - Sum of weight difference  reconstructor0.0000\n",
      "2023-12-06 15:15:00,971 - MarkovianUniformEnvironment - INFO - Sum of weight difference arbiterer0.0000\n",
      "2023-12-06 15:15:00,972 - MarkovianUniformEnvironment - INFO - Sum of weight difference  reconstructor0.0000\n",
      "2023-12-06 15:15:01,019 - MarkovianUniformEnvironment - INFO - Sum of weight difference arbiterer0.0000\n",
      "2023-12-06 15:15:01,020 - MarkovianUniformEnvironment - INFO - Sum of weight difference  reconstructor0.0000\n",
      "2023-12-06 15:15:01,071 - MarkovianUniformEnvironment - INFO - Sum of weight difference arbiterer0.0000\n",
      "2023-12-06 15:15:01,072 - MarkovianUniformEnvironment - INFO - Sum of weight difference  reconstructor0.0000\n",
      "2023-12-06 15:15:01,123 - MarkovianUniformEnvironment - INFO - Sum of weight difference arbiterer0.0000\n",
      "2023-12-06 15:15:01,124 - MarkovianUniformEnvironment - INFO - Sum of weight difference  reconstructor0.0000\n",
      "2023-12-06 15:15:01,175 - MarkovianUniformEnvironment - INFO - Sum of weight difference arbiterer0.0000\n",
      "2023-12-06 15:15:01,176 - MarkovianUniformEnvironment - INFO - Sum of weight difference  reconstructor0.0000\n",
      "2023-12-06 15:15:01,225 - MarkovianUniformEnvironment - INFO - Sum of weight difference arbiterer0.0000\n",
      "2023-12-06 15:15:01,226 - MarkovianUniformEnvironment - INFO - Sum of weight difference  reconstructor0.0000\n",
      "2023-12-06 15:15:01,276 - MarkovianUniformEnvironment - INFO - Sum of weight difference arbiterer0.0000\n",
      "2023-12-06 15:15:01,277 - MarkovianUniformEnvironment - INFO - Sum of weight difference  reconstructor0.0000\n"
     ]
    },
    {
     "data": {
      "application/vnd.jupyter.widget-view+json": {
       "model_id": "1dc33827c8904a1da85d7f22232aca75",
       "version_major": 2,
       "version_minor": 0
      },
      "text/plain": [
       "Steps:   0%|          | 0/12 [00:00<?, ?it/s]"
      ]
     },
     "metadata": {},
     "output_type": "display_data"
    },
    {
     "name": "stderr",
     "output_type": "stream",
     "text": [
      "2023-12-06 15:15:01,344 - MarkovianUniformEnvironment - INFO - Sum of weight difference arbiterer0.0000\n",
      "2023-12-06 15:15:01,345 - MarkovianUniformEnvironment - INFO - Sum of weight difference  reconstructor0.0000\n",
      "2023-12-06 15:15:01,398 - MarkovianUniformEnvironment - INFO - Sum of weight difference arbiterer0.0000\n",
      "2023-12-06 15:15:01,399 - MarkovianUniformEnvironment - INFO - Sum of weight difference  reconstructor0.0000\n",
      "2023-12-06 15:15:01,447 - MarkovianUniformEnvironment - INFO - Sum of weight difference arbiterer0.0000\n",
      "2023-12-06 15:15:01,448 - MarkovianUniformEnvironment - INFO - Sum of weight difference  reconstructor0.0000\n",
      "2023-12-06 15:15:01,498 - MarkovianUniformEnvironment - INFO - Sum of weight difference arbiterer0.0000\n",
      "2023-12-06 15:15:01,498 - MarkovianUniformEnvironment - INFO - Sum of weight difference  reconstructor0.0000\n",
      "2023-12-06 15:15:01,548 - MarkovianUniformEnvironment - INFO - Sum of weight difference arbiterer0.0000\n",
      "2023-12-06 15:15:01,548 - MarkovianUniformEnvironment - INFO - Sum of weight difference  reconstructor0.0000\n",
      "2023-12-06 15:15:01,596 - MarkovianUniformEnvironment - INFO - Sum of weight difference arbiterer0.0000\n",
      "2023-12-06 15:15:01,597 - MarkovianUniformEnvironment - INFO - Sum of weight difference  reconstructor0.0000\n",
      "2023-12-06 15:15:01,644 - MarkovianUniformEnvironment - INFO - Sum of weight difference arbiterer0.0000\n",
      "2023-12-06 15:15:01,645 - MarkovianUniformEnvironment - INFO - Sum of weight difference  reconstructor0.0000\n",
      "2023-12-06 15:15:01,694 - MarkovianUniformEnvironment - INFO - Sum of weight difference arbiterer0.0000\n",
      "2023-12-06 15:15:01,695 - MarkovianUniformEnvironment - INFO - Sum of weight difference  reconstructor0.0000\n",
      "2023-12-06 15:15:01,742 - MarkovianUniformEnvironment - INFO - Sum of weight difference arbiterer0.0000\n",
      "2023-12-06 15:15:01,742 - MarkovianUniformEnvironment - INFO - Sum of weight difference  reconstructor0.0000\n",
      "2023-12-06 15:15:01,793 - MarkovianUniformEnvironment - INFO - Sum of weight difference arbiterer0.0000\n",
      "2023-12-06 15:15:01,793 - MarkovianUniformEnvironment - INFO - Sum of weight difference  reconstructor0.0000\n",
      "2023-12-06 15:15:01,846 - MarkovianUniformEnvironment - INFO - Sum of weight difference arbiterer0.0000\n",
      "2023-12-06 15:15:01,847 - MarkovianUniformEnvironment - INFO - Sum of weight difference  reconstructor0.0000\n",
      "2023-12-06 15:15:01,899 - MarkovianUniformEnvironment - INFO - Sum of weight difference arbiterer0.0000\n",
      "2023-12-06 15:15:01,900 - MarkovianUniformEnvironment - INFO - Sum of weight difference  reconstructor0.0000\n"
     ]
    },
    {
     "data": {
      "application/vnd.jupyter.widget-view+json": {
       "model_id": "9338055394aa4e7593ebee2dafddad3f",
       "version_major": 2,
       "version_minor": 0
      },
      "text/plain": [
       "Steps:   0%|          | 0/12 [00:00<?, ?it/s]"
      ]
     },
     "metadata": {},
     "output_type": "display_data"
    },
    {
     "name": "stderr",
     "output_type": "stream",
     "text": [
      "2023-12-06 15:15:01,971 - MarkovianUniformEnvironment - INFO - Sum of weight difference arbiterer0.0000\n",
      "2023-12-06 15:15:01,972 - MarkovianUniformEnvironment - INFO - Sum of weight difference  reconstructor0.0000\n",
      "2023-12-06 15:15:02,023 - MarkovianUniformEnvironment - INFO - Sum of weight difference arbiterer0.0000\n",
      "2023-12-06 15:15:02,024 - MarkovianUniformEnvironment - INFO - Sum of weight difference  reconstructor0.0000\n",
      "2023-12-06 15:15:02,078 - MarkovianUniformEnvironment - INFO - Sum of weight difference arbiterer0.0000\n",
      "2023-12-06 15:15:02,079 - MarkovianUniformEnvironment - INFO - Sum of weight difference  reconstructor0.0000\n",
      "2023-12-06 15:15:02,131 - MarkovianUniformEnvironment - INFO - Sum of weight difference arbiterer0.0000\n",
      "2023-12-06 15:15:02,131 - MarkovianUniformEnvironment - INFO - Sum of weight difference  reconstructor0.0000\n",
      "2023-12-06 15:15:02,182 - MarkovianUniformEnvironment - INFO - Sum of weight difference arbiterer0.0000\n",
      "2023-12-06 15:15:02,183 - MarkovianUniformEnvironment - INFO - Sum of weight difference  reconstructor0.0000\n",
      "2023-12-06 15:15:02,231 - MarkovianUniformEnvironment - INFO - Sum of weight difference arbiterer0.0000\n",
      "2023-12-06 15:15:02,232 - MarkovianUniformEnvironment - INFO - Sum of weight difference  reconstructor0.0000\n",
      "2023-12-06 15:15:02,279 - MarkovianUniformEnvironment - INFO - Sum of weight difference arbiterer0.0000\n",
      "2023-12-06 15:15:02,280 - MarkovianUniformEnvironment - INFO - Sum of weight difference  reconstructor0.0000\n",
      "2023-12-06 15:15:02,332 - MarkovianUniformEnvironment - INFO - Sum of weight difference arbiterer0.0000\n",
      "2023-12-06 15:15:02,333 - MarkovianUniformEnvironment - INFO - Sum of weight difference  reconstructor0.0000\n",
      "2023-12-06 15:15:02,386 - MarkovianUniformEnvironment - INFO - Sum of weight difference arbiterer0.0000\n",
      "2023-12-06 15:15:02,387 - MarkovianUniformEnvironment - INFO - Sum of weight difference  reconstructor0.0000\n",
      "2023-12-06 15:15:02,439 - MarkovianUniformEnvironment - INFO - Sum of weight difference arbiterer0.0000\n",
      "2023-12-06 15:15:02,440 - MarkovianUniformEnvironment - INFO - Sum of weight difference  reconstructor0.0000\n",
      "2023-12-06 15:15:02,488 - MarkovianUniformEnvironment - INFO - Sum of weight difference arbiterer0.0000\n",
      "2023-12-06 15:15:02,489 - MarkovianUniformEnvironment - INFO - Sum of weight difference  reconstructor0.0000\n",
      "2023-12-06 15:15:02,541 - MarkovianUniformEnvironment - INFO - Sum of weight difference arbiterer0.0000\n",
      "2023-12-06 15:15:02,542 - MarkovianUniformEnvironment - INFO - Sum of weight difference  reconstructor0.0000\n"
     ]
    },
    {
     "data": {
      "application/vnd.jupyter.widget-view+json": {
       "model_id": "e4ee1d9f6b7d47f98c1c64baa94dd6fd",
       "version_major": 2,
       "version_minor": 0
      },
      "text/plain": [
       "Steps:   0%|          | 0/12 [00:00<?, ?it/s]"
      ]
     },
     "metadata": {},
     "output_type": "display_data"
    },
    {
     "name": "stderr",
     "output_type": "stream",
     "text": [
      "2023-12-06 15:15:02,611 - MarkovianUniformEnvironment - INFO - Sum of weight difference arbiterer0.0000\n",
      "2023-12-06 15:15:02,612 - MarkovianUniformEnvironment - INFO - Sum of weight difference  reconstructor0.0000\n",
      "2023-12-06 15:15:02,661 - MarkovianUniformEnvironment - INFO - Sum of weight difference arbiterer0.0000\n",
      "2023-12-06 15:15:02,662 - MarkovianUniformEnvironment - INFO - Sum of weight difference  reconstructor0.0000\n",
      "2023-12-06 15:15:02,711 - MarkovianUniformEnvironment - INFO - Sum of weight difference arbiterer0.0000\n",
      "2023-12-06 15:15:02,712 - MarkovianUniformEnvironment - INFO - Sum of weight difference  reconstructor0.0000\n",
      "2023-12-06 15:15:02,766 - MarkovianUniformEnvironment - INFO - Sum of weight difference arbiterer0.0000\n",
      "2023-12-06 15:15:02,767 - MarkovianUniformEnvironment - INFO - Sum of weight difference  reconstructor0.0000\n",
      "2023-12-06 15:15:02,819 - MarkovianUniformEnvironment - INFO - Sum of weight difference arbiterer0.0000\n",
      "2023-12-06 15:15:02,820 - MarkovianUniformEnvironment - INFO - Sum of weight difference  reconstructor0.0000\n",
      "2023-12-06 15:15:02,867 - MarkovianUniformEnvironment - INFO - Sum of weight difference arbiterer0.0000\n",
      "2023-12-06 15:15:02,868 - MarkovianUniformEnvironment - INFO - Sum of weight difference  reconstructor0.0000\n",
      "2023-12-06 15:15:02,920 - MarkovianUniformEnvironment - INFO - Sum of weight difference arbiterer0.0000\n",
      "2023-12-06 15:15:02,921 - MarkovianUniformEnvironment - INFO - Sum of weight difference  reconstructor0.0000\n",
      "2023-12-06 15:15:02,968 - MarkovianUniformEnvironment - INFO - Sum of weight difference arbiterer0.0000\n",
      "2023-12-06 15:15:02,968 - MarkovianUniformEnvironment - INFO - Sum of weight difference  reconstructor0.0000\n",
      "2023-12-06 15:15:03,016 - MarkovianUniformEnvironment - INFO - Sum of weight difference arbiterer0.0000\n",
      "2023-12-06 15:15:03,017 - MarkovianUniformEnvironment - INFO - Sum of weight difference  reconstructor0.0000\n",
      "2023-12-06 15:15:03,064 - MarkovianUniformEnvironment - INFO - Sum of weight difference arbiterer0.0000\n",
      "2023-12-06 15:15:03,065 - MarkovianUniformEnvironment - INFO - Sum of weight difference  reconstructor0.0000\n",
      "2023-12-06 15:15:03,113 - MarkovianUniformEnvironment - INFO - Sum of weight difference arbiterer0.0000\n",
      "2023-12-06 15:15:03,113 - MarkovianUniformEnvironment - INFO - Sum of weight difference  reconstructor0.0000\n",
      "2023-12-06 15:15:03,164 - MarkovianUniformEnvironment - INFO - Sum of weight difference arbiterer0.0000\n",
      "2023-12-06 15:15:03,165 - MarkovianUniformEnvironment - INFO - Sum of weight difference  reconstructor0.0000\n"
     ]
    },
    {
     "data": {
      "application/vnd.jupyter.widget-view+json": {
       "model_id": "b24e1f0eec9e4a6ebd8599991a3fc1cb",
       "version_major": 2,
       "version_minor": 0
      },
      "text/plain": [
       "Steps:   0%|          | 0/12 [00:00<?, ?it/s]"
      ]
     },
     "metadata": {},
     "output_type": "display_data"
    },
    {
     "name": "stderr",
     "output_type": "stream",
     "text": [
      "2023-12-06 15:15:03,246 - MarkovianUniformEnvironment - INFO - Sum of weight difference arbiterer0.0000\n",
      "2023-12-06 15:15:03,247 - MarkovianUniformEnvironment - INFO - Sum of weight difference  reconstructor0.0000\n",
      "2023-12-06 15:15:03,297 - MarkovianUniformEnvironment - INFO - Sum of weight difference arbiterer0.0000\n",
      "2023-12-06 15:15:03,298 - MarkovianUniformEnvironment - INFO - Sum of weight difference  reconstructor0.0000\n",
      "2023-12-06 15:15:03,349 - MarkovianUniformEnvironment - INFO - Sum of weight difference arbiterer0.0000\n",
      "2023-12-06 15:15:03,350 - MarkovianUniformEnvironment - INFO - Sum of weight difference  reconstructor0.0000\n",
      "2023-12-06 15:15:03,399 - MarkovianUniformEnvironment - INFO - Sum of weight difference arbiterer0.0000\n",
      "2023-12-06 15:15:03,400 - MarkovianUniformEnvironment - INFO - Sum of weight difference  reconstructor0.0000\n",
      "2023-12-06 15:15:03,452 - MarkovianUniformEnvironment - INFO - Sum of weight difference arbiterer0.0000\n",
      "2023-12-06 15:15:03,453 - MarkovianUniformEnvironment - INFO - Sum of weight difference  reconstructor0.0000\n"
     ]
    },
    {
     "ename": "KeyboardInterrupt",
     "evalue": "",
     "output_type": "error",
     "traceback": [
      "\u001b[0;31m---------------------------------------------------------------------------\u001b[0m",
      "\u001b[0;31mKeyboardInterrupt\u001b[0m                         Traceback (most recent call last)",
      "\u001b[1;32m/Users/rac716/Research/SamplingReconstruction/exp3_rlsampling.ipynb Cell 5\u001b[0m line \u001b[0;36m8\n\u001b[1;32m      <a href='vscode-notebook-cell:/Users/rac716/Research/SamplingReconstruction/exp3_rlsampling.ipynb#W4sZmlsZQ%3D%3D?line=4'>5</a>\u001b[0m sbar \u001b[39m=\u001b[39m tqdm(\u001b[39mrange\u001b[39m(lenth_of_episode), desc \u001b[39m=\u001b[39m \u001b[39m\"\u001b[39m\u001b[39mSteps\u001b[39m\u001b[39m\"\u001b[39m, leave\u001b[39m=\u001b[39m\u001b[39mTrue\u001b[39;00m, position\u001b[39m=\u001b[39m\u001b[39m1\u001b[39m)\n\u001b[1;32m      <a href='vscode-notebook-cell:/Users/rac716/Research/SamplingReconstruction/exp3_rlsampling.ipynb#W4sZmlsZQ%3D%3D?line=5'>6</a>\u001b[0m \u001b[39mfor\u001b[39;00m step \u001b[39min\u001b[39;00m \u001b[39mrange\u001b[39m(lenth_of_episode):\n\u001b[0;32m----> <a href='vscode-notebook-cell:/Users/rac716/Research/SamplingReconstruction/exp3_rlsampling.ipynb#W4sZmlsZQ%3D%3D?line=7'>8</a>\u001b[0m     loss \u001b[39m=\u001b[39m env\u001b[39m.\u001b[39;49mstep() \n\u001b[1;32m      <a href='vscode-notebook-cell:/Users/rac716/Research/SamplingReconstruction/exp3_rlsampling.ipynb#W4sZmlsZQ%3D%3D?line=8'>9</a>\u001b[0m     sbar\u001b[39m.\u001b[39mset_description(\u001b[39mf\u001b[39m\u001b[39m\"\u001b[39m\u001b[39mLoss: \u001b[39m\u001b[39m{\u001b[39;00mloss\u001b[39m}\u001b[39;00m\u001b[39m\"\u001b[39m)\n\u001b[1;32m     <a href='vscode-notebook-cell:/Users/rac716/Research/SamplingReconstruction/exp3_rlsampling.ipynb#W4sZmlsZQ%3D%3D?line=10'>11</a>\u001b[0m     sbar\u001b[39m.\u001b[39mupdate(\u001b[39m1\u001b[39m)\n",
      "File \u001b[0;32m~/Research/SamplingReconstruction/samprecon/environments/OneEpisodeEnvironments.py:105\u001b[0m, in \u001b[0;36mMarkovianUniformEnvironment.step\u001b[0;34m(self)\u001b[0m\n\u001b[1;32m    100\u001b[0m reconstruction \u001b[39m=\u001b[39m \u001b[39mself\u001b[39m\u001b[39m.\u001b[39mreconstructor(\n\u001b[1;32m    101\u001b[0m     dec_state, action, action\u001b[39m.\u001b[39msqueeze() \u001b[39m*\u001b[39m \u001b[39mself\u001b[39m\u001b[39m.\u001b[39msampling_budget\n\u001b[1;32m    102\u001b[0m )\n\u001b[1;32m    104\u001b[0m loss \u001b[39m=\u001b[39m \u001b[39mself\u001b[39m\u001b[39m.\u001b[39mcriterion(reconstruction, new_state_oh)\n\u001b[0;32m--> 105\u001b[0m loss\u001b[39m.\u001b[39;49mbackward()\n\u001b[1;32m    107\u001b[0m \u001b[39mself\u001b[39m\u001b[39m.\u001b[39moptimizer\u001b[39m.\u001b[39mstep()\n\u001b[1;32m    109\u001b[0m \u001b[39m# DEBUG:\u001b[39;00m\n\u001b[1;32m    110\u001b[0m \u001b[39m# For sampling_arbiter\u001b[39;00m\n",
      "File \u001b[0;32m~/miniforge3/envs/rs39/lib/python3.9/site-packages/torch/_tensor.py:487\u001b[0m, in \u001b[0;36mTensor.backward\u001b[0;34m(self, gradient, retain_graph, create_graph, inputs)\u001b[0m\n\u001b[1;32m    477\u001b[0m \u001b[39mif\u001b[39;00m has_torch_function_unary(\u001b[39mself\u001b[39m):\n\u001b[1;32m    478\u001b[0m     \u001b[39mreturn\u001b[39;00m handle_torch_function(\n\u001b[1;32m    479\u001b[0m         Tensor\u001b[39m.\u001b[39mbackward,\n\u001b[1;32m    480\u001b[0m         (\u001b[39mself\u001b[39m,),\n\u001b[0;32m   (...)\u001b[0m\n\u001b[1;32m    485\u001b[0m         inputs\u001b[39m=\u001b[39minputs,\n\u001b[1;32m    486\u001b[0m     )\n\u001b[0;32m--> 487\u001b[0m torch\u001b[39m.\u001b[39;49mautograd\u001b[39m.\u001b[39;49mbackward(\n\u001b[1;32m    488\u001b[0m     \u001b[39mself\u001b[39;49m, gradient, retain_graph, create_graph, inputs\u001b[39m=\u001b[39;49minputs\n\u001b[1;32m    489\u001b[0m )\n",
      "File \u001b[0;32m~/miniforge3/envs/rs39/lib/python3.9/site-packages/torch/autograd/__init__.py:200\u001b[0m, in \u001b[0;36mbackward\u001b[0;34m(tensors, grad_tensors, retain_graph, create_graph, grad_variables, inputs)\u001b[0m\n\u001b[1;32m    195\u001b[0m     retain_graph \u001b[39m=\u001b[39m create_graph\n\u001b[1;32m    197\u001b[0m \u001b[39m# The reason we repeat same the comment below is that\u001b[39;00m\n\u001b[1;32m    198\u001b[0m \u001b[39m# some Python versions print out the first line of a multi-line function\u001b[39;00m\n\u001b[1;32m    199\u001b[0m \u001b[39m# calls in the traceback and some print out the last line\u001b[39;00m\n\u001b[0;32m--> 200\u001b[0m Variable\u001b[39m.\u001b[39;49m_execution_engine\u001b[39m.\u001b[39;49mrun_backward(  \u001b[39m# Calls into the C++ engine to run the backward pass\u001b[39;49;00m\n\u001b[1;32m    201\u001b[0m     tensors, grad_tensors_, retain_graph, create_graph, inputs,\n\u001b[1;32m    202\u001b[0m     allow_unreachable\u001b[39m=\u001b[39;49m\u001b[39mTrue\u001b[39;49;00m, accumulate_grad\u001b[39m=\u001b[39;49m\u001b[39mTrue\u001b[39;49;00m)\n",
      "\u001b[0;31mKeyboardInterrupt\u001b[0m: "
     ]
    }
   ],
   "source": [
    "ebar = tqdm(range(epochs), desc = \"Epochs\",leave=False, position=0)\n",
    "e_losses = []\n",
    "for epoch in range(epochs):\n",
    "    # We generate a single step from the generator process\n",
    "    sbar = tqdm(range(lenth_of_episode), desc = \"Steps\", leave=True, position=1)\n",
    "    for step in range(lenth_of_episode):\n",
    "\n",
    "        loss = env.step() \n",
    "        sbar.set_description(f\"Loss: {loss}\")\n",
    "\n",
    "        sbar.update(1)\n",
    "    e_losses = np.append(e_losses,loss)\n",
    "    ebar.set_description(f\"Epoch Mean Loss: {np.mean(e_losses[:-10])}\")\n",
    "    # We get reward based on how close we got to maximum information "
   ]
  },
  {
   "cell_type": "code",
   "execution_count": null,
   "metadata": {},
   "outputs": [],
   "source": []
  }
 ],
 "metadata": {
  "kernelspec": {
   "display_name": "research",
   "language": "python",
   "name": "python3"
  },
  "language_info": {
   "codemirror_mode": {
    "name": "ipython",
    "version": 3
   },
   "file_extension": ".py",
   "mimetype": "text/x-python",
   "name": "python",
   "nbconvert_exporter": "python",
   "pygments_lexer": "ipython3",
   "version": "3.9.15"
  }
 },
 "nbformat": 4,
 "nbformat_minor": 2
}
