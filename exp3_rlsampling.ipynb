{
 "cells": [
  {
   "cell_type": "markdown",
   "metadata": {},
   "source": [
    "# Imports\n"
   ]
  },
  {
   "cell_type": "code",
   "execution_count": 1,
   "metadata": {},
   "outputs": [],
   "source": [
    "import numpy as np\n",
    "import matplotlib.pyplot as plt\n",
    "import numpy.random as rnd\n",
    "from time import time\n",
    "from sp_sims.simulators.stochasticprocesses import BDStates\n",
    "from samprecon.environments.OneEpisodeEnvironments import MarkovianUniformEnvironment\n",
    "from samprecon.samplers.agents import SimpleAgent \n",
    "from samprecon.reconstructors.NNReconstructors import NNReconstructor\n",
    "\n",
    "plt.style.use('rose-pine-dawn')\n",
    "rnd.seed(int(time()))\n",
    "%load_ext autoreload\n",
    "%autoreload 2"
   ]
  },
  {
   "cell_type": "code",
   "execution_count": 2,
   "metadata": {},
   "outputs": [
    {
     "ename": "NameError",
     "evalue": "name 'decimanation_factor' is not defined",
     "output_type": "error",
     "traceback": [
      "\u001b[0;31m---------------------------------------------------------------------------\u001b[0m",
      "\u001b[0;31mNameError\u001b[0m                                 Traceback (most recent call last)",
      "\u001b[1;32m/home/ottersome/Research/SamplingReconstruction/exp3_rlsampling.ipynb Cell 3\u001b[0m line \u001b[0;36m1\n\u001b[1;32m     <a href='vscode-notebook-cell:/home/ottersome/Research/SamplingReconstruction/exp3_rlsampling.ipynb#W2sZmlsZQ%3D%3D?line=11'>12</a>\u001b[0m num_states \u001b[39m=\u001b[39m \u001b[39m4\u001b[39m\n\u001b[1;32m     <a href='vscode-notebook-cell:/home/ottersome/Research/SamplingReconstruction/exp3_rlsampling.ipynb#W2sZmlsZQ%3D%3D?line=12'>13</a>\u001b[0m current_decimation_factor \u001b[39m=\u001b[39m \u001b[39mint\u001b[39m(\u001b[39m# We can start somewhere in between \u001b[39;00m\n\u001b[1;32m     <a href='vscode-notebook-cell:/home/ottersome/Research/SamplingReconstruction/exp3_rlsampling.ipynb#W2sZmlsZQ%3D%3D?line=13'>14</a>\u001b[0m     np\u001b[39m.\u001b[39mmean(\u001b[39m1\u001b[39m\u001b[39m/\u001b[39mnp\u001b[39m.\u001b[39marray(\n\u001b[1;32m     <a href='vscode-notebook-cell:/home/ottersome/Research/SamplingReconstruction/exp3_rlsampling.ipynb#W2sZmlsZQ%3D%3D?line=14'>15</a>\u001b[0m             \u001b[39mlist\u001b[39m(baseline_rates\u001b[39m.\u001b[39mvalues())\n\u001b[1;32m     <a href='vscode-notebook-cell:/home/ottersome/Research/SamplingReconstruction/exp3_rlsampling.ipynb#W2sZmlsZQ%3D%3D?line=15'>16</a>\u001b[0m     ))\u001b[39m/\u001b[39m\u001b[39m/\u001b[39mhigh_res_delta)\n\u001b[0;32m---> <a href='vscode-notebook-cell:/home/ottersome/Research/SamplingReconstruction/exp3_rlsampling.ipynb#W2sZmlsZQ%3D%3D?line=16'>17</a>\u001b[0m \u001b[39mprint\u001b[39m(\u001b[39mf\u001b[39m\u001b[39m\"\u001b[39m\u001b[39mDecimation factor is \u001b[39m\u001b[39m{\u001b[39;00mdecimanation_factor\u001b[39m}\u001b[39;00m\u001b[39m\"\u001b[39m)\n",
      "\u001b[0;31mNameError\u001b[0m: name 'decimanation_factor' is not defined"
     ]
    }
   ],
   "source": [
    "# Generate Environments on which to learn \n",
    "high_res_delta = 1e-3 # For generating the dataset and later sample\n",
    "baseline_rates = {\"lam\": 1/10,\"mu\":4/10}\n",
    "length_path = 64 # High-res path length\n",
    "max_decimation = length_path//2 # Max decimation factor #CHECK: Maybe not divide by 2\n",
    "starting_dec_rate = 1\n",
    "epochs = 100\n",
    "lenth_of_episode = 12\n",
    "step_path_length = 1\n",
    "sampling_budget = 4\n",
    "used_path_length = 64 # So that we can let the process reach stationarity and take samples from stationary distribution\n",
    "num_states = 4\n",
    "current_decimation_factor = int(# We can start somewhere in between \n",
    "    np.mean(1/np.array(\n",
    "            list(baseline_rates.values())\n",
    "    ))//high_res_delta)\n",
    "print(f\"Decimation factor is {current_decimation_factor}\")\n",
    "# Set random seed with time for randomnessj"
   ]
  },
  {
   "cell_type": "code",
   "execution_count": 11,
   "metadata": {},
   "outputs": [
    {
     "ename": "NameError",
     "evalue": "name 'baseline_rates' is not defined",
     "output_type": "error",
     "traceback": [
      "\u001b[0;31m---------------------------------------------------------------------------\u001b[0m",
      "\u001b[0;31mNameError\u001b[0m                                 Traceback (most recent call last)",
      "\u001b[1;32m/home/ottersome/Research/SamplingReconstruction/exp3_rlsampling.ipynb Cell 4\u001b[0m line \u001b[0;36m2\n\u001b[1;32m      <a href='vscode-notebook-cell:/home/ottersome/Research/SamplingReconstruction/exp3_rlsampling.ipynb#W3sZmlsZQ%3D%3D?line=0'>1</a>\u001b[0m \u001b[39m# Initialize context first\u001b[39;00m\n\u001b[0;32m----> <a href='vscode-notebook-cell:/home/ottersome/Research/SamplingReconstruction/exp3_rlsampling.ipynb#W3sZmlsZQ%3D%3D?line=1'>2</a>\u001b[0m stateGen \u001b[39m=\u001b[39m BDStates(baseline_rates, high_res_delta, num_states)\n\u001b[1;32m      <a href='vscode-notebook-cell:/home/ottersome/Research/SamplingReconstruction/exp3_rlsampling.ipynb#W3sZmlsZQ%3D%3D?line=2'>3</a>\u001b[0m sampling_arbiter \u001b[39m=\u001b[39m SimpleAgent(num_states)\n\u001b[1;32m      <a href='vscode-notebook-cell:/home/ottersome/Research/SamplingReconstruction/exp3_rlsampling.ipynb#W3sZmlsZQ%3D%3D?line=3'>4</a>\u001b[0m recostructor \u001b[39m=\u001b[39m NNReconstructor(sub_length \u001b[39m=\u001b[39m sampling_budget, )\n",
      "\u001b[0;31mNameError\u001b[0m: name 'baseline_rates' is not defined"
     ]
    }
   ],
   "source": [
    "# Initialize context first\n",
    "stateGen = BDStates(baseline_rates, high_res_delta, num_states)\n",
    "sampling_arbiter = SimpleAgent(num_states)\n",
    "recostructor = NNReconstructor(sub_length = sampling_budget, )\n",
    "\n",
    "env = MarkovianUnifornEnvironment(\n",
    "    state_generator = stateGen,\n",
    "    sampling_arbiter = sampling_arbiter,\n",
    "    reconstructor = reconstructor, \n",
    "    starting_decrate = starting_dec_rate,\n",
    ")"
   ]
  },
  {
   "cell_type": "code",
   "execution_count": null,
   "metadata": {},
   "outputs": [],
   "source": [
    "ebar = tqdm(range(epochs), desc = \"Epochs\")\n",
    "for epoch in range(epochs):\n",
    "    # We generate a single step from the generator process\n",
    "    sbar = tqdm(range(lenth_of_episode), desc = \"Steps\")\n",
    "    for step in range(lenth_of_episode):\n",
    "\n",
    "        loss = env.step() \n",
    "        sbar.set_description(f\"Loss: {loss}\")\n",
    "\n",
    "        sbar.update(1)\n",
    "    ebar.update(1)\n",
    "    # We get reward based on how close we got to maximum information "
   ]
  }
 ],
 "metadata": {
  "kernelspec": {
   "display_name": "research",
   "language": "python",
   "name": "python3"
  },
  "language_info": {
   "codemirror_mode": {
    "name": "ipython",
    "version": 3
   },
   "file_extension": ".py",
   "mimetype": "text/x-python",
   "name": "python",
   "nbconvert_exporter": "python",
   "pygments_lexer": "ipython3",
   "version": "3.9.18"
  }
 },
 "nbformat": 4,
 "nbformat_minor": 2
}
