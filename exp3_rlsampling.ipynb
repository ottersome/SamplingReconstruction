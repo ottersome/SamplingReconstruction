{
 "cells": [
  {
   "cell_type": "markdown",
   "metadata": {},
   "source": [
    "# Imports\n"
   ]
  },
  {
   "cell_type": "code",
   "execution_count": 1,
   "metadata": {},
   "outputs": [],
   "source": [
    "import numpy as np\n",
    "import matplotlib.pyplot as plt\n",
    "import numpy.random as rnd\n",
    "from time import time\n",
    "from sp_sims.simulators.stochasticprocesses import BDStates\n",
    "from samprecon.environments.OneEpisodeEnvironments import MarkovianUniformEnvironment\n",
    "from samprecon.samplers.agents import SimpleAgent \n",
    "from samprecon.reconstructors.NNReconstructors import RNNReconstructor\n",
    "from tqdm.notebook import tqdm\n",
    "\n",
    "plt.style.use('rose-pine-dawn')\n",
    "rnd.seed(int(time()))\n",
    "%load_ext autoreload\n",
    "%autoreload 2"
   ]
  },
  {
   "cell_type": "code",
   "execution_count": 2,
   "metadata": {},
   "outputs": [
    {
     "name": "stdout",
     "output_type": "stream",
     "text": [
      "Decimation factor is 62\n"
     ]
    }
   ],
   "source": [
    "# Generate Environments on which to learn \n",
    "high_res_delta = 1e-1 # For generating the dataset and later sample\n",
    "baseline_rates = {\"lam\": 1/10,\"mu\":4/10}\n",
    "epochs = 100\n",
    "lenth_of_episode = 12\n",
    "step_path_length = 1\n",
    "sampling_budget = 4\n",
    "used_path_length = 64 # So that we can let the process reach stationarity and take samples from stationary distribution\n",
    "num_states = 4\n",
    "avg_span = np.mean(1/np.array(\n",
    "            list(baseline_rates.values())\n",
    "    ))\n",
    "max_decimation = (avg_span/high_res_delta)*4 # Max decimation factor #CHECK: Maybe not divide by 2\n",
    "current_decimation_factor = int(# We can start somewhere in between \n",
    "    avg_span//high_res_delta)\n",
    "print(f\"Decimation factor is {current_decimation_factor}\")\n",
    "# Set random seed with time for randomnessj"
   ]
  },
  {
   "cell_type": "code",
   "execution_count": 3,
   "metadata": {},
   "outputs": [],
   "source": [
    "# Initialize context first\n",
    "stateGen = BDStates(baseline_rates, high_res_delta, num_states)\n",
    "sampling_arbiter = SimpleAgent(num_states,max_decimation)\n",
    "reconstructor = RNNReconstructor(amnt_states = num_states)\n",
    "\n",
    "env = MarkovianUniformEnvironment(\n",
    "    state_generator = stateGen,\n",
    "    sampling_arbiter = sampling_arbiter,\n",
    "    reconstructor = reconstructor, \n",
    "    starting_decrate = current_decimation_factor,\n",
    ")"
   ]
  },
  {
   "cell_type": "code",
   "execution_count": 4,
   "metadata": {},
   "outputs": [
    {
     "data": {
      "application/vnd.jupyter.widget-view+json": {
       "model_id": "3200e51cafee4f079f7c75db8aecfeb0",
       "version_major": 2,
       "version_minor": 0
      },
      "text/plain": [
       "Epochs:   0%|          | 0/100 [00:00<?, ?it/s]"
      ]
     },
     "metadata": {},
     "output_type": "display_data"
    },
    {
     "data": {
      "application/vnd.jupyter.widget-view+json": {
       "model_id": "7b4bfa822dc248289933f4d77aee5c0e",
       "version_major": 2,
       "version_minor": 0
      },
      "text/plain": [
       "Steps:   0%|          | 0/12 [00:00<?, ?it/s]"
      ]
     },
     "metadata": {},
     "output_type": "display_data"
    },
    {
     "name": "stderr",
     "output_type": "stream",
     "text": [
      "/Users/rac716/Research/SamplingReconstruction/samprecon/samplers/spatial_transformers.py:54: UserWarning: To copy construct from a tensor, it is recommended to use sourceTensor.clone().detach() or sourceTensor.clone().detach().requires_grad_(True), rather than torch.tensor(sourceTensor).\n",
      "  torch.tensor(decimation_intervals[i])\n",
      "2023-12-06 18:41:32,764 - MarkovianUniformEnvironment - INFO - Sum of weight difference arbiterer0.00000000\n",
      "2023-12-06 18:41:32,765 - MarkovianUniformEnvironment - INFO - Sum of weight difference  reconstructor0.00000000\n",
      "2023-12-06 18:41:32,823 - MarkovianUniformEnvironment - INFO - Sum of weight difference arbiterer0.00000000\n",
      "2023-12-06 18:41:32,824 - MarkovianUniformEnvironment - INFO - Sum of weight difference  reconstructor0.00000000\n",
      "2023-12-06 18:41:32,878 - MarkovianUniformEnvironment - INFO - Sum of weight difference arbiterer0.00000000\n",
      "2023-12-06 18:41:32,878 - MarkovianUniformEnvironment - INFO - Sum of weight difference  reconstructor0.00000000\n",
      "2023-12-06 18:41:32,937 - MarkovianUniformEnvironment - INFO - Sum of weight difference arbiterer0.00000000\n",
      "2023-12-06 18:41:32,938 - MarkovianUniformEnvironment - INFO - Sum of weight difference  reconstructor0.00000000\n",
      "2023-12-06 18:41:32,987 - MarkovianUniformEnvironment - INFO - Sum of weight difference arbiterer0.00000000\n",
      "2023-12-06 18:41:32,988 - MarkovianUniformEnvironment - INFO - Sum of weight difference  reconstructor0.00000000\n",
      "2023-12-06 18:41:33,045 - MarkovianUniformEnvironment - INFO - Sum of weight difference arbiterer0.00000000\n",
      "2023-12-06 18:41:33,046 - MarkovianUniformEnvironment - INFO - Sum of weight difference  reconstructor0.00000000\n",
      "2023-12-06 18:41:33,098 - MarkovianUniformEnvironment - INFO - Sum of weight difference arbiterer0.00000000\n",
      "2023-12-06 18:41:33,099 - MarkovianUniformEnvironment - INFO - Sum of weight difference  reconstructor0.00000000\n",
      "2023-12-06 18:41:33,153 - MarkovianUniformEnvironment - INFO - Sum of weight difference arbiterer0.00000000\n",
      "2023-12-06 18:41:33,154 - MarkovianUniformEnvironment - INFO - Sum of weight difference  reconstructor0.00000000\n",
      "2023-12-06 18:41:33,214 - MarkovianUniformEnvironment - INFO - Sum of weight difference arbiterer0.00000000\n",
      "2023-12-06 18:41:33,215 - MarkovianUniformEnvironment - INFO - Sum of weight difference  reconstructor0.00000000\n",
      "2023-12-06 18:41:33,268 - MarkovianUniformEnvironment - INFO - Sum of weight difference arbiterer0.00000000\n",
      "2023-12-06 18:41:33,269 - MarkovianUniformEnvironment - INFO - Sum of weight difference  reconstructor0.00000000\n",
      "2023-12-06 18:41:33,326 - MarkovianUniformEnvironment - INFO - Sum of weight difference arbiterer0.00000000\n",
      "2023-12-06 18:41:33,327 - MarkovianUniformEnvironment - INFO - Sum of weight difference  reconstructor0.00000000\n",
      "2023-12-06 18:41:33,380 - MarkovianUniformEnvironment - INFO - Sum of weight difference arbiterer0.00000000\n",
      "2023-12-06 18:41:33,381 - MarkovianUniformEnvironment - INFO - Sum of weight difference  reconstructor0.00000000\n",
      "/Users/rac716/miniforge3/envs/rs39/lib/python3.9/site-packages/numpy/core/fromnumeric.py:3464: RuntimeWarning: Mean of empty slice.\n",
      "  return _methods._mean(a, axis=axis, dtype=dtype,\n",
      "/Users/rac716/miniforge3/envs/rs39/lib/python3.9/site-packages/numpy/core/_methods.py:192: RuntimeWarning: invalid value encountered in scalar divide\n",
      "  ret = ret.dtype.type(ret / rcount)\n"
     ]
    },
    {
     "data": {
      "application/vnd.jupyter.widget-view+json": {
       "model_id": "eedc58a6ad124a55b3c821c09d8e4ca8",
       "version_major": 2,
       "version_minor": 0
      },
      "text/plain": [
       "Steps:   0%|          | 0/12 [00:00<?, ?it/s]"
      ]
     },
     "metadata": {},
     "output_type": "display_data"
    },
    {
     "name": "stderr",
     "output_type": "stream",
     "text": [
      "2023-12-06 18:41:33,450 - MarkovianUniformEnvironment - INFO - Sum of weight difference arbiterer0.00000000\n",
      "2023-12-06 18:41:33,452 - MarkovianUniformEnvironment - INFO - Sum of weight difference  reconstructor0.00000000\n",
      "2023-12-06 18:41:33,505 - MarkovianUniformEnvironment - INFO - Sum of weight difference arbiterer0.00000000\n",
      "2023-12-06 18:41:33,506 - MarkovianUniformEnvironment - INFO - Sum of weight difference  reconstructor0.00000000\n",
      "2023-12-06 18:41:33,559 - MarkovianUniformEnvironment - INFO - Sum of weight difference arbiterer0.00000000\n",
      "2023-12-06 18:41:33,560 - MarkovianUniformEnvironment - INFO - Sum of weight difference  reconstructor0.00000000\n",
      "2023-12-06 18:41:33,613 - MarkovianUniformEnvironment - INFO - Sum of weight difference arbiterer0.00000000\n",
      "2023-12-06 18:41:33,615 - MarkovianUniformEnvironment - INFO - Sum of weight difference  reconstructor0.00000000\n",
      "2023-12-06 18:41:33,668 - MarkovianUniformEnvironment - INFO - Sum of weight difference arbiterer0.00000000\n",
      "2023-12-06 18:41:33,669 - MarkovianUniformEnvironment - INFO - Sum of weight difference  reconstructor0.00000000\n",
      "2023-12-06 18:41:33,720 - MarkovianUniformEnvironment - INFO - Sum of weight difference arbiterer0.00000000\n",
      "2023-12-06 18:41:33,721 - MarkovianUniformEnvironment - INFO - Sum of weight difference  reconstructor0.00000000\n",
      "2023-12-06 18:41:33,777 - MarkovianUniformEnvironment - INFO - Sum of weight difference arbiterer0.00000000\n",
      "2023-12-06 18:41:33,778 - MarkovianUniformEnvironment - INFO - Sum of weight difference  reconstructor0.00000000\n",
      "2023-12-06 18:41:33,829 - MarkovianUniformEnvironment - INFO - Sum of weight difference arbiterer0.00000000\n",
      "2023-12-06 18:41:33,830 - MarkovianUniformEnvironment - INFO - Sum of weight difference  reconstructor0.00000000\n",
      "2023-12-06 18:41:33,884 - MarkovianUniformEnvironment - INFO - Sum of weight difference arbiterer0.00000000\n",
      "2023-12-06 18:41:33,885 - MarkovianUniformEnvironment - INFO - Sum of weight difference  reconstructor0.00000000\n",
      "2023-12-06 18:41:33,940 - MarkovianUniformEnvironment - INFO - Sum of weight difference arbiterer0.00000000\n",
      "2023-12-06 18:41:33,941 - MarkovianUniformEnvironment - INFO - Sum of weight difference  reconstructor0.00000000\n",
      "2023-12-06 18:41:33,997 - MarkovianUniformEnvironment - INFO - Sum of weight difference arbiterer0.00000000\n",
      "2023-12-06 18:41:33,998 - MarkovianUniformEnvironment - INFO - Sum of weight difference  reconstructor0.00000000\n",
      "2023-12-06 18:41:34,050 - MarkovianUniformEnvironment - INFO - Sum of weight difference arbiterer0.00000000\n",
      "2023-12-06 18:41:34,051 - MarkovianUniformEnvironment - INFO - Sum of weight difference  reconstructor0.00000000\n"
     ]
    },
    {
     "data": {
      "application/vnd.jupyter.widget-view+json": {
       "model_id": "5f7b7a7dc01545e69b71d0ab08c915e2",
       "version_major": 2,
       "version_minor": 0
      },
      "text/plain": [
       "Steps:   0%|          | 0/12 [00:00<?, ?it/s]"
      ]
     },
     "metadata": {},
     "output_type": "display_data"
    },
    {
     "name": "stderr",
     "output_type": "stream",
     "text": [
      "2023-12-06 18:41:34,113 - MarkovianUniformEnvironment - INFO - Sum of weight difference arbiterer0.00000000\n",
      "2023-12-06 18:41:34,115 - MarkovianUniformEnvironment - INFO - Sum of weight difference  reconstructor0.00000000\n",
      "2023-12-06 18:41:34,166 - MarkovianUniformEnvironment - INFO - Sum of weight difference arbiterer0.00000000\n",
      "2023-12-06 18:41:34,168 - MarkovianUniformEnvironment - INFO - Sum of weight difference  reconstructor0.00000000\n",
      "2023-12-06 18:41:34,220 - MarkovianUniformEnvironment - INFO - Sum of weight difference arbiterer0.00000000\n",
      "2023-12-06 18:41:34,221 - MarkovianUniformEnvironment - INFO - Sum of weight difference  reconstructor0.00000000\n",
      "2023-12-06 18:41:34,277 - MarkovianUniformEnvironment - INFO - Sum of weight difference arbiterer0.00000000\n",
      "2023-12-06 18:41:34,278 - MarkovianUniformEnvironment - INFO - Sum of weight difference  reconstructor0.00000000\n",
      "2023-12-06 18:41:34,334 - MarkovianUniformEnvironment - INFO - Sum of weight difference arbiterer0.00000000\n",
      "2023-12-06 18:41:34,335 - MarkovianUniformEnvironment - INFO - Sum of weight difference  reconstructor0.00000000\n",
      "2023-12-06 18:41:34,387 - MarkovianUniformEnvironment - INFO - Sum of weight difference arbiterer0.00000000\n",
      "2023-12-06 18:41:34,387 - MarkovianUniformEnvironment - INFO - Sum of weight difference  reconstructor0.00000000\n",
      "2023-12-06 18:41:34,439 - MarkovianUniformEnvironment - INFO - Sum of weight difference arbiterer0.00000000\n",
      "2023-12-06 18:41:34,440 - MarkovianUniformEnvironment - INFO - Sum of weight difference  reconstructor0.00000000\n",
      "2023-12-06 18:41:34,490 - MarkovianUniformEnvironment - INFO - Sum of weight difference arbiterer0.00000000\n",
      "2023-12-06 18:41:34,491 - MarkovianUniformEnvironment - INFO - Sum of weight difference  reconstructor0.00000000\n",
      "2023-12-06 18:41:34,545 - MarkovianUniformEnvironment - INFO - Sum of weight difference arbiterer0.00000000\n",
      "2023-12-06 18:41:34,546 - MarkovianUniformEnvironment - INFO - Sum of weight difference  reconstructor0.00000000\n",
      "2023-12-06 18:41:34,607 - MarkovianUniformEnvironment - INFO - Sum of weight difference arbiterer0.00000000\n",
      "2023-12-06 18:41:34,608 - MarkovianUniformEnvironment - INFO - Sum of weight difference  reconstructor0.00000000\n",
      "2023-12-06 18:41:34,661 - MarkovianUniformEnvironment - INFO - Sum of weight difference arbiterer0.00000000\n",
      "2023-12-06 18:41:34,662 - MarkovianUniformEnvironment - INFO - Sum of weight difference  reconstructor0.00000000\n",
      "2023-12-06 18:41:34,713 - MarkovianUniformEnvironment - INFO - Sum of weight difference arbiterer0.00000000\n",
      "2023-12-06 18:41:34,715 - MarkovianUniformEnvironment - INFO - Sum of weight difference  reconstructor0.00000000\n"
     ]
    },
    {
     "data": {
      "application/vnd.jupyter.widget-view+json": {
       "model_id": "60ab478e68e04d5eb918e9b1adbddd26",
       "version_major": 2,
       "version_minor": 0
      },
      "text/plain": [
       "Steps:   0%|          | 0/12 [00:00<?, ?it/s]"
      ]
     },
     "metadata": {},
     "output_type": "display_data"
    },
    {
     "name": "stderr",
     "output_type": "stream",
     "text": [
      "2023-12-06 18:41:34,776 - MarkovianUniformEnvironment - INFO - Sum of weight difference arbiterer0.00000000\n",
      "2023-12-06 18:41:34,777 - MarkovianUniformEnvironment - INFO - Sum of weight difference  reconstructor0.00000000\n",
      "2023-12-06 18:41:34,840 - MarkovianUniformEnvironment - INFO - Sum of weight difference arbiterer0.00000000\n",
      "2023-12-06 18:41:34,841 - MarkovianUniformEnvironment - INFO - Sum of weight difference  reconstructor0.00000000\n",
      "2023-12-06 18:41:34,895 - MarkovianUniformEnvironment - INFO - Sum of weight difference arbiterer0.00000000\n",
      "2023-12-06 18:41:34,896 - MarkovianUniformEnvironment - INFO - Sum of weight difference  reconstructor0.00000000\n",
      "2023-12-06 18:41:34,954 - MarkovianUniformEnvironment - INFO - Sum of weight difference arbiterer0.00000000\n",
      "2023-12-06 18:41:34,954 - MarkovianUniformEnvironment - INFO - Sum of weight difference  reconstructor0.00000000\n",
      "2023-12-06 18:41:35,009 - MarkovianUniformEnvironment - INFO - Sum of weight difference arbiterer0.00000000\n",
      "2023-12-06 18:41:35,010 - MarkovianUniformEnvironment - INFO - Sum of weight difference  reconstructor0.00000000\n",
      "2023-12-06 18:41:35,062 - MarkovianUniformEnvironment - INFO - Sum of weight difference arbiterer0.00000000\n",
      "2023-12-06 18:41:35,063 - MarkovianUniformEnvironment - INFO - Sum of weight difference  reconstructor0.00000000\n",
      "2023-12-06 18:41:35,120 - MarkovianUniformEnvironment - INFO - Sum of weight difference arbiterer0.00000000\n",
      "2023-12-06 18:41:35,121 - MarkovianUniformEnvironment - INFO - Sum of weight difference  reconstructor0.00000000\n",
      "2023-12-06 18:41:35,175 - MarkovianUniformEnvironment - INFO - Sum of weight difference arbiterer0.00000000\n",
      "2023-12-06 18:41:35,176 - MarkovianUniformEnvironment - INFO - Sum of weight difference  reconstructor0.00000000\n",
      "2023-12-06 18:41:35,231 - MarkovianUniformEnvironment - INFO - Sum of weight difference arbiterer0.00000000\n",
      "2023-12-06 18:41:35,231 - MarkovianUniformEnvironment - INFO - Sum of weight difference  reconstructor0.00000000\n",
      "2023-12-06 18:41:35,286 - MarkovianUniformEnvironment - INFO - Sum of weight difference arbiterer0.00000000\n",
      "2023-12-06 18:41:35,286 - MarkovianUniformEnvironment - INFO - Sum of weight difference  reconstructor0.00000000\n",
      "2023-12-06 18:41:35,342 - MarkovianUniformEnvironment - INFO - Sum of weight difference arbiterer0.00000000\n",
      "2023-12-06 18:41:35,343 - MarkovianUniformEnvironment - INFO - Sum of weight difference  reconstructor0.00000000\n",
      "2023-12-06 18:41:35,392 - MarkovianUniformEnvironment - INFO - Sum of weight difference arbiterer0.00000000\n",
      "2023-12-06 18:41:35,393 - MarkovianUniformEnvironment - INFO - Sum of weight difference  reconstructor0.00000000\n"
     ]
    },
    {
     "data": {
      "application/vnd.jupyter.widget-view+json": {
       "model_id": "c3a36d519cfb42429c55a900f418a7fa",
       "version_major": 2,
       "version_minor": 0
      },
      "text/plain": [
       "Steps:   0%|          | 0/12 [00:00<?, ?it/s]"
      ]
     },
     "metadata": {},
     "output_type": "display_data"
    },
    {
     "name": "stderr",
     "output_type": "stream",
     "text": [
      "2023-12-06 18:41:35,454 - MarkovianUniformEnvironment - INFO - Sum of weight difference arbiterer0.00000000\n",
      "2023-12-06 18:41:35,454 - MarkovianUniformEnvironment - INFO - Sum of weight difference  reconstructor0.00000000\n",
      "2023-12-06 18:41:35,510 - MarkovianUniformEnvironment - INFO - Sum of weight difference arbiterer0.00000000\n",
      "2023-12-06 18:41:35,511 - MarkovianUniformEnvironment - INFO - Sum of weight difference  reconstructor0.00000000\n",
      "2023-12-06 18:41:35,566 - MarkovianUniformEnvironment - INFO - Sum of weight difference arbiterer0.00000000\n",
      "2023-12-06 18:41:35,567 - MarkovianUniformEnvironment - INFO - Sum of weight difference  reconstructor0.00000000\n",
      "2023-12-06 18:41:35,616 - MarkovianUniformEnvironment - INFO - Sum of weight difference arbiterer0.00000000\n",
      "2023-12-06 18:41:35,617 - MarkovianUniformEnvironment - INFO - Sum of weight difference  reconstructor0.00000000\n",
      "2023-12-06 18:41:35,671 - MarkovianUniformEnvironment - INFO - Sum of weight difference arbiterer0.00000000\n",
      "2023-12-06 18:41:35,672 - MarkovianUniformEnvironment - INFO - Sum of weight difference  reconstructor0.00000000\n",
      "2023-12-06 18:41:35,722 - MarkovianUniformEnvironment - INFO - Sum of weight difference arbiterer0.00000000\n",
      "2023-12-06 18:41:35,723 - MarkovianUniformEnvironment - INFO - Sum of weight difference  reconstructor0.00000000\n",
      "2023-12-06 18:41:35,783 - MarkovianUniformEnvironment - INFO - Sum of weight difference arbiterer0.00000000\n",
      "2023-12-06 18:41:35,784 - MarkovianUniformEnvironment - INFO - Sum of weight difference  reconstructor0.00000000\n",
      "2023-12-06 18:41:35,837 - MarkovianUniformEnvironment - INFO - Sum of weight difference arbiterer0.00000000\n",
      "2023-12-06 18:41:35,838 - MarkovianUniformEnvironment - INFO - Sum of weight difference  reconstructor0.00000000\n",
      "2023-12-06 18:41:35,898 - MarkovianUniformEnvironment - INFO - Sum of weight difference arbiterer0.00000000\n",
      "2023-12-06 18:41:35,899 - MarkovianUniformEnvironment - INFO - Sum of weight difference  reconstructor0.00000000\n",
      "2023-12-06 18:41:35,957 - MarkovianUniformEnvironment - INFO - Sum of weight difference arbiterer0.00000000\n",
      "2023-12-06 18:41:35,958 - MarkovianUniformEnvironment - INFO - Sum of weight difference  reconstructor0.00000000\n",
      "2023-12-06 18:41:36,011 - MarkovianUniformEnvironment - INFO - Sum of weight difference arbiterer0.00000000\n",
      "2023-12-06 18:41:36,012 - MarkovianUniformEnvironment - INFO - Sum of weight difference  reconstructor0.00000000\n",
      "2023-12-06 18:41:36,066 - MarkovianUniformEnvironment - INFO - Sum of weight difference arbiterer0.00000000\n",
      "2023-12-06 18:41:36,067 - MarkovianUniformEnvironment - INFO - Sum of weight difference  reconstructor0.00000000\n"
     ]
    },
    {
     "data": {
      "application/vnd.jupyter.widget-view+json": {
       "model_id": "00b6f835d0f7440b8529bbb1f46f7459",
       "version_major": 2,
       "version_minor": 0
      },
      "text/plain": [
       "Steps:   0%|          | 0/12 [00:00<?, ?it/s]"
      ]
     },
     "metadata": {},
     "output_type": "display_data"
    },
    {
     "name": "stderr",
     "output_type": "stream",
     "text": [
      "2023-12-06 18:41:36,128 - MarkovianUniformEnvironment - INFO - Sum of weight difference arbiterer0.00000000\n",
      "2023-12-06 18:41:36,128 - MarkovianUniformEnvironment - INFO - Sum of weight difference  reconstructor0.00000000\n",
      "2023-12-06 18:41:36,192 - MarkovianUniformEnvironment - INFO - Sum of weight difference arbiterer0.00000000\n",
      "2023-12-06 18:41:36,193 - MarkovianUniformEnvironment - INFO - Sum of weight difference  reconstructor0.00000000\n",
      "2023-12-06 18:41:36,253 - MarkovianUniformEnvironment - INFO - Sum of weight difference arbiterer0.00000000\n",
      "2023-12-06 18:41:36,253 - MarkovianUniformEnvironment - INFO - Sum of weight difference  reconstructor0.00000000\n",
      "2023-12-06 18:41:36,305 - MarkovianUniformEnvironment - INFO - Sum of weight difference arbiterer0.00000000\n",
      "2023-12-06 18:41:36,306 - MarkovianUniformEnvironment - INFO - Sum of weight difference  reconstructor0.00000000\n",
      "2023-12-06 18:41:36,357 - MarkovianUniformEnvironment - INFO - Sum of weight difference arbiterer0.00000000\n",
      "2023-12-06 18:41:36,358 - MarkovianUniformEnvironment - INFO - Sum of weight difference  reconstructor0.00000000\n",
      "2023-12-06 18:41:36,409 - MarkovianUniformEnvironment - INFO - Sum of weight difference arbiterer0.00000000\n",
      "2023-12-06 18:41:36,410 - MarkovianUniformEnvironment - INFO - Sum of weight difference  reconstructor0.00000000\n",
      "2023-12-06 18:41:36,461 - MarkovianUniformEnvironment - INFO - Sum of weight difference arbiterer0.00000000\n",
      "2023-12-06 18:41:36,461 - MarkovianUniformEnvironment - INFO - Sum of weight difference  reconstructor0.00000000\n",
      "2023-12-06 18:41:36,516 - MarkovianUniformEnvironment - INFO - Sum of weight difference arbiterer0.00000000\n",
      "2023-12-06 18:41:36,517 - MarkovianUniformEnvironment - INFO - Sum of weight difference  reconstructor0.00000000\n",
      "2023-12-06 18:41:36,570 - MarkovianUniformEnvironment - INFO - Sum of weight difference arbiterer0.00000000\n",
      "2023-12-06 18:41:36,571 - MarkovianUniformEnvironment - INFO - Sum of weight difference  reconstructor0.00000000\n",
      "2023-12-06 18:41:36,623 - MarkovianUniformEnvironment - INFO - Sum of weight difference arbiterer0.00000000\n",
      "2023-12-06 18:41:36,624 - MarkovianUniformEnvironment - INFO - Sum of weight difference  reconstructor0.00000000\n",
      "2023-12-06 18:41:36,679 - MarkovianUniformEnvironment - INFO - Sum of weight difference arbiterer0.00000000\n",
      "2023-12-06 18:41:36,680 - MarkovianUniformEnvironment - INFO - Sum of weight difference  reconstructor0.00000000\n",
      "2023-12-06 18:41:36,730 - MarkovianUniformEnvironment - INFO - Sum of weight difference arbiterer0.00000000\n",
      "2023-12-06 18:41:36,731 - MarkovianUniformEnvironment - INFO - Sum of weight difference  reconstructor0.00000000\n"
     ]
    },
    {
     "data": {
      "application/vnd.jupyter.widget-view+json": {
       "model_id": "7d30b2406451426a9b47088bb3d3e1ad",
       "version_major": 2,
       "version_minor": 0
      },
      "text/plain": [
       "Steps:   0%|          | 0/12 [00:00<?, ?it/s]"
      ]
     },
     "metadata": {},
     "output_type": "display_data"
    },
    {
     "name": "stderr",
     "output_type": "stream",
     "text": [
      "2023-12-06 18:41:36,788 - MarkovianUniformEnvironment - INFO - Sum of weight difference arbiterer0.00000000\n",
      "2023-12-06 18:41:36,789 - MarkovianUniformEnvironment - INFO - Sum of weight difference  reconstructor0.00000000\n",
      "2023-12-06 18:41:36,841 - MarkovianUniformEnvironment - INFO - Sum of weight difference arbiterer0.00000000\n",
      "2023-12-06 18:41:36,842 - MarkovianUniformEnvironment - INFO - Sum of weight difference  reconstructor0.00000000\n",
      "2023-12-06 18:41:36,898 - MarkovianUniformEnvironment - INFO - Sum of weight difference arbiterer0.00000000\n",
      "2023-12-06 18:41:36,898 - MarkovianUniformEnvironment - INFO - Sum of weight difference  reconstructor0.00000000\n",
      "2023-12-06 18:41:36,951 - MarkovianUniformEnvironment - INFO - Sum of weight difference arbiterer0.00000000\n",
      "2023-12-06 18:41:36,952 - MarkovianUniformEnvironment - INFO - Sum of weight difference  reconstructor0.00000000\n",
      "2023-12-06 18:41:37,009 - MarkovianUniformEnvironment - INFO - Sum of weight difference arbiterer0.00000000\n",
      "2023-12-06 18:41:37,010 - MarkovianUniformEnvironment - INFO - Sum of weight difference  reconstructor0.00000000\n",
      "2023-12-06 18:41:37,064 - MarkovianUniformEnvironment - INFO - Sum of weight difference arbiterer0.00000000\n",
      "2023-12-06 18:41:37,066 - MarkovianUniformEnvironment - INFO - Sum of weight difference  reconstructor0.00000000\n",
      "2023-12-06 18:41:37,120 - MarkovianUniformEnvironment - INFO - Sum of weight difference arbiterer0.00000000\n",
      "2023-12-06 18:41:37,121 - MarkovianUniformEnvironment - INFO - Sum of weight difference  reconstructor0.00000000\n",
      "2023-12-06 18:41:37,172 - MarkovianUniformEnvironment - INFO - Sum of weight difference arbiterer0.00000000\n",
      "2023-12-06 18:41:37,173 - MarkovianUniformEnvironment - INFO - Sum of weight difference  reconstructor0.00000000\n",
      "2023-12-06 18:41:37,228 - MarkovianUniformEnvironment - INFO - Sum of weight difference arbiterer0.00000000\n",
      "2023-12-06 18:41:37,229 - MarkovianUniformEnvironment - INFO - Sum of weight difference  reconstructor0.00000000\n",
      "2023-12-06 18:41:37,280 - MarkovianUniformEnvironment - INFO - Sum of weight difference arbiterer0.00000000\n",
      "2023-12-06 18:41:37,281 - MarkovianUniformEnvironment - INFO - Sum of weight difference  reconstructor0.00000000\n",
      "2023-12-06 18:41:37,334 - MarkovianUniformEnvironment - INFO - Sum of weight difference arbiterer0.00000000\n",
      "2023-12-06 18:41:37,335 - MarkovianUniformEnvironment - INFO - Sum of weight difference  reconstructor0.00000000\n",
      "2023-12-06 18:41:37,395 - MarkovianUniformEnvironment - INFO - Sum of weight difference arbiterer0.00000000\n",
      "2023-12-06 18:41:37,396 - MarkovianUniformEnvironment - INFO - Sum of weight difference  reconstructor0.00000000\n"
     ]
    },
    {
     "data": {
      "application/vnd.jupyter.widget-view+json": {
       "model_id": "837f0130045346d091b89ff3bf67dc81",
       "version_major": 2,
       "version_minor": 0
      },
      "text/plain": [
       "Steps:   0%|          | 0/12 [00:00<?, ?it/s]"
      ]
     },
     "metadata": {},
     "output_type": "display_data"
    },
    {
     "name": "stderr",
     "output_type": "stream",
     "text": [
      "2023-12-06 18:41:37,456 - MarkovianUniformEnvironment - INFO - Sum of weight difference arbiterer0.00000000\n",
      "2023-12-06 18:41:37,457 - MarkovianUniformEnvironment - INFO - Sum of weight difference  reconstructor0.00000000\n",
      "2023-12-06 18:41:37,509 - MarkovianUniformEnvironment - INFO - Sum of weight difference arbiterer0.00000000\n",
      "2023-12-06 18:41:37,510 - MarkovianUniformEnvironment - INFO - Sum of weight difference  reconstructor0.00000000\n",
      "2023-12-06 18:41:37,563 - MarkovianUniformEnvironment - INFO - Sum of weight difference arbiterer0.00000000\n",
      "2023-12-06 18:41:37,564 - MarkovianUniformEnvironment - INFO - Sum of weight difference  reconstructor0.00000000\n",
      "2023-12-06 18:41:37,617 - MarkovianUniformEnvironment - INFO - Sum of weight difference arbiterer0.00000000\n",
      "2023-12-06 18:41:37,618 - MarkovianUniformEnvironment - INFO - Sum of weight difference  reconstructor0.00000000\n",
      "2023-12-06 18:41:37,670 - MarkovianUniformEnvironment - INFO - Sum of weight difference arbiterer0.00000000\n",
      "2023-12-06 18:41:37,671 - MarkovianUniformEnvironment - INFO - Sum of weight difference  reconstructor0.00000000\n",
      "2023-12-06 18:41:37,720 - MarkovianUniformEnvironment - INFO - Sum of weight difference arbiterer0.00000000\n",
      "2023-12-06 18:41:37,721 - MarkovianUniformEnvironment - INFO - Sum of weight difference  reconstructor0.00000000\n",
      "2023-12-06 18:41:37,773 - MarkovianUniformEnvironment - INFO - Sum of weight difference arbiterer0.00000000\n",
      "2023-12-06 18:41:37,774 - MarkovianUniformEnvironment - INFO - Sum of weight difference  reconstructor0.00000000\n",
      "2023-12-06 18:41:37,826 - MarkovianUniformEnvironment - INFO - Sum of weight difference arbiterer0.00000000\n",
      "2023-12-06 18:41:37,827 - MarkovianUniformEnvironment - INFO - Sum of weight difference  reconstructor0.00000000\n",
      "2023-12-06 18:41:37,887 - MarkovianUniformEnvironment - INFO - Sum of weight difference arbiterer0.00000000\n",
      "2023-12-06 18:41:37,888 - MarkovianUniformEnvironment - INFO - Sum of weight difference  reconstructor0.00000000\n",
      "2023-12-06 18:41:37,939 - MarkovianUniformEnvironment - INFO - Sum of weight difference arbiterer0.00000000\n",
      "2023-12-06 18:41:37,940 - MarkovianUniformEnvironment - INFO - Sum of weight difference  reconstructor0.00000000\n",
      "2023-12-06 18:41:37,992 - MarkovianUniformEnvironment - INFO - Sum of weight difference arbiterer0.00000000\n",
      "2023-12-06 18:41:37,995 - MarkovianUniformEnvironment - INFO - Sum of weight difference  reconstructor0.00000000\n",
      "2023-12-06 18:41:38,049 - MarkovianUniformEnvironment - INFO - Sum of weight difference arbiterer0.00000000\n",
      "2023-12-06 18:41:38,049 - MarkovianUniformEnvironment - INFO - Sum of weight difference  reconstructor0.00000000\n"
     ]
    },
    {
     "data": {
      "application/vnd.jupyter.widget-view+json": {
       "model_id": "e4372927fcbc4610abdd9b863165f75c",
       "version_major": 2,
       "version_minor": 0
      },
      "text/plain": [
       "Steps:   0%|          | 0/12 [00:00<?, ?it/s]"
      ]
     },
     "metadata": {},
     "output_type": "display_data"
    },
    {
     "name": "stderr",
     "output_type": "stream",
     "text": [
      "2023-12-06 18:41:38,108 - MarkovianUniformEnvironment - INFO - Sum of weight difference arbiterer0.00000000\n",
      "2023-12-06 18:41:38,109 - MarkovianUniformEnvironment - INFO - Sum of weight difference  reconstructor0.00000000\n",
      "2023-12-06 18:41:38,165 - MarkovianUniformEnvironment - INFO - Sum of weight difference arbiterer0.00000000\n",
      "2023-12-06 18:41:38,166 - MarkovianUniformEnvironment - INFO - Sum of weight difference  reconstructor0.00000000\n",
      "2023-12-06 18:41:38,222 - MarkovianUniformEnvironment - INFO - Sum of weight difference arbiterer0.00000000\n",
      "2023-12-06 18:41:38,223 - MarkovianUniformEnvironment - INFO - Sum of weight difference  reconstructor0.00000000\n",
      "2023-12-06 18:41:38,278 - MarkovianUniformEnvironment - INFO - Sum of weight difference arbiterer0.00000000\n",
      "2023-12-06 18:41:38,279 - MarkovianUniformEnvironment - INFO - Sum of weight difference  reconstructor0.00000000\n",
      "2023-12-06 18:41:38,336 - MarkovianUniformEnvironment - INFO - Sum of weight difference arbiterer0.00000000\n",
      "2023-12-06 18:41:38,337 - MarkovianUniformEnvironment - INFO - Sum of weight difference  reconstructor0.00000000\n",
      "2023-12-06 18:41:38,388 - MarkovianUniformEnvironment - INFO - Sum of weight difference arbiterer0.00000000\n",
      "2023-12-06 18:41:38,389 - MarkovianUniformEnvironment - INFO - Sum of weight difference  reconstructor0.00000000\n",
      "2023-12-06 18:41:38,444 - MarkovianUniformEnvironment - INFO - Sum of weight difference arbiterer0.00000000\n",
      "2023-12-06 18:41:38,445 - MarkovianUniformEnvironment - INFO - Sum of weight difference  reconstructor0.00000000\n",
      "2023-12-06 18:41:38,497 - MarkovianUniformEnvironment - INFO - Sum of weight difference arbiterer0.00000000\n",
      "2023-12-06 18:41:38,498 - MarkovianUniformEnvironment - INFO - Sum of weight difference  reconstructor0.00000000\n",
      "2023-12-06 18:41:38,550 - MarkovianUniformEnvironment - INFO - Sum of weight difference arbiterer0.00000000\n",
      "2023-12-06 18:41:38,551 - MarkovianUniformEnvironment - INFO - Sum of weight difference  reconstructor0.00000000\n",
      "2023-12-06 18:41:38,608 - MarkovianUniformEnvironment - INFO - Sum of weight difference arbiterer0.00000000\n",
      "2023-12-06 18:41:38,609 - MarkovianUniformEnvironment - INFO - Sum of weight difference  reconstructor0.00000000\n",
      "2023-12-06 18:41:38,661 - MarkovianUniformEnvironment - INFO - Sum of weight difference arbiterer0.00000000\n",
      "2023-12-06 18:41:38,662 - MarkovianUniformEnvironment - INFO - Sum of weight difference  reconstructor0.00000000\n",
      "2023-12-06 18:41:38,713 - MarkovianUniformEnvironment - INFO - Sum of weight difference arbiterer0.00000000\n",
      "2023-12-06 18:41:38,714 - MarkovianUniformEnvironment - INFO - Sum of weight difference  reconstructor0.00000000\n"
     ]
    },
    {
     "data": {
      "application/vnd.jupyter.widget-view+json": {
       "model_id": "83230340c07b4808811cfe676d0b1ed0",
       "version_major": 2,
       "version_minor": 0
      },
      "text/plain": [
       "Steps:   0%|          | 0/12 [00:00<?, ?it/s]"
      ]
     },
     "metadata": {},
     "output_type": "display_data"
    },
    {
     "name": "stderr",
     "output_type": "stream",
     "text": [
      "2023-12-06 18:41:38,773 - MarkovianUniformEnvironment - INFO - Sum of weight difference arbiterer0.00000000\n",
      "2023-12-06 18:41:38,774 - MarkovianUniformEnvironment - INFO - Sum of weight difference  reconstructor0.00000000\n",
      "2023-12-06 18:41:38,826 - MarkovianUniformEnvironment - INFO - Sum of weight difference arbiterer0.00000000\n",
      "2023-12-06 18:41:38,828 - MarkovianUniformEnvironment - INFO - Sum of weight difference  reconstructor0.00000000\n",
      "2023-12-06 18:41:38,884 - MarkovianUniformEnvironment - INFO - Sum of weight difference arbiterer0.00000000\n",
      "2023-12-06 18:41:38,885 - MarkovianUniformEnvironment - INFO - Sum of weight difference  reconstructor0.00000000\n",
      "2023-12-06 18:41:38,939 - MarkovianUniformEnvironment - INFO - Sum of weight difference arbiterer0.00000000\n",
      "2023-12-06 18:41:38,940 - MarkovianUniformEnvironment - INFO - Sum of weight difference  reconstructor0.00000000\n",
      "2023-12-06 18:41:38,994 - MarkovianUniformEnvironment - INFO - Sum of weight difference arbiterer0.00000000\n",
      "2023-12-06 18:41:38,995 - MarkovianUniformEnvironment - INFO - Sum of weight difference  reconstructor0.00000000\n",
      "2023-12-06 18:41:39,046 - MarkovianUniformEnvironment - INFO - Sum of weight difference arbiterer0.00000000\n",
      "2023-12-06 18:41:39,047 - MarkovianUniformEnvironment - INFO - Sum of weight difference  reconstructor0.00000000\n",
      "2023-12-06 18:41:39,103 - MarkovianUniformEnvironment - INFO - Sum of weight difference arbiterer0.00000000\n",
      "2023-12-06 18:41:39,104 - MarkovianUniformEnvironment - INFO - Sum of weight difference  reconstructor0.00000000\n",
      "2023-12-06 18:41:39,157 - MarkovianUniformEnvironment - INFO - Sum of weight difference arbiterer0.00000000\n",
      "2023-12-06 18:41:39,158 - MarkovianUniformEnvironment - INFO - Sum of weight difference  reconstructor0.00000000\n",
      "2023-12-06 18:41:39,217 - MarkovianUniformEnvironment - INFO - Sum of weight difference arbiterer0.00000000\n",
      "2023-12-06 18:41:39,218 - MarkovianUniformEnvironment - INFO - Sum of weight difference  reconstructor0.00000000\n",
      "2023-12-06 18:41:39,278 - MarkovianUniformEnvironment - INFO - Sum of weight difference arbiterer0.00000000\n",
      "2023-12-06 18:41:39,279 - MarkovianUniformEnvironment - INFO - Sum of weight difference  reconstructor0.00000000\n",
      "2023-12-06 18:41:39,332 - MarkovianUniformEnvironment - INFO - Sum of weight difference arbiterer0.00000000\n",
      "2023-12-06 18:41:39,334 - MarkovianUniformEnvironment - INFO - Sum of weight difference  reconstructor0.00000000\n",
      "2023-12-06 18:41:39,386 - MarkovianUniformEnvironment - INFO - Sum of weight difference arbiterer0.00000000\n",
      "2023-12-06 18:41:39,387 - MarkovianUniformEnvironment - INFO - Sum of weight difference  reconstructor0.00000000\n"
     ]
    },
    {
     "data": {
      "application/vnd.jupyter.widget-view+json": {
       "model_id": "63b79c84a1e34dddbf4ef5f6e57f8ecd",
       "version_major": 2,
       "version_minor": 0
      },
      "text/plain": [
       "Steps:   0%|          | 0/12 [00:00<?, ?it/s]"
      ]
     },
     "metadata": {},
     "output_type": "display_data"
    },
    {
     "name": "stderr",
     "output_type": "stream",
     "text": [
      "2023-12-06 18:41:39,449 - MarkovianUniformEnvironment - INFO - Sum of weight difference arbiterer0.00000000\n",
      "2023-12-06 18:41:39,451 - MarkovianUniformEnvironment - INFO - Sum of weight difference  reconstructor0.00000000\n",
      "2023-12-06 18:41:39,505 - MarkovianUniformEnvironment - INFO - Sum of weight difference arbiterer0.00000000\n",
      "2023-12-06 18:41:39,506 - MarkovianUniformEnvironment - INFO - Sum of weight difference  reconstructor0.00000000\n",
      "2023-12-06 18:41:39,561 - MarkovianUniformEnvironment - INFO - Sum of weight difference arbiterer0.00000000\n",
      "2023-12-06 18:41:39,561 - MarkovianUniformEnvironment - INFO - Sum of weight difference  reconstructor0.00000000\n",
      "2023-12-06 18:41:39,615 - MarkovianUniformEnvironment - INFO - Sum of weight difference arbiterer0.00000000\n",
      "2023-12-06 18:41:39,616 - MarkovianUniformEnvironment - INFO - Sum of weight difference  reconstructor0.00000000\n",
      "2023-12-06 18:41:39,670 - MarkovianUniformEnvironment - INFO - Sum of weight difference arbiterer0.00000000\n",
      "2023-12-06 18:41:39,670 - MarkovianUniformEnvironment - INFO - Sum of weight difference  reconstructor0.00000000\n",
      "2023-12-06 18:41:39,720 - MarkovianUniformEnvironment - INFO - Sum of weight difference arbiterer0.00000000\n",
      "2023-12-06 18:41:39,721 - MarkovianUniformEnvironment - INFO - Sum of weight difference  reconstructor0.00000000\n",
      "2023-12-06 18:41:39,775 - MarkovianUniformEnvironment - INFO - Sum of weight difference arbiterer0.00000000\n",
      "2023-12-06 18:41:39,776 - MarkovianUniformEnvironment - INFO - Sum of weight difference  reconstructor0.00000000\n",
      "2023-12-06 18:41:39,826 - MarkovianUniformEnvironment - INFO - Sum of weight difference arbiterer0.00000000\n",
      "2023-12-06 18:41:39,827 - MarkovianUniformEnvironment - INFO - Sum of weight difference  reconstructor0.00000000\n",
      "2023-12-06 18:41:39,881 - MarkovianUniformEnvironment - INFO - Sum of weight difference arbiterer0.00000000\n",
      "2023-12-06 18:41:39,881 - MarkovianUniformEnvironment - INFO - Sum of weight difference  reconstructor0.00000000\n",
      "2023-12-06 18:41:39,930 - MarkovianUniformEnvironment - INFO - Sum of weight difference arbiterer0.00000000\n",
      "2023-12-06 18:41:39,931 - MarkovianUniformEnvironment - INFO - Sum of weight difference  reconstructor0.00000000\n",
      "2023-12-06 18:41:39,986 - MarkovianUniformEnvironment - INFO - Sum of weight difference arbiterer0.00000000\n",
      "2023-12-06 18:41:39,986 - MarkovianUniformEnvironment - INFO - Sum of weight difference  reconstructor0.00000000\n",
      "2023-12-06 18:41:40,037 - MarkovianUniformEnvironment - INFO - Sum of weight difference arbiterer0.00000000\n",
      "2023-12-06 18:41:40,038 - MarkovianUniformEnvironment - INFO - Sum of weight difference  reconstructor0.00000000\n"
     ]
    },
    {
     "data": {
      "application/vnd.jupyter.widget-view+json": {
       "model_id": "65ed893f4b174dfe8961508647931827",
       "version_major": 2,
       "version_minor": 0
      },
      "text/plain": [
       "Steps:   0%|          | 0/12 [00:00<?, ?it/s]"
      ]
     },
     "metadata": {},
     "output_type": "display_data"
    },
    {
     "name": "stderr",
     "output_type": "stream",
     "text": [
      "2023-12-06 18:41:40,101 - MarkovianUniformEnvironment - INFO - Sum of weight difference arbiterer0.00000000\n",
      "2023-12-06 18:41:40,102 - MarkovianUniformEnvironment - INFO - Sum of weight difference  reconstructor0.00000000\n",
      "2023-12-06 18:41:40,164 - MarkovianUniformEnvironment - INFO - Sum of weight difference arbiterer0.00000000\n",
      "2023-12-06 18:41:40,165 - MarkovianUniformEnvironment - INFO - Sum of weight difference  reconstructor0.00000000\n",
      "2023-12-06 18:41:40,221 - MarkovianUniformEnvironment - INFO - Sum of weight difference arbiterer0.00000000\n",
      "2023-12-06 18:41:40,222 - MarkovianUniformEnvironment - INFO - Sum of weight difference  reconstructor0.00000000\n",
      "2023-12-06 18:41:40,274 - MarkovianUniformEnvironment - INFO - Sum of weight difference arbiterer0.00000000\n",
      "2023-12-06 18:41:40,275 - MarkovianUniformEnvironment - INFO - Sum of weight difference  reconstructor0.00000000\n",
      "2023-12-06 18:41:40,335 - MarkovianUniformEnvironment - INFO - Sum of weight difference arbiterer0.00000000\n",
      "2023-12-06 18:41:40,336 - MarkovianUniformEnvironment - INFO - Sum of weight difference  reconstructor0.00000000\n",
      "2023-12-06 18:41:40,397 - MarkovianUniformEnvironment - INFO - Sum of weight difference arbiterer0.00000000\n",
      "2023-12-06 18:41:40,398 - MarkovianUniformEnvironment - INFO - Sum of weight difference  reconstructor0.00000000\n",
      "2023-12-06 18:41:40,453 - MarkovianUniformEnvironment - INFO - Sum of weight difference arbiterer0.00000000\n",
      "2023-12-06 18:41:40,454 - MarkovianUniformEnvironment - INFO - Sum of weight difference  reconstructor0.00000000\n",
      "2023-12-06 18:41:40,504 - MarkovianUniformEnvironment - INFO - Sum of weight difference arbiterer0.00000000\n",
      "2023-12-06 18:41:40,505 - MarkovianUniformEnvironment - INFO - Sum of weight difference  reconstructor0.00000000\n",
      "2023-12-06 18:41:40,558 - MarkovianUniformEnvironment - INFO - Sum of weight difference arbiterer0.00000000\n",
      "2023-12-06 18:41:40,559 - MarkovianUniformEnvironment - INFO - Sum of weight difference  reconstructor0.00000000\n",
      "2023-12-06 18:41:40,610 - MarkovianUniformEnvironment - INFO - Sum of weight difference arbiterer0.00000000\n",
      "2023-12-06 18:41:40,611 - MarkovianUniformEnvironment - INFO - Sum of weight difference  reconstructor0.00000000\n",
      "2023-12-06 18:41:40,667 - MarkovianUniformEnvironment - INFO - Sum of weight difference arbiterer0.00000000\n",
      "2023-12-06 18:41:40,668 - MarkovianUniformEnvironment - INFO - Sum of weight difference  reconstructor0.00000000\n",
      "2023-12-06 18:41:40,719 - MarkovianUniformEnvironment - INFO - Sum of weight difference arbiterer0.00000000\n",
      "2023-12-06 18:41:40,720 - MarkovianUniformEnvironment - INFO - Sum of weight difference  reconstructor0.00000000\n"
     ]
    },
    {
     "data": {
      "application/vnd.jupyter.widget-view+json": {
       "model_id": "0aa612d0e18a469d8f5b06dcc170c14a",
       "version_major": 2,
       "version_minor": 0
      },
      "text/plain": [
       "Steps:   0%|          | 0/12 [00:00<?, ?it/s]"
      ]
     },
     "metadata": {},
     "output_type": "display_data"
    },
    {
     "name": "stderr",
     "output_type": "stream",
     "text": [
      "2023-12-06 18:41:40,781 - MarkovianUniformEnvironment - INFO - Sum of weight difference arbiterer0.00000000\n",
      "2023-12-06 18:41:40,783 - MarkovianUniformEnvironment - INFO - Sum of weight difference  reconstructor0.00000000\n",
      "2023-12-06 18:41:40,841 - MarkovianUniformEnvironment - INFO - Sum of weight difference arbiterer0.00000000\n",
      "2023-12-06 18:41:40,843 - MarkovianUniformEnvironment - INFO - Sum of weight difference  reconstructor0.00000000\n",
      "2023-12-06 18:41:40,898 - MarkovianUniformEnvironment - INFO - Sum of weight difference arbiterer0.00000000\n",
      "2023-12-06 18:41:40,899 - MarkovianUniformEnvironment - INFO - Sum of weight difference  reconstructor0.00000000\n",
      "2023-12-06 18:41:40,953 - MarkovianUniformEnvironment - INFO - Sum of weight difference arbiterer0.00000000\n",
      "2023-12-06 18:41:40,954 - MarkovianUniformEnvironment - INFO - Sum of weight difference  reconstructor0.00000000\n",
      "2023-12-06 18:41:41,007 - MarkovianUniformEnvironment - INFO - Sum of weight difference arbiterer0.00000000\n",
      "2023-12-06 18:41:41,008 - MarkovianUniformEnvironment - INFO - Sum of weight difference  reconstructor0.00000000\n",
      "2023-12-06 18:41:41,065 - MarkovianUniformEnvironment - INFO - Sum of weight difference arbiterer0.00000000\n",
      "2023-12-06 18:41:41,066 - MarkovianUniformEnvironment - INFO - Sum of weight difference  reconstructor0.00000000\n",
      "2023-12-06 18:41:41,120 - MarkovianUniformEnvironment - INFO - Sum of weight difference arbiterer0.00000000\n",
      "2023-12-06 18:41:41,121 - MarkovianUniformEnvironment - INFO - Sum of weight difference  reconstructor0.00000000\n",
      "2023-12-06 18:41:41,174 - MarkovianUniformEnvironment - INFO - Sum of weight difference arbiterer0.00000000\n",
      "2023-12-06 18:41:41,175 - MarkovianUniformEnvironment - INFO - Sum of weight difference  reconstructor0.00000000\n",
      "2023-12-06 18:41:41,237 - MarkovianUniformEnvironment - INFO - Sum of weight difference arbiterer0.00000000\n",
      "2023-12-06 18:41:41,238 - MarkovianUniformEnvironment - INFO - Sum of weight difference  reconstructor0.00000000\n",
      "2023-12-06 18:41:41,293 - MarkovianUniformEnvironment - INFO - Sum of weight difference arbiterer0.00000000\n",
      "2023-12-06 18:41:41,294 - MarkovianUniformEnvironment - INFO - Sum of weight difference  reconstructor0.00000000\n",
      "2023-12-06 18:41:41,356 - MarkovianUniformEnvironment - INFO - Sum of weight difference arbiterer0.00000000\n",
      "2023-12-06 18:41:41,357 - MarkovianUniformEnvironment - INFO - Sum of weight difference  reconstructor0.00000000\n",
      "2023-12-06 18:41:41,412 - MarkovianUniformEnvironment - INFO - Sum of weight difference arbiterer0.00000000\n",
      "2023-12-06 18:41:41,413 - MarkovianUniformEnvironment - INFO - Sum of weight difference  reconstructor0.00000000\n"
     ]
    },
    {
     "data": {
      "application/vnd.jupyter.widget-view+json": {
       "model_id": "a41bda01f0cc42a3a5111108554384a1",
       "version_major": 2,
       "version_minor": 0
      },
      "text/plain": [
       "Steps:   0%|          | 0/12 [00:00<?, ?it/s]"
      ]
     },
     "metadata": {},
     "output_type": "display_data"
    },
    {
     "name": "stderr",
     "output_type": "stream",
     "text": [
      "2023-12-06 18:41:41,477 - MarkovianUniformEnvironment - INFO - Sum of weight difference arbiterer0.00000000\n",
      "2023-12-06 18:41:41,477 - MarkovianUniformEnvironment - INFO - Sum of weight difference  reconstructor0.00000000\n",
      "2023-12-06 18:41:41,544 - MarkovianUniformEnvironment - INFO - Sum of weight difference arbiterer0.00000000\n",
      "2023-12-06 18:41:41,545 - MarkovianUniformEnvironment - INFO - Sum of weight difference  reconstructor0.00000000\n",
      "2023-12-06 18:41:41,600 - MarkovianUniformEnvironment - INFO - Sum of weight difference arbiterer0.00000000\n",
      "2023-12-06 18:41:41,601 - MarkovianUniformEnvironment - INFO - Sum of weight difference  reconstructor0.00000000\n",
      "2023-12-06 18:41:41,654 - MarkovianUniformEnvironment - INFO - Sum of weight difference arbiterer0.00000000\n",
      "2023-12-06 18:41:41,655 - MarkovianUniformEnvironment - INFO - Sum of weight difference  reconstructor0.00000000\n",
      "2023-12-06 18:41:41,710 - MarkovianUniformEnvironment - INFO - Sum of weight difference arbiterer0.00000000\n",
      "2023-12-06 18:41:41,711 - MarkovianUniformEnvironment - INFO - Sum of weight difference  reconstructor0.00000000\n",
      "2023-12-06 18:41:41,761 - MarkovianUniformEnvironment - INFO - Sum of weight difference arbiterer0.00000000\n",
      "2023-12-06 18:41:41,762 - MarkovianUniformEnvironment - INFO - Sum of weight difference  reconstructor0.00000000\n",
      "2023-12-06 18:41:41,813 - MarkovianUniformEnvironment - INFO - Sum of weight difference arbiterer0.00000000\n",
      "2023-12-06 18:41:41,814 - MarkovianUniformEnvironment - INFO - Sum of weight difference  reconstructor0.00000000\n",
      "2023-12-06 18:41:41,868 - MarkovianUniformEnvironment - INFO - Sum of weight difference arbiterer0.00000000\n",
      "2023-12-06 18:41:41,869 - MarkovianUniformEnvironment - INFO - Sum of weight difference  reconstructor0.00000000\n",
      "2023-12-06 18:41:41,927 - MarkovianUniformEnvironment - INFO - Sum of weight difference arbiterer0.00000000\n",
      "2023-12-06 18:41:41,927 - MarkovianUniformEnvironment - INFO - Sum of weight difference  reconstructor0.00000000\n",
      "2023-12-06 18:41:41,979 - MarkovianUniformEnvironment - INFO - Sum of weight difference arbiterer0.00000000\n",
      "2023-12-06 18:41:41,980 - MarkovianUniformEnvironment - INFO - Sum of weight difference  reconstructor0.00000000\n",
      "2023-12-06 18:41:42,035 - MarkovianUniformEnvironment - INFO - Sum of weight difference arbiterer0.00000000\n",
      "2023-12-06 18:41:42,036 - MarkovianUniformEnvironment - INFO - Sum of weight difference  reconstructor0.00000000\n",
      "2023-12-06 18:41:42,087 - MarkovianUniformEnvironment - INFO - Sum of weight difference arbiterer0.00000000\n",
      "2023-12-06 18:41:42,088 - MarkovianUniformEnvironment - INFO - Sum of weight difference  reconstructor0.00000000\n"
     ]
    },
    {
     "data": {
      "application/vnd.jupyter.widget-view+json": {
       "model_id": "d12ff0a429114d5c8da233208b2e2f60",
       "version_major": 2,
       "version_minor": 0
      },
      "text/plain": [
       "Steps:   0%|          | 0/12 [00:00<?, ?it/s]"
      ]
     },
     "metadata": {},
     "output_type": "display_data"
    },
    {
     "name": "stderr",
     "output_type": "stream",
     "text": [
      "2023-12-06 18:41:42,157 - MarkovianUniformEnvironment - INFO - Sum of weight difference arbiterer0.00000000\n",
      "2023-12-06 18:41:42,158 - MarkovianUniformEnvironment - INFO - Sum of weight difference  reconstructor0.00000000\n",
      "2023-12-06 18:41:42,213 - MarkovianUniformEnvironment - INFO - Sum of weight difference arbiterer0.00000000\n",
      "2023-12-06 18:41:42,214 - MarkovianUniformEnvironment - INFO - Sum of weight difference  reconstructor0.00000000\n",
      "2023-12-06 18:41:42,268 - MarkovianUniformEnvironment - INFO - Sum of weight difference arbiterer0.00000000\n",
      "2023-12-06 18:41:42,269 - MarkovianUniformEnvironment - INFO - Sum of weight difference  reconstructor0.00000000\n",
      "2023-12-06 18:41:42,324 - MarkovianUniformEnvironment - INFO - Sum of weight difference arbiterer0.00000000\n",
      "2023-12-06 18:41:42,324 - MarkovianUniformEnvironment - INFO - Sum of weight difference  reconstructor0.00000000\n",
      "2023-12-06 18:41:42,379 - MarkovianUniformEnvironment - INFO - Sum of weight difference arbiterer0.00000000\n",
      "2023-12-06 18:41:42,380 - MarkovianUniformEnvironment - INFO - Sum of weight difference  reconstructor0.00000000\n",
      "2023-12-06 18:41:42,434 - MarkovianUniformEnvironment - INFO - Sum of weight difference arbiterer0.00000000\n",
      "2023-12-06 18:41:42,435 - MarkovianUniformEnvironment - INFO - Sum of weight difference  reconstructor0.00000000\n",
      "2023-12-06 18:41:42,489 - MarkovianUniformEnvironment - INFO - Sum of weight difference arbiterer0.00000000\n",
      "2023-12-06 18:41:42,489 - MarkovianUniformEnvironment - INFO - Sum of weight difference  reconstructor0.00000000\n",
      "2023-12-06 18:41:42,547 - MarkovianUniformEnvironment - INFO - Sum of weight difference arbiterer0.00000000\n",
      "2023-12-06 18:41:42,548 - MarkovianUniformEnvironment - INFO - Sum of weight difference  reconstructor0.00000000\n",
      "2023-12-06 18:41:42,604 - MarkovianUniformEnvironment - INFO - Sum of weight difference arbiterer0.00000000\n",
      "2023-12-06 18:41:42,604 - MarkovianUniformEnvironment - INFO - Sum of weight difference  reconstructor0.00000000\n",
      "2023-12-06 18:41:42,655 - MarkovianUniformEnvironment - INFO - Sum of weight difference arbiterer0.00000000\n",
      "2023-12-06 18:41:42,656 - MarkovianUniformEnvironment - INFO - Sum of weight difference  reconstructor0.00000000\n",
      "2023-12-06 18:41:42,715 - MarkovianUniformEnvironment - INFO - Sum of weight difference arbiterer0.00000000\n",
      "2023-12-06 18:41:42,716 - MarkovianUniformEnvironment - INFO - Sum of weight difference  reconstructor0.00000000\n",
      "2023-12-06 18:41:42,766 - MarkovianUniformEnvironment - INFO - Sum of weight difference arbiterer0.00000000\n",
      "2023-12-06 18:41:42,767 - MarkovianUniformEnvironment - INFO - Sum of weight difference  reconstructor0.00000000\n"
     ]
    },
    {
     "data": {
      "application/vnd.jupyter.widget-view+json": {
       "model_id": "90edbe8133af4914b3c300fde02a051e",
       "version_major": 2,
       "version_minor": 0
      },
      "text/plain": [
       "Steps:   0%|          | 0/12 [00:00<?, ?it/s]"
      ]
     },
     "metadata": {},
     "output_type": "display_data"
    },
    {
     "name": "stderr",
     "output_type": "stream",
     "text": [
      "2023-12-06 18:41:42,849 - MarkovianUniformEnvironment - INFO - Sum of weight difference arbiterer0.00000000\n",
      "2023-12-06 18:41:42,850 - MarkovianUniformEnvironment - INFO - Sum of weight difference  reconstructor0.00000000\n",
      "2023-12-06 18:41:42,905 - MarkovianUniformEnvironment - INFO - Sum of weight difference arbiterer0.00000000\n",
      "2023-12-06 18:41:42,906 - MarkovianUniformEnvironment - INFO - Sum of weight difference  reconstructor0.00000000\n",
      "2023-12-06 18:41:42,965 - MarkovianUniformEnvironment - INFO - Sum of weight difference arbiterer0.00000000\n",
      "2023-12-06 18:41:42,966 - MarkovianUniformEnvironment - INFO - Sum of weight difference  reconstructor0.00000000\n",
      "2023-12-06 18:41:43,018 - MarkovianUniformEnvironment - INFO - Sum of weight difference arbiterer0.00000000\n",
      "2023-12-06 18:41:43,019 - MarkovianUniformEnvironment - INFO - Sum of weight difference  reconstructor0.00000000\n",
      "2023-12-06 18:41:43,070 - MarkovianUniformEnvironment - INFO - Sum of weight difference arbiterer0.00000000\n",
      "2023-12-06 18:41:43,071 - MarkovianUniformEnvironment - INFO - Sum of weight difference  reconstructor0.00000000\n",
      "2023-12-06 18:41:43,123 - MarkovianUniformEnvironment - INFO - Sum of weight difference arbiterer0.00000000\n",
      "2023-12-06 18:41:43,123 - MarkovianUniformEnvironment - INFO - Sum of weight difference  reconstructor0.00000000\n",
      "2023-12-06 18:41:43,179 - MarkovianUniformEnvironment - INFO - Sum of weight difference arbiterer0.00000000\n",
      "2023-12-06 18:41:43,180 - MarkovianUniformEnvironment - INFO - Sum of weight difference  reconstructor0.00000000\n",
      "2023-12-06 18:41:43,237 - MarkovianUniformEnvironment - INFO - Sum of weight difference arbiterer0.00000000\n",
      "2023-12-06 18:41:43,237 - MarkovianUniformEnvironment - INFO - Sum of weight difference  reconstructor0.00000000\n",
      "2023-12-06 18:41:43,300 - MarkovianUniformEnvironment - INFO - Sum of weight difference arbiterer0.00000000\n",
      "2023-12-06 18:41:43,301 - MarkovianUniformEnvironment - INFO - Sum of weight difference  reconstructor0.00000000\n",
      "2023-12-06 18:41:43,367 - MarkovianUniformEnvironment - INFO - Sum of weight difference arbiterer0.00000000\n",
      "2023-12-06 18:41:43,369 - MarkovianUniformEnvironment - INFO - Sum of weight difference  reconstructor0.00000000\n",
      "2023-12-06 18:41:43,430 - MarkovianUniformEnvironment - INFO - Sum of weight difference arbiterer0.00000000\n",
      "2023-12-06 18:41:43,430 - MarkovianUniformEnvironment - INFO - Sum of weight difference  reconstructor0.00000000\n",
      "2023-12-06 18:41:43,486 - MarkovianUniformEnvironment - INFO - Sum of weight difference arbiterer0.00000000\n",
      "2023-12-06 18:41:43,488 - MarkovianUniformEnvironment - INFO - Sum of weight difference  reconstructor0.00000000\n"
     ]
    },
    {
     "data": {
      "application/vnd.jupyter.widget-view+json": {
       "model_id": "65b14fe046a7458a8e9c8874bb485a32",
       "version_major": 2,
       "version_minor": 0
      },
      "text/plain": [
       "Steps:   0%|          | 0/12 [00:00<?, ?it/s]"
      ]
     },
     "metadata": {},
     "output_type": "display_data"
    },
    {
     "name": "stderr",
     "output_type": "stream",
     "text": [
      "2023-12-06 18:41:43,568 - MarkovianUniformEnvironment - INFO - Sum of weight difference arbiterer0.00000000\n",
      "2023-12-06 18:41:43,569 - MarkovianUniformEnvironment - INFO - Sum of weight difference  reconstructor0.00000000\n",
      "2023-12-06 18:41:43,620 - MarkovianUniformEnvironment - INFO - Sum of weight difference arbiterer0.00000000\n",
      "2023-12-06 18:41:43,621 - MarkovianUniformEnvironment - INFO - Sum of weight difference  reconstructor0.00000000\n",
      "2023-12-06 18:41:43,674 - MarkovianUniformEnvironment - INFO - Sum of weight difference arbiterer0.00000000\n",
      "2023-12-06 18:41:43,675 - MarkovianUniformEnvironment - INFO - Sum of weight difference  reconstructor0.00000000\n",
      "2023-12-06 18:41:43,728 - MarkovianUniformEnvironment - INFO - Sum of weight difference arbiterer0.00000000\n",
      "2023-12-06 18:41:43,729 - MarkovianUniformEnvironment - INFO - Sum of weight difference  reconstructor0.00000000\n",
      "2023-12-06 18:41:43,784 - MarkovianUniformEnvironment - INFO - Sum of weight difference arbiterer0.00000000\n",
      "2023-12-06 18:41:43,785 - MarkovianUniformEnvironment - INFO - Sum of weight difference  reconstructor0.00000000\n",
      "2023-12-06 18:41:43,840 - MarkovianUniformEnvironment - INFO - Sum of weight difference arbiterer0.00000000\n",
      "2023-12-06 18:41:43,841 - MarkovianUniformEnvironment - INFO - Sum of weight difference  reconstructor0.00000000\n",
      "2023-12-06 18:41:43,898 - MarkovianUniformEnvironment - INFO - Sum of weight difference arbiterer0.00000000\n",
      "2023-12-06 18:41:43,899 - MarkovianUniformEnvironment - INFO - Sum of weight difference  reconstructor0.00000000\n",
      "2023-12-06 18:41:43,955 - MarkovianUniformEnvironment - INFO - Sum of weight difference arbiterer0.00000000\n",
      "2023-12-06 18:41:43,956 - MarkovianUniformEnvironment - INFO - Sum of weight difference  reconstructor0.00000000\n",
      "2023-12-06 18:41:44,016 - MarkovianUniformEnvironment - INFO - Sum of weight difference arbiterer0.00000000\n",
      "2023-12-06 18:41:44,017 - MarkovianUniformEnvironment - INFO - Sum of weight difference  reconstructor0.00000000\n",
      "2023-12-06 18:41:44,070 - MarkovianUniformEnvironment - INFO - Sum of weight difference arbiterer0.00000000\n",
      "2023-12-06 18:41:44,071 - MarkovianUniformEnvironment - INFO - Sum of weight difference  reconstructor0.00000000\n",
      "2023-12-06 18:41:44,125 - MarkovianUniformEnvironment - INFO - Sum of weight difference arbiterer0.00000000\n",
      "2023-12-06 18:41:44,126 - MarkovianUniformEnvironment - INFO - Sum of weight difference  reconstructor0.00000000\n",
      "2023-12-06 18:41:44,183 - MarkovianUniformEnvironment - INFO - Sum of weight difference arbiterer0.00000000\n",
      "2023-12-06 18:41:44,183 - MarkovianUniformEnvironment - INFO - Sum of weight difference  reconstructor0.00000000\n"
     ]
    },
    {
     "data": {
      "application/vnd.jupyter.widget-view+json": {
       "model_id": "1196179268e145b697327987f75bc0b7",
       "version_major": 2,
       "version_minor": 0
      },
      "text/plain": [
       "Steps:   0%|          | 0/12 [00:00<?, ?it/s]"
      ]
     },
     "metadata": {},
     "output_type": "display_data"
    },
    {
     "name": "stderr",
     "output_type": "stream",
     "text": [
      "2023-12-06 18:41:44,268 - MarkovianUniformEnvironment - INFO - Sum of weight difference arbiterer0.00000000\n",
      "2023-12-06 18:41:44,269 - MarkovianUniformEnvironment - INFO - Sum of weight difference  reconstructor0.00000000\n",
      "2023-12-06 18:41:44,320 - MarkovianUniformEnvironment - INFO - Sum of weight difference arbiterer0.00000000\n",
      "2023-12-06 18:41:44,321 - MarkovianUniformEnvironment - INFO - Sum of weight difference  reconstructor0.00000000\n",
      "2023-12-06 18:41:44,378 - MarkovianUniformEnvironment - INFO - Sum of weight difference arbiterer0.00000000\n",
      "2023-12-06 18:41:44,379 - MarkovianUniformEnvironment - INFO - Sum of weight difference  reconstructor0.00000000\n",
      "2023-12-06 18:41:44,433 - MarkovianUniformEnvironment - INFO - Sum of weight difference arbiterer0.00000000\n",
      "2023-12-06 18:41:44,433 - MarkovianUniformEnvironment - INFO - Sum of weight difference  reconstructor0.00000000\n",
      "2023-12-06 18:41:44,487 - MarkovianUniformEnvironment - INFO - Sum of weight difference arbiterer0.00000000\n",
      "2023-12-06 18:41:44,488 - MarkovianUniformEnvironment - INFO - Sum of weight difference  reconstructor0.00000000\n",
      "2023-12-06 18:41:44,541 - MarkovianUniformEnvironment - INFO - Sum of weight difference arbiterer0.00000000\n",
      "2023-12-06 18:41:44,542 - MarkovianUniformEnvironment - INFO - Sum of weight difference  reconstructor0.00000000\n",
      "2023-12-06 18:41:44,597 - MarkovianUniformEnvironment - INFO - Sum of weight difference arbiterer0.00000000\n",
      "2023-12-06 18:41:44,598 - MarkovianUniformEnvironment - INFO - Sum of weight difference  reconstructor0.00000000\n",
      "2023-12-06 18:41:44,649 - MarkovianUniformEnvironment - INFO - Sum of weight difference arbiterer0.00000000\n",
      "2023-12-06 18:41:44,650 - MarkovianUniformEnvironment - INFO - Sum of weight difference  reconstructor0.00000000\n",
      "2023-12-06 18:41:44,707 - MarkovianUniformEnvironment - INFO - Sum of weight difference arbiterer0.00000000\n",
      "2023-12-06 18:41:44,707 - MarkovianUniformEnvironment - INFO - Sum of weight difference  reconstructor0.00000000\n",
      "2023-12-06 18:41:44,762 - MarkovianUniformEnvironment - INFO - Sum of weight difference arbiterer0.00000000\n",
      "2023-12-06 18:41:44,763 - MarkovianUniformEnvironment - INFO - Sum of weight difference  reconstructor0.00000000\n",
      "2023-12-06 18:41:44,817 - MarkovianUniformEnvironment - INFO - Sum of weight difference arbiterer0.00000000\n",
      "2023-12-06 18:41:44,818 - MarkovianUniformEnvironment - INFO - Sum of weight difference  reconstructor0.00000000\n",
      "2023-12-06 18:41:44,870 - MarkovianUniformEnvironment - INFO - Sum of weight difference arbiterer0.00000000\n",
      "2023-12-06 18:41:44,871 - MarkovianUniformEnvironment - INFO - Sum of weight difference  reconstructor0.00000000\n"
     ]
    },
    {
     "data": {
      "application/vnd.jupyter.widget-view+json": {
       "model_id": "abd7b1e3df2f4ead8b0a71bb893d17b1",
       "version_major": 2,
       "version_minor": 0
      },
      "text/plain": [
       "Steps:   0%|          | 0/12 [00:00<?, ?it/s]"
      ]
     },
     "metadata": {},
     "output_type": "display_data"
    },
    {
     "name": "stderr",
     "output_type": "stream",
     "text": [
      "2023-12-06 18:41:44,950 - MarkovianUniformEnvironment - INFO - Sum of weight difference arbiterer0.00000000\n",
      "2023-12-06 18:41:44,951 - MarkovianUniformEnvironment - INFO - Sum of weight difference  reconstructor0.00000000\n",
      "2023-12-06 18:41:45,009 - MarkovianUniformEnvironment - INFO - Sum of weight difference arbiterer0.00000000\n",
      "2023-12-06 18:41:45,010 - MarkovianUniformEnvironment - INFO - Sum of weight difference  reconstructor0.00000000\n",
      "2023-12-06 18:41:45,069 - MarkovianUniformEnvironment - INFO - Sum of weight difference arbiterer0.00000000\n",
      "2023-12-06 18:41:45,069 - MarkovianUniformEnvironment - INFO - Sum of weight difference  reconstructor0.00000000\n",
      "2023-12-06 18:41:45,119 - MarkovianUniformEnvironment - INFO - Sum of weight difference arbiterer0.00000000\n",
      "2023-12-06 18:41:45,120 - MarkovianUniformEnvironment - INFO - Sum of weight difference  reconstructor0.00000000\n",
      "2023-12-06 18:41:45,175 - MarkovianUniformEnvironment - INFO - Sum of weight difference arbiterer0.00000000\n",
      "2023-12-06 18:41:45,176 - MarkovianUniformEnvironment - INFO - Sum of weight difference  reconstructor0.00000000\n",
      "2023-12-06 18:41:45,230 - MarkovianUniformEnvironment - INFO - Sum of weight difference arbiterer0.00000000\n",
      "2023-12-06 18:41:45,232 - MarkovianUniformEnvironment - INFO - Sum of weight difference  reconstructor0.00000000\n",
      "2023-12-06 18:41:45,284 - MarkovianUniformEnvironment - INFO - Sum of weight difference arbiterer0.00000000\n",
      "2023-12-06 18:41:45,285 - MarkovianUniformEnvironment - INFO - Sum of weight difference  reconstructor0.00000000\n",
      "2023-12-06 18:41:45,337 - MarkovianUniformEnvironment - INFO - Sum of weight difference arbiterer0.00000000\n",
      "2023-12-06 18:41:45,338 - MarkovianUniformEnvironment - INFO - Sum of weight difference  reconstructor0.00000000\n",
      "2023-12-06 18:41:45,389 - MarkovianUniformEnvironment - INFO - Sum of weight difference arbiterer0.00000000\n",
      "2023-12-06 18:41:45,390 - MarkovianUniformEnvironment - INFO - Sum of weight difference  reconstructor0.00000000\n",
      "2023-12-06 18:41:45,442 - MarkovianUniformEnvironment - INFO - Sum of weight difference arbiterer0.00000000\n",
      "2023-12-06 18:41:45,443 - MarkovianUniformEnvironment - INFO - Sum of weight difference  reconstructor0.00000000\n",
      "2023-12-06 18:41:45,499 - MarkovianUniformEnvironment - INFO - Sum of weight difference arbiterer0.00000000\n",
      "2023-12-06 18:41:45,500 - MarkovianUniformEnvironment - INFO - Sum of weight difference  reconstructor0.00000000\n",
      "2023-12-06 18:41:45,553 - MarkovianUniformEnvironment - INFO - Sum of weight difference arbiterer0.00000000\n",
      "2023-12-06 18:41:45,554 - MarkovianUniformEnvironment - INFO - Sum of weight difference  reconstructor0.00000000\n"
     ]
    },
    {
     "data": {
      "application/vnd.jupyter.widget-view+json": {
       "model_id": "f48845cf9981490c979f027850366937",
       "version_major": 2,
       "version_minor": 0
      },
      "text/plain": [
       "Steps:   0%|          | 0/12 [00:00<?, ?it/s]"
      ]
     },
     "metadata": {},
     "output_type": "display_data"
    },
    {
     "name": "stderr",
     "output_type": "stream",
     "text": [
      "2023-12-06 18:41:45,619 - MarkovianUniformEnvironment - INFO - Sum of weight difference arbiterer0.00000000\n",
      "2023-12-06 18:41:45,620 - MarkovianUniformEnvironment - INFO - Sum of weight difference  reconstructor0.00000000\n",
      "2023-12-06 18:41:45,672 - MarkovianUniformEnvironment - INFO - Sum of weight difference arbiterer0.00000000\n",
      "2023-12-06 18:41:45,673 - MarkovianUniformEnvironment - INFO - Sum of weight difference  reconstructor0.00000000\n",
      "2023-12-06 18:41:45,724 - MarkovianUniformEnvironment - INFO - Sum of weight difference arbiterer0.00000000\n",
      "2023-12-06 18:41:45,725 - MarkovianUniformEnvironment - INFO - Sum of weight difference  reconstructor0.00000000\n",
      "2023-12-06 18:41:45,780 - MarkovianUniformEnvironment - INFO - Sum of weight difference arbiterer0.00000000\n",
      "2023-12-06 18:41:45,781 - MarkovianUniformEnvironment - INFO - Sum of weight difference  reconstructor0.00000000\n",
      "2023-12-06 18:41:45,838 - MarkovianUniformEnvironment - INFO - Sum of weight difference arbiterer0.00000000\n",
      "2023-12-06 18:41:45,839 - MarkovianUniformEnvironment - INFO - Sum of weight difference  reconstructor0.00000000\n",
      "2023-12-06 18:41:45,890 - MarkovianUniformEnvironment - INFO - Sum of weight difference arbiterer0.00000000\n",
      "2023-12-06 18:41:45,891 - MarkovianUniformEnvironment - INFO - Sum of weight difference  reconstructor0.00000000\n",
      "2023-12-06 18:41:45,946 - MarkovianUniformEnvironment - INFO - Sum of weight difference arbiterer0.00000000\n",
      "2023-12-06 18:41:45,947 - MarkovianUniformEnvironment - INFO - Sum of weight difference  reconstructor0.00000000\n",
      "2023-12-06 18:41:46,002 - MarkovianUniformEnvironment - INFO - Sum of weight difference arbiterer0.00000000\n",
      "2023-12-06 18:41:46,003 - MarkovianUniformEnvironment - INFO - Sum of weight difference  reconstructor0.00000000\n",
      "2023-12-06 18:41:46,056 - MarkovianUniformEnvironment - INFO - Sum of weight difference arbiterer0.00000000\n",
      "2023-12-06 18:41:46,057 - MarkovianUniformEnvironment - INFO - Sum of weight difference  reconstructor0.00000000\n",
      "2023-12-06 18:41:46,106 - MarkovianUniformEnvironment - INFO - Sum of weight difference arbiterer0.00000000\n",
      "2023-12-06 18:41:46,107 - MarkovianUniformEnvironment - INFO - Sum of weight difference  reconstructor0.00000000\n",
      "2023-12-06 18:41:46,161 - MarkovianUniformEnvironment - INFO - Sum of weight difference arbiterer0.00000000\n",
      "2023-12-06 18:41:46,161 - MarkovianUniformEnvironment - INFO - Sum of weight difference  reconstructor0.00000000\n",
      "2023-12-06 18:41:46,221 - MarkovianUniformEnvironment - INFO - Sum of weight difference arbiterer0.00000000\n",
      "2023-12-06 18:41:46,222 - MarkovianUniformEnvironment - INFO - Sum of weight difference  reconstructor0.00000000\n"
     ]
    },
    {
     "data": {
      "application/vnd.jupyter.widget-view+json": {
       "model_id": "2d67ffba9afa403a9e318bc0ce771fbc",
       "version_major": 2,
       "version_minor": 0
      },
      "text/plain": [
       "Steps:   0%|          | 0/12 [00:00<?, ?it/s]"
      ]
     },
     "metadata": {},
     "output_type": "display_data"
    },
    {
     "name": "stderr",
     "output_type": "stream",
     "text": [
      "2023-12-06 18:41:46,294 - MarkovianUniformEnvironment - INFO - Sum of weight difference arbiterer0.00000000\n",
      "2023-12-06 18:41:46,295 - MarkovianUniformEnvironment - INFO - Sum of weight difference  reconstructor0.00000000\n",
      "2023-12-06 18:41:46,348 - MarkovianUniformEnvironment - INFO - Sum of weight difference arbiterer0.00000000\n",
      "2023-12-06 18:41:46,349 - MarkovianUniformEnvironment - INFO - Sum of weight difference  reconstructor0.00000000\n",
      "2023-12-06 18:41:46,403 - MarkovianUniformEnvironment - INFO - Sum of weight difference arbiterer0.00000000\n",
      "2023-12-06 18:41:46,404 - MarkovianUniformEnvironment - INFO - Sum of weight difference  reconstructor0.00000000\n",
      "2023-12-06 18:41:46,456 - MarkovianUniformEnvironment - INFO - Sum of weight difference arbiterer0.00000000\n",
      "2023-12-06 18:41:46,457 - MarkovianUniformEnvironment - INFO - Sum of weight difference  reconstructor0.00000000\n",
      "2023-12-06 18:41:46,511 - MarkovianUniformEnvironment - INFO - Sum of weight difference arbiterer0.00000000\n",
      "2023-12-06 18:41:46,512 - MarkovianUniformEnvironment - INFO - Sum of weight difference  reconstructor0.00000000\n",
      "2023-12-06 18:41:46,563 - MarkovianUniformEnvironment - INFO - Sum of weight difference arbiterer0.00000000\n",
      "2023-12-06 18:41:46,564 - MarkovianUniformEnvironment - INFO - Sum of weight difference  reconstructor0.00000000\n",
      "2023-12-06 18:41:46,623 - MarkovianUniformEnvironment - INFO - Sum of weight difference arbiterer0.00000000\n",
      "2023-12-06 18:41:46,624 - MarkovianUniformEnvironment - INFO - Sum of weight difference  reconstructor0.00000000\n",
      "2023-12-06 18:41:46,673 - MarkovianUniformEnvironment - INFO - Sum of weight difference arbiterer0.00000000\n",
      "2023-12-06 18:41:46,673 - MarkovianUniformEnvironment - INFO - Sum of weight difference  reconstructor0.00000000\n",
      "2023-12-06 18:41:46,728 - MarkovianUniformEnvironment - INFO - Sum of weight difference arbiterer0.00000000\n",
      "2023-12-06 18:41:46,729 - MarkovianUniformEnvironment - INFO - Sum of weight difference  reconstructor0.00000000\n",
      "2023-12-06 18:41:46,779 - MarkovianUniformEnvironment - INFO - Sum of weight difference arbiterer0.00000000\n",
      "2023-12-06 18:41:46,780 - MarkovianUniformEnvironment - INFO - Sum of weight difference  reconstructor0.00000000\n",
      "2023-12-06 18:41:46,834 - MarkovianUniformEnvironment - INFO - Sum of weight difference arbiterer0.00000000\n",
      "2023-12-06 18:41:46,835 - MarkovianUniformEnvironment - INFO - Sum of weight difference  reconstructor0.00000000\n",
      "2023-12-06 18:41:46,886 - MarkovianUniformEnvironment - INFO - Sum of weight difference arbiterer0.00000000\n",
      "2023-12-06 18:41:46,886 - MarkovianUniformEnvironment - INFO - Sum of weight difference  reconstructor0.00000000\n"
     ]
    },
    {
     "data": {
      "application/vnd.jupyter.widget-view+json": {
       "model_id": "f2b72af3464642f39cc88cd91425cc30",
       "version_major": 2,
       "version_minor": 0
      },
      "text/plain": [
       "Steps:   0%|          | 0/12 [00:00<?, ?it/s]"
      ]
     },
     "metadata": {},
     "output_type": "display_data"
    },
    {
     "name": "stderr",
     "output_type": "stream",
     "text": [
      "2023-12-06 18:41:46,953 - MarkovianUniformEnvironment - INFO - Sum of weight difference arbiterer0.00000000\n",
      "2023-12-06 18:41:46,954 - MarkovianUniformEnvironment - INFO - Sum of weight difference  reconstructor0.00000000\n",
      "2023-12-06 18:41:47,006 - MarkovianUniformEnvironment - INFO - Sum of weight difference arbiterer0.00000000\n",
      "2023-12-06 18:41:47,007 - MarkovianUniformEnvironment - INFO - Sum of weight difference  reconstructor0.00000000\n",
      "2023-12-06 18:41:47,061 - MarkovianUniformEnvironment - INFO - Sum of weight difference arbiterer0.00000000\n",
      "2023-12-06 18:41:47,062 - MarkovianUniformEnvironment - INFO - Sum of weight difference  reconstructor0.00000000\n",
      "2023-12-06 18:41:47,113 - MarkovianUniformEnvironment - INFO - Sum of weight difference arbiterer0.00000000\n",
      "2023-12-06 18:41:47,114 - MarkovianUniformEnvironment - INFO - Sum of weight difference  reconstructor0.00000000\n",
      "2023-12-06 18:41:47,168 - MarkovianUniformEnvironment - INFO - Sum of weight difference arbiterer0.00000000\n",
      "2023-12-06 18:41:47,168 - MarkovianUniformEnvironment - INFO - Sum of weight difference  reconstructor0.00000000\n",
      "2023-12-06 18:41:47,231 - MarkovianUniformEnvironment - INFO - Sum of weight difference arbiterer0.00000000\n",
      "2023-12-06 18:41:47,232 - MarkovianUniformEnvironment - INFO - Sum of weight difference  reconstructor0.00000000\n",
      "2023-12-06 18:41:47,287 - MarkovianUniformEnvironment - INFO - Sum of weight difference arbiterer0.00000000\n",
      "2023-12-06 18:41:47,288 - MarkovianUniformEnvironment - INFO - Sum of weight difference  reconstructor0.00000000\n",
      "2023-12-06 18:41:47,343 - MarkovianUniformEnvironment - INFO - Sum of weight difference arbiterer0.00000000\n",
      "2023-12-06 18:41:47,344 - MarkovianUniformEnvironment - INFO - Sum of weight difference  reconstructor0.00000000\n",
      "2023-12-06 18:41:47,398 - MarkovianUniformEnvironment - INFO - Sum of weight difference arbiterer0.00000000\n",
      "2023-12-06 18:41:47,399 - MarkovianUniformEnvironment - INFO - Sum of weight difference  reconstructor0.00000000\n",
      "2023-12-06 18:41:47,448 - MarkovianUniformEnvironment - INFO - Sum of weight difference arbiterer0.00000000\n",
      "2023-12-06 18:41:47,449 - MarkovianUniformEnvironment - INFO - Sum of weight difference  reconstructor0.00000000\n",
      "2023-12-06 18:41:47,504 - MarkovianUniformEnvironment - INFO - Sum of weight difference arbiterer0.00000000\n",
      "2023-12-06 18:41:47,504 - MarkovianUniformEnvironment - INFO - Sum of weight difference  reconstructor0.00000000\n",
      "2023-12-06 18:41:47,554 - MarkovianUniformEnvironment - INFO - Sum of weight difference arbiterer0.00000000\n",
      "2023-12-06 18:41:47,556 - MarkovianUniformEnvironment - INFO - Sum of weight difference  reconstructor0.00000000\n"
     ]
    },
    {
     "data": {
      "application/vnd.jupyter.widget-view+json": {
       "model_id": "83d1b50c6b2d4a80a7782dc995703184",
       "version_major": 2,
       "version_minor": 0
      },
      "text/plain": [
       "Steps:   0%|          | 0/12 [00:00<?, ?it/s]"
      ]
     },
     "metadata": {},
     "output_type": "display_data"
    },
    {
     "name": "stderr",
     "output_type": "stream",
     "text": [
      "2023-12-06 18:41:47,628 - MarkovianUniformEnvironment - INFO - Sum of weight difference arbiterer0.00000000\n",
      "2023-12-06 18:41:47,629 - MarkovianUniformEnvironment - INFO - Sum of weight difference  reconstructor0.00000000\n",
      "2023-12-06 18:41:47,682 - MarkovianUniformEnvironment - INFO - Sum of weight difference arbiterer0.00000000\n",
      "2023-12-06 18:41:47,684 - MarkovianUniformEnvironment - INFO - Sum of weight difference  reconstructor0.00000000\n",
      "2023-12-06 18:41:47,736 - MarkovianUniformEnvironment - INFO - Sum of weight difference arbiterer0.00000000\n",
      "2023-12-06 18:41:47,737 - MarkovianUniformEnvironment - INFO - Sum of weight difference  reconstructor0.00000000\n",
      "2023-12-06 18:41:47,789 - MarkovianUniformEnvironment - INFO - Sum of weight difference arbiterer0.00000000\n",
      "2023-12-06 18:41:47,790 - MarkovianUniformEnvironment - INFO - Sum of weight difference  reconstructor0.00000000\n",
      "2023-12-06 18:41:47,843 - MarkovianUniformEnvironment - INFO - Sum of weight difference arbiterer0.00000000\n",
      "2023-12-06 18:41:47,844 - MarkovianUniformEnvironment - INFO - Sum of weight difference  reconstructor0.00000000\n",
      "2023-12-06 18:41:47,897 - MarkovianUniformEnvironment - INFO - Sum of weight difference arbiterer0.00000000\n",
      "2023-12-06 18:41:47,898 - MarkovianUniformEnvironment - INFO - Sum of weight difference  reconstructor0.00000000\n",
      "2023-12-06 18:41:47,955 - MarkovianUniformEnvironment - INFO - Sum of weight difference arbiterer0.00000000\n",
      "2023-12-06 18:41:47,956 - MarkovianUniformEnvironment - INFO - Sum of weight difference  reconstructor0.00000000\n",
      "2023-12-06 18:41:48,008 - MarkovianUniformEnvironment - INFO - Sum of weight difference arbiterer0.00000000\n",
      "2023-12-06 18:41:48,009 - MarkovianUniformEnvironment - INFO - Sum of weight difference  reconstructor0.00000000\n",
      "2023-12-06 18:41:48,064 - MarkovianUniformEnvironment - INFO - Sum of weight difference arbiterer0.00000000\n",
      "2023-12-06 18:41:48,065 - MarkovianUniformEnvironment - INFO - Sum of weight difference  reconstructor0.00000000\n",
      "2023-12-06 18:41:48,126 - MarkovianUniformEnvironment - INFO - Sum of weight difference arbiterer0.00000000\n",
      "2023-12-06 18:41:48,127 - MarkovianUniformEnvironment - INFO - Sum of weight difference  reconstructor0.00000000\n",
      "2023-12-06 18:41:48,183 - MarkovianUniformEnvironment - INFO - Sum of weight difference arbiterer0.00000000\n",
      "2023-12-06 18:41:48,184 - MarkovianUniformEnvironment - INFO - Sum of weight difference  reconstructor0.00000000\n",
      "2023-12-06 18:41:48,234 - MarkovianUniformEnvironment - INFO - Sum of weight difference arbiterer0.00000000\n",
      "2023-12-06 18:41:48,235 - MarkovianUniformEnvironment - INFO - Sum of weight difference  reconstructor0.00000000\n"
     ]
    },
    {
     "data": {
      "application/vnd.jupyter.widget-view+json": {
       "model_id": "5beba35bf7f3439e876121c2d5e6a564",
       "version_major": 2,
       "version_minor": 0
      },
      "text/plain": [
       "Steps:   0%|          | 0/12 [00:00<?, ?it/s]"
      ]
     },
     "metadata": {},
     "output_type": "display_data"
    },
    {
     "name": "stderr",
     "output_type": "stream",
     "text": [
      "2023-12-06 18:41:48,310 - MarkovianUniformEnvironment - INFO - Sum of weight difference arbiterer0.00000000\n",
      "2023-12-06 18:41:48,311 - MarkovianUniformEnvironment - INFO - Sum of weight difference  reconstructor0.00000000\n",
      "2023-12-06 18:41:48,367 - MarkovianUniformEnvironment - INFO - Sum of weight difference arbiterer0.00000000\n",
      "2023-12-06 18:41:48,368 - MarkovianUniformEnvironment - INFO - Sum of weight difference  reconstructor0.00000000\n",
      "2023-12-06 18:41:48,423 - MarkovianUniformEnvironment - INFO - Sum of weight difference arbiterer0.00000000\n",
      "2023-12-06 18:41:48,424 - MarkovianUniformEnvironment - INFO - Sum of weight difference  reconstructor0.00000000\n",
      "2023-12-06 18:41:48,476 - MarkovianUniformEnvironment - INFO - Sum of weight difference arbiterer0.00000000\n",
      "2023-12-06 18:41:48,477 - MarkovianUniformEnvironment - INFO - Sum of weight difference  reconstructor0.00000000\n",
      "2023-12-06 18:41:48,529 - MarkovianUniformEnvironment - INFO - Sum of weight difference arbiterer0.00000000\n",
      "2023-12-06 18:41:48,530 - MarkovianUniformEnvironment - INFO - Sum of weight difference  reconstructor0.00000000\n",
      "2023-12-06 18:41:48,586 - MarkovianUniformEnvironment - INFO - Sum of weight difference arbiterer0.00000000\n",
      "2023-12-06 18:41:48,587 - MarkovianUniformEnvironment - INFO - Sum of weight difference  reconstructor0.00000000\n",
      "2023-12-06 18:41:48,638 - MarkovianUniformEnvironment - INFO - Sum of weight difference arbiterer0.00000000\n",
      "2023-12-06 18:41:48,639 - MarkovianUniformEnvironment - INFO - Sum of weight difference  reconstructor0.00000000\n",
      "2023-12-06 18:41:48,692 - MarkovianUniformEnvironment - INFO - Sum of weight difference arbiterer0.00000000\n",
      "2023-12-06 18:41:48,693 - MarkovianUniformEnvironment - INFO - Sum of weight difference  reconstructor0.00000000\n",
      "2023-12-06 18:41:48,748 - MarkovianUniformEnvironment - INFO - Sum of weight difference arbiterer0.00000000\n",
      "2023-12-06 18:41:48,749 - MarkovianUniformEnvironment - INFO - Sum of weight difference  reconstructor0.00000000\n",
      "2023-12-06 18:41:48,800 - MarkovianUniformEnvironment - INFO - Sum of weight difference arbiterer0.00000000\n",
      "2023-12-06 18:41:48,801 - MarkovianUniformEnvironment - INFO - Sum of weight difference  reconstructor0.00000000\n",
      "2023-12-06 18:41:48,853 - MarkovianUniformEnvironment - INFO - Sum of weight difference arbiterer0.00000000\n",
      "2023-12-06 18:41:48,854 - MarkovianUniformEnvironment - INFO - Sum of weight difference  reconstructor0.00000000\n",
      "2023-12-06 18:41:48,911 - MarkovianUniformEnvironment - INFO - Sum of weight difference arbiterer0.00000000\n",
      "2023-12-06 18:41:48,912 - MarkovianUniformEnvironment - INFO - Sum of weight difference  reconstructor0.00000000\n"
     ]
    },
    {
     "data": {
      "application/vnd.jupyter.widget-view+json": {
       "model_id": "1b11d75e74c34aec8ac7e87fb2bc4e3b",
       "version_major": 2,
       "version_minor": 0
      },
      "text/plain": [
       "Steps:   0%|          | 0/12 [00:00<?, ?it/s]"
      ]
     },
     "metadata": {},
     "output_type": "display_data"
    },
    {
     "name": "stderr",
     "output_type": "stream",
     "text": [
      "2023-12-06 18:41:48,976 - MarkovianUniformEnvironment - INFO - Sum of weight difference arbiterer0.00000000\n",
      "2023-12-06 18:41:48,978 - MarkovianUniformEnvironment - INFO - Sum of weight difference  reconstructor0.00000000\n",
      "2023-12-06 18:41:49,028 - MarkovianUniformEnvironment - INFO - Sum of weight difference arbiterer0.00000000\n",
      "2023-12-06 18:41:49,029 - MarkovianUniformEnvironment - INFO - Sum of weight difference  reconstructor0.00000000\n",
      "2023-12-06 18:41:49,083 - MarkovianUniformEnvironment - INFO - Sum of weight difference arbiterer0.00000000\n",
      "2023-12-06 18:41:49,084 - MarkovianUniformEnvironment - INFO - Sum of weight difference  reconstructor0.00000000\n",
      "2023-12-06 18:41:49,135 - MarkovianUniformEnvironment - INFO - Sum of weight difference arbiterer0.00000000\n",
      "2023-12-06 18:41:49,136 - MarkovianUniformEnvironment - INFO - Sum of weight difference  reconstructor0.00000000\n",
      "2023-12-06 18:41:49,189 - MarkovianUniformEnvironment - INFO - Sum of weight difference arbiterer0.00000000\n",
      "2023-12-06 18:41:49,190 - MarkovianUniformEnvironment - INFO - Sum of weight difference  reconstructor0.00000000\n",
      "2023-12-06 18:41:49,247 - MarkovianUniformEnvironment - INFO - Sum of weight difference arbiterer0.00000000\n",
      "2023-12-06 18:41:49,248 - MarkovianUniformEnvironment - INFO - Sum of weight difference  reconstructor0.00000000\n",
      "2023-12-06 18:41:49,302 - MarkovianUniformEnvironment - INFO - Sum of weight difference arbiterer0.00000000\n",
      "2023-12-06 18:41:49,303 - MarkovianUniformEnvironment - INFO - Sum of weight difference  reconstructor0.00000000\n",
      "2023-12-06 18:41:49,358 - MarkovianUniformEnvironment - INFO - Sum of weight difference arbiterer0.00000000\n",
      "2023-12-06 18:41:49,359 - MarkovianUniformEnvironment - INFO - Sum of weight difference  reconstructor0.00000000\n",
      "2023-12-06 18:41:49,410 - MarkovianUniformEnvironment - INFO - Sum of weight difference arbiterer0.00000000\n",
      "2023-12-06 18:41:49,411 - MarkovianUniformEnvironment - INFO - Sum of weight difference  reconstructor0.00000000\n",
      "2023-12-06 18:41:49,460 - MarkovianUniformEnvironment - INFO - Sum of weight difference arbiterer0.00000000\n",
      "2023-12-06 18:41:49,461 - MarkovianUniformEnvironment - INFO - Sum of weight difference  reconstructor0.00000000\n",
      "2023-12-06 18:41:49,513 - MarkovianUniformEnvironment - INFO - Sum of weight difference arbiterer0.00000000\n",
      "2023-12-06 18:41:49,514 - MarkovianUniformEnvironment - INFO - Sum of weight difference  reconstructor0.00000000\n",
      "2023-12-06 18:41:49,571 - MarkovianUniformEnvironment - INFO - Sum of weight difference arbiterer0.00000000\n",
      "2023-12-06 18:41:49,572 - MarkovianUniformEnvironment - INFO - Sum of weight difference  reconstructor0.00000000\n"
     ]
    },
    {
     "data": {
      "application/vnd.jupyter.widget-view+json": {
       "model_id": "73200dffe32749f695b7ceac1193d09d",
       "version_major": 2,
       "version_minor": 0
      },
      "text/plain": [
       "Steps:   0%|          | 0/12 [00:00<?, ?it/s]"
      ]
     },
     "metadata": {},
     "output_type": "display_data"
    },
    {
     "name": "stderr",
     "output_type": "stream",
     "text": [
      "2023-12-06 18:41:49,649 - MarkovianUniformEnvironment - INFO - Sum of weight difference arbiterer0.00000000\n",
      "2023-12-06 18:41:49,651 - MarkovianUniformEnvironment - INFO - Sum of weight difference  reconstructor0.00000000\n",
      "2023-12-06 18:41:49,706 - MarkovianUniformEnvironment - INFO - Sum of weight difference arbiterer0.00000000\n",
      "2023-12-06 18:41:49,707 - MarkovianUniformEnvironment - INFO - Sum of weight difference  reconstructor0.00000000\n",
      "2023-12-06 18:41:49,762 - MarkovianUniformEnvironment - INFO - Sum of weight difference arbiterer0.00000000\n",
      "2023-12-06 18:41:49,766 - MarkovianUniformEnvironment - INFO - Sum of weight difference  reconstructor0.00000000\n",
      "2023-12-06 18:41:49,825 - MarkovianUniformEnvironment - INFO - Sum of weight difference arbiterer0.00000000\n",
      "2023-12-06 18:41:49,826 - MarkovianUniformEnvironment - INFO - Sum of weight difference  reconstructor0.00000000\n",
      "2023-12-06 18:41:49,882 - MarkovianUniformEnvironment - INFO - Sum of weight difference arbiterer0.00000000\n",
      "2023-12-06 18:41:49,883 - MarkovianUniformEnvironment - INFO - Sum of weight difference  reconstructor0.00000000\n",
      "2023-12-06 18:41:49,934 - MarkovianUniformEnvironment - INFO - Sum of weight difference arbiterer0.00000000\n",
      "2023-12-06 18:41:49,935 - MarkovianUniformEnvironment - INFO - Sum of weight difference  reconstructor0.00000000\n",
      "2023-12-06 18:41:49,988 - MarkovianUniformEnvironment - INFO - Sum of weight difference arbiterer0.00000000\n",
      "2023-12-06 18:41:49,989 - MarkovianUniformEnvironment - INFO - Sum of weight difference  reconstructor0.00000000\n",
      "2023-12-06 18:41:50,048 - MarkovianUniformEnvironment - INFO - Sum of weight difference arbiterer0.00000000\n",
      "2023-12-06 18:41:50,049 - MarkovianUniformEnvironment - INFO - Sum of weight difference  reconstructor0.00000000\n",
      "2023-12-06 18:41:50,106 - MarkovianUniformEnvironment - INFO - Sum of weight difference arbiterer0.00000000\n",
      "2023-12-06 18:41:50,106 - MarkovianUniformEnvironment - INFO - Sum of weight difference  reconstructor0.00000000\n",
      "2023-12-06 18:41:50,157 - MarkovianUniformEnvironment - INFO - Sum of weight difference arbiterer0.00000000\n",
      "2023-12-06 18:41:50,158 - MarkovianUniformEnvironment - INFO - Sum of weight difference  reconstructor0.00000000\n",
      "2023-12-06 18:41:50,213 - MarkovianUniformEnvironment - INFO - Sum of weight difference arbiterer0.00000000\n",
      "2023-12-06 18:41:50,214 - MarkovianUniformEnvironment - INFO - Sum of weight difference  reconstructor0.00000000\n",
      "2023-12-06 18:41:50,267 - MarkovianUniformEnvironment - INFO - Sum of weight difference arbiterer0.00000000\n",
      "2023-12-06 18:41:50,268 - MarkovianUniformEnvironment - INFO - Sum of weight difference  reconstructor0.00000000\n"
     ]
    },
    {
     "data": {
      "application/vnd.jupyter.widget-view+json": {
       "model_id": "7930e466b96b42c0aaf4ac206266d27f",
       "version_major": 2,
       "version_minor": 0
      },
      "text/plain": [
       "Steps:   0%|          | 0/12 [00:00<?, ?it/s]"
      ]
     },
     "metadata": {},
     "output_type": "display_data"
    },
    {
     "name": "stderr",
     "output_type": "stream",
     "text": [
      "2023-12-06 18:41:50,332 - MarkovianUniformEnvironment - INFO - Sum of weight difference arbiterer0.00000000\n",
      "2023-12-06 18:41:50,333 - MarkovianUniformEnvironment - INFO - Sum of weight difference  reconstructor0.00000000\n",
      "2023-12-06 18:41:50,387 - MarkovianUniformEnvironment - INFO - Sum of weight difference arbiterer0.00000000\n",
      "2023-12-06 18:41:50,388 - MarkovianUniformEnvironment - INFO - Sum of weight difference  reconstructor0.00000000\n",
      "2023-12-06 18:41:50,440 - MarkovianUniformEnvironment - INFO - Sum of weight difference arbiterer0.00000000\n",
      "2023-12-06 18:41:50,441 - MarkovianUniformEnvironment - INFO - Sum of weight difference  reconstructor0.00000000\n",
      "2023-12-06 18:41:50,494 - MarkovianUniformEnvironment - INFO - Sum of weight difference arbiterer0.00000000\n",
      "2023-12-06 18:41:50,495 - MarkovianUniformEnvironment - INFO - Sum of weight difference  reconstructor0.00000000\n",
      "2023-12-06 18:41:50,552 - MarkovianUniformEnvironment - INFO - Sum of weight difference arbiterer0.00000000\n",
      "2023-12-06 18:41:50,552 - MarkovianUniformEnvironment - INFO - Sum of weight difference  reconstructor0.00000000\n",
      "2023-12-06 18:41:50,602 - MarkovianUniformEnvironment - INFO - Sum of weight difference arbiterer0.00000000\n",
      "2023-12-06 18:41:50,603 - MarkovianUniformEnvironment - INFO - Sum of weight difference  reconstructor0.00000000\n",
      "2023-12-06 18:41:50,656 - MarkovianUniformEnvironment - INFO - Sum of weight difference arbiterer0.00000000\n",
      "2023-12-06 18:41:50,657 - MarkovianUniformEnvironment - INFO - Sum of weight difference  reconstructor0.00000000\n",
      "2023-12-06 18:41:50,712 - MarkovianUniformEnvironment - INFO - Sum of weight difference arbiterer0.00000000\n",
      "2023-12-06 18:41:50,712 - MarkovianUniformEnvironment - INFO - Sum of weight difference  reconstructor0.00000000\n",
      "2023-12-06 18:41:50,766 - MarkovianUniformEnvironment - INFO - Sum of weight difference arbiterer0.00000000\n",
      "2023-12-06 18:41:50,767 - MarkovianUniformEnvironment - INFO - Sum of weight difference  reconstructor0.00000000\n",
      "2023-12-06 18:41:50,819 - MarkovianUniformEnvironment - INFO - Sum of weight difference arbiterer0.00000000\n",
      "2023-12-06 18:41:50,820 - MarkovianUniformEnvironment - INFO - Sum of weight difference  reconstructor0.00000000\n",
      "2023-12-06 18:41:50,875 - MarkovianUniformEnvironment - INFO - Sum of weight difference arbiterer0.00000000\n",
      "2023-12-06 18:41:50,876 - MarkovianUniformEnvironment - INFO - Sum of weight difference  reconstructor0.00000000\n",
      "2023-12-06 18:41:50,935 - MarkovianUniformEnvironment - INFO - Sum of weight difference arbiterer0.00000000\n",
      "2023-12-06 18:41:50,935 - MarkovianUniformEnvironment - INFO - Sum of weight difference  reconstructor0.00000000\n"
     ]
    },
    {
     "data": {
      "application/vnd.jupyter.widget-view+json": {
       "model_id": "107d84a52f10494cbf9003f377f36259",
       "version_major": 2,
       "version_minor": 0
      },
      "text/plain": [
       "Steps:   0%|          | 0/12 [00:00<?, ?it/s]"
      ]
     },
     "metadata": {},
     "output_type": "display_data"
    },
    {
     "name": "stderr",
     "output_type": "stream",
     "text": [
      "2023-12-06 18:41:50,999 - MarkovianUniformEnvironment - INFO - Sum of weight difference arbiterer0.00000000\n",
      "2023-12-06 18:41:51,000 - MarkovianUniformEnvironment - INFO - Sum of weight difference  reconstructor0.00000000\n",
      "2023-12-06 18:41:51,061 - MarkovianUniformEnvironment - INFO - Sum of weight difference arbiterer0.00000000\n",
      "2023-12-06 18:41:51,062 - MarkovianUniformEnvironment - INFO - Sum of weight difference  reconstructor0.00000000\n",
      "2023-12-06 18:41:51,124 - MarkovianUniformEnvironment - INFO - Sum of weight difference arbiterer0.00000000\n",
      "2023-12-06 18:41:51,125 - MarkovianUniformEnvironment - INFO - Sum of weight difference  reconstructor0.00000000\n",
      "2023-12-06 18:41:51,179 - MarkovianUniformEnvironment - INFO - Sum of weight difference arbiterer0.00000000\n",
      "2023-12-06 18:41:51,179 - MarkovianUniformEnvironment - INFO - Sum of weight difference  reconstructor0.00000000\n",
      "2023-12-06 18:41:51,235 - MarkovianUniformEnvironment - INFO - Sum of weight difference arbiterer0.00000000\n",
      "2023-12-06 18:41:51,236 - MarkovianUniformEnvironment - INFO - Sum of weight difference  reconstructor0.00000000\n",
      "2023-12-06 18:41:51,287 - MarkovianUniformEnvironment - INFO - Sum of weight difference arbiterer0.00000000\n",
      "2023-12-06 18:41:51,288 - MarkovianUniformEnvironment - INFO - Sum of weight difference  reconstructor0.00000000\n",
      "2023-12-06 18:41:51,343 - MarkovianUniformEnvironment - INFO - Sum of weight difference arbiterer0.00000000\n",
      "2023-12-06 18:41:51,344 - MarkovianUniformEnvironment - INFO - Sum of weight difference  reconstructor0.00000000\n",
      "2023-12-06 18:41:51,399 - MarkovianUniformEnvironment - INFO - Sum of weight difference arbiterer0.00000000\n",
      "2023-12-06 18:41:51,400 - MarkovianUniformEnvironment - INFO - Sum of weight difference  reconstructor0.00000000\n",
      "2023-12-06 18:41:51,454 - MarkovianUniformEnvironment - INFO - Sum of weight difference arbiterer0.00000000\n",
      "2023-12-06 18:41:51,455 - MarkovianUniformEnvironment - INFO - Sum of weight difference  reconstructor0.00000000\n",
      "2023-12-06 18:41:51,507 - MarkovianUniformEnvironment - INFO - Sum of weight difference arbiterer0.00000000\n",
      "2023-12-06 18:41:51,508 - MarkovianUniformEnvironment - INFO - Sum of weight difference  reconstructor0.00000000\n",
      "2023-12-06 18:41:51,561 - MarkovianUniformEnvironment - INFO - Sum of weight difference arbiterer0.00000000\n",
      "2023-12-06 18:41:51,562 - MarkovianUniformEnvironment - INFO - Sum of weight difference  reconstructor0.00000000\n",
      "2023-12-06 18:41:51,613 - MarkovianUniformEnvironment - INFO - Sum of weight difference arbiterer0.00000000\n",
      "2023-12-06 18:41:51,614 - MarkovianUniformEnvironment - INFO - Sum of weight difference  reconstructor0.00000000\n"
     ]
    },
    {
     "data": {
      "application/vnd.jupyter.widget-view+json": {
       "model_id": "0cd3f078f84648a097af8c21ee50b714",
       "version_major": 2,
       "version_minor": 0
      },
      "text/plain": [
       "Steps:   0%|          | 0/12 [00:00<?, ?it/s]"
      ]
     },
     "metadata": {},
     "output_type": "display_data"
    },
    {
     "name": "stderr",
     "output_type": "stream",
     "text": [
      "2023-12-06 18:41:51,674 - MarkovianUniformEnvironment - INFO - Sum of weight difference arbiterer0.00000000\n",
      "2023-12-06 18:41:51,676 - MarkovianUniformEnvironment - INFO - Sum of weight difference  reconstructor0.00000000\n",
      "2023-12-06 18:41:51,738 - MarkovianUniformEnvironment - INFO - Sum of weight difference arbiterer0.00000000\n",
      "2023-12-06 18:41:51,739 - MarkovianUniformEnvironment - INFO - Sum of weight difference  reconstructor0.00000000\n",
      "2023-12-06 18:41:51,801 - MarkovianUniformEnvironment - INFO - Sum of weight difference arbiterer0.00000000\n",
      "2023-12-06 18:41:51,802 - MarkovianUniformEnvironment - INFO - Sum of weight difference  reconstructor0.00000000\n",
      "2023-12-06 18:41:51,854 - MarkovianUniformEnvironment - INFO - Sum of weight difference arbiterer0.00000000\n",
      "2023-12-06 18:41:51,855 - MarkovianUniformEnvironment - INFO - Sum of weight difference  reconstructor0.00000000\n",
      "2023-12-06 18:41:51,909 - MarkovianUniformEnvironment - INFO - Sum of weight difference arbiterer0.00000000\n",
      "2023-12-06 18:41:51,909 - MarkovianUniformEnvironment - INFO - Sum of weight difference  reconstructor0.00000000\n",
      "2023-12-06 18:41:51,960 - MarkovianUniformEnvironment - INFO - Sum of weight difference arbiterer0.00000000\n",
      "2023-12-06 18:41:51,961 - MarkovianUniformEnvironment - INFO - Sum of weight difference  reconstructor0.00000000\n",
      "2023-12-06 18:41:52,017 - MarkovianUniformEnvironment - INFO - Sum of weight difference arbiterer0.00000000\n",
      "2023-12-06 18:41:52,018 - MarkovianUniformEnvironment - INFO - Sum of weight difference  reconstructor0.00000000\n",
      "2023-12-06 18:41:52,069 - MarkovianUniformEnvironment - INFO - Sum of weight difference arbiterer0.00000000\n",
      "2023-12-06 18:41:52,070 - MarkovianUniformEnvironment - INFO - Sum of weight difference  reconstructor0.00000000\n",
      "2023-12-06 18:41:52,124 - MarkovianUniformEnvironment - INFO - Sum of weight difference arbiterer0.00000000\n",
      "2023-12-06 18:41:52,125 - MarkovianUniformEnvironment - INFO - Sum of weight difference  reconstructor0.00000000\n",
      "2023-12-06 18:41:52,174 - MarkovianUniformEnvironment - INFO - Sum of weight difference arbiterer0.00000000\n",
      "2023-12-06 18:41:52,175 - MarkovianUniformEnvironment - INFO - Sum of weight difference  reconstructor0.00000000\n",
      "2023-12-06 18:41:52,230 - MarkovianUniformEnvironment - INFO - Sum of weight difference arbiterer0.00000000\n",
      "2023-12-06 18:41:52,230 - MarkovianUniformEnvironment - INFO - Sum of weight difference  reconstructor0.00000000\n",
      "2023-12-06 18:41:52,287 - MarkovianUniformEnvironment - INFO - Sum of weight difference arbiterer0.00000000\n",
      "2023-12-06 18:41:52,288 - MarkovianUniformEnvironment - INFO - Sum of weight difference  reconstructor0.00000000\n"
     ]
    },
    {
     "data": {
      "application/vnd.jupyter.widget-view+json": {
       "model_id": "0a4e547a7447466aae0bf932914df678",
       "version_major": 2,
       "version_minor": 0
      },
      "text/plain": [
       "Steps:   0%|          | 0/12 [00:00<?, ?it/s]"
      ]
     },
     "metadata": {},
     "output_type": "display_data"
    },
    {
     "name": "stderr",
     "output_type": "stream",
     "text": [
      "2023-12-06 18:41:52,353 - MarkovianUniformEnvironment - INFO - Sum of weight difference arbiterer0.00000000\n",
      "2023-12-06 18:41:52,354 - MarkovianUniformEnvironment - INFO - Sum of weight difference  reconstructor0.00000000\n",
      "2023-12-06 18:41:52,408 - MarkovianUniformEnvironment - INFO - Sum of weight difference arbiterer0.00000000\n",
      "2023-12-06 18:41:52,409 - MarkovianUniformEnvironment - INFO - Sum of weight difference  reconstructor0.00000000\n",
      "2023-12-06 18:41:52,464 - MarkovianUniformEnvironment - INFO - Sum of weight difference arbiterer0.00000000\n",
      "2023-12-06 18:41:52,466 - MarkovianUniformEnvironment - INFO - Sum of weight difference  reconstructor0.00000000\n",
      "2023-12-06 18:41:52,528 - MarkovianUniformEnvironment - INFO - Sum of weight difference arbiterer0.00000000\n",
      "2023-12-06 18:41:52,529 - MarkovianUniformEnvironment - INFO - Sum of weight difference  reconstructor0.00000000\n",
      "2023-12-06 18:41:52,583 - MarkovianUniformEnvironment - INFO - Sum of weight difference arbiterer0.00000000\n",
      "2023-12-06 18:41:52,584 - MarkovianUniformEnvironment - INFO - Sum of weight difference  reconstructor0.00000000\n",
      "2023-12-06 18:41:52,636 - MarkovianUniformEnvironment - INFO - Sum of weight difference arbiterer0.00000000\n",
      "2023-12-06 18:41:52,637 - MarkovianUniformEnvironment - INFO - Sum of weight difference  reconstructor0.00000000\n",
      "2023-12-06 18:41:52,693 - MarkovianUniformEnvironment - INFO - Sum of weight difference arbiterer0.00000000\n",
      "2023-12-06 18:41:52,694 - MarkovianUniformEnvironment - INFO - Sum of weight difference  reconstructor0.00000000\n",
      "2023-12-06 18:41:52,745 - MarkovianUniformEnvironment - INFO - Sum of weight difference arbiterer0.00000000\n",
      "2023-12-06 18:41:52,746 - MarkovianUniformEnvironment - INFO - Sum of weight difference  reconstructor0.00000000\n",
      "2023-12-06 18:41:52,799 - MarkovianUniformEnvironment - INFO - Sum of weight difference arbiterer0.00000000\n",
      "2023-12-06 18:41:52,800 - MarkovianUniformEnvironment - INFO - Sum of weight difference  reconstructor0.00000000\n",
      "2023-12-06 18:41:52,851 - MarkovianUniformEnvironment - INFO - Sum of weight difference arbiterer0.00000000\n",
      "2023-12-06 18:41:52,852 - MarkovianUniformEnvironment - INFO - Sum of weight difference  reconstructor0.00000000\n",
      "2023-12-06 18:41:52,906 - MarkovianUniformEnvironment - INFO - Sum of weight difference arbiterer0.00000000\n",
      "2023-12-06 18:41:52,906 - MarkovianUniformEnvironment - INFO - Sum of weight difference  reconstructor0.00000000\n",
      "2023-12-06 18:41:52,955 - MarkovianUniformEnvironment - INFO - Sum of weight difference arbiterer0.00000000\n",
      "2023-12-06 18:41:52,956 - MarkovianUniformEnvironment - INFO - Sum of weight difference  reconstructor0.00000000\n"
     ]
    },
    {
     "data": {
      "application/vnd.jupyter.widget-view+json": {
       "model_id": "6b7baf58b6b64a12a7e9e619fc3fa8ee",
       "version_major": 2,
       "version_minor": 0
      },
      "text/plain": [
       "Steps:   0%|          | 0/12 [00:00<?, ?it/s]"
      ]
     },
     "metadata": {},
     "output_type": "display_data"
    },
    {
     "name": "stderr",
     "output_type": "stream",
     "text": [
      "2023-12-06 18:41:53,019 - MarkovianUniformEnvironment - INFO - Sum of weight difference arbiterer0.00000000\n",
      "2023-12-06 18:41:53,020 - MarkovianUniformEnvironment - INFO - Sum of weight difference  reconstructor0.00000000\n",
      "2023-12-06 18:41:53,077 - MarkovianUniformEnvironment - INFO - Sum of weight difference arbiterer0.00000000\n",
      "2023-12-06 18:41:53,077 - MarkovianUniformEnvironment - INFO - Sum of weight difference  reconstructor0.00000000\n",
      "2023-12-06 18:41:53,134 - MarkovianUniformEnvironment - INFO - Sum of weight difference arbiterer0.00000000\n",
      "2023-12-06 18:41:53,134 - MarkovianUniformEnvironment - INFO - Sum of weight difference  reconstructor0.00000000\n",
      "2023-12-06 18:41:53,190 - MarkovianUniformEnvironment - INFO - Sum of weight difference arbiterer0.00000000\n",
      "2023-12-06 18:41:53,191 - MarkovianUniformEnvironment - INFO - Sum of weight difference  reconstructor0.00000000\n",
      "2023-12-06 18:41:53,249 - MarkovianUniformEnvironment - INFO - Sum of weight difference arbiterer0.00000000\n",
      "2023-12-06 18:41:53,250 - MarkovianUniformEnvironment - INFO - Sum of weight difference  reconstructor0.00000000\n",
      "2023-12-06 18:41:53,301 - MarkovianUniformEnvironment - INFO - Sum of weight difference arbiterer0.00000000\n",
      "2023-12-06 18:41:53,302 - MarkovianUniformEnvironment - INFO - Sum of weight difference  reconstructor0.00000000\n",
      "2023-12-06 18:41:53,353 - MarkovianUniformEnvironment - INFO - Sum of weight difference arbiterer0.00000000\n",
      "2023-12-06 18:41:53,354 - MarkovianUniformEnvironment - INFO - Sum of weight difference  reconstructor0.00000000\n",
      "2023-12-06 18:41:53,408 - MarkovianUniformEnvironment - INFO - Sum of weight difference arbiterer0.00000000\n",
      "2023-12-06 18:41:53,409 - MarkovianUniformEnvironment - INFO - Sum of weight difference  reconstructor0.00000000\n",
      "2023-12-06 18:41:53,461 - MarkovianUniformEnvironment - INFO - Sum of weight difference arbiterer0.00000000\n",
      "2023-12-06 18:41:53,462 - MarkovianUniformEnvironment - INFO - Sum of weight difference  reconstructor0.00000000\n",
      "2023-12-06 18:41:53,522 - MarkovianUniformEnvironment - INFO - Sum of weight difference arbiterer0.00000000\n",
      "2023-12-06 18:41:53,523 - MarkovianUniformEnvironment - INFO - Sum of weight difference  reconstructor0.00000000\n",
      "2023-12-06 18:41:53,575 - MarkovianUniformEnvironment - INFO - Sum of weight difference arbiterer0.00000000\n",
      "2023-12-06 18:41:53,576 - MarkovianUniformEnvironment - INFO - Sum of weight difference  reconstructor0.00000000\n",
      "2023-12-06 18:41:53,627 - MarkovianUniformEnvironment - INFO - Sum of weight difference arbiterer0.00000000\n",
      "2023-12-06 18:41:53,628 - MarkovianUniformEnvironment - INFO - Sum of weight difference  reconstructor0.00000000\n"
     ]
    },
    {
     "data": {
      "application/vnd.jupyter.widget-view+json": {
       "model_id": "75787b077bb144ce9400789bae7f0ce9",
       "version_major": 2,
       "version_minor": 0
      },
      "text/plain": [
       "Steps:   0%|          | 0/12 [00:00<?, ?it/s]"
      ]
     },
     "metadata": {},
     "output_type": "display_data"
    },
    {
     "name": "stderr",
     "output_type": "stream",
     "text": [
      "2023-12-06 18:41:53,695 - MarkovianUniformEnvironment - INFO - Sum of weight difference arbiterer0.00000000\n",
      "2023-12-06 18:41:53,696 - MarkovianUniformEnvironment - INFO - Sum of weight difference  reconstructor0.00000000\n",
      "2023-12-06 18:41:53,750 - MarkovianUniformEnvironment - INFO - Sum of weight difference arbiterer0.00000000\n",
      "2023-12-06 18:41:53,751 - MarkovianUniformEnvironment - INFO - Sum of weight difference  reconstructor0.00000000\n",
      "2023-12-06 18:41:53,806 - MarkovianUniformEnvironment - INFO - Sum of weight difference arbiterer0.00000000\n",
      "2023-12-06 18:41:53,806 - MarkovianUniformEnvironment - INFO - Sum of weight difference  reconstructor0.00000000\n",
      "2023-12-06 18:41:53,858 - MarkovianUniformEnvironment - INFO - Sum of weight difference arbiterer0.00000000\n",
      "2023-12-06 18:41:53,859 - MarkovianUniformEnvironment - INFO - Sum of weight difference  reconstructor0.00000000\n",
      "2023-12-06 18:41:53,917 - MarkovianUniformEnvironment - INFO - Sum of weight difference arbiterer0.00000000\n",
      "2023-12-06 18:41:53,918 - MarkovianUniformEnvironment - INFO - Sum of weight difference  reconstructor0.00000000\n",
      "2023-12-06 18:41:53,974 - MarkovianUniformEnvironment - INFO - Sum of weight difference arbiterer0.00000000\n",
      "2023-12-06 18:41:53,975 - MarkovianUniformEnvironment - INFO - Sum of weight difference  reconstructor0.00000000\n",
      "2023-12-06 18:41:54,028 - MarkovianUniformEnvironment - INFO - Sum of weight difference arbiterer0.00000000\n",
      "2023-12-06 18:41:54,028 - MarkovianUniformEnvironment - INFO - Sum of weight difference  reconstructor0.00000000\n",
      "2023-12-06 18:41:54,083 - MarkovianUniformEnvironment - INFO - Sum of weight difference arbiterer0.00000000\n",
      "2023-12-06 18:41:54,084 - MarkovianUniformEnvironment - INFO - Sum of weight difference  reconstructor0.00000000\n",
      "2023-12-06 18:41:54,141 - MarkovianUniformEnvironment - INFO - Sum of weight difference arbiterer0.00000000\n",
      "2023-12-06 18:41:54,142 - MarkovianUniformEnvironment - INFO - Sum of weight difference  reconstructor0.00000000\n",
      "2023-12-06 18:41:54,192 - MarkovianUniformEnvironment - INFO - Sum of weight difference arbiterer0.00000000\n",
      "2023-12-06 18:41:54,193 - MarkovianUniformEnvironment - INFO - Sum of weight difference  reconstructor0.00000000\n",
      "2023-12-06 18:41:54,244 - MarkovianUniformEnvironment - INFO - Sum of weight difference arbiterer0.00000000\n",
      "2023-12-06 18:41:54,245 - MarkovianUniformEnvironment - INFO - Sum of weight difference  reconstructor0.00000000\n",
      "2023-12-06 18:41:54,305 - MarkovianUniformEnvironment - INFO - Sum of weight difference arbiterer0.00000000\n",
      "2023-12-06 18:41:54,306 - MarkovianUniformEnvironment - INFO - Sum of weight difference  reconstructor0.00000000\n"
     ]
    },
    {
     "data": {
      "application/vnd.jupyter.widget-view+json": {
       "model_id": "2facc8dfc70e49cf9b26076d054599dc",
       "version_major": 2,
       "version_minor": 0
      },
      "text/plain": [
       "Steps:   0%|          | 0/12 [00:00<?, ?it/s]"
      ]
     },
     "metadata": {},
     "output_type": "display_data"
    },
    {
     "name": "stderr",
     "output_type": "stream",
     "text": [
      "2023-12-06 18:41:54,386 - MarkovianUniformEnvironment - INFO - Sum of weight difference arbiterer0.00000000\n",
      "2023-12-06 18:41:54,387 - MarkovianUniformEnvironment - INFO - Sum of weight difference  reconstructor0.00000000\n",
      "2023-12-06 18:41:54,440 - MarkovianUniformEnvironment - INFO - Sum of weight difference arbiterer0.00000000\n",
      "2023-12-06 18:41:54,441 - MarkovianUniformEnvironment - INFO - Sum of weight difference  reconstructor0.00000000\n",
      "2023-12-06 18:41:54,494 - MarkovianUniformEnvironment - INFO - Sum of weight difference arbiterer0.00000000\n",
      "2023-12-06 18:41:54,495 - MarkovianUniformEnvironment - INFO - Sum of weight difference  reconstructor0.00000000\n",
      "2023-12-06 18:41:54,547 - MarkovianUniformEnvironment - INFO - Sum of weight difference arbiterer0.00000000\n",
      "2023-12-06 18:41:54,548 - MarkovianUniformEnvironment - INFO - Sum of weight difference  reconstructor0.00000000\n",
      "2023-12-06 18:41:54,602 - MarkovianUniformEnvironment - INFO - Sum of weight difference arbiterer0.00000000\n",
      "2023-12-06 18:41:54,602 - MarkovianUniformEnvironment - INFO - Sum of weight difference  reconstructor0.00000000\n",
      "2023-12-06 18:41:54,656 - MarkovianUniformEnvironment - INFO - Sum of weight difference arbiterer0.00000000\n",
      "2023-12-06 18:41:54,657 - MarkovianUniformEnvironment - INFO - Sum of weight difference  reconstructor0.00000000\n",
      "2023-12-06 18:41:54,714 - MarkovianUniformEnvironment - INFO - Sum of weight difference arbiterer0.00000000\n",
      "2023-12-06 18:41:54,715 - MarkovianUniformEnvironment - INFO - Sum of weight difference  reconstructor0.00000000\n",
      "2023-12-06 18:41:54,770 - MarkovianUniformEnvironment - INFO - Sum of weight difference arbiterer0.00000000\n",
      "2023-12-06 18:41:54,771 - MarkovianUniformEnvironment - INFO - Sum of weight difference  reconstructor0.00000000\n",
      "2023-12-06 18:41:54,824 - MarkovianUniformEnvironment - INFO - Sum of weight difference arbiterer0.00000000\n",
      "2023-12-06 18:41:54,825 - MarkovianUniformEnvironment - INFO - Sum of weight difference  reconstructor0.00000000\n",
      "2023-12-06 18:41:54,879 - MarkovianUniformEnvironment - INFO - Sum of weight difference arbiterer0.00000000\n",
      "2023-12-06 18:41:54,880 - MarkovianUniformEnvironment - INFO - Sum of weight difference  reconstructor0.00000000\n",
      "2023-12-06 18:41:54,933 - MarkovianUniformEnvironment - INFO - Sum of weight difference arbiterer0.00000000\n",
      "2023-12-06 18:41:54,933 - MarkovianUniformEnvironment - INFO - Sum of weight difference  reconstructor0.00000000\n",
      "2023-12-06 18:41:54,987 - MarkovianUniformEnvironment - INFO - Sum of weight difference arbiterer0.00000000\n",
      "2023-12-06 18:41:54,987 - MarkovianUniformEnvironment - INFO - Sum of weight difference  reconstructor0.00000000\n"
     ]
    },
    {
     "data": {
      "application/vnd.jupyter.widget-view+json": {
       "model_id": "6786aa25cc83477a877ba468ffb1097f",
       "version_major": 2,
       "version_minor": 0
      },
      "text/plain": [
       "Steps:   0%|          | 0/12 [00:00<?, ?it/s]"
      ]
     },
     "metadata": {},
     "output_type": "display_data"
    },
    {
     "name": "stderr",
     "output_type": "stream",
     "text": [
      "2023-12-06 18:41:55,048 - MarkovianUniformEnvironment - INFO - Sum of weight difference arbiterer0.00000000\n",
      "2023-12-06 18:41:55,049 - MarkovianUniformEnvironment - INFO - Sum of weight difference  reconstructor0.00000000\n",
      "2023-12-06 18:41:55,102 - MarkovianUniformEnvironment - INFO - Sum of weight difference arbiterer0.00000000\n",
      "2023-12-06 18:41:55,103 - MarkovianUniformEnvironment - INFO - Sum of weight difference  reconstructor0.00000000\n",
      "2023-12-06 18:41:55,158 - MarkovianUniformEnvironment - INFO - Sum of weight difference arbiterer0.00000000\n",
      "2023-12-06 18:41:55,159 - MarkovianUniformEnvironment - INFO - Sum of weight difference  reconstructor0.00000000\n",
      "2023-12-06 18:41:55,217 - MarkovianUniformEnvironment - INFO - Sum of weight difference arbiterer0.00000000\n",
      "2023-12-06 18:41:55,218 - MarkovianUniformEnvironment - INFO - Sum of weight difference  reconstructor0.00000000\n",
      "2023-12-06 18:41:55,274 - MarkovianUniformEnvironment - INFO - Sum of weight difference arbiterer0.00000000\n",
      "2023-12-06 18:41:55,275 - MarkovianUniformEnvironment - INFO - Sum of weight difference  reconstructor0.00000000\n",
      "2023-12-06 18:41:55,326 - MarkovianUniformEnvironment - INFO - Sum of weight difference arbiterer0.00000000\n",
      "2023-12-06 18:41:55,327 - MarkovianUniformEnvironment - INFO - Sum of weight difference  reconstructor0.00000000\n",
      "2023-12-06 18:41:55,383 - MarkovianUniformEnvironment - INFO - Sum of weight difference arbiterer0.00000000\n",
      "2023-12-06 18:41:55,384 - MarkovianUniformEnvironment - INFO - Sum of weight difference  reconstructor0.00000000\n",
      "2023-12-06 18:41:55,434 - MarkovianUniformEnvironment - INFO - Sum of weight difference arbiterer0.00000000\n",
      "2023-12-06 18:41:55,435 - MarkovianUniformEnvironment - INFO - Sum of weight difference  reconstructor0.00000000\n",
      "2023-12-06 18:41:55,487 - MarkovianUniformEnvironment - INFO - Sum of weight difference arbiterer0.00000000\n",
      "2023-12-06 18:41:55,488 - MarkovianUniformEnvironment - INFO - Sum of weight difference  reconstructor0.00000000\n",
      "2023-12-06 18:41:55,540 - MarkovianUniformEnvironment - INFO - Sum of weight difference arbiterer0.00000000\n",
      "2023-12-06 18:41:55,541 - MarkovianUniformEnvironment - INFO - Sum of weight difference  reconstructor0.00000000\n",
      "2023-12-06 18:41:55,593 - MarkovianUniformEnvironment - INFO - Sum of weight difference arbiterer0.00000000\n",
      "2023-12-06 18:41:55,594 - MarkovianUniformEnvironment - INFO - Sum of weight difference  reconstructor0.00000000\n",
      "2023-12-06 18:41:55,645 - MarkovianUniformEnvironment - INFO - Sum of weight difference arbiterer0.00000000\n",
      "2023-12-06 18:41:55,646 - MarkovianUniformEnvironment - INFO - Sum of weight difference  reconstructor0.00000000\n"
     ]
    },
    {
     "data": {
      "application/vnd.jupyter.widget-view+json": {
       "model_id": "12a26c945f604cd8834b38f39562f32e",
       "version_major": 2,
       "version_minor": 0
      },
      "text/plain": [
       "Steps:   0%|          | 0/12 [00:00<?, ?it/s]"
      ]
     },
     "metadata": {},
     "output_type": "display_data"
    },
    {
     "name": "stderr",
     "output_type": "stream",
     "text": [
      "2023-12-06 18:41:55,721 - MarkovianUniformEnvironment - INFO - Sum of weight difference arbiterer0.00000000\n",
      "2023-12-06 18:41:55,722 - MarkovianUniformEnvironment - INFO - Sum of weight difference  reconstructor0.00000000\n",
      "2023-12-06 18:41:55,773 - MarkovianUniformEnvironment - INFO - Sum of weight difference arbiterer0.00000000\n",
      "2023-12-06 18:41:55,774 - MarkovianUniformEnvironment - INFO - Sum of weight difference  reconstructor0.00000000\n",
      "2023-12-06 18:41:55,829 - MarkovianUniformEnvironment - INFO - Sum of weight difference arbiterer0.00000000\n",
      "2023-12-06 18:41:55,830 - MarkovianUniformEnvironment - INFO - Sum of weight difference  reconstructor0.00000000\n",
      "2023-12-06 18:41:55,884 - MarkovianUniformEnvironment - INFO - Sum of weight difference arbiterer0.00000000\n",
      "2023-12-06 18:41:55,885 - MarkovianUniformEnvironment - INFO - Sum of weight difference  reconstructor0.00000000\n",
      "2023-12-06 18:41:55,936 - MarkovianUniformEnvironment - INFO - Sum of weight difference arbiterer0.00000000\n",
      "2023-12-06 18:41:55,937 - MarkovianUniformEnvironment - INFO - Sum of weight difference  reconstructor0.00000000\n",
      "2023-12-06 18:41:55,989 - MarkovianUniformEnvironment - INFO - Sum of weight difference arbiterer0.00000000\n",
      "2023-12-06 18:41:55,990 - MarkovianUniformEnvironment - INFO - Sum of weight difference  reconstructor0.00000000\n",
      "2023-12-06 18:41:56,041 - MarkovianUniformEnvironment - INFO - Sum of weight difference arbiterer0.00000000\n",
      "2023-12-06 18:41:56,042 - MarkovianUniformEnvironment - INFO - Sum of weight difference  reconstructor0.00000000\n",
      "2023-12-06 18:41:56,094 - MarkovianUniformEnvironment - INFO - Sum of weight difference arbiterer0.00000000\n",
      "2023-12-06 18:41:56,095 - MarkovianUniformEnvironment - INFO - Sum of weight difference  reconstructor0.00000000\n",
      "2023-12-06 18:41:56,150 - MarkovianUniformEnvironment - INFO - Sum of weight difference arbiterer0.00000000\n",
      "2023-12-06 18:41:56,151 - MarkovianUniformEnvironment - INFO - Sum of weight difference  reconstructor0.00000000\n",
      "2023-12-06 18:41:56,207 - MarkovianUniformEnvironment - INFO - Sum of weight difference arbiterer0.00000000\n",
      "2023-12-06 18:41:56,208 - MarkovianUniformEnvironment - INFO - Sum of weight difference  reconstructor0.00000000\n",
      "2023-12-06 18:41:56,262 - MarkovianUniformEnvironment - INFO - Sum of weight difference arbiterer0.00000000\n",
      "2023-12-06 18:41:56,263 - MarkovianUniformEnvironment - INFO - Sum of weight difference  reconstructor0.00000000\n",
      "2023-12-06 18:41:56,315 - MarkovianUniformEnvironment - INFO - Sum of weight difference arbiterer0.00000000\n",
      "2023-12-06 18:41:56,316 - MarkovianUniformEnvironment - INFO - Sum of weight difference  reconstructor0.00000000\n"
     ]
    },
    {
     "data": {
      "application/vnd.jupyter.widget-view+json": {
       "model_id": "036227e75a9249a688033660d6636aaf",
       "version_major": 2,
       "version_minor": 0
      },
      "text/plain": [
       "Steps:   0%|          | 0/12 [00:00<?, ?it/s]"
      ]
     },
     "metadata": {},
     "output_type": "display_data"
    },
    {
     "name": "stderr",
     "output_type": "stream",
     "text": [
      "2023-12-06 18:41:56,391 - MarkovianUniformEnvironment - INFO - Sum of weight difference arbiterer0.00000000\n",
      "2023-12-06 18:41:56,392 - MarkovianUniformEnvironment - INFO - Sum of weight difference  reconstructor0.00000000\n",
      "2023-12-06 18:41:56,446 - MarkovianUniformEnvironment - INFO - Sum of weight difference arbiterer0.00000000\n",
      "2023-12-06 18:41:56,448 - MarkovianUniformEnvironment - INFO - Sum of weight difference  reconstructor0.00000000\n",
      "2023-12-06 18:41:56,513 - MarkovianUniformEnvironment - INFO - Sum of weight difference arbiterer0.00000000\n",
      "2023-12-06 18:41:56,514 - MarkovianUniformEnvironment - INFO - Sum of weight difference  reconstructor0.00000000\n",
      "2023-12-06 18:41:56,566 - MarkovianUniformEnvironment - INFO - Sum of weight difference arbiterer0.00000000\n",
      "2023-12-06 18:41:56,567 - MarkovianUniformEnvironment - INFO - Sum of weight difference  reconstructor0.00000000\n",
      "2023-12-06 18:41:56,619 - MarkovianUniformEnvironment - INFO - Sum of weight difference arbiterer0.00000000\n",
      "2023-12-06 18:41:56,620 - MarkovianUniformEnvironment - INFO - Sum of weight difference  reconstructor0.00000000\n",
      "2023-12-06 18:41:56,680 - MarkovianUniformEnvironment - INFO - Sum of weight difference arbiterer0.00000000\n",
      "2023-12-06 18:41:56,681 - MarkovianUniformEnvironment - INFO - Sum of weight difference  reconstructor0.00000000\n",
      "2023-12-06 18:41:56,734 - MarkovianUniformEnvironment - INFO - Sum of weight difference arbiterer0.00000000\n",
      "2023-12-06 18:41:56,735 - MarkovianUniformEnvironment - INFO - Sum of weight difference  reconstructor0.00000000\n",
      "2023-12-06 18:41:56,790 - MarkovianUniformEnvironment - INFO - Sum of weight difference arbiterer0.00000000\n",
      "2023-12-06 18:41:56,791 - MarkovianUniformEnvironment - INFO - Sum of weight difference  reconstructor0.00000000\n",
      "2023-12-06 18:41:56,846 - MarkovianUniformEnvironment - INFO - Sum of weight difference arbiterer0.00000000\n",
      "2023-12-06 18:41:56,847 - MarkovianUniformEnvironment - INFO - Sum of weight difference  reconstructor0.00000000\n",
      "2023-12-06 18:41:56,898 - MarkovianUniformEnvironment - INFO - Sum of weight difference arbiterer0.00000000\n",
      "2023-12-06 18:41:56,899 - MarkovianUniformEnvironment - INFO - Sum of weight difference  reconstructor0.00000000\n",
      "2023-12-06 18:41:56,953 - MarkovianUniformEnvironment - INFO - Sum of weight difference arbiterer0.00000000\n",
      "2023-12-06 18:41:56,954 - MarkovianUniformEnvironment - INFO - Sum of weight difference  reconstructor0.00000000\n",
      "2023-12-06 18:41:57,003 - MarkovianUniformEnvironment - INFO - Sum of weight difference arbiterer0.00000000\n",
      "2023-12-06 18:41:57,005 - MarkovianUniformEnvironment - INFO - Sum of weight difference  reconstructor0.00000000\n"
     ]
    },
    {
     "data": {
      "application/vnd.jupyter.widget-view+json": {
       "model_id": "ba4697eaed7a4a199188612d1a3f9878",
       "version_major": 2,
       "version_minor": 0
      },
      "text/plain": [
       "Steps:   0%|          | 0/12 [00:00<?, ?it/s]"
      ]
     },
     "metadata": {},
     "output_type": "display_data"
    },
    {
     "name": "stderr",
     "output_type": "stream",
     "text": [
      "2023-12-06 18:41:57,069 - MarkovianUniformEnvironment - INFO - Sum of weight difference arbiterer0.00000000\n",
      "2023-12-06 18:41:57,070 - MarkovianUniformEnvironment - INFO - Sum of weight difference  reconstructor0.00000000\n",
      "2023-12-06 18:41:57,123 - MarkovianUniformEnvironment - INFO - Sum of weight difference arbiterer0.00000000\n",
      "2023-12-06 18:41:57,124 - MarkovianUniformEnvironment - INFO - Sum of weight difference  reconstructor0.00000000\n",
      "2023-12-06 18:41:57,178 - MarkovianUniformEnvironment - INFO - Sum of weight difference arbiterer0.00000000\n",
      "2023-12-06 18:41:57,178 - MarkovianUniformEnvironment - INFO - Sum of weight difference  reconstructor0.00000000\n",
      "2023-12-06 18:41:57,229 - MarkovianUniformEnvironment - INFO - Sum of weight difference arbiterer0.00000000\n",
      "2023-12-06 18:41:57,230 - MarkovianUniformEnvironment - INFO - Sum of weight difference  reconstructor0.00000000\n",
      "2023-12-06 18:41:57,288 - MarkovianUniformEnvironment - INFO - Sum of weight difference arbiterer0.00000000\n",
      "2023-12-06 18:41:57,289 - MarkovianUniformEnvironment - INFO - Sum of weight difference  reconstructor0.00000000\n",
      "2023-12-06 18:41:57,341 - MarkovianUniformEnvironment - INFO - Sum of weight difference arbiterer0.00000000\n",
      "2023-12-06 18:41:57,342 - MarkovianUniformEnvironment - INFO - Sum of weight difference  reconstructor0.00000000\n",
      "2023-12-06 18:41:57,391 - MarkovianUniformEnvironment - INFO - Sum of weight difference arbiterer0.00000000\n",
      "2023-12-06 18:41:57,392 - MarkovianUniformEnvironment - INFO - Sum of weight difference  reconstructor0.00000000\n",
      "2023-12-06 18:41:57,445 - MarkovianUniformEnvironment - INFO - Sum of weight difference arbiterer0.00000000\n",
      "2023-12-06 18:41:57,446 - MarkovianUniformEnvironment - INFO - Sum of weight difference  reconstructor0.00000000\n",
      "2023-12-06 18:41:57,501 - MarkovianUniformEnvironment - INFO - Sum of weight difference arbiterer0.00000000\n",
      "2023-12-06 18:41:57,502 - MarkovianUniformEnvironment - INFO - Sum of weight difference  reconstructor0.00000000\n",
      "2023-12-06 18:41:57,554 - MarkovianUniformEnvironment - INFO - Sum of weight difference arbiterer0.00000000\n",
      "2023-12-06 18:41:57,555 - MarkovianUniformEnvironment - INFO - Sum of weight difference  reconstructor0.00000000\n",
      "2023-12-06 18:41:57,607 - MarkovianUniformEnvironment - INFO - Sum of weight difference arbiterer0.00000000\n",
      "2023-12-06 18:41:57,608 - MarkovianUniformEnvironment - INFO - Sum of weight difference  reconstructor0.00000000\n",
      "2023-12-06 18:41:57,659 - MarkovianUniformEnvironment - INFO - Sum of weight difference arbiterer0.00000000\n",
      "2023-12-06 18:41:57,660 - MarkovianUniformEnvironment - INFO - Sum of weight difference  reconstructor0.00000000\n"
     ]
    },
    {
     "data": {
      "application/vnd.jupyter.widget-view+json": {
       "model_id": "5339e0d754f8456a8983578bfccc514a",
       "version_major": 2,
       "version_minor": 0
      },
      "text/plain": [
       "Steps:   0%|          | 0/12 [00:00<?, ?it/s]"
      ]
     },
     "metadata": {},
     "output_type": "display_data"
    },
    {
     "name": "stderr",
     "output_type": "stream",
     "text": [
      "2023-12-06 18:41:57,726 - MarkovianUniformEnvironment - INFO - Sum of weight difference arbiterer0.00000000\n",
      "2023-12-06 18:41:57,727 - MarkovianUniformEnvironment - INFO - Sum of weight difference  reconstructor0.00000000\n",
      "2023-12-06 18:41:57,779 - MarkovianUniformEnvironment - INFO - Sum of weight difference arbiterer0.00000000\n",
      "2023-12-06 18:41:57,779 - MarkovianUniformEnvironment - INFO - Sum of weight difference  reconstructor0.00000000\n",
      "2023-12-06 18:41:57,836 - MarkovianUniformEnvironment - INFO - Sum of weight difference arbiterer0.00000000\n",
      "2023-12-06 18:41:57,837 - MarkovianUniformEnvironment - INFO - Sum of weight difference  reconstructor0.00000000\n",
      "2023-12-06 18:41:57,888 - MarkovianUniformEnvironment - INFO - Sum of weight difference arbiterer0.00000000\n",
      "2023-12-06 18:41:57,888 - MarkovianUniformEnvironment - INFO - Sum of weight difference  reconstructor0.00000000\n",
      "2023-12-06 18:41:57,941 - MarkovianUniformEnvironment - INFO - Sum of weight difference arbiterer0.00000000\n",
      "2023-12-06 18:41:57,941 - MarkovianUniformEnvironment - INFO - Sum of weight difference  reconstructor0.00000000\n",
      "2023-12-06 18:41:57,990 - MarkovianUniformEnvironment - INFO - Sum of weight difference arbiterer0.00000000\n",
      "2023-12-06 18:41:57,991 - MarkovianUniformEnvironment - INFO - Sum of weight difference  reconstructor0.00000000\n",
      "2023-12-06 18:41:58,042 - MarkovianUniformEnvironment - INFO - Sum of weight difference arbiterer0.00000000\n",
      "2023-12-06 18:41:58,043 - MarkovianUniformEnvironment - INFO - Sum of weight difference  reconstructor0.00000000\n",
      "2023-12-06 18:41:58,095 - MarkovianUniformEnvironment - INFO - Sum of weight difference arbiterer0.00000000\n",
      "2023-12-06 18:41:58,096 - MarkovianUniformEnvironment - INFO - Sum of weight difference  reconstructor0.00000000\n",
      "2023-12-06 18:41:58,148 - MarkovianUniformEnvironment - INFO - Sum of weight difference arbiterer0.00000000\n",
      "2023-12-06 18:41:58,149 - MarkovianUniformEnvironment - INFO - Sum of weight difference  reconstructor0.00000000\n",
      "2023-12-06 18:41:58,199 - MarkovianUniformEnvironment - INFO - Sum of weight difference arbiterer0.00000000\n",
      "2023-12-06 18:41:58,200 - MarkovianUniformEnvironment - INFO - Sum of weight difference  reconstructor0.00000000\n",
      "2023-12-06 18:41:58,259 - MarkovianUniformEnvironment - INFO - Sum of weight difference arbiterer0.00000000\n",
      "2023-12-06 18:41:58,260 - MarkovianUniformEnvironment - INFO - Sum of weight difference  reconstructor0.00000000\n",
      "2023-12-06 18:41:58,311 - MarkovianUniformEnvironment - INFO - Sum of weight difference arbiterer0.00000000\n",
      "2023-12-06 18:41:58,312 - MarkovianUniformEnvironment - INFO - Sum of weight difference  reconstructor0.00000000\n"
     ]
    },
    {
     "data": {
      "application/vnd.jupyter.widget-view+json": {
       "model_id": "b42dfc4859a44d159bae9959a2a0795b",
       "version_major": 2,
       "version_minor": 0
      },
      "text/plain": [
       "Steps:   0%|          | 0/12 [00:00<?, ?it/s]"
      ]
     },
     "metadata": {},
     "output_type": "display_data"
    },
    {
     "name": "stderr",
     "output_type": "stream",
     "text": [
      "2023-12-06 18:41:58,373 - MarkovianUniformEnvironment - INFO - Sum of weight difference arbiterer0.00000000\n",
      "2023-12-06 18:41:58,373 - MarkovianUniformEnvironment - INFO - Sum of weight difference  reconstructor0.00000000\n",
      "2023-12-06 18:41:58,432 - MarkovianUniformEnvironment - INFO - Sum of weight difference arbiterer0.00000000\n",
      "2023-12-06 18:41:58,433 - MarkovianUniformEnvironment - INFO - Sum of weight difference  reconstructor0.00000000\n",
      "2023-12-06 18:41:58,489 - MarkovianUniformEnvironment - INFO - Sum of weight difference arbiterer0.00000000\n",
      "2023-12-06 18:41:58,490 - MarkovianUniformEnvironment - INFO - Sum of weight difference  reconstructor0.00000000\n",
      "2023-12-06 18:41:58,541 - MarkovianUniformEnvironment - INFO - Sum of weight difference arbiterer0.00000000\n",
      "2023-12-06 18:41:58,542 - MarkovianUniformEnvironment - INFO - Sum of weight difference  reconstructor0.00000000\n",
      "2023-12-06 18:41:58,594 - MarkovianUniformEnvironment - INFO - Sum of weight difference arbiterer0.00000000\n",
      "2023-12-06 18:41:58,595 - MarkovianUniformEnvironment - INFO - Sum of weight difference  reconstructor0.00000000\n",
      "2023-12-06 18:41:58,648 - MarkovianUniformEnvironment - INFO - Sum of weight difference arbiterer0.00000000\n",
      "2023-12-06 18:41:58,649 - MarkovianUniformEnvironment - INFO - Sum of weight difference  reconstructor0.00000000\n",
      "2023-12-06 18:41:58,704 - MarkovianUniformEnvironment - INFO - Sum of weight difference arbiterer0.00000000\n",
      "2023-12-06 18:41:58,705 - MarkovianUniformEnvironment - INFO - Sum of weight difference  reconstructor0.00000000\n",
      "2023-12-06 18:41:58,758 - MarkovianUniformEnvironment - INFO - Sum of weight difference arbiterer0.00000000\n",
      "2023-12-06 18:41:58,758 - MarkovianUniformEnvironment - INFO - Sum of weight difference  reconstructor0.00000000\n",
      "2023-12-06 18:41:58,812 - MarkovianUniformEnvironment - INFO - Sum of weight difference arbiterer0.00000000\n",
      "2023-12-06 18:41:58,813 - MarkovianUniformEnvironment - INFO - Sum of weight difference  reconstructor0.00000000\n",
      "2023-12-06 18:41:58,867 - MarkovianUniformEnvironment - INFO - Sum of weight difference arbiterer0.00000000\n",
      "2023-12-06 18:41:58,868 - MarkovianUniformEnvironment - INFO - Sum of weight difference  reconstructor0.00000000\n",
      "2023-12-06 18:41:58,923 - MarkovianUniformEnvironment - INFO - Sum of weight difference arbiterer0.00000000\n",
      "2023-12-06 18:41:58,924 - MarkovianUniformEnvironment - INFO - Sum of weight difference  reconstructor0.00000000\n",
      "2023-12-06 18:41:58,974 - MarkovianUniformEnvironment - INFO - Sum of weight difference arbiterer0.00000000\n",
      "2023-12-06 18:41:58,975 - MarkovianUniformEnvironment - INFO - Sum of weight difference  reconstructor0.00000000\n"
     ]
    },
    {
     "data": {
      "application/vnd.jupyter.widget-view+json": {
       "model_id": "d4c774aba7304920b78b9eabe4a5786d",
       "version_major": 2,
       "version_minor": 0
      },
      "text/plain": [
       "Steps:   0%|          | 0/12 [00:00<?, ?it/s]"
      ]
     },
     "metadata": {},
     "output_type": "display_data"
    },
    {
     "name": "stderr",
     "output_type": "stream",
     "text": [
      "2023-12-06 18:41:59,041 - MarkovianUniformEnvironment - INFO - Sum of weight difference arbiterer0.00000000\n",
      "2023-12-06 18:41:59,042 - MarkovianUniformEnvironment - INFO - Sum of weight difference  reconstructor0.00000000\n",
      "2023-12-06 18:41:59,093 - MarkovianUniformEnvironment - INFO - Sum of weight difference arbiterer0.00000000\n",
      "2023-12-06 18:41:59,094 - MarkovianUniformEnvironment - INFO - Sum of weight difference  reconstructor0.00000000\n",
      "2023-12-06 18:41:59,148 - MarkovianUniformEnvironment - INFO - Sum of weight difference arbiterer0.00000000\n",
      "2023-12-06 18:41:59,149 - MarkovianUniformEnvironment - INFO - Sum of weight difference  reconstructor0.00000000\n",
      "2023-12-06 18:41:59,199 - MarkovianUniformEnvironment - INFO - Sum of weight difference arbiterer0.00000000\n",
      "2023-12-06 18:41:59,200 - MarkovianUniformEnvironment - INFO - Sum of weight difference  reconstructor0.00000000\n",
      "2023-12-06 18:41:59,252 - MarkovianUniformEnvironment - INFO - Sum of weight difference arbiterer0.00000000\n",
      "2023-12-06 18:41:59,253 - MarkovianUniformEnvironment - INFO - Sum of weight difference  reconstructor0.00000000\n",
      "2023-12-06 18:41:59,304 - MarkovianUniformEnvironment - INFO - Sum of weight difference arbiterer0.00000000\n",
      "2023-12-06 18:41:59,305 - MarkovianUniformEnvironment - INFO - Sum of weight difference  reconstructor0.00000000\n",
      "2023-12-06 18:41:59,357 - MarkovianUniformEnvironment - INFO - Sum of weight difference arbiterer0.00000000\n",
      "2023-12-06 18:41:59,358 - MarkovianUniformEnvironment - INFO - Sum of weight difference  reconstructor0.00000000\n",
      "2023-12-06 18:41:59,408 - MarkovianUniformEnvironment - INFO - Sum of weight difference arbiterer0.00000000\n",
      "2023-12-06 18:41:59,409 - MarkovianUniformEnvironment - INFO - Sum of weight difference  reconstructor0.00000000\n",
      "2023-12-06 18:41:59,465 - MarkovianUniformEnvironment - INFO - Sum of weight difference arbiterer0.00000000\n",
      "2023-12-06 18:41:59,466 - MarkovianUniformEnvironment - INFO - Sum of weight difference  reconstructor0.00000000\n",
      "2023-12-06 18:41:59,518 - MarkovianUniformEnvironment - INFO - Sum of weight difference arbiterer0.00000000\n",
      "2023-12-06 18:41:59,518 - MarkovianUniformEnvironment - INFO - Sum of weight difference  reconstructor0.00000000\n",
      "2023-12-06 18:41:59,572 - MarkovianUniformEnvironment - INFO - Sum of weight difference arbiterer0.00000000\n",
      "2023-12-06 18:41:59,573 - MarkovianUniformEnvironment - INFO - Sum of weight difference  reconstructor0.00000000\n",
      "2023-12-06 18:41:59,624 - MarkovianUniformEnvironment - INFO - Sum of weight difference arbiterer0.00000000\n",
      "2023-12-06 18:41:59,625 - MarkovianUniformEnvironment - INFO - Sum of weight difference  reconstructor0.00000000\n"
     ]
    },
    {
     "data": {
      "application/vnd.jupyter.widget-view+json": {
       "model_id": "1621ef01081c4b32a25de49bc8bbc169",
       "version_major": 2,
       "version_minor": 0
      },
      "text/plain": [
       "Steps:   0%|          | 0/12 [00:00<?, ?it/s]"
      ]
     },
     "metadata": {},
     "output_type": "display_data"
    },
    {
     "name": "stderr",
     "output_type": "stream",
     "text": [
      "2023-12-06 18:41:59,685 - MarkovianUniformEnvironment - INFO - Sum of weight difference arbiterer0.00000000\n",
      "2023-12-06 18:41:59,689 - MarkovianUniformEnvironment - INFO - Sum of weight difference  reconstructor0.00000000\n",
      "2023-12-06 18:41:59,744 - MarkovianUniformEnvironment - INFO - Sum of weight difference arbiterer0.00000000\n",
      "2023-12-06 18:41:59,745 - MarkovianUniformEnvironment - INFO - Sum of weight difference  reconstructor0.00000000\n",
      "2023-12-06 18:41:59,801 - MarkovianUniformEnvironment - INFO - Sum of weight difference arbiterer0.00000000\n",
      "2023-12-06 18:41:59,802 - MarkovianUniformEnvironment - INFO - Sum of weight difference  reconstructor0.00000000\n",
      "2023-12-06 18:41:59,859 - MarkovianUniformEnvironment - INFO - Sum of weight difference arbiterer0.00000000\n",
      "2023-12-06 18:41:59,860 - MarkovianUniformEnvironment - INFO - Sum of weight difference  reconstructor0.00000000\n",
      "2023-12-06 18:41:59,914 - MarkovianUniformEnvironment - INFO - Sum of weight difference arbiterer0.00000000\n",
      "2023-12-06 18:41:59,915 - MarkovianUniformEnvironment - INFO - Sum of weight difference  reconstructor0.00000000\n",
      "2023-12-06 18:41:59,968 - MarkovianUniformEnvironment - INFO - Sum of weight difference arbiterer0.00000000\n",
      "2023-12-06 18:41:59,969 - MarkovianUniformEnvironment - INFO - Sum of weight difference  reconstructor0.00000000\n",
      "2023-12-06 18:42:00,020 - MarkovianUniformEnvironment - INFO - Sum of weight difference arbiterer0.00000000\n",
      "2023-12-06 18:42:00,021 - MarkovianUniformEnvironment - INFO - Sum of weight difference  reconstructor0.00000000\n",
      "2023-12-06 18:42:00,074 - MarkovianUniformEnvironment - INFO - Sum of weight difference arbiterer0.00000000\n",
      "2023-12-06 18:42:00,075 - MarkovianUniformEnvironment - INFO - Sum of weight difference  reconstructor0.00000000\n",
      "2023-12-06 18:42:00,130 - MarkovianUniformEnvironment - INFO - Sum of weight difference arbiterer0.00000000\n",
      "2023-12-06 18:42:00,132 - MarkovianUniformEnvironment - INFO - Sum of weight difference  reconstructor0.00000000\n",
      "2023-12-06 18:42:00,187 - MarkovianUniformEnvironment - INFO - Sum of weight difference arbiterer0.00000000\n",
      "2023-12-06 18:42:00,188 - MarkovianUniformEnvironment - INFO - Sum of weight difference  reconstructor0.00000000\n",
      "2023-12-06 18:42:00,243 - MarkovianUniformEnvironment - INFO - Sum of weight difference arbiterer0.00000000\n",
      "2023-12-06 18:42:00,244 - MarkovianUniformEnvironment - INFO - Sum of weight difference  reconstructor0.00000000\n",
      "2023-12-06 18:42:00,297 - MarkovianUniformEnvironment - INFO - Sum of weight difference arbiterer0.00000000\n",
      "2023-12-06 18:42:00,297 - MarkovianUniformEnvironment - INFO - Sum of weight difference  reconstructor0.00000000\n"
     ]
    },
    {
     "data": {
      "application/vnd.jupyter.widget-view+json": {
       "model_id": "3038f24eb6724dba902858a3d1271898",
       "version_major": 2,
       "version_minor": 0
      },
      "text/plain": [
       "Steps:   0%|          | 0/12 [00:00<?, ?it/s]"
      ]
     },
     "metadata": {},
     "output_type": "display_data"
    },
    {
     "name": "stderr",
     "output_type": "stream",
     "text": [
      "2023-12-06 18:42:00,372 - MarkovianUniformEnvironment - INFO - Sum of weight difference arbiterer0.00000000\n",
      "2023-12-06 18:42:00,373 - MarkovianUniformEnvironment - INFO - Sum of weight difference  reconstructor0.00000000\n",
      "2023-12-06 18:42:00,428 - MarkovianUniformEnvironment - INFO - Sum of weight difference arbiterer0.00000000\n",
      "2023-12-06 18:42:00,428 - MarkovianUniformEnvironment - INFO - Sum of weight difference  reconstructor0.00000000\n",
      "2023-12-06 18:42:00,482 - MarkovianUniformEnvironment - INFO - Sum of weight difference arbiterer0.00000000\n",
      "2023-12-06 18:42:00,483 - MarkovianUniformEnvironment - INFO - Sum of weight difference  reconstructor0.00000000\n",
      "2023-12-06 18:42:00,535 - MarkovianUniformEnvironment - INFO - Sum of weight difference arbiterer0.00000000\n",
      "2023-12-06 18:42:00,536 - MarkovianUniformEnvironment - INFO - Sum of weight difference  reconstructor0.00000000\n",
      "2023-12-06 18:42:00,591 - MarkovianUniformEnvironment - INFO - Sum of weight difference arbiterer0.00000000\n",
      "2023-12-06 18:42:00,591 - MarkovianUniformEnvironment - INFO - Sum of weight difference  reconstructor0.00000000\n",
      "2023-12-06 18:42:00,645 - MarkovianUniformEnvironment - INFO - Sum of weight difference arbiterer0.00000000\n",
      "2023-12-06 18:42:00,647 - MarkovianUniformEnvironment - INFO - Sum of weight difference  reconstructor0.00000000\n",
      "2023-12-06 18:42:00,696 - MarkovianUniformEnvironment - INFO - Sum of weight difference arbiterer0.00000000\n",
      "2023-12-06 18:42:00,697 - MarkovianUniformEnvironment - INFO - Sum of weight difference  reconstructor0.00000000\n",
      "2023-12-06 18:42:00,748 - MarkovianUniformEnvironment - INFO - Sum of weight difference arbiterer0.00000000\n",
      "2023-12-06 18:42:00,749 - MarkovianUniformEnvironment - INFO - Sum of weight difference  reconstructor0.00000000\n",
      "2023-12-06 18:42:00,803 - MarkovianUniformEnvironment - INFO - Sum of weight difference arbiterer0.00000000\n",
      "2023-12-06 18:42:00,804 - MarkovianUniformEnvironment - INFO - Sum of weight difference  reconstructor0.00000000\n",
      "2023-12-06 18:42:00,857 - MarkovianUniformEnvironment - INFO - Sum of weight difference arbiterer0.00000000\n",
      "2023-12-06 18:42:00,857 - MarkovianUniformEnvironment - INFO - Sum of weight difference  reconstructor0.00000000\n",
      "2023-12-06 18:42:00,910 - MarkovianUniformEnvironment - INFO - Sum of weight difference arbiterer0.00000000\n",
      "2023-12-06 18:42:00,911 - MarkovianUniformEnvironment - INFO - Sum of weight difference  reconstructor0.00000000\n",
      "2023-12-06 18:42:00,965 - MarkovianUniformEnvironment - INFO - Sum of weight difference arbiterer0.00000000\n",
      "2023-12-06 18:42:00,966 - MarkovianUniformEnvironment - INFO - Sum of weight difference  reconstructor0.00000000\n"
     ]
    },
    {
     "data": {
      "application/vnd.jupyter.widget-view+json": {
       "model_id": "81b43af2b73e442186e0a59170898b24",
       "version_major": 2,
       "version_minor": 0
      },
      "text/plain": [
       "Steps:   0%|          | 0/12 [00:00<?, ?it/s]"
      ]
     },
     "metadata": {},
     "output_type": "display_data"
    },
    {
     "name": "stderr",
     "output_type": "stream",
     "text": [
      "2023-12-06 18:42:01,042 - MarkovianUniformEnvironment - INFO - Sum of weight difference arbiterer0.00000000\n",
      "2023-12-06 18:42:01,043 - MarkovianUniformEnvironment - INFO - Sum of weight difference  reconstructor0.00000000\n",
      "2023-12-06 18:42:01,096 - MarkovianUniformEnvironment - INFO - Sum of weight difference arbiterer0.00000000\n",
      "2023-12-06 18:42:01,097 - MarkovianUniformEnvironment - INFO - Sum of weight difference  reconstructor0.00000000\n",
      "2023-12-06 18:42:01,149 - MarkovianUniformEnvironment - INFO - Sum of weight difference arbiterer0.00000000\n",
      "2023-12-06 18:42:01,150 - MarkovianUniformEnvironment - INFO - Sum of weight difference  reconstructor0.00000000\n",
      "2023-12-06 18:42:01,203 - MarkovianUniformEnvironment - INFO - Sum of weight difference arbiterer0.00000000\n",
      "2023-12-06 18:42:01,204 - MarkovianUniformEnvironment - INFO - Sum of weight difference  reconstructor0.00000000\n",
      "2023-12-06 18:42:01,260 - MarkovianUniformEnvironment - INFO - Sum of weight difference arbiterer0.00000000\n",
      "2023-12-06 18:42:01,261 - MarkovianUniformEnvironment - INFO - Sum of weight difference  reconstructor0.00000000\n",
      "2023-12-06 18:42:01,313 - MarkovianUniformEnvironment - INFO - Sum of weight difference arbiterer0.00000000\n",
      "2023-12-06 18:42:01,314 - MarkovianUniformEnvironment - INFO - Sum of weight difference  reconstructor0.00000000\n",
      "2023-12-06 18:42:01,368 - MarkovianUniformEnvironment - INFO - Sum of weight difference arbiterer0.00000000\n",
      "2023-12-06 18:42:01,369 - MarkovianUniformEnvironment - INFO - Sum of weight difference  reconstructor0.00000000\n",
      "2023-12-06 18:42:01,427 - MarkovianUniformEnvironment - INFO - Sum of weight difference arbiterer0.00000000\n",
      "2023-12-06 18:42:01,428 - MarkovianUniformEnvironment - INFO - Sum of weight difference  reconstructor0.00000000\n",
      "2023-12-06 18:42:01,483 - MarkovianUniformEnvironment - INFO - Sum of weight difference arbiterer0.00000000\n",
      "2023-12-06 18:42:01,484 - MarkovianUniformEnvironment - INFO - Sum of weight difference  reconstructor0.00000000\n",
      "2023-12-06 18:42:01,540 - MarkovianUniformEnvironment - INFO - Sum of weight difference arbiterer0.00000000\n",
      "2023-12-06 18:42:01,540 - MarkovianUniformEnvironment - INFO - Sum of weight difference  reconstructor0.00000000\n",
      "2023-12-06 18:42:01,596 - MarkovianUniformEnvironment - INFO - Sum of weight difference arbiterer0.00000000\n",
      "2023-12-06 18:42:01,597 - MarkovianUniformEnvironment - INFO - Sum of weight difference  reconstructor0.00000000\n",
      "2023-12-06 18:42:01,648 - MarkovianUniformEnvironment - INFO - Sum of weight difference arbiterer0.00000000\n",
      "2023-12-06 18:42:01,649 - MarkovianUniformEnvironment - INFO - Sum of weight difference  reconstructor0.00000000\n"
     ]
    },
    {
     "data": {
      "application/vnd.jupyter.widget-view+json": {
       "model_id": "6ad658d551f44480a751e4d020eb44ac",
       "version_major": 2,
       "version_minor": 0
      },
      "text/plain": [
       "Steps:   0%|          | 0/12 [00:00<?, ?it/s]"
      ]
     },
     "metadata": {},
     "output_type": "display_data"
    },
    {
     "name": "stderr",
     "output_type": "stream",
     "text": [
      "2023-12-06 18:42:01,725 - MarkovianUniformEnvironment - INFO - Sum of weight difference arbiterer0.00000000\n",
      "2023-12-06 18:42:01,726 - MarkovianUniformEnvironment - INFO - Sum of weight difference  reconstructor0.00000000\n",
      "2023-12-06 18:42:01,779 - MarkovianUniformEnvironment - INFO - Sum of weight difference arbiterer0.00000000\n",
      "2023-12-06 18:42:01,780 - MarkovianUniformEnvironment - INFO - Sum of weight difference  reconstructor0.00000000\n",
      "2023-12-06 18:42:01,834 - MarkovianUniformEnvironment - INFO - Sum of weight difference arbiterer0.00000000\n",
      "2023-12-06 18:42:01,835 - MarkovianUniformEnvironment - INFO - Sum of weight difference  reconstructor0.00000000\n",
      "2023-12-06 18:42:01,890 - MarkovianUniformEnvironment - INFO - Sum of weight difference arbiterer0.00000000\n",
      "2023-12-06 18:42:01,890 - MarkovianUniformEnvironment - INFO - Sum of weight difference  reconstructor0.00000000\n",
      "2023-12-06 18:42:01,946 - MarkovianUniformEnvironment - INFO - Sum of weight difference arbiterer0.00000000\n",
      "2023-12-06 18:42:01,947 - MarkovianUniformEnvironment - INFO - Sum of weight difference  reconstructor0.00000000\n",
      "2023-12-06 18:42:01,998 - MarkovianUniformEnvironment - INFO - Sum of weight difference arbiterer0.00000000\n",
      "2023-12-06 18:42:01,999 - MarkovianUniformEnvironment - INFO - Sum of weight difference  reconstructor0.00000000\n",
      "2023-12-06 18:42:02,055 - MarkovianUniformEnvironment - INFO - Sum of weight difference arbiterer0.00000000\n",
      "2023-12-06 18:42:02,056 - MarkovianUniformEnvironment - INFO - Sum of weight difference  reconstructor0.00000000\n",
      "2023-12-06 18:42:02,110 - MarkovianUniformEnvironment - INFO - Sum of weight difference arbiterer0.00000000\n",
      "2023-12-06 18:42:02,111 - MarkovianUniformEnvironment - INFO - Sum of weight difference  reconstructor0.00000000\n",
      "2023-12-06 18:42:02,173 - MarkovianUniformEnvironment - INFO - Sum of weight difference arbiterer0.00000000\n",
      "2023-12-06 18:42:02,174 - MarkovianUniformEnvironment - INFO - Sum of weight difference  reconstructor0.00000000\n",
      "2023-12-06 18:42:02,226 - MarkovianUniformEnvironment - INFO - Sum of weight difference arbiterer0.00000000\n",
      "2023-12-06 18:42:02,227 - MarkovianUniformEnvironment - INFO - Sum of weight difference  reconstructor0.00000000\n",
      "2023-12-06 18:42:02,280 - MarkovianUniformEnvironment - INFO - Sum of weight difference arbiterer0.00000000\n",
      "2023-12-06 18:42:02,281 - MarkovianUniformEnvironment - INFO - Sum of weight difference  reconstructor0.00000000\n",
      "2023-12-06 18:42:02,333 - MarkovianUniformEnvironment - INFO - Sum of weight difference arbiterer0.00000000\n",
      "2023-12-06 18:42:02,334 - MarkovianUniformEnvironment - INFO - Sum of weight difference  reconstructor0.00000000\n"
     ]
    },
    {
     "data": {
      "application/vnd.jupyter.widget-view+json": {
       "model_id": "50ae9b99e8c24fdcb03ff81f613ef2c8",
       "version_major": 2,
       "version_minor": 0
      },
      "text/plain": [
       "Steps:   0%|          | 0/12 [00:00<?, ?it/s]"
      ]
     },
     "metadata": {},
     "output_type": "display_data"
    },
    {
     "name": "stderr",
     "output_type": "stream",
     "text": [
      "2023-12-06 18:42:02,408 - MarkovianUniformEnvironment - INFO - Sum of weight difference arbiterer0.00000000\n",
      "2023-12-06 18:42:02,409 - MarkovianUniformEnvironment - INFO - Sum of weight difference  reconstructor0.00000000\n",
      "2023-12-06 18:42:02,463 - MarkovianUniformEnvironment - INFO - Sum of weight difference arbiterer0.00000000\n",
      "2023-12-06 18:42:02,464 - MarkovianUniformEnvironment - INFO - Sum of weight difference  reconstructor0.00000000\n",
      "2023-12-06 18:42:02,519 - MarkovianUniformEnvironment - INFO - Sum of weight difference arbiterer0.00000000\n",
      "2023-12-06 18:42:02,520 - MarkovianUniformEnvironment - INFO - Sum of weight difference  reconstructor0.00000000\n",
      "2023-12-06 18:42:02,569 - MarkovianUniformEnvironment - INFO - Sum of weight difference arbiterer0.00000000\n",
      "2023-12-06 18:42:02,570 - MarkovianUniformEnvironment - INFO - Sum of weight difference  reconstructor0.00000000\n",
      "2023-12-06 18:42:02,622 - MarkovianUniformEnvironment - INFO - Sum of weight difference arbiterer0.00000000\n",
      "2023-12-06 18:42:02,623 - MarkovianUniformEnvironment - INFO - Sum of weight difference  reconstructor0.00000000\n",
      "2023-12-06 18:42:02,675 - MarkovianUniformEnvironment - INFO - Sum of weight difference arbiterer0.00000000\n",
      "2023-12-06 18:42:02,676 - MarkovianUniformEnvironment - INFO - Sum of weight difference  reconstructor0.00000000\n",
      "2023-12-06 18:42:02,729 - MarkovianUniformEnvironment - INFO - Sum of weight difference arbiterer0.00000000\n",
      "2023-12-06 18:42:02,730 - MarkovianUniformEnvironment - INFO - Sum of weight difference  reconstructor0.00000000\n",
      "2023-12-06 18:42:02,780 - MarkovianUniformEnvironment - INFO - Sum of weight difference arbiterer0.00000000\n",
      "2023-12-06 18:42:02,781 - MarkovianUniformEnvironment - INFO - Sum of weight difference  reconstructor0.00000000\n",
      "2023-12-06 18:42:02,836 - MarkovianUniformEnvironment - INFO - Sum of weight difference arbiterer0.00000000\n",
      "2023-12-06 18:42:02,837 - MarkovianUniformEnvironment - INFO - Sum of weight difference  reconstructor0.00000000\n",
      "2023-12-06 18:42:02,890 - MarkovianUniformEnvironment - INFO - Sum of weight difference arbiterer0.00000000\n",
      "2023-12-06 18:42:02,890 - MarkovianUniformEnvironment - INFO - Sum of weight difference  reconstructor0.00000000\n",
      "2023-12-06 18:42:02,942 - MarkovianUniformEnvironment - INFO - Sum of weight difference arbiterer0.00000000\n",
      "2023-12-06 18:42:02,943 - MarkovianUniformEnvironment - INFO - Sum of weight difference  reconstructor0.00000000\n",
      "2023-12-06 18:42:03,001 - MarkovianUniformEnvironment - INFO - Sum of weight difference arbiterer0.00000000\n",
      "2023-12-06 18:42:03,002 - MarkovianUniformEnvironment - INFO - Sum of weight difference  reconstructor0.00000000\n"
     ]
    },
    {
     "data": {
      "application/vnd.jupyter.widget-view+json": {
       "model_id": "86092ce3509f4c12afb1c17cb0aab6b9",
       "version_major": 2,
       "version_minor": 0
      },
      "text/plain": [
       "Steps:   0%|          | 0/12 [00:00<?, ?it/s]"
      ]
     },
     "metadata": {},
     "output_type": "display_data"
    },
    {
     "name": "stderr",
     "output_type": "stream",
     "text": [
      "2023-12-06 18:42:03,069 - MarkovianUniformEnvironment - INFO - Sum of weight difference arbiterer0.00000000\n",
      "2023-12-06 18:42:03,070 - MarkovianUniformEnvironment - INFO - Sum of weight difference  reconstructor0.00000000\n",
      "2023-12-06 18:42:03,122 - MarkovianUniformEnvironment - INFO - Sum of weight difference arbiterer0.00000000\n",
      "2023-12-06 18:42:03,123 - MarkovianUniformEnvironment - INFO - Sum of weight difference  reconstructor0.00000000\n",
      "2023-12-06 18:42:03,176 - MarkovianUniformEnvironment - INFO - Sum of weight difference arbiterer0.00000000\n",
      "2023-12-06 18:42:03,177 - MarkovianUniformEnvironment - INFO - Sum of weight difference  reconstructor0.00000000\n",
      "2023-12-06 18:42:03,229 - MarkovianUniformEnvironment - INFO - Sum of weight difference arbiterer0.00000000\n",
      "2023-12-06 18:42:03,230 - MarkovianUniformEnvironment - INFO - Sum of weight difference  reconstructor0.00000000\n",
      "2023-12-06 18:42:03,288 - MarkovianUniformEnvironment - INFO - Sum of weight difference arbiterer0.00000000\n",
      "2023-12-06 18:42:03,289 - MarkovianUniformEnvironment - INFO - Sum of weight difference  reconstructor0.00000000\n",
      "2023-12-06 18:42:03,341 - MarkovianUniformEnvironment - INFO - Sum of weight difference arbiterer0.00000000\n",
      "2023-12-06 18:42:03,342 - MarkovianUniformEnvironment - INFO - Sum of weight difference  reconstructor0.00000000\n",
      "2023-12-06 18:42:03,399 - MarkovianUniformEnvironment - INFO - Sum of weight difference arbiterer0.00000000\n",
      "2023-12-06 18:42:03,400 - MarkovianUniformEnvironment - INFO - Sum of weight difference  reconstructor0.00000000\n",
      "2023-12-06 18:42:03,454 - MarkovianUniformEnvironment - INFO - Sum of weight difference arbiterer0.00000000\n",
      "2023-12-06 18:42:03,455 - MarkovianUniformEnvironment - INFO - Sum of weight difference  reconstructor0.00000000\n",
      "2023-12-06 18:42:03,512 - MarkovianUniformEnvironment - INFO - Sum of weight difference arbiterer0.00000000\n",
      "2023-12-06 18:42:03,513 - MarkovianUniformEnvironment - INFO - Sum of weight difference  reconstructor0.00000000\n",
      "2023-12-06 18:42:03,565 - MarkovianUniformEnvironment - INFO - Sum of weight difference arbiterer0.00000000\n",
      "2023-12-06 18:42:03,566 - MarkovianUniformEnvironment - INFO - Sum of weight difference  reconstructor0.00000000\n",
      "2023-12-06 18:42:03,623 - MarkovianUniformEnvironment - INFO - Sum of weight difference arbiterer0.00000000\n",
      "2023-12-06 18:42:03,624 - MarkovianUniformEnvironment - INFO - Sum of weight difference  reconstructor0.00000000\n",
      "2023-12-06 18:42:03,680 - MarkovianUniformEnvironment - INFO - Sum of weight difference arbiterer0.00000000\n",
      "2023-12-06 18:42:03,681 - MarkovianUniformEnvironment - INFO - Sum of weight difference  reconstructor0.00000000\n"
     ]
    },
    {
     "data": {
      "application/vnd.jupyter.widget-view+json": {
       "model_id": "ab420f6459a44da9aac628f8af578ceb",
       "version_major": 2,
       "version_minor": 0
      },
      "text/plain": [
       "Steps:   0%|          | 0/12 [00:00<?, ?it/s]"
      ]
     },
     "metadata": {},
     "output_type": "display_data"
    },
    {
     "name": "stderr",
     "output_type": "stream",
     "text": [
      "2023-12-06 18:42:03,739 - MarkovianUniformEnvironment - INFO - Sum of weight difference arbiterer0.00000000\n",
      "2023-12-06 18:42:03,740 - MarkovianUniformEnvironment - INFO - Sum of weight difference  reconstructor0.00000000\n",
      "2023-12-06 18:42:03,794 - MarkovianUniformEnvironment - INFO - Sum of weight difference arbiterer0.00000000\n",
      "2023-12-06 18:42:03,794 - MarkovianUniformEnvironment - INFO - Sum of weight difference  reconstructor0.00000000\n",
      "2023-12-06 18:42:03,850 - MarkovianUniformEnvironment - INFO - Sum of weight difference arbiterer0.00000000\n",
      "2023-12-06 18:42:03,851 - MarkovianUniformEnvironment - INFO - Sum of weight difference  reconstructor0.00000000\n",
      "2023-12-06 18:42:03,905 - MarkovianUniformEnvironment - INFO - Sum of weight difference arbiterer0.00000000\n",
      "2023-12-06 18:42:03,909 - MarkovianUniformEnvironment - INFO - Sum of weight difference  reconstructor0.00000000\n",
      "2023-12-06 18:42:03,979 - MarkovianUniformEnvironment - INFO - Sum of weight difference arbiterer0.00000000\n",
      "2023-12-06 18:42:03,980 - MarkovianUniformEnvironment - INFO - Sum of weight difference  reconstructor0.00000000\n",
      "2023-12-06 18:42:04,032 - MarkovianUniformEnvironment - INFO - Sum of weight difference arbiterer0.00000000\n",
      "2023-12-06 18:42:04,033 - MarkovianUniformEnvironment - INFO - Sum of weight difference  reconstructor0.00000000\n",
      "2023-12-06 18:42:04,088 - MarkovianUniformEnvironment - INFO - Sum of weight difference arbiterer0.00000000\n",
      "2023-12-06 18:42:04,089 - MarkovianUniformEnvironment - INFO - Sum of weight difference  reconstructor0.00000000\n",
      "2023-12-06 18:42:04,142 - MarkovianUniformEnvironment - INFO - Sum of weight difference arbiterer0.00000000\n",
      "2023-12-06 18:42:04,143 - MarkovianUniformEnvironment - INFO - Sum of weight difference  reconstructor0.00000000\n",
      "2023-12-06 18:42:04,197 - MarkovianUniformEnvironment - INFO - Sum of weight difference arbiterer0.00000000\n",
      "2023-12-06 18:42:04,198 - MarkovianUniformEnvironment - INFO - Sum of weight difference  reconstructor0.00000000\n",
      "2023-12-06 18:42:04,254 - MarkovianUniformEnvironment - INFO - Sum of weight difference arbiterer0.00000000\n",
      "2023-12-06 18:42:04,255 - MarkovianUniformEnvironment - INFO - Sum of weight difference  reconstructor0.00000000\n",
      "2023-12-06 18:42:04,312 - MarkovianUniformEnvironment - INFO - Sum of weight difference arbiterer0.00000000\n",
      "2023-12-06 18:42:04,313 - MarkovianUniformEnvironment - INFO - Sum of weight difference  reconstructor0.00000000\n",
      "2023-12-06 18:42:04,364 - MarkovianUniformEnvironment - INFO - Sum of weight difference arbiterer0.00000000\n",
      "2023-12-06 18:42:04,365 - MarkovianUniformEnvironment - INFO - Sum of weight difference  reconstructor0.00000000\n"
     ]
    },
    {
     "data": {
      "application/vnd.jupyter.widget-view+json": {
       "model_id": "752a49a822394b8a88df12d4d9514df4",
       "version_major": 2,
       "version_minor": 0
      },
      "text/plain": [
       "Steps:   0%|          | 0/12 [00:00<?, ?it/s]"
      ]
     },
     "metadata": {},
     "output_type": "display_data"
    },
    {
     "name": "stderr",
     "output_type": "stream",
     "text": [
      "2023-12-06 18:42:04,426 - MarkovianUniformEnvironment - INFO - Sum of weight difference arbiterer0.00000000\n",
      "2023-12-06 18:42:04,427 - MarkovianUniformEnvironment - INFO - Sum of weight difference  reconstructor0.00000000\n",
      "2023-12-06 18:42:04,481 - MarkovianUniformEnvironment - INFO - Sum of weight difference arbiterer0.00000000\n",
      "2023-12-06 18:42:04,482 - MarkovianUniformEnvironment - INFO - Sum of weight difference  reconstructor0.00000000\n",
      "2023-12-06 18:42:04,544 - MarkovianUniformEnvironment - INFO - Sum of weight difference arbiterer0.00000000\n",
      "2023-12-06 18:42:04,545 - MarkovianUniformEnvironment - INFO - Sum of weight difference  reconstructor0.00000000\n",
      "2023-12-06 18:42:04,598 - MarkovianUniformEnvironment - INFO - Sum of weight difference arbiterer0.00000000\n",
      "2023-12-06 18:42:04,599 - MarkovianUniformEnvironment - INFO - Sum of weight difference  reconstructor0.00000000\n",
      "2023-12-06 18:42:04,654 - MarkovianUniformEnvironment - INFO - Sum of weight difference arbiterer0.00000000\n",
      "2023-12-06 18:42:04,655 - MarkovianUniformEnvironment - INFO - Sum of weight difference  reconstructor0.00000000\n",
      "2023-12-06 18:42:04,706 - MarkovianUniformEnvironment - INFO - Sum of weight difference arbiterer0.00000000\n",
      "2023-12-06 18:42:04,706 - MarkovianUniformEnvironment - INFO - Sum of weight difference  reconstructor0.00000000\n",
      "2023-12-06 18:42:04,761 - MarkovianUniformEnvironment - INFO - Sum of weight difference arbiterer0.00000000\n",
      "2023-12-06 18:42:04,762 - MarkovianUniformEnvironment - INFO - Sum of weight difference  reconstructor0.00000000\n",
      "2023-12-06 18:42:04,814 - MarkovianUniformEnvironment - INFO - Sum of weight difference arbiterer0.00000000\n",
      "2023-12-06 18:42:04,815 - MarkovianUniformEnvironment - INFO - Sum of weight difference  reconstructor0.00000000\n",
      "2023-12-06 18:42:04,869 - MarkovianUniformEnvironment - INFO - Sum of weight difference arbiterer0.00000000\n",
      "2023-12-06 18:42:04,870 - MarkovianUniformEnvironment - INFO - Sum of weight difference  reconstructor0.00000000\n",
      "2023-12-06 18:42:04,920 - MarkovianUniformEnvironment - INFO - Sum of weight difference arbiterer0.00000000\n",
      "2023-12-06 18:42:04,921 - MarkovianUniformEnvironment - INFO - Sum of weight difference  reconstructor0.00000000\n",
      "2023-12-06 18:42:04,976 - MarkovianUniformEnvironment - INFO - Sum of weight difference arbiterer0.00000000\n",
      "2023-12-06 18:42:04,977 - MarkovianUniformEnvironment - INFO - Sum of weight difference  reconstructor0.00000000\n",
      "2023-12-06 18:42:05,026 - MarkovianUniformEnvironment - INFO - Sum of weight difference arbiterer0.00000000\n",
      "2023-12-06 18:42:05,027 - MarkovianUniformEnvironment - INFO - Sum of weight difference  reconstructor0.00000000\n"
     ]
    },
    {
     "data": {
      "application/vnd.jupyter.widget-view+json": {
       "model_id": "49390b484bfd4f93935eab8e54c8fdb9",
       "version_major": 2,
       "version_minor": 0
      },
      "text/plain": [
       "Steps:   0%|          | 0/12 [00:00<?, ?it/s]"
      ]
     },
     "metadata": {},
     "output_type": "display_data"
    },
    {
     "name": "stderr",
     "output_type": "stream",
     "text": [
      "2023-12-06 18:42:05,089 - MarkovianUniformEnvironment - INFO - Sum of weight difference arbiterer0.00000000\n",
      "2023-12-06 18:42:05,090 - MarkovianUniformEnvironment - INFO - Sum of weight difference  reconstructor0.00000000\n",
      "2023-12-06 18:42:05,147 - MarkovianUniformEnvironment - INFO - Sum of weight difference arbiterer0.00000000\n",
      "2023-12-06 18:42:05,147 - MarkovianUniformEnvironment - INFO - Sum of weight difference  reconstructor0.00000000\n",
      "2023-12-06 18:42:05,202 - MarkovianUniformEnvironment - INFO - Sum of weight difference arbiterer0.00000000\n",
      "2023-12-06 18:42:05,203 - MarkovianUniformEnvironment - INFO - Sum of weight difference  reconstructor0.00000000\n",
      "2023-12-06 18:42:05,254 - MarkovianUniformEnvironment - INFO - Sum of weight difference arbiterer0.00000000\n",
      "2023-12-06 18:42:05,255 - MarkovianUniformEnvironment - INFO - Sum of weight difference  reconstructor0.00000000\n",
      "2023-12-06 18:42:05,307 - MarkovianUniformEnvironment - INFO - Sum of weight difference arbiterer0.00000000\n",
      "2023-12-06 18:42:05,308 - MarkovianUniformEnvironment - INFO - Sum of weight difference  reconstructor0.00000000\n",
      "2023-12-06 18:42:05,366 - MarkovianUniformEnvironment - INFO - Sum of weight difference arbiterer0.00000000\n",
      "2023-12-06 18:42:05,367 - MarkovianUniformEnvironment - INFO - Sum of weight difference  reconstructor0.00000000\n",
      "2023-12-06 18:42:05,424 - MarkovianUniformEnvironment - INFO - Sum of weight difference arbiterer0.00000000\n",
      "2023-12-06 18:42:05,425 - MarkovianUniformEnvironment - INFO - Sum of weight difference  reconstructor0.00000000\n",
      "2023-12-06 18:42:05,474 - MarkovianUniformEnvironment - INFO - Sum of weight difference arbiterer0.00000000\n",
      "2023-12-06 18:42:05,475 - MarkovianUniformEnvironment - INFO - Sum of weight difference  reconstructor0.00000000\n",
      "2023-12-06 18:42:05,528 - MarkovianUniformEnvironment - INFO - Sum of weight difference arbiterer0.00000000\n",
      "2023-12-06 18:42:05,529 - MarkovianUniformEnvironment - INFO - Sum of weight difference  reconstructor0.00000000\n",
      "2023-12-06 18:42:05,580 - MarkovianUniformEnvironment - INFO - Sum of weight difference arbiterer0.00000000\n",
      "2023-12-06 18:42:05,581 - MarkovianUniformEnvironment - INFO - Sum of weight difference  reconstructor0.00000000\n",
      "2023-12-06 18:42:05,633 - MarkovianUniformEnvironment - INFO - Sum of weight difference arbiterer0.00000000\n",
      "2023-12-06 18:42:05,634 - MarkovianUniformEnvironment - INFO - Sum of weight difference  reconstructor0.00000000\n",
      "2023-12-06 18:42:05,686 - MarkovianUniformEnvironment - INFO - Sum of weight difference arbiterer0.00000000\n",
      "2023-12-06 18:42:05,687 - MarkovianUniformEnvironment - INFO - Sum of weight difference  reconstructor0.00000000\n"
     ]
    },
    {
     "data": {
      "application/vnd.jupyter.widget-view+json": {
       "model_id": "68698f27a16a4fb1a27e1c0386e76af5",
       "version_major": 2,
       "version_minor": 0
      },
      "text/plain": [
       "Steps:   0%|          | 0/12 [00:00<?, ?it/s]"
      ]
     },
     "metadata": {},
     "output_type": "display_data"
    },
    {
     "name": "stderr",
     "output_type": "stream",
     "text": [
      "2023-12-06 18:42:05,747 - MarkovianUniformEnvironment - INFO - Sum of weight difference arbiterer0.00000000\n",
      "2023-12-06 18:42:05,747 - MarkovianUniformEnvironment - INFO - Sum of weight difference  reconstructor0.00000000\n",
      "2023-12-06 18:42:05,805 - MarkovianUniformEnvironment - INFO - Sum of weight difference arbiterer0.00000000\n",
      "2023-12-06 18:42:05,806 - MarkovianUniformEnvironment - INFO - Sum of weight difference  reconstructor0.00000000\n",
      "2023-12-06 18:42:05,864 - MarkovianUniformEnvironment - INFO - Sum of weight difference arbiterer0.00000000\n",
      "2023-12-06 18:42:05,865 - MarkovianUniformEnvironment - INFO - Sum of weight difference  reconstructor0.00000000\n",
      "2023-12-06 18:42:05,919 - MarkovianUniformEnvironment - INFO - Sum of weight difference arbiterer0.00000000\n",
      "2023-12-06 18:42:05,920 - MarkovianUniformEnvironment - INFO - Sum of weight difference  reconstructor0.00000000\n",
      "2023-12-06 18:42:05,979 - MarkovianUniformEnvironment - INFO - Sum of weight difference arbiterer0.00000000\n",
      "2023-12-06 18:42:05,979 - MarkovianUniformEnvironment - INFO - Sum of weight difference  reconstructor0.00000000\n",
      "2023-12-06 18:42:06,031 - MarkovianUniformEnvironment - INFO - Sum of weight difference arbiterer0.00000000\n",
      "2023-12-06 18:42:06,032 - MarkovianUniformEnvironment - INFO - Sum of weight difference  reconstructor0.00000000\n",
      "2023-12-06 18:42:06,086 - MarkovianUniformEnvironment - INFO - Sum of weight difference arbiterer0.00000000\n",
      "2023-12-06 18:42:06,087 - MarkovianUniformEnvironment - INFO - Sum of weight difference  reconstructor0.00000000\n",
      "2023-12-06 18:42:06,143 - MarkovianUniformEnvironment - INFO - Sum of weight difference arbiterer0.00000000\n",
      "2023-12-06 18:42:06,144 - MarkovianUniformEnvironment - INFO - Sum of weight difference  reconstructor0.00000000\n",
      "2023-12-06 18:42:06,200 - MarkovianUniformEnvironment - INFO - Sum of weight difference arbiterer0.00000000\n",
      "2023-12-06 18:42:06,200 - MarkovianUniformEnvironment - INFO - Sum of weight difference  reconstructor0.00000000\n",
      "2023-12-06 18:42:06,253 - MarkovianUniformEnvironment - INFO - Sum of weight difference arbiterer0.00000000\n",
      "2023-12-06 18:42:06,254 - MarkovianUniformEnvironment - INFO - Sum of weight difference  reconstructor0.00000000\n",
      "2023-12-06 18:42:06,306 - MarkovianUniformEnvironment - INFO - Sum of weight difference arbiterer0.00000000\n",
      "2023-12-06 18:42:06,308 - MarkovianUniformEnvironment - INFO - Sum of weight difference  reconstructor0.00000000\n",
      "2023-12-06 18:42:06,360 - MarkovianUniformEnvironment - INFO - Sum of weight difference arbiterer0.00000000\n",
      "2023-12-06 18:42:06,361 - MarkovianUniformEnvironment - INFO - Sum of weight difference  reconstructor0.00000000\n"
     ]
    },
    {
     "data": {
      "application/vnd.jupyter.widget-view+json": {
       "model_id": "72bfd532c3664c1fa07f84231efdd8f8",
       "version_major": 2,
       "version_minor": 0
      },
      "text/plain": [
       "Steps:   0%|          | 0/12 [00:00<?, ?it/s]"
      ]
     },
     "metadata": {},
     "output_type": "display_data"
    },
    {
     "name": "stderr",
     "output_type": "stream",
     "text": [
      "2023-12-06 18:42:06,423 - MarkovianUniformEnvironment - INFO - Sum of weight difference arbiterer0.00000000\n",
      "2023-12-06 18:42:06,426 - MarkovianUniformEnvironment - INFO - Sum of weight difference  reconstructor0.00000000\n",
      "2023-12-06 18:42:06,488 - MarkovianUniformEnvironment - INFO - Sum of weight difference arbiterer0.00000000\n",
      "2023-12-06 18:42:06,488 - MarkovianUniformEnvironment - INFO - Sum of weight difference  reconstructor0.00000000\n",
      "2023-12-06 18:42:06,540 - MarkovianUniformEnvironment - INFO - Sum of weight difference arbiterer0.00000000\n",
      "2023-12-06 18:42:06,541 - MarkovianUniformEnvironment - INFO - Sum of weight difference  reconstructor0.00000000\n",
      "2023-12-06 18:42:06,592 - MarkovianUniformEnvironment - INFO - Sum of weight difference arbiterer0.00000000\n",
      "2023-12-06 18:42:06,593 - MarkovianUniformEnvironment - INFO - Sum of weight difference  reconstructor0.00000000\n",
      "2023-12-06 18:42:06,648 - MarkovianUniformEnvironment - INFO - Sum of weight difference arbiterer0.00000000\n",
      "2023-12-06 18:42:06,648 - MarkovianUniformEnvironment - INFO - Sum of weight difference  reconstructor0.00000000\n",
      "2023-12-06 18:42:06,704 - MarkovianUniformEnvironment - INFO - Sum of weight difference arbiterer0.00000000\n",
      "2023-12-06 18:42:06,705 - MarkovianUniformEnvironment - INFO - Sum of weight difference  reconstructor0.00000000\n",
      "2023-12-06 18:42:06,766 - MarkovianUniformEnvironment - INFO - Sum of weight difference arbiterer0.00000000\n",
      "2023-12-06 18:42:06,767 - MarkovianUniformEnvironment - INFO - Sum of weight difference  reconstructor0.00000000\n",
      "2023-12-06 18:42:06,819 - MarkovianUniformEnvironment - INFO - Sum of weight difference arbiterer0.00000000\n",
      "2023-12-06 18:42:06,820 - MarkovianUniformEnvironment - INFO - Sum of weight difference  reconstructor0.00000000\n",
      "2023-12-06 18:42:06,873 - MarkovianUniformEnvironment - INFO - Sum of weight difference arbiterer0.00000000\n",
      "2023-12-06 18:42:06,874 - MarkovianUniformEnvironment - INFO - Sum of weight difference  reconstructor0.00000000\n",
      "2023-12-06 18:42:06,928 - MarkovianUniformEnvironment - INFO - Sum of weight difference arbiterer0.00000000\n",
      "2023-12-06 18:42:06,928 - MarkovianUniformEnvironment - INFO - Sum of weight difference  reconstructor0.00000000\n",
      "2023-12-06 18:42:06,981 - MarkovianUniformEnvironment - INFO - Sum of weight difference arbiterer0.00000000\n",
      "2023-12-06 18:42:06,981 - MarkovianUniformEnvironment - INFO - Sum of weight difference  reconstructor0.00000000\n",
      "2023-12-06 18:42:07,032 - MarkovianUniformEnvironment - INFO - Sum of weight difference arbiterer0.00000000\n",
      "2023-12-06 18:42:07,034 - MarkovianUniformEnvironment - INFO - Sum of weight difference  reconstructor0.00000000\n"
     ]
    },
    {
     "data": {
      "application/vnd.jupyter.widget-view+json": {
       "model_id": "6414b758580043e0ac209994b293d827",
       "version_major": 2,
       "version_minor": 0
      },
      "text/plain": [
       "Steps:   0%|          | 0/12 [00:00<?, ?it/s]"
      ]
     },
     "metadata": {},
     "output_type": "display_data"
    },
    {
     "name": "stderr",
     "output_type": "stream",
     "text": [
      "2023-12-06 18:42:07,107 - MarkovianUniformEnvironment - INFO - Sum of weight difference arbiterer0.00000000\n",
      "2023-12-06 18:42:07,108 - MarkovianUniformEnvironment - INFO - Sum of weight difference  reconstructor0.00000000\n",
      "2023-12-06 18:42:07,162 - MarkovianUniformEnvironment - INFO - Sum of weight difference arbiterer0.00000000\n",
      "2023-12-06 18:42:07,164 - MarkovianUniformEnvironment - INFO - Sum of weight difference  reconstructor0.00000000\n",
      "2023-12-06 18:42:07,220 - MarkovianUniformEnvironment - INFO - Sum of weight difference arbiterer0.00000000\n",
      "2023-12-06 18:42:07,221 - MarkovianUniformEnvironment - INFO - Sum of weight difference  reconstructor0.00000000\n",
      "2023-12-06 18:42:07,272 - MarkovianUniformEnvironment - INFO - Sum of weight difference arbiterer0.00000000\n",
      "2023-12-06 18:42:07,273 - MarkovianUniformEnvironment - INFO - Sum of weight difference  reconstructor0.00000000\n",
      "2023-12-06 18:42:07,325 - MarkovianUniformEnvironment - INFO - Sum of weight difference arbiterer0.00000000\n",
      "2023-12-06 18:42:07,326 - MarkovianUniformEnvironment - INFO - Sum of weight difference  reconstructor0.00000000\n",
      "2023-12-06 18:42:07,376 - MarkovianUniformEnvironment - INFO - Sum of weight difference arbiterer0.00000000\n",
      "2023-12-06 18:42:07,377 - MarkovianUniformEnvironment - INFO - Sum of weight difference  reconstructor0.00000000\n",
      "2023-12-06 18:42:07,432 - MarkovianUniformEnvironment - INFO - Sum of weight difference arbiterer0.00000000\n",
      "2023-12-06 18:42:07,433 - MarkovianUniformEnvironment - INFO - Sum of weight difference  reconstructor0.00000000\n",
      "2023-12-06 18:42:07,484 - MarkovianUniformEnvironment - INFO - Sum of weight difference arbiterer0.00000000\n",
      "2023-12-06 18:42:07,485 - MarkovianUniformEnvironment - INFO - Sum of weight difference  reconstructor0.00000000\n",
      "2023-12-06 18:42:07,540 - MarkovianUniformEnvironment - INFO - Sum of weight difference arbiterer0.00000000\n",
      "2023-12-06 18:42:07,541 - MarkovianUniformEnvironment - INFO - Sum of weight difference  reconstructor0.00000000\n",
      "2023-12-06 18:42:07,595 - MarkovianUniformEnvironment - INFO - Sum of weight difference arbiterer0.00000000\n",
      "2023-12-06 18:42:07,596 - MarkovianUniformEnvironment - INFO - Sum of weight difference  reconstructor0.00000000\n",
      "2023-12-06 18:42:07,650 - MarkovianUniformEnvironment - INFO - Sum of weight difference arbiterer0.00000000\n",
      "2023-12-06 18:42:07,651 - MarkovianUniformEnvironment - INFO - Sum of weight difference  reconstructor0.00000000\n",
      "2023-12-06 18:42:07,705 - MarkovianUniformEnvironment - INFO - Sum of weight difference arbiterer0.00000000\n",
      "2023-12-06 18:42:07,706 - MarkovianUniformEnvironment - INFO - Sum of weight difference  reconstructor0.00000000\n"
     ]
    },
    {
     "data": {
      "application/vnd.jupyter.widget-view+json": {
       "model_id": "223f72f536914382a0e739e0984bda37",
       "version_major": 2,
       "version_minor": 0
      },
      "text/plain": [
       "Steps:   0%|          | 0/12 [00:00<?, ?it/s]"
      ]
     },
     "metadata": {},
     "output_type": "display_data"
    },
    {
     "name": "stderr",
     "output_type": "stream",
     "text": [
      "2023-12-06 18:42:07,778 - MarkovianUniformEnvironment - INFO - Sum of weight difference arbiterer0.00000000\n",
      "2023-12-06 18:42:07,779 - MarkovianUniformEnvironment - INFO - Sum of weight difference  reconstructor0.00000000\n",
      "2023-12-06 18:42:07,835 - MarkovianUniformEnvironment - INFO - Sum of weight difference arbiterer0.00000000\n",
      "2023-12-06 18:42:07,836 - MarkovianUniformEnvironment - INFO - Sum of weight difference  reconstructor0.00000000\n",
      "2023-12-06 18:42:07,893 - MarkovianUniformEnvironment - INFO - Sum of weight difference arbiterer0.00000000\n",
      "2023-12-06 18:42:07,894 - MarkovianUniformEnvironment - INFO - Sum of weight difference  reconstructor0.00000000\n",
      "2023-12-06 18:42:07,949 - MarkovianUniformEnvironment - INFO - Sum of weight difference arbiterer0.00000000\n",
      "2023-12-06 18:42:07,950 - MarkovianUniformEnvironment - INFO - Sum of weight difference  reconstructor0.00000000\n",
      "2023-12-06 18:42:08,003 - MarkovianUniformEnvironment - INFO - Sum of weight difference arbiterer0.00000000\n",
      "2023-12-06 18:42:08,004 - MarkovianUniformEnvironment - INFO - Sum of weight difference  reconstructor0.00000000\n",
      "2023-12-06 18:42:08,058 - MarkovianUniformEnvironment - INFO - Sum of weight difference arbiterer0.00000000\n",
      "2023-12-06 18:42:08,059 - MarkovianUniformEnvironment - INFO - Sum of weight difference  reconstructor0.00000000\n",
      "2023-12-06 18:42:08,114 - MarkovianUniformEnvironment - INFO - Sum of weight difference arbiterer0.00000000\n",
      "2023-12-06 18:42:08,115 - MarkovianUniformEnvironment - INFO - Sum of weight difference  reconstructor0.00000000\n",
      "2023-12-06 18:42:08,165 - MarkovianUniformEnvironment - INFO - Sum of weight difference arbiterer0.00000000\n",
      "2023-12-06 18:42:08,166 - MarkovianUniformEnvironment - INFO - Sum of weight difference  reconstructor0.00000000\n",
      "2023-12-06 18:42:08,222 - MarkovianUniformEnvironment - INFO - Sum of weight difference arbiterer0.00000000\n",
      "2023-12-06 18:42:08,223 - MarkovianUniformEnvironment - INFO - Sum of weight difference  reconstructor0.00000000\n",
      "2023-12-06 18:42:08,274 - MarkovianUniformEnvironment - INFO - Sum of weight difference arbiterer0.00000000\n",
      "2023-12-06 18:42:08,275 - MarkovianUniformEnvironment - INFO - Sum of weight difference  reconstructor0.00000000\n",
      "2023-12-06 18:42:08,328 - MarkovianUniformEnvironment - INFO - Sum of weight difference arbiterer0.00000000\n",
      "2023-12-06 18:42:08,329 - MarkovianUniformEnvironment - INFO - Sum of weight difference  reconstructor0.00000000\n",
      "2023-12-06 18:42:08,381 - MarkovianUniformEnvironment - INFO - Sum of weight difference arbiterer0.00000000\n",
      "2023-12-06 18:42:08,382 - MarkovianUniformEnvironment - INFO - Sum of weight difference  reconstructor0.00000000\n"
     ]
    },
    {
     "data": {
      "application/vnd.jupyter.widget-view+json": {
       "model_id": "01baeaa1c1834ca0a663c841411f8510",
       "version_major": 2,
       "version_minor": 0
      },
      "text/plain": [
       "Steps:   0%|          | 0/12 [00:00<?, ?it/s]"
      ]
     },
     "metadata": {},
     "output_type": "display_data"
    },
    {
     "name": "stderr",
     "output_type": "stream",
     "text": [
      "2023-12-06 18:42:08,463 - MarkovianUniformEnvironment - INFO - Sum of weight difference arbiterer0.00000000\n",
      "2023-12-06 18:42:08,463 - MarkovianUniformEnvironment - INFO - Sum of weight difference  reconstructor0.00000000\n",
      "2023-12-06 18:42:08,517 - MarkovianUniformEnvironment - INFO - Sum of weight difference arbiterer0.00000000\n",
      "2023-12-06 18:42:08,518 - MarkovianUniformEnvironment - INFO - Sum of weight difference  reconstructor0.00000000\n",
      "2023-12-06 18:42:08,571 - MarkovianUniformEnvironment - INFO - Sum of weight difference arbiterer0.00000000\n",
      "2023-12-06 18:42:08,572 - MarkovianUniformEnvironment - INFO - Sum of weight difference  reconstructor0.00000000\n",
      "2023-12-06 18:42:08,623 - MarkovianUniformEnvironment - INFO - Sum of weight difference arbiterer0.00000000\n",
      "2023-12-06 18:42:08,624 - MarkovianUniformEnvironment - INFO - Sum of weight difference  reconstructor0.00000000\n",
      "2023-12-06 18:42:08,677 - MarkovianUniformEnvironment - INFO - Sum of weight difference arbiterer0.00000000\n",
      "2023-12-06 18:42:08,677 - MarkovianUniformEnvironment - INFO - Sum of weight difference  reconstructor0.00000000\n",
      "2023-12-06 18:42:08,727 - MarkovianUniformEnvironment - INFO - Sum of weight difference arbiterer0.00000000\n",
      "2023-12-06 18:42:08,728 - MarkovianUniformEnvironment - INFO - Sum of weight difference  reconstructor0.00000000\n",
      "2023-12-06 18:42:08,780 - MarkovianUniformEnvironment - INFO - Sum of weight difference arbiterer0.00000000\n",
      "2023-12-06 18:42:08,781 - MarkovianUniformEnvironment - INFO - Sum of weight difference  reconstructor0.00000000\n",
      "2023-12-06 18:42:08,832 - MarkovianUniformEnvironment - INFO - Sum of weight difference arbiterer0.00000000\n",
      "2023-12-06 18:42:08,833 - MarkovianUniformEnvironment - INFO - Sum of weight difference  reconstructor0.00000000\n",
      "2023-12-06 18:42:08,887 - MarkovianUniformEnvironment - INFO - Sum of weight difference arbiterer0.00000000\n",
      "2023-12-06 18:42:08,888 - MarkovianUniformEnvironment - INFO - Sum of weight difference  reconstructor0.00000000\n",
      "2023-12-06 18:42:08,939 - MarkovianUniformEnvironment - INFO - Sum of weight difference arbiterer0.00000000\n",
      "2023-12-06 18:42:08,940 - MarkovianUniformEnvironment - INFO - Sum of weight difference  reconstructor0.00000000\n",
      "2023-12-06 18:42:08,991 - MarkovianUniformEnvironment - INFO - Sum of weight difference arbiterer0.00000000\n",
      "2023-12-06 18:42:08,992 - MarkovianUniformEnvironment - INFO - Sum of weight difference  reconstructor0.00000000\n",
      "2023-12-06 18:42:09,045 - MarkovianUniformEnvironment - INFO - Sum of weight difference arbiterer0.00000000\n",
      "2023-12-06 18:42:09,046 - MarkovianUniformEnvironment - INFO - Sum of weight difference  reconstructor0.00000000\n"
     ]
    },
    {
     "data": {
      "application/vnd.jupyter.widget-view+json": {
       "model_id": "eb37569785eb4b47bf90ea4537b37f01",
       "version_major": 2,
       "version_minor": 0
      },
      "text/plain": [
       "Steps:   0%|          | 0/12 [00:00<?, ?it/s]"
      ]
     },
     "metadata": {},
     "output_type": "display_data"
    },
    {
     "name": "stderr",
     "output_type": "stream",
     "text": [
      "2023-12-06 18:42:09,124 - MarkovianUniformEnvironment - INFO - Sum of weight difference arbiterer0.00000000\n",
      "2023-12-06 18:42:09,125 - MarkovianUniformEnvironment - INFO - Sum of weight difference  reconstructor0.00000000\n",
      "2023-12-06 18:42:09,177 - MarkovianUniformEnvironment - INFO - Sum of weight difference arbiterer0.00000000\n",
      "2023-12-06 18:42:09,179 - MarkovianUniformEnvironment - INFO - Sum of weight difference  reconstructor0.00000000\n",
      "2023-12-06 18:42:09,237 - MarkovianUniformEnvironment - INFO - Sum of weight difference arbiterer0.00000000\n",
      "2023-12-06 18:42:09,238 - MarkovianUniformEnvironment - INFO - Sum of weight difference  reconstructor0.00000000\n",
      "2023-12-06 18:42:09,290 - MarkovianUniformEnvironment - INFO - Sum of weight difference arbiterer0.00000000\n",
      "2023-12-06 18:42:09,291 - MarkovianUniformEnvironment - INFO - Sum of weight difference  reconstructor0.00000000\n",
      "2023-12-06 18:42:09,349 - MarkovianUniformEnvironment - INFO - Sum of weight difference arbiterer0.00000000\n",
      "2023-12-06 18:42:09,350 - MarkovianUniformEnvironment - INFO - Sum of weight difference  reconstructor0.00000000\n",
      "2023-12-06 18:42:09,404 - MarkovianUniformEnvironment - INFO - Sum of weight difference arbiterer0.00000000\n",
      "2023-12-06 18:42:09,405 - MarkovianUniformEnvironment - INFO - Sum of weight difference  reconstructor0.00000000\n",
      "2023-12-06 18:42:09,460 - MarkovianUniformEnvironment - INFO - Sum of weight difference arbiterer0.00000000\n",
      "2023-12-06 18:42:09,461 - MarkovianUniformEnvironment - INFO - Sum of weight difference  reconstructor0.00000000\n",
      "2023-12-06 18:42:09,513 - MarkovianUniformEnvironment - INFO - Sum of weight difference arbiterer0.00000000\n",
      "2023-12-06 18:42:09,514 - MarkovianUniformEnvironment - INFO - Sum of weight difference  reconstructor0.00000000\n",
      "2023-12-06 18:42:09,573 - MarkovianUniformEnvironment - INFO - Sum of weight difference arbiterer0.00000000\n",
      "2023-12-06 18:42:09,574 - MarkovianUniformEnvironment - INFO - Sum of weight difference  reconstructor0.00000000\n",
      "2023-12-06 18:42:09,625 - MarkovianUniformEnvironment - INFO - Sum of weight difference arbiterer0.00000000\n",
      "2023-12-06 18:42:09,626 - MarkovianUniformEnvironment - INFO - Sum of weight difference  reconstructor0.00000000\n",
      "2023-12-06 18:42:09,680 - MarkovianUniformEnvironment - INFO - Sum of weight difference arbiterer0.00000000\n",
      "2023-12-06 18:42:09,682 - MarkovianUniformEnvironment - INFO - Sum of weight difference  reconstructor0.00000000\n",
      "2023-12-06 18:42:09,736 - MarkovianUniformEnvironment - INFO - Sum of weight difference arbiterer0.00000000\n",
      "2023-12-06 18:42:09,736 - MarkovianUniformEnvironment - INFO - Sum of weight difference  reconstructor0.00000000\n"
     ]
    },
    {
     "data": {
      "application/vnd.jupyter.widget-view+json": {
       "model_id": "ae46355fc80c40dfa8d8417a28ccd2b0",
       "version_major": 2,
       "version_minor": 0
      },
      "text/plain": [
       "Steps:   0%|          | 0/12 [00:00<?, ?it/s]"
      ]
     },
     "metadata": {},
     "output_type": "display_data"
    },
    {
     "name": "stderr",
     "output_type": "stream",
     "text": [
      "2023-12-06 18:42:09,801 - MarkovianUniformEnvironment - INFO - Sum of weight difference arbiterer0.00000000\n",
      "2023-12-06 18:42:09,802 - MarkovianUniformEnvironment - INFO - Sum of weight difference  reconstructor0.00000000\n",
      "2023-12-06 18:42:09,856 - MarkovianUniformEnvironment - INFO - Sum of weight difference arbiterer0.00000000\n",
      "2023-12-06 18:42:09,857 - MarkovianUniformEnvironment - INFO - Sum of weight difference  reconstructor0.00000000\n",
      "2023-12-06 18:42:09,909 - MarkovianUniformEnvironment - INFO - Sum of weight difference arbiterer0.00000000\n",
      "2023-12-06 18:42:09,910 - MarkovianUniformEnvironment - INFO - Sum of weight difference  reconstructor0.00000000\n",
      "2023-12-06 18:42:09,963 - MarkovianUniformEnvironment - INFO - Sum of weight difference arbiterer0.00000000\n",
      "2023-12-06 18:42:09,964 - MarkovianUniformEnvironment - INFO - Sum of weight difference  reconstructor0.00000000\n",
      "2023-12-06 18:42:10,022 - MarkovianUniformEnvironment - INFO - Sum of weight difference arbiterer0.00000000\n",
      "2023-12-06 18:42:10,023 - MarkovianUniformEnvironment - INFO - Sum of weight difference  reconstructor0.00000000\n",
      "2023-12-06 18:42:10,076 - MarkovianUniformEnvironment - INFO - Sum of weight difference arbiterer0.00000000\n",
      "2023-12-06 18:42:10,077 - MarkovianUniformEnvironment - INFO - Sum of weight difference  reconstructor0.00000000\n",
      "2023-12-06 18:42:10,134 - MarkovianUniformEnvironment - INFO - Sum of weight difference arbiterer0.00000000\n",
      "2023-12-06 18:42:10,135 - MarkovianUniformEnvironment - INFO - Sum of weight difference  reconstructor0.00000000\n",
      "2023-12-06 18:42:10,186 - MarkovianUniformEnvironment - INFO - Sum of weight difference arbiterer0.00000000\n",
      "2023-12-06 18:42:10,187 - MarkovianUniformEnvironment - INFO - Sum of weight difference  reconstructor0.00000000\n",
      "2023-12-06 18:42:10,242 - MarkovianUniformEnvironment - INFO - Sum of weight difference arbiterer0.00000000\n",
      "2023-12-06 18:42:10,243 - MarkovianUniformEnvironment - INFO - Sum of weight difference  reconstructor0.00000000\n",
      "2023-12-06 18:42:10,295 - MarkovianUniformEnvironment - INFO - Sum of weight difference arbiterer0.00000000\n",
      "2023-12-06 18:42:10,295 - MarkovianUniformEnvironment - INFO - Sum of weight difference  reconstructor0.00000000\n",
      "2023-12-06 18:42:10,350 - MarkovianUniformEnvironment - INFO - Sum of weight difference arbiterer0.00000000\n",
      "2023-12-06 18:42:10,351 - MarkovianUniformEnvironment - INFO - Sum of weight difference  reconstructor0.00000000\n",
      "2023-12-06 18:42:10,406 - MarkovianUniformEnvironment - INFO - Sum of weight difference arbiterer0.00000000\n",
      "2023-12-06 18:42:10,407 - MarkovianUniformEnvironment - INFO - Sum of weight difference  reconstructor0.00000000\n"
     ]
    },
    {
     "data": {
      "application/vnd.jupyter.widget-view+json": {
       "model_id": "bdbd3fef9a024091b74096656fc4af63",
       "version_major": 2,
       "version_minor": 0
      },
      "text/plain": [
       "Steps:   0%|          | 0/12 [00:00<?, ?it/s]"
      ]
     },
     "metadata": {},
     "output_type": "display_data"
    },
    {
     "name": "stderr",
     "output_type": "stream",
     "text": [
      "2023-12-06 18:42:10,482 - MarkovianUniformEnvironment - INFO - Sum of weight difference arbiterer0.00000000\n",
      "2023-12-06 18:42:10,483 - MarkovianUniformEnvironment - INFO - Sum of weight difference  reconstructor0.00000000\n",
      "2023-12-06 18:42:10,539 - MarkovianUniformEnvironment - INFO - Sum of weight difference arbiterer0.00000000\n",
      "2023-12-06 18:42:10,540 - MarkovianUniformEnvironment - INFO - Sum of weight difference  reconstructor0.00000000\n",
      "2023-12-06 18:42:10,596 - MarkovianUniformEnvironment - INFO - Sum of weight difference arbiterer0.00000000\n",
      "2023-12-06 18:42:10,597 - MarkovianUniformEnvironment - INFO - Sum of weight difference  reconstructor0.00000000\n",
      "2023-12-06 18:42:10,649 - MarkovianUniformEnvironment - INFO - Sum of weight difference arbiterer0.00000000\n",
      "2023-12-06 18:42:10,651 - MarkovianUniformEnvironment - INFO - Sum of weight difference  reconstructor0.00000000\n",
      "2023-12-06 18:42:10,704 - MarkovianUniformEnvironment - INFO - Sum of weight difference arbiterer0.00000000\n",
      "2023-12-06 18:42:10,705 - MarkovianUniformEnvironment - INFO - Sum of weight difference  reconstructor0.00000000\n",
      "2023-12-06 18:42:10,754 - MarkovianUniformEnvironment - INFO - Sum of weight difference arbiterer0.00000000\n",
      "2023-12-06 18:42:10,755 - MarkovianUniformEnvironment - INFO - Sum of weight difference  reconstructor0.00000000\n",
      "2023-12-06 18:42:10,811 - MarkovianUniformEnvironment - INFO - Sum of weight difference arbiterer0.00000000\n",
      "2023-12-06 18:42:10,812 - MarkovianUniformEnvironment - INFO - Sum of weight difference  reconstructor0.00000000\n",
      "2023-12-06 18:42:10,861 - MarkovianUniformEnvironment - INFO - Sum of weight difference arbiterer0.00000000\n",
      "2023-12-06 18:42:10,862 - MarkovianUniformEnvironment - INFO - Sum of weight difference  reconstructor0.00000000\n",
      "2023-12-06 18:42:10,922 - MarkovianUniformEnvironment - INFO - Sum of weight difference arbiterer0.00000000\n",
      "2023-12-06 18:42:10,923 - MarkovianUniformEnvironment - INFO - Sum of weight difference  reconstructor0.00000000\n",
      "2023-12-06 18:42:10,975 - MarkovianUniformEnvironment - INFO - Sum of weight difference arbiterer0.00000000\n",
      "2023-12-06 18:42:10,976 - MarkovianUniformEnvironment - INFO - Sum of weight difference  reconstructor0.00000000\n",
      "2023-12-06 18:42:11,030 - MarkovianUniformEnvironment - INFO - Sum of weight difference arbiterer0.00000000\n",
      "2023-12-06 18:42:11,031 - MarkovianUniformEnvironment - INFO - Sum of weight difference  reconstructor0.00000000\n",
      "2023-12-06 18:42:11,087 - MarkovianUniformEnvironment - INFO - Sum of weight difference arbiterer0.00000000\n",
      "2023-12-06 18:42:11,088 - MarkovianUniformEnvironment - INFO - Sum of weight difference  reconstructor0.00000000\n"
     ]
    },
    {
     "data": {
      "application/vnd.jupyter.widget-view+json": {
       "model_id": "377fd1d7d1864f0fb92e38fc0d4777a6",
       "version_major": 2,
       "version_minor": 0
      },
      "text/plain": [
       "Steps:   0%|          | 0/12 [00:00<?, ?it/s]"
      ]
     },
     "metadata": {},
     "output_type": "display_data"
    },
    {
     "name": "stderr",
     "output_type": "stream",
     "text": [
      "2023-12-06 18:42:11,168 - MarkovianUniformEnvironment - INFO - Sum of weight difference arbiterer0.00000000\n",
      "2023-12-06 18:42:11,177 - MarkovianUniformEnvironment - INFO - Sum of weight difference  reconstructor0.00000000\n",
      "2023-12-06 18:42:11,287 - MarkovianUniformEnvironment - INFO - Sum of weight difference arbiterer0.00000000\n",
      "2023-12-06 18:42:11,288 - MarkovianUniformEnvironment - INFO - Sum of weight difference  reconstructor0.00000000\n",
      "2023-12-06 18:42:11,343 - MarkovianUniformEnvironment - INFO - Sum of weight difference arbiterer0.00000000\n",
      "2023-12-06 18:42:11,344 - MarkovianUniformEnvironment - INFO - Sum of weight difference  reconstructor0.00000000\n",
      "2023-12-06 18:42:11,399 - MarkovianUniformEnvironment - INFO - Sum of weight difference arbiterer0.00000000\n",
      "2023-12-06 18:42:11,400 - MarkovianUniformEnvironment - INFO - Sum of weight difference  reconstructor0.00000000\n",
      "2023-12-06 18:42:11,459 - MarkovianUniformEnvironment - INFO - Sum of weight difference arbiterer0.00000000\n",
      "2023-12-06 18:42:11,460 - MarkovianUniformEnvironment - INFO - Sum of weight difference  reconstructor0.00000000\n",
      "2023-12-06 18:42:11,513 - MarkovianUniformEnvironment - INFO - Sum of weight difference arbiterer0.00000000\n",
      "2023-12-06 18:42:11,514 - MarkovianUniformEnvironment - INFO - Sum of weight difference  reconstructor0.00000000\n",
      "2023-12-06 18:42:11,568 - MarkovianUniformEnvironment - INFO - Sum of weight difference arbiterer0.00000000\n",
      "2023-12-06 18:42:11,569 - MarkovianUniformEnvironment - INFO - Sum of weight difference  reconstructor0.00000000\n",
      "2023-12-06 18:42:11,621 - MarkovianUniformEnvironment - INFO - Sum of weight difference arbiterer0.00000000\n",
      "2023-12-06 18:42:11,622 - MarkovianUniformEnvironment - INFO - Sum of weight difference  reconstructor0.00000000\n",
      "2023-12-06 18:42:11,677 - MarkovianUniformEnvironment - INFO - Sum of weight difference arbiterer0.00000000\n",
      "2023-12-06 18:42:11,678 - MarkovianUniformEnvironment - INFO - Sum of weight difference  reconstructor0.00000000\n",
      "2023-12-06 18:42:11,730 - MarkovianUniformEnvironment - INFO - Sum of weight difference arbiterer0.00000000\n",
      "2023-12-06 18:42:11,731 - MarkovianUniformEnvironment - INFO - Sum of weight difference  reconstructor0.00000000\n",
      "2023-12-06 18:42:11,784 - MarkovianUniformEnvironment - INFO - Sum of weight difference arbiterer0.00000000\n",
      "2023-12-06 18:42:11,786 - MarkovianUniformEnvironment - INFO - Sum of weight difference  reconstructor0.00000000\n",
      "2023-12-06 18:42:11,840 - MarkovianUniformEnvironment - INFO - Sum of weight difference arbiterer0.00000000\n",
      "2023-12-06 18:42:11,841 - MarkovianUniformEnvironment - INFO - Sum of weight difference  reconstructor0.00000000\n"
     ]
    },
    {
     "data": {
      "application/vnd.jupyter.widget-view+json": {
       "model_id": "79d064c2be58423cb50d7f2f47ede168",
       "version_major": 2,
       "version_minor": 0
      },
      "text/plain": [
       "Steps:   0%|          | 0/12 [00:00<?, ?it/s]"
      ]
     },
     "metadata": {},
     "output_type": "display_data"
    },
    {
     "name": "stderr",
     "output_type": "stream",
     "text": [
      "2023-12-06 18:42:11,936 - MarkovianUniformEnvironment - INFO - Sum of weight difference arbiterer0.00000000\n",
      "2023-12-06 18:42:11,937 - MarkovianUniformEnvironment - INFO - Sum of weight difference  reconstructor0.00000000\n",
      "2023-12-06 18:42:11,991 - MarkovianUniformEnvironment - INFO - Sum of weight difference arbiterer0.00000000\n",
      "2023-12-06 18:42:11,993 - MarkovianUniformEnvironment - INFO - Sum of weight difference  reconstructor0.00000000\n",
      "2023-12-06 18:42:12,052 - MarkovianUniformEnvironment - INFO - Sum of weight difference arbiterer0.00000000\n",
      "2023-12-06 18:42:12,053 - MarkovianUniformEnvironment - INFO - Sum of weight difference  reconstructor0.00000000\n",
      "2023-12-06 18:42:12,104 - MarkovianUniformEnvironment - INFO - Sum of weight difference arbiterer0.00000000\n",
      "2023-12-06 18:42:12,105 - MarkovianUniformEnvironment - INFO - Sum of weight difference  reconstructor0.00000000\n",
      "2023-12-06 18:42:12,158 - MarkovianUniformEnvironment - INFO - Sum of weight difference arbiterer0.00000000\n",
      "2023-12-06 18:42:12,159 - MarkovianUniformEnvironment - INFO - Sum of weight difference  reconstructor0.00000000\n",
      "2023-12-06 18:42:12,212 - MarkovianUniformEnvironment - INFO - Sum of weight difference arbiterer0.00000000\n",
      "2023-12-06 18:42:12,213 - MarkovianUniformEnvironment - INFO - Sum of weight difference  reconstructor0.00000000\n",
      "2023-12-06 18:42:12,264 - MarkovianUniformEnvironment - INFO - Sum of weight difference arbiterer0.00000000\n",
      "2023-12-06 18:42:12,265 - MarkovianUniformEnvironment - INFO - Sum of weight difference  reconstructor0.00000000\n",
      "2023-12-06 18:42:12,316 - MarkovianUniformEnvironment - INFO - Sum of weight difference arbiterer0.00000000\n",
      "2023-12-06 18:42:12,317 - MarkovianUniformEnvironment - INFO - Sum of weight difference  reconstructor0.00000000\n",
      "2023-12-06 18:42:12,371 - MarkovianUniformEnvironment - INFO - Sum of weight difference arbiterer0.00000000\n",
      "2023-12-06 18:42:12,372 - MarkovianUniformEnvironment - INFO - Sum of weight difference  reconstructor0.00000000\n",
      "2023-12-06 18:42:12,428 - MarkovianUniformEnvironment - INFO - Sum of weight difference arbiterer0.00000000\n",
      "2023-12-06 18:42:12,429 - MarkovianUniformEnvironment - INFO - Sum of weight difference  reconstructor0.00000000\n",
      "2023-12-06 18:42:12,488 - MarkovianUniformEnvironment - INFO - Sum of weight difference arbiterer0.00000000\n",
      "2023-12-06 18:42:12,489 - MarkovianUniformEnvironment - INFO - Sum of weight difference  reconstructor0.00000000\n",
      "2023-12-06 18:42:12,539 - MarkovianUniformEnvironment - INFO - Sum of weight difference arbiterer0.00000000\n",
      "2023-12-06 18:42:12,540 - MarkovianUniformEnvironment - INFO - Sum of weight difference  reconstructor0.00000000\n"
     ]
    },
    {
     "data": {
      "application/vnd.jupyter.widget-view+json": {
       "model_id": "3b061acca43b4ad2a80fcf751ecdd20e",
       "version_major": 2,
       "version_minor": 0
      },
      "text/plain": [
       "Steps:   0%|          | 0/12 [00:00<?, ?it/s]"
      ]
     },
     "metadata": {},
     "output_type": "display_data"
    },
    {
     "name": "stderr",
     "output_type": "stream",
     "text": [
      "2023-12-06 18:42:12,619 - MarkovianUniformEnvironment - INFO - Sum of weight difference arbiterer0.00000000\n",
      "2023-12-06 18:42:12,620 - MarkovianUniformEnvironment - INFO - Sum of weight difference  reconstructor0.00000000\n",
      "2023-12-06 18:42:12,673 - MarkovianUniformEnvironment - INFO - Sum of weight difference arbiterer0.00000000\n",
      "2023-12-06 18:42:12,674 - MarkovianUniformEnvironment - INFO - Sum of weight difference  reconstructor0.00000000\n",
      "2023-12-06 18:42:12,731 - MarkovianUniformEnvironment - INFO - Sum of weight difference arbiterer0.00000000\n",
      "2023-12-06 18:42:12,731 - MarkovianUniformEnvironment - INFO - Sum of weight difference  reconstructor0.00000000\n",
      "2023-12-06 18:42:12,782 - MarkovianUniformEnvironment - INFO - Sum of weight difference arbiterer0.00000000\n",
      "2023-12-06 18:42:12,784 - MarkovianUniformEnvironment - INFO - Sum of weight difference  reconstructor0.00000000\n",
      "2023-12-06 18:42:12,836 - MarkovianUniformEnvironment - INFO - Sum of weight difference arbiterer0.00000000\n",
      "2023-12-06 18:42:12,837 - MarkovianUniformEnvironment - INFO - Sum of weight difference  reconstructor0.00000000\n",
      "2023-12-06 18:42:12,890 - MarkovianUniformEnvironment - INFO - Sum of weight difference arbiterer0.00000000\n",
      "2023-12-06 18:42:12,891 - MarkovianUniformEnvironment - INFO - Sum of weight difference  reconstructor0.00000000\n",
      "2023-12-06 18:42:12,946 - MarkovianUniformEnvironment - INFO - Sum of weight difference arbiterer0.00000000\n",
      "2023-12-06 18:42:12,947 - MarkovianUniformEnvironment - INFO - Sum of weight difference  reconstructor0.00000000\n",
      "2023-12-06 18:42:13,006 - MarkovianUniformEnvironment - INFO - Sum of weight difference arbiterer0.00000000\n",
      "2023-12-06 18:42:13,007 - MarkovianUniformEnvironment - INFO - Sum of weight difference  reconstructor0.00000000\n",
      "2023-12-06 18:42:13,068 - MarkovianUniformEnvironment - INFO - Sum of weight difference arbiterer0.00000000\n",
      "2023-12-06 18:42:13,069 - MarkovianUniformEnvironment - INFO - Sum of weight difference  reconstructor0.00000000\n",
      "2023-12-06 18:42:13,122 - MarkovianUniformEnvironment - INFO - Sum of weight difference arbiterer0.00000000\n",
      "2023-12-06 18:42:13,123 - MarkovianUniformEnvironment - INFO - Sum of weight difference  reconstructor0.00000000\n",
      "2023-12-06 18:42:13,177 - MarkovianUniformEnvironment - INFO - Sum of weight difference arbiterer0.00000000\n",
      "2023-12-06 18:42:13,178 - MarkovianUniformEnvironment - INFO - Sum of weight difference  reconstructor0.00000000\n",
      "2023-12-06 18:42:13,229 - MarkovianUniformEnvironment - INFO - Sum of weight difference arbiterer0.00000000\n",
      "2023-12-06 18:42:13,230 - MarkovianUniformEnvironment - INFO - Sum of weight difference  reconstructor0.00000000\n"
     ]
    },
    {
     "data": {
      "application/vnd.jupyter.widget-view+json": {
       "model_id": "0b81846c515148a695fb68fd42726c33",
       "version_major": 2,
       "version_minor": 0
      },
      "text/plain": [
       "Steps:   0%|          | 0/12 [00:00<?, ?it/s]"
      ]
     },
     "metadata": {},
     "output_type": "display_data"
    },
    {
     "name": "stderr",
     "output_type": "stream",
     "text": [
      "2023-12-06 18:42:13,293 - MarkovianUniformEnvironment - INFO - Sum of weight difference arbiterer0.00000000\n",
      "2023-12-06 18:42:13,294 - MarkovianUniformEnvironment - INFO - Sum of weight difference  reconstructor0.00000000\n",
      "2023-12-06 18:42:13,352 - MarkovianUniformEnvironment - INFO - Sum of weight difference arbiterer0.00000000\n",
      "2023-12-06 18:42:13,353 - MarkovianUniformEnvironment - INFO - Sum of weight difference  reconstructor0.00000000\n",
      "2023-12-06 18:42:13,406 - MarkovianUniformEnvironment - INFO - Sum of weight difference arbiterer0.00000000\n",
      "2023-12-06 18:42:13,407 - MarkovianUniformEnvironment - INFO - Sum of weight difference  reconstructor0.00000000\n",
      "2023-12-06 18:42:13,460 - MarkovianUniformEnvironment - INFO - Sum of weight difference arbiterer0.00000000\n",
      "2023-12-06 18:42:13,461 - MarkovianUniformEnvironment - INFO - Sum of weight difference  reconstructor0.00000000\n",
      "2023-12-06 18:42:13,515 - MarkovianUniformEnvironment - INFO - Sum of weight difference arbiterer0.00000000\n",
      "2023-12-06 18:42:13,519 - MarkovianUniformEnvironment - INFO - Sum of weight difference  reconstructor0.00000000\n",
      "2023-12-06 18:42:13,589 - MarkovianUniformEnvironment - INFO - Sum of weight difference arbiterer0.00000000\n",
      "2023-12-06 18:42:13,589 - MarkovianUniformEnvironment - INFO - Sum of weight difference  reconstructor0.00000000\n",
      "2023-12-06 18:42:13,650 - MarkovianUniformEnvironment - INFO - Sum of weight difference arbiterer0.00000000\n",
      "2023-12-06 18:42:13,651 - MarkovianUniformEnvironment - INFO - Sum of weight difference  reconstructor0.00000000\n",
      "2023-12-06 18:42:13,710 - MarkovianUniformEnvironment - INFO - Sum of weight difference arbiterer0.00000000\n",
      "2023-12-06 18:42:13,711 - MarkovianUniformEnvironment - INFO - Sum of weight difference  reconstructor0.00000000\n",
      "2023-12-06 18:42:13,766 - MarkovianUniformEnvironment - INFO - Sum of weight difference arbiterer0.00000000\n",
      "2023-12-06 18:42:13,767 - MarkovianUniformEnvironment - INFO - Sum of weight difference  reconstructor0.00000000\n",
      "2023-12-06 18:42:13,824 - MarkovianUniformEnvironment - INFO - Sum of weight difference arbiterer0.00000000\n",
      "2023-12-06 18:42:13,825 - MarkovianUniformEnvironment - INFO - Sum of weight difference  reconstructor0.00000000\n",
      "2023-12-06 18:42:13,879 - MarkovianUniformEnvironment - INFO - Sum of weight difference arbiterer0.00000000\n",
      "2023-12-06 18:42:13,880 - MarkovianUniformEnvironment - INFO - Sum of weight difference  reconstructor0.00000000\n",
      "2023-12-06 18:42:13,934 - MarkovianUniformEnvironment - INFO - Sum of weight difference arbiterer0.00000000\n",
      "2023-12-06 18:42:13,935 - MarkovianUniformEnvironment - INFO - Sum of weight difference  reconstructor0.00000000\n"
     ]
    },
    {
     "data": {
      "application/vnd.jupyter.widget-view+json": {
       "model_id": "453ad000d80444c4b7829ea9e32f3abf",
       "version_major": 2,
       "version_minor": 0
      },
      "text/plain": [
       "Steps:   0%|          | 0/12 [00:00<?, ?it/s]"
      ]
     },
     "metadata": {},
     "output_type": "display_data"
    },
    {
     "name": "stderr",
     "output_type": "stream",
     "text": [
      "2023-12-06 18:42:13,999 - MarkovianUniformEnvironment - INFO - Sum of weight difference arbiterer0.00000000\n",
      "2023-12-06 18:42:14,000 - MarkovianUniformEnvironment - INFO - Sum of weight difference  reconstructor0.00000000\n",
      "2023-12-06 18:42:14,059 - MarkovianUniformEnvironment - INFO - Sum of weight difference arbiterer0.00000000\n",
      "2023-12-06 18:42:14,060 - MarkovianUniformEnvironment - INFO - Sum of weight difference  reconstructor0.00000000\n",
      "2023-12-06 18:42:14,116 - MarkovianUniformEnvironment - INFO - Sum of weight difference arbiterer0.00000000\n",
      "2023-12-06 18:42:14,117 - MarkovianUniformEnvironment - INFO - Sum of weight difference  reconstructor0.00000000\n",
      "2023-12-06 18:42:14,169 - MarkovianUniformEnvironment - INFO - Sum of weight difference arbiterer0.00000000\n",
      "2023-12-06 18:42:14,170 - MarkovianUniformEnvironment - INFO - Sum of weight difference  reconstructor0.00000000\n",
      "2023-12-06 18:42:14,223 - MarkovianUniformEnvironment - INFO - Sum of weight difference arbiterer0.00000000\n",
      "2023-12-06 18:42:14,224 - MarkovianUniformEnvironment - INFO - Sum of weight difference  reconstructor0.00000000\n",
      "2023-12-06 18:42:14,275 - MarkovianUniformEnvironment - INFO - Sum of weight difference arbiterer0.00000000\n",
      "2023-12-06 18:42:14,276 - MarkovianUniformEnvironment - INFO - Sum of weight difference  reconstructor0.00000000\n",
      "2023-12-06 18:42:14,329 - MarkovianUniformEnvironment - INFO - Sum of weight difference arbiterer0.00000000\n",
      "2023-12-06 18:42:14,330 - MarkovianUniformEnvironment - INFO - Sum of weight difference  reconstructor0.00000000\n",
      "2023-12-06 18:42:14,384 - MarkovianUniformEnvironment - INFO - Sum of weight difference arbiterer0.00000000\n",
      "2023-12-06 18:42:14,385 - MarkovianUniformEnvironment - INFO - Sum of weight difference  reconstructor0.00000000\n",
      "2023-12-06 18:42:14,439 - MarkovianUniformEnvironment - INFO - Sum of weight difference arbiterer0.00000000\n",
      "2023-12-06 18:42:14,440 - MarkovianUniformEnvironment - INFO - Sum of weight difference  reconstructor0.00000000\n",
      "2023-12-06 18:42:14,493 - MarkovianUniformEnvironment - INFO - Sum of weight difference arbiterer0.00000000\n",
      "2023-12-06 18:42:14,494 - MarkovianUniformEnvironment - INFO - Sum of weight difference  reconstructor0.00000000\n",
      "2023-12-06 18:42:14,552 - MarkovianUniformEnvironment - INFO - Sum of weight difference arbiterer0.00000000\n",
      "2023-12-06 18:42:14,553 - MarkovianUniformEnvironment - INFO - Sum of weight difference  reconstructor0.00000000\n",
      "2023-12-06 18:42:14,606 - MarkovianUniformEnvironment - INFO - Sum of weight difference arbiterer0.00000000\n",
      "2023-12-06 18:42:14,607 - MarkovianUniformEnvironment - INFO - Sum of weight difference  reconstructor0.00000000\n"
     ]
    },
    {
     "data": {
      "application/vnd.jupyter.widget-view+json": {
       "model_id": "4bd323ae2d4343ecade2860b8d626573",
       "version_major": 2,
       "version_minor": 0
      },
      "text/plain": [
       "Steps:   0%|          | 0/12 [00:00<?, ?it/s]"
      ]
     },
     "metadata": {},
     "output_type": "display_data"
    },
    {
     "name": "stderr",
     "output_type": "stream",
     "text": [
      "2023-12-06 18:42:14,744 - MarkovianUniformEnvironment - INFO - Sum of weight difference arbiterer0.00000000\n",
      "2023-12-06 18:42:14,748 - MarkovianUniformEnvironment - INFO - Sum of weight difference  reconstructor0.00000000\n",
      "2023-12-06 18:42:14,820 - MarkovianUniformEnvironment - INFO - Sum of weight difference arbiterer0.00000000\n",
      "2023-12-06 18:42:14,821 - MarkovianUniformEnvironment - INFO - Sum of weight difference  reconstructor0.00000000\n",
      "2023-12-06 18:42:14,872 - MarkovianUniformEnvironment - INFO - Sum of weight difference arbiterer0.00000000\n",
      "2023-12-06 18:42:14,873 - MarkovianUniformEnvironment - INFO - Sum of weight difference  reconstructor0.00000000\n",
      "2023-12-06 18:42:14,932 - MarkovianUniformEnvironment - INFO - Sum of weight difference arbiterer0.00000000\n",
      "2023-12-06 18:42:14,933 - MarkovianUniformEnvironment - INFO - Sum of weight difference  reconstructor0.00000000\n",
      "2023-12-06 18:42:14,990 - MarkovianUniformEnvironment - INFO - Sum of weight difference arbiterer0.00000000\n",
      "2023-12-06 18:42:14,991 - MarkovianUniformEnvironment - INFO - Sum of weight difference  reconstructor0.00000000\n",
      "2023-12-06 18:42:15,046 - MarkovianUniformEnvironment - INFO - Sum of weight difference arbiterer0.00000000\n",
      "2023-12-06 18:42:15,047 - MarkovianUniformEnvironment - INFO - Sum of weight difference  reconstructor0.00000000\n",
      "2023-12-06 18:42:15,100 - MarkovianUniformEnvironment - INFO - Sum of weight difference arbiterer0.00000000\n",
      "2023-12-06 18:42:15,101 - MarkovianUniformEnvironment - INFO - Sum of weight difference  reconstructor0.00000000\n",
      "2023-12-06 18:42:15,154 - MarkovianUniformEnvironment - INFO - Sum of weight difference arbiterer0.00000000\n",
      "2023-12-06 18:42:15,157 - MarkovianUniformEnvironment - INFO - Sum of weight difference  reconstructor0.00000000\n",
      "2023-12-06 18:42:15,225 - MarkovianUniformEnvironment - INFO - Sum of weight difference arbiterer0.00000000\n",
      "2023-12-06 18:42:15,226 - MarkovianUniformEnvironment - INFO - Sum of weight difference  reconstructor0.00000000\n",
      "2023-12-06 18:42:15,278 - MarkovianUniformEnvironment - INFO - Sum of weight difference arbiterer0.00000000\n",
      "2023-12-06 18:42:15,279 - MarkovianUniformEnvironment - INFO - Sum of weight difference  reconstructor0.00000000\n",
      "2023-12-06 18:42:15,333 - MarkovianUniformEnvironment - INFO - Sum of weight difference arbiterer0.00000000\n",
      "2023-12-06 18:42:15,334 - MarkovianUniformEnvironment - INFO - Sum of weight difference  reconstructor0.00000000\n",
      "2023-12-06 18:42:15,394 - MarkovianUniformEnvironment - INFO - Sum of weight difference arbiterer0.00000000\n",
      "2023-12-06 18:42:15,395 - MarkovianUniformEnvironment - INFO - Sum of weight difference  reconstructor0.00000000\n"
     ]
    },
    {
     "data": {
      "application/vnd.jupyter.widget-view+json": {
       "model_id": "d42634e53da547afba51826d108f6e14",
       "version_major": 2,
       "version_minor": 0
      },
      "text/plain": [
       "Steps:   0%|          | 0/12 [00:00<?, ?it/s]"
      ]
     },
     "metadata": {},
     "output_type": "display_data"
    },
    {
     "name": "stderr",
     "output_type": "stream",
     "text": [
      "2023-12-06 18:42:15,457 - MarkovianUniformEnvironment - INFO - Sum of weight difference arbiterer0.00000000\n",
      "2023-12-06 18:42:15,458 - MarkovianUniformEnvironment - INFO - Sum of weight difference  reconstructor0.00000000\n",
      "2023-12-06 18:42:15,511 - MarkovianUniformEnvironment - INFO - Sum of weight difference arbiterer0.00000000\n",
      "2023-12-06 18:42:15,512 - MarkovianUniformEnvironment - INFO - Sum of weight difference  reconstructor0.00000000\n",
      "2023-12-06 18:42:15,566 - MarkovianUniformEnvironment - INFO - Sum of weight difference arbiterer0.00000000\n",
      "2023-12-06 18:42:15,567 - MarkovianUniformEnvironment - INFO - Sum of weight difference  reconstructor0.00000000\n",
      "2023-12-06 18:42:15,621 - MarkovianUniformEnvironment - INFO - Sum of weight difference arbiterer0.00000000\n",
      "2023-12-06 18:42:15,622 - MarkovianUniformEnvironment - INFO - Sum of weight difference  reconstructor0.00000000\n",
      "2023-12-06 18:42:15,677 - MarkovianUniformEnvironment - INFO - Sum of weight difference arbiterer0.00000000\n",
      "2023-12-06 18:42:15,678 - MarkovianUniformEnvironment - INFO - Sum of weight difference  reconstructor0.00000000\n",
      "2023-12-06 18:42:15,733 - MarkovianUniformEnvironment - INFO - Sum of weight difference arbiterer0.00000000\n",
      "2023-12-06 18:42:15,734 - MarkovianUniformEnvironment - INFO - Sum of weight difference  reconstructor0.00000000\n",
      "2023-12-06 18:42:15,790 - MarkovianUniformEnvironment - INFO - Sum of weight difference arbiterer0.00000000\n",
      "2023-12-06 18:42:15,791 - MarkovianUniformEnvironment - INFO - Sum of weight difference  reconstructor0.00000000\n",
      "2023-12-06 18:42:15,844 - MarkovianUniformEnvironment - INFO - Sum of weight difference arbiterer0.00000000\n",
      "2023-12-06 18:42:15,844 - MarkovianUniformEnvironment - INFO - Sum of weight difference  reconstructor0.00000000\n",
      "2023-12-06 18:42:15,899 - MarkovianUniformEnvironment - INFO - Sum of weight difference arbiterer0.00000000\n",
      "2023-12-06 18:42:15,900 - MarkovianUniformEnvironment - INFO - Sum of weight difference  reconstructor0.00000000\n",
      "2023-12-06 18:42:15,949 - MarkovianUniformEnvironment - INFO - Sum of weight difference arbiterer0.00000000\n",
      "2023-12-06 18:42:15,950 - MarkovianUniformEnvironment - INFO - Sum of weight difference  reconstructor0.00000000\n",
      "2023-12-06 18:42:16,008 - MarkovianUniformEnvironment - INFO - Sum of weight difference arbiterer0.00000000\n",
      "2023-12-06 18:42:16,009 - MarkovianUniformEnvironment - INFO - Sum of weight difference  reconstructor0.00000000\n",
      "2023-12-06 18:42:16,064 - MarkovianUniformEnvironment - INFO - Sum of weight difference arbiterer0.00000000\n",
      "2023-12-06 18:42:16,065 - MarkovianUniformEnvironment - INFO - Sum of weight difference  reconstructor0.00000000\n"
     ]
    },
    {
     "data": {
      "application/vnd.jupyter.widget-view+json": {
       "model_id": "23b58fc6f9f24905bfb3cd73a34074e8",
       "version_major": 2,
       "version_minor": 0
      },
      "text/plain": [
       "Steps:   0%|          | 0/12 [00:00<?, ?it/s]"
      ]
     },
     "metadata": {},
     "output_type": "display_data"
    },
    {
     "name": "stderr",
     "output_type": "stream",
     "text": [
      "2023-12-06 18:42:16,125 - MarkovianUniformEnvironment - INFO - Sum of weight difference arbiterer0.00000000\n",
      "2023-12-06 18:42:16,126 - MarkovianUniformEnvironment - INFO - Sum of weight difference  reconstructor0.00000000\n",
      "2023-12-06 18:42:16,180 - MarkovianUniformEnvironment - INFO - Sum of weight difference arbiterer0.00000000\n",
      "2023-12-06 18:42:16,182 - MarkovianUniformEnvironment - INFO - Sum of weight difference  reconstructor0.00000000\n",
      "2023-12-06 18:42:16,241 - MarkovianUniformEnvironment - INFO - Sum of weight difference arbiterer0.00000000\n",
      "2023-12-06 18:42:16,242 - MarkovianUniformEnvironment - INFO - Sum of weight difference  reconstructor0.00000000\n",
      "2023-12-06 18:42:16,291 - MarkovianUniformEnvironment - INFO - Sum of weight difference arbiterer0.00000000\n",
      "2023-12-06 18:42:16,292 - MarkovianUniformEnvironment - INFO - Sum of weight difference  reconstructor0.00000000\n",
      "2023-12-06 18:42:16,344 - MarkovianUniformEnvironment - INFO - Sum of weight difference arbiterer0.00000000\n",
      "2023-12-06 18:42:16,344 - MarkovianUniformEnvironment - INFO - Sum of weight difference  reconstructor0.00000000\n",
      "2023-12-06 18:42:16,396 - MarkovianUniformEnvironment - INFO - Sum of weight difference arbiterer0.00000000\n",
      "2023-12-06 18:42:16,397 - MarkovianUniformEnvironment - INFO - Sum of weight difference  reconstructor0.00000000\n",
      "2023-12-06 18:42:16,449 - MarkovianUniformEnvironment - INFO - Sum of weight difference arbiterer0.00000000\n",
      "2023-12-06 18:42:16,450 - MarkovianUniformEnvironment - INFO - Sum of weight difference  reconstructor0.00000000\n",
      "2023-12-06 18:42:16,505 - MarkovianUniformEnvironment - INFO - Sum of weight difference arbiterer0.00000000\n",
      "2023-12-06 18:42:16,506 - MarkovianUniformEnvironment - INFO - Sum of weight difference  reconstructor0.00000000\n",
      "2023-12-06 18:42:16,560 - MarkovianUniformEnvironment - INFO - Sum of weight difference arbiterer0.00000000\n",
      "2023-12-06 18:42:16,561 - MarkovianUniformEnvironment - INFO - Sum of weight difference  reconstructor0.00000000\n",
      "2023-12-06 18:42:16,614 - MarkovianUniformEnvironment - INFO - Sum of weight difference arbiterer0.00000000\n",
      "2023-12-06 18:42:16,615 - MarkovianUniformEnvironment - INFO - Sum of weight difference  reconstructor0.00000000\n",
      "2023-12-06 18:42:16,670 - MarkovianUniformEnvironment - INFO - Sum of weight difference arbiterer0.00000000\n",
      "2023-12-06 18:42:16,671 - MarkovianUniformEnvironment - INFO - Sum of weight difference  reconstructor0.00000000\n",
      "2023-12-06 18:42:16,721 - MarkovianUniformEnvironment - INFO - Sum of weight difference arbiterer0.00000000\n",
      "2023-12-06 18:42:16,721 - MarkovianUniformEnvironment - INFO - Sum of weight difference  reconstructor0.00000000\n"
     ]
    },
    {
     "data": {
      "application/vnd.jupyter.widget-view+json": {
       "model_id": "bcef355f393d41f9bba9766dd41358a8",
       "version_major": 2,
       "version_minor": 0
      },
      "text/plain": [
       "Steps:   0%|          | 0/12 [00:00<?, ?it/s]"
      ]
     },
     "metadata": {},
     "output_type": "display_data"
    },
    {
     "name": "stderr",
     "output_type": "stream",
     "text": [
      "2023-12-06 18:42:16,781 - MarkovianUniformEnvironment - INFO - Sum of weight difference arbiterer0.00000000\n",
      "2023-12-06 18:42:16,782 - MarkovianUniformEnvironment - INFO - Sum of weight difference  reconstructor0.00000000\n",
      "2023-12-06 18:42:16,839 - MarkovianUniformEnvironment - INFO - Sum of weight difference arbiterer0.00000000\n",
      "2023-12-06 18:42:16,840 - MarkovianUniformEnvironment - INFO - Sum of weight difference  reconstructor0.00000000\n",
      "2023-12-06 18:42:16,894 - MarkovianUniformEnvironment - INFO - Sum of weight difference arbiterer0.00000000\n",
      "2023-12-06 18:42:16,895 - MarkovianUniformEnvironment - INFO - Sum of weight difference  reconstructor0.00000000\n",
      "2023-12-06 18:42:16,947 - MarkovianUniformEnvironment - INFO - Sum of weight difference arbiterer0.00000000\n",
      "2023-12-06 18:42:16,948 - MarkovianUniformEnvironment - INFO - Sum of weight difference  reconstructor0.00000000\n",
      "2023-12-06 18:42:17,008 - MarkovianUniformEnvironment - INFO - Sum of weight difference arbiterer0.00000000\n",
      "2023-12-06 18:42:17,009 - MarkovianUniformEnvironment - INFO - Sum of weight difference  reconstructor0.00000000\n",
      "2023-12-06 18:42:17,061 - MarkovianUniformEnvironment - INFO - Sum of weight difference arbiterer0.00000000\n",
      "2023-12-06 18:42:17,062 - MarkovianUniformEnvironment - INFO - Sum of weight difference  reconstructor0.00000000\n",
      "2023-12-06 18:42:17,115 - MarkovianUniformEnvironment - INFO - Sum of weight difference arbiterer0.00000000\n",
      "2023-12-06 18:42:17,116 - MarkovianUniformEnvironment - INFO - Sum of weight difference  reconstructor0.00000000\n",
      "2023-12-06 18:42:17,167 - MarkovianUniformEnvironment - INFO - Sum of weight difference arbiterer0.00000000\n",
      "2023-12-06 18:42:17,168 - MarkovianUniformEnvironment - INFO - Sum of weight difference  reconstructor0.00000000\n",
      "2023-12-06 18:42:17,221 - MarkovianUniformEnvironment - INFO - Sum of weight difference arbiterer0.00000000\n",
      "2023-12-06 18:42:17,221 - MarkovianUniformEnvironment - INFO - Sum of weight difference  reconstructor0.00000000\n",
      "2023-12-06 18:42:17,271 - MarkovianUniformEnvironment - INFO - Sum of weight difference arbiterer0.00000000\n",
      "2023-12-06 18:42:17,272 - MarkovianUniformEnvironment - INFO - Sum of weight difference  reconstructor0.00000000\n",
      "2023-12-06 18:42:17,322 - MarkovianUniformEnvironment - INFO - Sum of weight difference arbiterer0.00000000\n",
      "2023-12-06 18:42:17,323 - MarkovianUniformEnvironment - INFO - Sum of weight difference  reconstructor0.00000000\n",
      "2023-12-06 18:42:17,375 - MarkovianUniformEnvironment - INFO - Sum of weight difference arbiterer0.00000000\n",
      "2023-12-06 18:42:17,376 - MarkovianUniformEnvironment - INFO - Sum of weight difference  reconstructor0.00000000\n"
     ]
    },
    {
     "data": {
      "application/vnd.jupyter.widget-view+json": {
       "model_id": "208e2a014fbf41328e03883d425b3595",
       "version_major": 2,
       "version_minor": 0
      },
      "text/plain": [
       "Steps:   0%|          | 0/12 [00:00<?, ?it/s]"
      ]
     },
     "metadata": {},
     "output_type": "display_data"
    },
    {
     "name": "stderr",
     "output_type": "stream",
     "text": [
      "2023-12-06 18:42:17,434 - MarkovianUniformEnvironment - INFO - Sum of weight difference arbiterer0.00000000\n",
      "2023-12-06 18:42:17,435 - MarkovianUniformEnvironment - INFO - Sum of weight difference  reconstructor0.00000000\n",
      "2023-12-06 18:42:17,491 - MarkovianUniformEnvironment - INFO - Sum of weight difference arbiterer0.00000000\n",
      "2023-12-06 18:42:17,492 - MarkovianUniformEnvironment - INFO - Sum of weight difference  reconstructor0.00000000\n",
      "2023-12-06 18:42:17,545 - MarkovianUniformEnvironment - INFO - Sum of weight difference arbiterer0.00000000\n",
      "2023-12-06 18:42:17,546 - MarkovianUniformEnvironment - INFO - Sum of weight difference  reconstructor0.00000000\n",
      "2023-12-06 18:42:17,595 - MarkovianUniformEnvironment - INFO - Sum of weight difference arbiterer0.00000000\n",
      "2023-12-06 18:42:17,596 - MarkovianUniformEnvironment - INFO - Sum of weight difference  reconstructor0.00000000\n",
      "2023-12-06 18:42:17,654 - MarkovianUniformEnvironment - INFO - Sum of weight difference arbiterer0.00000000\n",
      "2023-12-06 18:42:17,655 - MarkovianUniformEnvironment - INFO - Sum of weight difference  reconstructor0.00000000\n",
      "2023-12-06 18:42:17,708 - MarkovianUniformEnvironment - INFO - Sum of weight difference arbiterer0.00000000\n",
      "2023-12-06 18:42:17,709 - MarkovianUniformEnvironment - INFO - Sum of weight difference  reconstructor0.00000000\n",
      "2023-12-06 18:42:17,765 - MarkovianUniformEnvironment - INFO - Sum of weight difference arbiterer0.00000000\n",
      "2023-12-06 18:42:17,766 - MarkovianUniformEnvironment - INFO - Sum of weight difference  reconstructor0.00000000\n",
      "2023-12-06 18:42:17,816 - MarkovianUniformEnvironment - INFO - Sum of weight difference arbiterer0.00000000\n",
      "2023-12-06 18:42:17,817 - MarkovianUniformEnvironment - INFO - Sum of weight difference  reconstructor0.00000000\n",
      "2023-12-06 18:42:17,873 - MarkovianUniformEnvironment - INFO - Sum of weight difference arbiterer0.00000000\n",
      "2023-12-06 18:42:17,874 - MarkovianUniformEnvironment - INFO - Sum of weight difference  reconstructor0.00000000\n",
      "2023-12-06 18:42:17,925 - MarkovianUniformEnvironment - INFO - Sum of weight difference arbiterer0.00000000\n",
      "2023-12-06 18:42:17,926 - MarkovianUniformEnvironment - INFO - Sum of weight difference  reconstructor0.00000000\n",
      "2023-12-06 18:42:17,978 - MarkovianUniformEnvironment - INFO - Sum of weight difference arbiterer0.00000000\n",
      "2023-12-06 18:42:17,979 - MarkovianUniformEnvironment - INFO - Sum of weight difference  reconstructor0.00000000\n",
      "2023-12-06 18:42:18,032 - MarkovianUniformEnvironment - INFO - Sum of weight difference arbiterer0.00000000\n",
      "2023-12-06 18:42:18,033 - MarkovianUniformEnvironment - INFO - Sum of weight difference  reconstructor0.00000000\n"
     ]
    },
    {
     "data": {
      "application/vnd.jupyter.widget-view+json": {
       "model_id": "3a504a0e51574a758e37d0d6e003ad48",
       "version_major": 2,
       "version_minor": 0
      },
      "text/plain": [
       "Steps:   0%|          | 0/12 [00:00<?, ?it/s]"
      ]
     },
     "metadata": {},
     "output_type": "display_data"
    },
    {
     "name": "stderr",
     "output_type": "stream",
     "text": [
      "2023-12-06 18:42:18,100 - MarkovianUniformEnvironment - INFO - Sum of weight difference arbiterer0.00000000\n",
      "2023-12-06 18:42:18,101 - MarkovianUniformEnvironment - INFO - Sum of weight difference  reconstructor0.00000000\n",
      "2023-12-06 18:42:18,157 - MarkovianUniformEnvironment - INFO - Sum of weight difference arbiterer0.00000000\n",
      "2023-12-06 18:42:18,158 - MarkovianUniformEnvironment - INFO - Sum of weight difference  reconstructor0.00000000\n",
      "2023-12-06 18:42:18,212 - MarkovianUniformEnvironment - INFO - Sum of weight difference arbiterer0.00000000\n",
      "2023-12-06 18:42:18,214 - MarkovianUniformEnvironment - INFO - Sum of weight difference  reconstructor0.00000000\n",
      "2023-12-06 18:42:18,266 - MarkovianUniformEnvironment - INFO - Sum of weight difference arbiterer0.00000000\n",
      "2023-12-06 18:42:18,267 - MarkovianUniformEnvironment - INFO - Sum of weight difference  reconstructor0.00000000\n",
      "2023-12-06 18:42:18,319 - MarkovianUniformEnvironment - INFO - Sum of weight difference arbiterer0.00000000\n",
      "2023-12-06 18:42:18,320 - MarkovianUniformEnvironment - INFO - Sum of weight difference  reconstructor0.00000000\n",
      "2023-12-06 18:42:18,380 - MarkovianUniformEnvironment - INFO - Sum of weight difference arbiterer0.00000000\n",
      "2023-12-06 18:42:18,380 - MarkovianUniformEnvironment - INFO - Sum of weight difference  reconstructor0.00000000\n",
      "2023-12-06 18:42:18,434 - MarkovianUniformEnvironment - INFO - Sum of weight difference arbiterer0.00000000\n",
      "2023-12-06 18:42:18,435 - MarkovianUniformEnvironment - INFO - Sum of weight difference  reconstructor0.00000000\n",
      "2023-12-06 18:42:18,489 - MarkovianUniformEnvironment - INFO - Sum of weight difference arbiterer0.00000000\n",
      "2023-12-06 18:42:18,490 - MarkovianUniformEnvironment - INFO - Sum of weight difference  reconstructor0.00000000\n",
      "2023-12-06 18:42:18,541 - MarkovianUniformEnvironment - INFO - Sum of weight difference arbiterer0.00000000\n",
      "2023-12-06 18:42:18,542 - MarkovianUniformEnvironment - INFO - Sum of weight difference  reconstructor0.00000000\n",
      "2023-12-06 18:42:18,595 - MarkovianUniformEnvironment - INFO - Sum of weight difference arbiterer0.00000000\n",
      "2023-12-06 18:42:18,595 - MarkovianUniformEnvironment - INFO - Sum of weight difference  reconstructor0.00000000\n",
      "2023-12-06 18:42:18,650 - MarkovianUniformEnvironment - INFO - Sum of weight difference arbiterer0.00000000\n",
      "2023-12-06 18:42:18,651 - MarkovianUniformEnvironment - INFO - Sum of weight difference  reconstructor0.00000000\n",
      "2023-12-06 18:42:18,700 - MarkovianUniformEnvironment - INFO - Sum of weight difference arbiterer0.00000000\n",
      "2023-12-06 18:42:18,701 - MarkovianUniformEnvironment - INFO - Sum of weight difference  reconstructor0.00000000\n"
     ]
    },
    {
     "data": {
      "application/vnd.jupyter.widget-view+json": {
       "model_id": "44293938ebe54614afcbb9f0b7199499",
       "version_major": 2,
       "version_minor": 0
      },
      "text/plain": [
       "Steps:   0%|          | 0/12 [00:00<?, ?it/s]"
      ]
     },
     "metadata": {},
     "output_type": "display_data"
    },
    {
     "name": "stderr",
     "output_type": "stream",
     "text": [
      "2023-12-06 18:42:18,774 - MarkovianUniformEnvironment - INFO - Sum of weight difference arbiterer0.00000000\n",
      "2023-12-06 18:42:18,775 - MarkovianUniformEnvironment - INFO - Sum of weight difference  reconstructor0.00000000\n",
      "2023-12-06 18:42:18,826 - MarkovianUniformEnvironment - INFO - Sum of weight difference arbiterer0.00000000\n",
      "2023-12-06 18:42:18,827 - MarkovianUniformEnvironment - INFO - Sum of weight difference  reconstructor0.00000000\n",
      "2023-12-06 18:42:18,879 - MarkovianUniformEnvironment - INFO - Sum of weight difference arbiterer0.00000000\n",
      "2023-12-06 18:42:18,880 - MarkovianUniformEnvironment - INFO - Sum of weight difference  reconstructor0.00000000\n",
      "2023-12-06 18:42:18,931 - MarkovianUniformEnvironment - INFO - Sum of weight difference arbiterer0.00000000\n",
      "2023-12-06 18:42:18,932 - MarkovianUniformEnvironment - INFO - Sum of weight difference  reconstructor0.00000000\n",
      "2023-12-06 18:42:18,985 - MarkovianUniformEnvironment - INFO - Sum of weight difference arbiterer0.00000000\n",
      "2023-12-06 18:42:18,985 - MarkovianUniformEnvironment - INFO - Sum of weight difference  reconstructor0.00000000\n",
      "2023-12-06 18:42:19,039 - MarkovianUniformEnvironment - INFO - Sum of weight difference arbiterer0.00000000\n",
      "2023-12-06 18:42:19,040 - MarkovianUniformEnvironment - INFO - Sum of weight difference  reconstructor0.00000000\n",
      "2023-12-06 18:42:19,095 - MarkovianUniformEnvironment - INFO - Sum of weight difference arbiterer0.00000000\n",
      "2023-12-06 18:42:19,096 - MarkovianUniformEnvironment - INFO - Sum of weight difference  reconstructor0.00000000\n",
      "2023-12-06 18:42:19,148 - MarkovianUniformEnvironment - INFO - Sum of weight difference arbiterer0.00000000\n",
      "2023-12-06 18:42:19,149 - MarkovianUniformEnvironment - INFO - Sum of weight difference  reconstructor0.00000000\n",
      "2023-12-06 18:42:19,205 - MarkovianUniformEnvironment - INFO - Sum of weight difference arbiterer0.00000000\n",
      "2023-12-06 18:42:19,205 - MarkovianUniformEnvironment - INFO - Sum of weight difference  reconstructor0.00000000\n",
      "2023-12-06 18:42:19,256 - MarkovianUniformEnvironment - INFO - Sum of weight difference arbiterer0.00000000\n",
      "2023-12-06 18:42:19,257 - MarkovianUniformEnvironment - INFO - Sum of weight difference  reconstructor0.00000000\n",
      "2023-12-06 18:42:19,310 - MarkovianUniformEnvironment - INFO - Sum of weight difference arbiterer0.00000000\n",
      "2023-12-06 18:42:19,311 - MarkovianUniformEnvironment - INFO - Sum of weight difference  reconstructor0.00000000\n",
      "2023-12-06 18:42:19,365 - MarkovianUniformEnvironment - INFO - Sum of weight difference arbiterer0.00000000\n",
      "2023-12-06 18:42:19,366 - MarkovianUniformEnvironment - INFO - Sum of weight difference  reconstructor0.00000000\n"
     ]
    },
    {
     "data": {
      "application/vnd.jupyter.widget-view+json": {
       "model_id": "d824ed6254364f63a650e45f1912bf7b",
       "version_major": 2,
       "version_minor": 0
      },
      "text/plain": [
       "Steps:   0%|          | 0/12 [00:00<?, ?it/s]"
      ]
     },
     "metadata": {},
     "output_type": "display_data"
    },
    {
     "name": "stderr",
     "output_type": "stream",
     "text": [
      "2023-12-06 18:42:19,445 - MarkovianUniformEnvironment - INFO - Sum of weight difference arbiterer0.00000000\n",
      "2023-12-06 18:42:19,446 - MarkovianUniformEnvironment - INFO - Sum of weight difference  reconstructor0.00000000\n",
      "2023-12-06 18:42:19,500 - MarkovianUniformEnvironment - INFO - Sum of weight difference arbiterer0.00000000\n",
      "2023-12-06 18:42:19,500 - MarkovianUniformEnvironment - INFO - Sum of weight difference  reconstructor0.00000000\n",
      "2023-12-06 18:42:19,551 - MarkovianUniformEnvironment - INFO - Sum of weight difference arbiterer0.00000000\n",
      "2023-12-06 18:42:19,552 - MarkovianUniformEnvironment - INFO - Sum of weight difference  reconstructor0.00000000\n",
      "2023-12-06 18:42:19,604 - MarkovianUniformEnvironment - INFO - Sum of weight difference arbiterer0.00000000\n",
      "2023-12-06 18:42:19,605 - MarkovianUniformEnvironment - INFO - Sum of weight difference  reconstructor0.00000000\n",
      "2023-12-06 18:42:19,657 - MarkovianUniformEnvironment - INFO - Sum of weight difference arbiterer0.00000000\n",
      "2023-12-06 18:42:19,658 - MarkovianUniformEnvironment - INFO - Sum of weight difference  reconstructor0.00000000\n",
      "2023-12-06 18:42:19,710 - MarkovianUniformEnvironment - INFO - Sum of weight difference arbiterer0.00000000\n",
      "2023-12-06 18:42:19,711 - MarkovianUniformEnvironment - INFO - Sum of weight difference  reconstructor0.00000000\n",
      "2023-12-06 18:42:19,764 - MarkovianUniformEnvironment - INFO - Sum of weight difference arbiterer0.00000000\n",
      "2023-12-06 18:42:19,765 - MarkovianUniformEnvironment - INFO - Sum of weight difference  reconstructor0.00000000\n",
      "2023-12-06 18:42:19,819 - MarkovianUniformEnvironment - INFO - Sum of weight difference arbiterer0.00000000\n",
      "2023-12-06 18:42:19,820 - MarkovianUniformEnvironment - INFO - Sum of weight difference  reconstructor0.00000000\n",
      "2023-12-06 18:42:19,873 - MarkovianUniformEnvironment - INFO - Sum of weight difference arbiterer0.00000000\n",
      "2023-12-06 18:42:19,874 - MarkovianUniformEnvironment - INFO - Sum of weight difference  reconstructor0.00000000\n",
      "2023-12-06 18:42:19,925 - MarkovianUniformEnvironment - INFO - Sum of weight difference arbiterer0.00000000\n",
      "2023-12-06 18:42:19,926 - MarkovianUniformEnvironment - INFO - Sum of weight difference  reconstructor0.00000000\n",
      "2023-12-06 18:42:19,984 - MarkovianUniformEnvironment - INFO - Sum of weight difference arbiterer0.00000000\n",
      "2023-12-06 18:42:19,985 - MarkovianUniformEnvironment - INFO - Sum of weight difference  reconstructor0.00000000\n",
      "2023-12-06 18:42:20,036 - MarkovianUniformEnvironment - INFO - Sum of weight difference arbiterer0.00000000\n",
      "2023-12-06 18:42:20,037 - MarkovianUniformEnvironment - INFO - Sum of weight difference  reconstructor0.00000000\n"
     ]
    },
    {
     "data": {
      "application/vnd.jupyter.widget-view+json": {
       "model_id": "c1f7a93c3bfe4de38ae693714bf569ab",
       "version_major": 2,
       "version_minor": 0
      },
      "text/plain": [
       "Steps:   0%|          | 0/12 [00:00<?, ?it/s]"
      ]
     },
     "metadata": {},
     "output_type": "display_data"
    },
    {
     "name": "stderr",
     "output_type": "stream",
     "text": [
      "2023-12-06 18:42:20,113 - MarkovianUniformEnvironment - INFO - Sum of weight difference arbiterer0.00000000\n",
      "2023-12-06 18:42:20,114 - MarkovianUniformEnvironment - INFO - Sum of weight difference  reconstructor0.00000000\n",
      "2023-12-06 18:42:20,168 - MarkovianUniformEnvironment - INFO - Sum of weight difference arbiterer0.00000000\n",
      "2023-12-06 18:42:20,169 - MarkovianUniformEnvironment - INFO - Sum of weight difference  reconstructor0.00000000\n",
      "2023-12-06 18:42:20,228 - MarkovianUniformEnvironment - INFO - Sum of weight difference arbiterer0.00000000\n",
      "2023-12-06 18:42:20,229 - MarkovianUniformEnvironment - INFO - Sum of weight difference  reconstructor0.00000000\n",
      "2023-12-06 18:42:20,280 - MarkovianUniformEnvironment - INFO - Sum of weight difference arbiterer0.00000000\n",
      "2023-12-06 18:42:20,280 - MarkovianUniformEnvironment - INFO - Sum of weight difference  reconstructor0.00000000\n",
      "2023-12-06 18:42:20,344 - MarkovianUniformEnvironment - INFO - Sum of weight difference arbiterer0.00000000\n",
      "2023-12-06 18:42:20,344 - MarkovianUniformEnvironment - INFO - Sum of weight difference  reconstructor0.00000000\n",
      "2023-12-06 18:42:20,399 - MarkovianUniformEnvironment - INFO - Sum of weight difference arbiterer0.00000000\n",
      "2023-12-06 18:42:20,400 - MarkovianUniformEnvironment - INFO - Sum of weight difference  reconstructor0.00000000\n",
      "2023-12-06 18:42:20,454 - MarkovianUniformEnvironment - INFO - Sum of weight difference arbiterer0.00000000\n",
      "2023-12-06 18:42:20,455 - MarkovianUniformEnvironment - INFO - Sum of weight difference  reconstructor0.00000000\n",
      "2023-12-06 18:42:20,505 - MarkovianUniformEnvironment - INFO - Sum of weight difference arbiterer0.00000000\n",
      "2023-12-06 18:42:20,506 - MarkovianUniformEnvironment - INFO - Sum of weight difference  reconstructor0.00000000\n",
      "2023-12-06 18:42:20,561 - MarkovianUniformEnvironment - INFO - Sum of weight difference arbiterer0.00000000\n",
      "2023-12-06 18:42:20,562 - MarkovianUniformEnvironment - INFO - Sum of weight difference  reconstructor0.00000000\n",
      "2023-12-06 18:42:20,615 - MarkovianUniformEnvironment - INFO - Sum of weight difference arbiterer0.00000000\n",
      "2023-12-06 18:42:20,616 - MarkovianUniformEnvironment - INFO - Sum of weight difference  reconstructor0.00000000\n",
      "2023-12-06 18:42:20,671 - MarkovianUniformEnvironment - INFO - Sum of weight difference arbiterer0.00000000\n",
      "2023-12-06 18:42:20,672 - MarkovianUniformEnvironment - INFO - Sum of weight difference  reconstructor0.00000000\n",
      "2023-12-06 18:42:20,721 - MarkovianUniformEnvironment - INFO - Sum of weight difference arbiterer0.00000000\n",
      "2023-12-06 18:42:20,722 - MarkovianUniformEnvironment - INFO - Sum of weight difference  reconstructor0.00000000\n"
     ]
    },
    {
     "data": {
      "application/vnd.jupyter.widget-view+json": {
       "model_id": "e472d8527f4c4b81814c39692d2dc087",
       "version_major": 2,
       "version_minor": 0
      },
      "text/plain": [
       "Steps:   0%|          | 0/12 [00:00<?, ?it/s]"
      ]
     },
     "metadata": {},
     "output_type": "display_data"
    },
    {
     "name": "stderr",
     "output_type": "stream",
     "text": [
      "2023-12-06 18:42:20,801 - MarkovianUniformEnvironment - INFO - Sum of weight difference arbiterer0.00000000\n",
      "2023-12-06 18:42:20,802 - MarkovianUniformEnvironment - INFO - Sum of weight difference  reconstructor0.00000000\n",
      "2023-12-06 18:42:20,860 - MarkovianUniformEnvironment - INFO - Sum of weight difference arbiterer0.00000000\n",
      "2023-12-06 18:42:20,861 - MarkovianUniformEnvironment - INFO - Sum of weight difference  reconstructor0.00000000\n",
      "2023-12-06 18:42:20,916 - MarkovianUniformEnvironment - INFO - Sum of weight difference arbiterer0.00000000\n",
      "2023-12-06 18:42:20,917 - MarkovianUniformEnvironment - INFO - Sum of weight difference  reconstructor0.00000000\n",
      "2023-12-06 18:42:20,966 - MarkovianUniformEnvironment - INFO - Sum of weight difference arbiterer0.00000000\n",
      "2023-12-06 18:42:20,967 - MarkovianUniformEnvironment - INFO - Sum of weight difference  reconstructor0.00000000\n",
      "2023-12-06 18:42:21,020 - MarkovianUniformEnvironment - INFO - Sum of weight difference arbiterer0.00000000\n",
      "2023-12-06 18:42:21,021 - MarkovianUniformEnvironment - INFO - Sum of weight difference  reconstructor0.00000000\n",
      "2023-12-06 18:42:21,072 - MarkovianUniformEnvironment - INFO - Sum of weight difference arbiterer0.00000000\n",
      "2023-12-06 18:42:21,073 - MarkovianUniformEnvironment - INFO - Sum of weight difference  reconstructor0.00000000\n",
      "2023-12-06 18:42:21,124 - MarkovianUniformEnvironment - INFO - Sum of weight difference arbiterer0.00000000\n",
      "2023-12-06 18:42:21,125 - MarkovianUniformEnvironment - INFO - Sum of weight difference  reconstructor0.00000000\n",
      "2023-12-06 18:42:21,174 - MarkovianUniformEnvironment - INFO - Sum of weight difference arbiterer0.00000000\n",
      "2023-12-06 18:42:21,175 - MarkovianUniformEnvironment - INFO - Sum of weight difference  reconstructor0.00000000\n",
      "2023-12-06 18:42:21,227 - MarkovianUniformEnvironment - INFO - Sum of weight difference arbiterer0.00000000\n",
      "2023-12-06 18:42:21,228 - MarkovianUniformEnvironment - INFO - Sum of weight difference  reconstructor0.00000000\n",
      "2023-12-06 18:42:21,277 - MarkovianUniformEnvironment - INFO - Sum of weight difference arbiterer0.00000000\n",
      "2023-12-06 18:42:21,278 - MarkovianUniformEnvironment - INFO - Sum of weight difference  reconstructor0.00000000\n",
      "2023-12-06 18:42:21,332 - MarkovianUniformEnvironment - INFO - Sum of weight difference arbiterer0.00000000\n",
      "2023-12-06 18:42:21,332 - MarkovianUniformEnvironment - INFO - Sum of weight difference  reconstructor0.00000000\n",
      "2023-12-06 18:42:21,382 - MarkovianUniformEnvironment - INFO - Sum of weight difference arbiterer0.00000000\n",
      "2023-12-06 18:42:21,383 - MarkovianUniformEnvironment - INFO - Sum of weight difference  reconstructor0.00000000\n"
     ]
    },
    {
     "data": {
      "application/vnd.jupyter.widget-view+json": {
       "model_id": "78b8f7b9f4e6480581912962ae1823fa",
       "version_major": 2,
       "version_minor": 0
      },
      "text/plain": [
       "Steps:   0%|          | 0/12 [00:00<?, ?it/s]"
      ]
     },
     "metadata": {},
     "output_type": "display_data"
    },
    {
     "name": "stderr",
     "output_type": "stream",
     "text": [
      "2023-12-06 18:42:21,463 - MarkovianUniformEnvironment - INFO - Sum of weight difference arbiterer0.00000000\n",
      "2023-12-06 18:42:21,463 - MarkovianUniformEnvironment - INFO - Sum of weight difference  reconstructor0.00000000\n",
      "2023-12-06 18:42:21,519 - MarkovianUniformEnvironment - INFO - Sum of weight difference arbiterer0.00000000\n",
      "2023-12-06 18:42:21,520 - MarkovianUniformEnvironment - INFO - Sum of weight difference  reconstructor0.00000000\n",
      "2023-12-06 18:42:21,573 - MarkovianUniformEnvironment - INFO - Sum of weight difference arbiterer0.00000000\n",
      "2023-12-06 18:42:21,574 - MarkovianUniformEnvironment - INFO - Sum of weight difference  reconstructor0.00000000\n",
      "2023-12-06 18:42:21,625 - MarkovianUniformEnvironment - INFO - Sum of weight difference arbiterer0.00000000\n",
      "2023-12-06 18:42:21,626 - MarkovianUniformEnvironment - INFO - Sum of weight difference  reconstructor0.00000000\n",
      "2023-12-06 18:42:21,682 - MarkovianUniformEnvironment - INFO - Sum of weight difference arbiterer0.00000000\n",
      "2023-12-06 18:42:21,683 - MarkovianUniformEnvironment - INFO - Sum of weight difference  reconstructor0.00000000\n",
      "2023-12-06 18:42:21,738 - MarkovianUniformEnvironment - INFO - Sum of weight difference arbiterer0.00000000\n",
      "2023-12-06 18:42:21,738 - MarkovianUniformEnvironment - INFO - Sum of weight difference  reconstructor0.00000000\n",
      "2023-12-06 18:42:21,790 - MarkovianUniformEnvironment - INFO - Sum of weight difference arbiterer0.00000000\n",
      "2023-12-06 18:42:21,791 - MarkovianUniformEnvironment - INFO - Sum of weight difference  reconstructor0.00000000\n",
      "2023-12-06 18:42:21,840 - MarkovianUniformEnvironment - INFO - Sum of weight difference arbiterer0.00000000\n",
      "2023-12-06 18:42:21,841 - MarkovianUniformEnvironment - INFO - Sum of weight difference  reconstructor0.00000000\n",
      "2023-12-06 18:42:21,895 - MarkovianUniformEnvironment - INFO - Sum of weight difference arbiterer0.00000000\n",
      "2023-12-06 18:42:21,896 - MarkovianUniformEnvironment - INFO - Sum of weight difference  reconstructor0.00000000\n",
      "2023-12-06 18:42:21,949 - MarkovianUniformEnvironment - INFO - Sum of weight difference arbiterer0.00000000\n",
      "2023-12-06 18:42:21,950 - MarkovianUniformEnvironment - INFO - Sum of weight difference  reconstructor0.00000000\n",
      "2023-12-06 18:42:22,001 - MarkovianUniformEnvironment - INFO - Sum of weight difference arbiterer0.00000000\n",
      "2023-12-06 18:42:22,001 - MarkovianUniformEnvironment - INFO - Sum of weight difference  reconstructor0.00000000\n",
      "2023-12-06 18:42:22,059 - MarkovianUniformEnvironment - INFO - Sum of weight difference arbiterer0.00000000\n",
      "2023-12-06 18:42:22,060 - MarkovianUniformEnvironment - INFO - Sum of weight difference  reconstructor0.00000000\n"
     ]
    },
    {
     "data": {
      "application/vnd.jupyter.widget-view+json": {
       "model_id": "305f5f44632843e8b077632d61a62030",
       "version_major": 2,
       "version_minor": 0
      },
      "text/plain": [
       "Steps:   0%|          | 0/12 [00:00<?, ?it/s]"
      ]
     },
     "metadata": {},
     "output_type": "display_data"
    },
    {
     "name": "stderr",
     "output_type": "stream",
     "text": [
      "2023-12-06 18:42:22,132 - MarkovianUniformEnvironment - INFO - Sum of weight difference arbiterer0.00000000\n",
      "2023-12-06 18:42:22,133 - MarkovianUniformEnvironment - INFO - Sum of weight difference  reconstructor0.00000000\n",
      "2023-12-06 18:42:22,183 - MarkovianUniformEnvironment - INFO - Sum of weight difference arbiterer0.00000000\n",
      "2023-12-06 18:42:22,184 - MarkovianUniformEnvironment - INFO - Sum of weight difference  reconstructor0.00000000\n",
      "2023-12-06 18:42:22,242 - MarkovianUniformEnvironment - INFO - Sum of weight difference arbiterer0.00000000\n",
      "2023-12-06 18:42:22,243 - MarkovianUniformEnvironment - INFO - Sum of weight difference  reconstructor0.00000000\n",
      "2023-12-06 18:42:22,293 - MarkovianUniformEnvironment - INFO - Sum of weight difference arbiterer0.00000000\n",
      "2023-12-06 18:42:22,293 - MarkovianUniformEnvironment - INFO - Sum of weight difference  reconstructor0.00000000\n",
      "2023-12-06 18:42:22,346 - MarkovianUniformEnvironment - INFO - Sum of weight difference arbiterer0.00000000\n",
      "2023-12-06 18:42:22,347 - MarkovianUniformEnvironment - INFO - Sum of weight difference  reconstructor0.00000000\n",
      "2023-12-06 18:42:22,398 - MarkovianUniformEnvironment - INFO - Sum of weight difference arbiterer0.00000000\n",
      "2023-12-06 18:42:22,399 - MarkovianUniformEnvironment - INFO - Sum of weight difference  reconstructor0.00000000\n",
      "2023-12-06 18:42:22,451 - MarkovianUniformEnvironment - INFO - Sum of weight difference arbiterer0.00000000\n",
      "2023-12-06 18:42:22,452 - MarkovianUniformEnvironment - INFO - Sum of weight difference  reconstructor0.00000000\n",
      "2023-12-06 18:42:22,503 - MarkovianUniformEnvironment - INFO - Sum of weight difference arbiterer0.00000000\n",
      "2023-12-06 18:42:22,504 - MarkovianUniformEnvironment - INFO - Sum of weight difference  reconstructor0.00000000\n",
      "2023-12-06 18:42:22,555 - MarkovianUniformEnvironment - INFO - Sum of weight difference arbiterer0.00000000\n",
      "2023-12-06 18:42:22,556 - MarkovianUniformEnvironment - INFO - Sum of weight difference  reconstructor0.00000000\n",
      "2023-12-06 18:42:22,610 - MarkovianUniformEnvironment - INFO - Sum of weight difference arbiterer0.00000000\n",
      "2023-12-06 18:42:22,611 - MarkovianUniformEnvironment - INFO - Sum of weight difference  reconstructor0.00000000\n",
      "2023-12-06 18:42:22,665 - MarkovianUniformEnvironment - INFO - Sum of weight difference arbiterer0.00000000\n",
      "2023-12-06 18:42:22,666 - MarkovianUniformEnvironment - INFO - Sum of weight difference  reconstructor0.00000000\n",
      "2023-12-06 18:42:22,718 - MarkovianUniformEnvironment - INFO - Sum of weight difference arbiterer0.00000000\n",
      "2023-12-06 18:42:22,719 - MarkovianUniformEnvironment - INFO - Sum of weight difference  reconstructor0.00000000\n"
     ]
    },
    {
     "data": {
      "application/vnd.jupyter.widget-view+json": {
       "model_id": "38ac83a513c34bf795610ea69f3e8bc6",
       "version_major": 2,
       "version_minor": 0
      },
      "text/plain": [
       "Steps:   0%|          | 0/12 [00:00<?, ?it/s]"
      ]
     },
     "metadata": {},
     "output_type": "display_data"
    },
    {
     "name": "stderr",
     "output_type": "stream",
     "text": [
      "2023-12-06 18:42:22,793 - MarkovianUniformEnvironment - INFO - Sum of weight difference arbiterer0.00000000\n",
      "2023-12-06 18:42:22,794 - MarkovianUniformEnvironment - INFO - Sum of weight difference  reconstructor0.00000000\n",
      "2023-12-06 18:42:22,843 - MarkovianUniformEnvironment - INFO - Sum of weight difference arbiterer0.00000000\n",
      "2023-12-06 18:42:22,844 - MarkovianUniformEnvironment - INFO - Sum of weight difference  reconstructor0.00000000\n",
      "2023-12-06 18:42:22,894 - MarkovianUniformEnvironment - INFO - Sum of weight difference arbiterer0.00000000\n",
      "2023-12-06 18:42:22,895 - MarkovianUniformEnvironment - INFO - Sum of weight difference  reconstructor0.00000000\n",
      "2023-12-06 18:42:22,946 - MarkovianUniformEnvironment - INFO - Sum of weight difference arbiterer0.00000000\n",
      "2023-12-06 18:42:22,946 - MarkovianUniformEnvironment - INFO - Sum of weight difference  reconstructor0.00000000\n",
      "2023-12-06 18:42:23,002 - MarkovianUniformEnvironment - INFO - Sum of weight difference arbiterer0.00000000\n",
      "2023-12-06 18:42:23,003 - MarkovianUniformEnvironment - INFO - Sum of weight difference  reconstructor0.00000000\n",
      "2023-12-06 18:42:23,053 - MarkovianUniformEnvironment - INFO - Sum of weight difference arbiterer0.00000000\n",
      "2023-12-06 18:42:23,054 - MarkovianUniformEnvironment - INFO - Sum of weight difference  reconstructor0.00000000\n",
      "2023-12-06 18:42:23,109 - MarkovianUniformEnvironment - INFO - Sum of weight difference arbiterer0.00000000\n",
      "2023-12-06 18:42:23,110 - MarkovianUniformEnvironment - INFO - Sum of weight difference  reconstructor0.00000000\n",
      "2023-12-06 18:42:23,159 - MarkovianUniformEnvironment - INFO - Sum of weight difference arbiterer0.00000000\n",
      "2023-12-06 18:42:23,160 - MarkovianUniformEnvironment - INFO - Sum of weight difference  reconstructor0.00000000\n",
      "2023-12-06 18:42:23,216 - MarkovianUniformEnvironment - INFO - Sum of weight difference arbiterer0.00000000\n",
      "2023-12-06 18:42:23,217 - MarkovianUniformEnvironment - INFO - Sum of weight difference  reconstructor0.00000000\n",
      "2023-12-06 18:42:23,268 - MarkovianUniformEnvironment - INFO - Sum of weight difference arbiterer0.00000000\n",
      "2023-12-06 18:42:23,269 - MarkovianUniformEnvironment - INFO - Sum of weight difference  reconstructor0.00000000\n",
      "2023-12-06 18:42:23,322 - MarkovianUniformEnvironment - INFO - Sum of weight difference arbiterer0.00000000\n",
      "2023-12-06 18:42:23,323 - MarkovianUniformEnvironment - INFO - Sum of weight difference  reconstructor0.00000000\n",
      "2023-12-06 18:42:23,375 - MarkovianUniformEnvironment - INFO - Sum of weight difference arbiterer0.00000000\n",
      "2023-12-06 18:42:23,376 - MarkovianUniformEnvironment - INFO - Sum of weight difference  reconstructor0.00000000\n"
     ]
    },
    {
     "data": {
      "application/vnd.jupyter.widget-view+json": {
       "model_id": "35de5e901f014fc388e1f3f6acb02be7",
       "version_major": 2,
       "version_minor": 0
      },
      "text/plain": [
       "Steps:   0%|          | 0/12 [00:00<?, ?it/s]"
      ]
     },
     "metadata": {},
     "output_type": "display_data"
    },
    {
     "name": "stderr",
     "output_type": "stream",
     "text": [
      "2023-12-06 18:42:23,452 - MarkovianUniformEnvironment - INFO - Sum of weight difference arbiterer0.00000000\n",
      "2023-12-06 18:42:23,454 - MarkovianUniformEnvironment - INFO - Sum of weight difference  reconstructor0.00000000\n",
      "2023-12-06 18:42:23,508 - MarkovianUniformEnvironment - INFO - Sum of weight difference arbiterer0.00000000\n",
      "2023-12-06 18:42:23,509 - MarkovianUniformEnvironment - INFO - Sum of weight difference  reconstructor0.00000000\n",
      "2023-12-06 18:42:23,563 - MarkovianUniformEnvironment - INFO - Sum of weight difference arbiterer0.00000000\n",
      "2023-12-06 18:42:23,563 - MarkovianUniformEnvironment - INFO - Sum of weight difference  reconstructor0.00000000\n",
      "2023-12-06 18:42:23,614 - MarkovianUniformEnvironment - INFO - Sum of weight difference arbiterer0.00000000\n",
      "2023-12-06 18:42:23,615 - MarkovianUniformEnvironment - INFO - Sum of weight difference  reconstructor0.00000000\n",
      "2023-12-06 18:42:23,671 - MarkovianUniformEnvironment - INFO - Sum of weight difference arbiterer0.00000000\n",
      "2023-12-06 18:42:23,672 - MarkovianUniformEnvironment - INFO - Sum of weight difference  reconstructor0.00000000\n",
      "2023-12-06 18:42:23,726 - MarkovianUniformEnvironment - INFO - Sum of weight difference arbiterer0.00000000\n",
      "2023-12-06 18:42:23,727 - MarkovianUniformEnvironment - INFO - Sum of weight difference  reconstructor0.00000000\n",
      "2023-12-06 18:42:23,780 - MarkovianUniformEnvironment - INFO - Sum of weight difference arbiterer0.00000000\n",
      "2023-12-06 18:42:23,781 - MarkovianUniformEnvironment - INFO - Sum of weight difference  reconstructor0.00000000\n",
      "2023-12-06 18:42:23,836 - MarkovianUniformEnvironment - INFO - Sum of weight difference arbiterer0.00000000\n",
      "2023-12-06 18:42:23,837 - MarkovianUniformEnvironment - INFO - Sum of weight difference  reconstructor0.00000000\n",
      "2023-12-06 18:42:23,890 - MarkovianUniformEnvironment - INFO - Sum of weight difference arbiterer0.00000000\n",
      "2023-12-06 18:42:23,891 - MarkovianUniformEnvironment - INFO - Sum of weight difference  reconstructor0.00000000\n",
      "2023-12-06 18:42:23,944 - MarkovianUniformEnvironment - INFO - Sum of weight difference arbiterer0.00000000\n",
      "2023-12-06 18:42:23,945 - MarkovianUniformEnvironment - INFO - Sum of weight difference  reconstructor0.00000000\n",
      "2023-12-06 18:42:23,998 - MarkovianUniformEnvironment - INFO - Sum of weight difference arbiterer0.00000000\n",
      "2023-12-06 18:42:23,999 - MarkovianUniformEnvironment - INFO - Sum of weight difference  reconstructor0.00000000\n",
      "2023-12-06 18:42:24,048 - MarkovianUniformEnvironment - INFO - Sum of weight difference arbiterer0.00000000\n",
      "2023-12-06 18:42:24,049 - MarkovianUniformEnvironment - INFO - Sum of weight difference  reconstructor0.00000000\n"
     ]
    },
    {
     "data": {
      "application/vnd.jupyter.widget-view+json": {
       "model_id": "19e749d3c6984fc1bc541384a86efb5b",
       "version_major": 2,
       "version_minor": 0
      },
      "text/plain": [
       "Steps:   0%|          | 0/12 [00:00<?, ?it/s]"
      ]
     },
     "metadata": {},
     "output_type": "display_data"
    },
    {
     "name": "stderr",
     "output_type": "stream",
     "text": [
      "2023-12-06 18:42:24,128 - MarkovianUniformEnvironment - INFO - Sum of weight difference arbiterer0.00000000\n",
      "2023-12-06 18:42:24,129 - MarkovianUniformEnvironment - INFO - Sum of weight difference  reconstructor0.00000000\n",
      "2023-12-06 18:42:24,183 - MarkovianUniformEnvironment - INFO - Sum of weight difference arbiterer0.00000000\n",
      "2023-12-06 18:42:24,184 - MarkovianUniformEnvironment - INFO - Sum of weight difference  reconstructor0.00000000\n",
      "2023-12-06 18:42:24,236 - MarkovianUniformEnvironment - INFO - Sum of weight difference arbiterer0.00000000\n",
      "2023-12-06 18:42:24,237 - MarkovianUniformEnvironment - INFO - Sum of weight difference  reconstructor0.00000000\n",
      "2023-12-06 18:42:24,287 - MarkovianUniformEnvironment - INFO - Sum of weight difference arbiterer0.00000000\n",
      "2023-12-06 18:42:24,288 - MarkovianUniformEnvironment - INFO - Sum of weight difference  reconstructor0.00000000\n",
      "2023-12-06 18:42:24,342 - MarkovianUniformEnvironment - INFO - Sum of weight difference arbiterer0.00000000\n",
      "2023-12-06 18:42:24,343 - MarkovianUniformEnvironment - INFO - Sum of weight difference  reconstructor0.00000000\n",
      "2023-12-06 18:42:24,402 - MarkovianUniformEnvironment - INFO - Sum of weight difference arbiterer0.00000000\n",
      "2023-12-06 18:42:24,403 - MarkovianUniformEnvironment - INFO - Sum of weight difference  reconstructor0.00000000\n",
      "2023-12-06 18:42:24,458 - MarkovianUniformEnvironment - INFO - Sum of weight difference arbiterer0.00000000\n",
      "2023-12-06 18:42:24,459 - MarkovianUniformEnvironment - INFO - Sum of weight difference  reconstructor0.00000000\n",
      "2023-12-06 18:42:24,511 - MarkovianUniformEnvironment - INFO - Sum of weight difference arbiterer0.00000000\n",
      "2023-12-06 18:42:24,512 - MarkovianUniformEnvironment - INFO - Sum of weight difference  reconstructor0.00000000\n",
      "2023-12-06 18:42:24,566 - MarkovianUniformEnvironment - INFO - Sum of weight difference arbiterer0.00000000\n",
      "2023-12-06 18:42:24,567 - MarkovianUniformEnvironment - INFO - Sum of weight difference  reconstructor0.00000000\n",
      "2023-12-06 18:42:24,621 - MarkovianUniformEnvironment - INFO - Sum of weight difference arbiterer0.00000000\n",
      "2023-12-06 18:42:24,622 - MarkovianUniformEnvironment - INFO - Sum of weight difference  reconstructor0.00000000\n",
      "2023-12-06 18:42:24,675 - MarkovianUniformEnvironment - INFO - Sum of weight difference arbiterer0.00000000\n",
      "2023-12-06 18:42:24,676 - MarkovianUniformEnvironment - INFO - Sum of weight difference  reconstructor0.00000000\n",
      "2023-12-06 18:42:24,727 - MarkovianUniformEnvironment - INFO - Sum of weight difference arbiterer0.00000000\n",
      "2023-12-06 18:42:24,728 - MarkovianUniformEnvironment - INFO - Sum of weight difference  reconstructor0.00000000\n"
     ]
    },
    {
     "data": {
      "application/vnd.jupyter.widget-view+json": {
       "model_id": "59c8295388e949d084c05ded02a6f93c",
       "version_major": 2,
       "version_minor": 0
      },
      "text/plain": [
       "Steps:   0%|          | 0/12 [00:00<?, ?it/s]"
      ]
     },
     "metadata": {},
     "output_type": "display_data"
    },
    {
     "name": "stderr",
     "output_type": "stream",
     "text": [
      "2023-12-06 18:42:24,806 - MarkovianUniformEnvironment - INFO - Sum of weight difference arbiterer0.00000000\n",
      "2023-12-06 18:42:24,807 - MarkovianUniformEnvironment - INFO - Sum of weight difference  reconstructor0.00000000\n",
      "2023-12-06 18:42:24,859 - MarkovianUniformEnvironment - INFO - Sum of weight difference arbiterer0.00000000\n",
      "2023-12-06 18:42:24,860 - MarkovianUniformEnvironment - INFO - Sum of weight difference  reconstructor0.00000000\n",
      "2023-12-06 18:42:24,913 - MarkovianUniformEnvironment - INFO - Sum of weight difference arbiterer0.00000000\n",
      "2023-12-06 18:42:24,914 - MarkovianUniformEnvironment - INFO - Sum of weight difference  reconstructor0.00000000\n",
      "2023-12-06 18:42:24,969 - MarkovianUniformEnvironment - INFO - Sum of weight difference arbiterer0.00000000\n",
      "2023-12-06 18:42:24,969 - MarkovianUniformEnvironment - INFO - Sum of weight difference  reconstructor0.00000000\n",
      "2023-12-06 18:42:25,022 - MarkovianUniformEnvironment - INFO - Sum of weight difference arbiterer0.00000000\n",
      "2023-12-06 18:42:25,023 - MarkovianUniformEnvironment - INFO - Sum of weight difference  reconstructor0.00000000\n",
      "2023-12-06 18:42:25,077 - MarkovianUniformEnvironment - INFO - Sum of weight difference arbiterer0.00000000\n",
      "2023-12-06 18:42:25,078 - MarkovianUniformEnvironment - INFO - Sum of weight difference  reconstructor0.00000000\n",
      "2023-12-06 18:42:25,132 - MarkovianUniformEnvironment - INFO - Sum of weight difference arbiterer0.00000000\n",
      "2023-12-06 18:42:25,133 - MarkovianUniformEnvironment - INFO - Sum of weight difference  reconstructor0.00000000\n",
      "2023-12-06 18:42:25,188 - MarkovianUniformEnvironment - INFO - Sum of weight difference arbiterer0.00000000\n",
      "2023-12-06 18:42:25,189 - MarkovianUniformEnvironment - INFO - Sum of weight difference  reconstructor0.00000000\n",
      "2023-12-06 18:42:25,246 - MarkovianUniformEnvironment - INFO - Sum of weight difference arbiterer0.00000000\n",
      "2023-12-06 18:42:25,248 - MarkovianUniformEnvironment - INFO - Sum of weight difference  reconstructor0.00000000\n",
      "2023-12-06 18:42:25,301 - MarkovianUniformEnvironment - INFO - Sum of weight difference arbiterer0.00000000\n",
      "2023-12-06 18:42:25,302 - MarkovianUniformEnvironment - INFO - Sum of weight difference  reconstructor0.00000000\n",
      "2023-12-06 18:42:25,355 - MarkovianUniformEnvironment - INFO - Sum of weight difference arbiterer0.00000000\n",
      "2023-12-06 18:42:25,356 - MarkovianUniformEnvironment - INFO - Sum of weight difference  reconstructor0.00000000\n",
      "2023-12-06 18:42:25,411 - MarkovianUniformEnvironment - INFO - Sum of weight difference arbiterer0.00000000\n",
      "2023-12-06 18:42:25,412 - MarkovianUniformEnvironment - INFO - Sum of weight difference  reconstructor0.00000000\n"
     ]
    },
    {
     "data": {
      "application/vnd.jupyter.widget-view+json": {
       "model_id": "06f2966d6ff4411fac513e5b7ff7f44d",
       "version_major": 2,
       "version_minor": 0
      },
      "text/plain": [
       "Steps:   0%|          | 0/12 [00:00<?, ?it/s]"
      ]
     },
     "metadata": {},
     "output_type": "display_data"
    },
    {
     "name": "stderr",
     "output_type": "stream",
     "text": [
      "2023-12-06 18:42:25,488 - MarkovianUniformEnvironment - INFO - Sum of weight difference arbiterer0.00000000\n",
      "2023-12-06 18:42:25,490 - MarkovianUniformEnvironment - INFO - Sum of weight difference  reconstructor0.00000000\n",
      "2023-12-06 18:42:25,552 - MarkovianUniformEnvironment - INFO - Sum of weight difference arbiterer0.00000000\n",
      "2023-12-06 18:42:25,553 - MarkovianUniformEnvironment - INFO - Sum of weight difference  reconstructor0.00000000\n",
      "2023-12-06 18:42:25,606 - MarkovianUniformEnvironment - INFO - Sum of weight difference arbiterer0.00000000\n",
      "2023-12-06 18:42:25,607 - MarkovianUniformEnvironment - INFO - Sum of weight difference  reconstructor0.00000000\n",
      "2023-12-06 18:42:25,662 - MarkovianUniformEnvironment - INFO - Sum of weight difference arbiterer0.00000000\n",
      "2023-12-06 18:42:25,663 - MarkovianUniformEnvironment - INFO - Sum of weight difference  reconstructor0.00000000\n",
      "2023-12-06 18:42:25,715 - MarkovianUniformEnvironment - INFO - Sum of weight difference arbiterer0.00000000\n",
      "2023-12-06 18:42:25,716 - MarkovianUniformEnvironment - INFO - Sum of weight difference  reconstructor0.00000000\n",
      "2023-12-06 18:42:25,769 - MarkovianUniformEnvironment - INFO - Sum of weight difference arbiterer0.00000000\n",
      "2023-12-06 18:42:25,770 - MarkovianUniformEnvironment - INFO - Sum of weight difference  reconstructor0.00000000\n",
      "2023-12-06 18:42:25,822 - MarkovianUniformEnvironment - INFO - Sum of weight difference arbiterer0.00000000\n",
      "2023-12-06 18:42:25,823 - MarkovianUniformEnvironment - INFO - Sum of weight difference  reconstructor0.00000000\n",
      "2023-12-06 18:42:25,875 - MarkovianUniformEnvironment - INFO - Sum of weight difference arbiterer0.00000000\n",
      "2023-12-06 18:42:25,876 - MarkovianUniformEnvironment - INFO - Sum of weight difference  reconstructor0.00000000\n",
      "2023-12-06 18:42:25,928 - MarkovianUniformEnvironment - INFO - Sum of weight difference arbiterer0.00000000\n",
      "2023-12-06 18:42:25,929 - MarkovianUniformEnvironment - INFO - Sum of weight difference  reconstructor0.00000000\n",
      "2023-12-06 18:42:25,980 - MarkovianUniformEnvironment - INFO - Sum of weight difference arbiterer0.00000000\n",
      "2023-12-06 18:42:25,981 - MarkovianUniformEnvironment - INFO - Sum of weight difference  reconstructor0.00000000\n",
      "2023-12-06 18:42:26,034 - MarkovianUniformEnvironment - INFO - Sum of weight difference arbiterer0.00000000\n",
      "2023-12-06 18:42:26,034 - MarkovianUniformEnvironment - INFO - Sum of weight difference  reconstructor0.00000000\n",
      "2023-12-06 18:42:26,089 - MarkovianUniformEnvironment - INFO - Sum of weight difference arbiterer0.00000000\n",
      "2023-12-06 18:42:26,090 - MarkovianUniformEnvironment - INFO - Sum of weight difference  reconstructor0.00000000\n"
     ]
    },
    {
     "data": {
      "application/vnd.jupyter.widget-view+json": {
       "model_id": "5fbd6809e9884f839f75760bb4d92753",
       "version_major": 2,
       "version_minor": 0
      },
      "text/plain": [
       "Steps:   0%|          | 0/12 [00:00<?, ?it/s]"
      ]
     },
     "metadata": {},
     "output_type": "display_data"
    },
    {
     "name": "stderr",
     "output_type": "stream",
     "text": [
      "2023-12-06 18:42:26,166 - MarkovianUniformEnvironment - INFO - Sum of weight difference arbiterer0.00000000\n",
      "2023-12-06 18:42:26,167 - MarkovianUniformEnvironment - INFO - Sum of weight difference  reconstructor0.00000000\n",
      "2023-12-06 18:42:26,223 - MarkovianUniformEnvironment - INFO - Sum of weight difference arbiterer0.00000000\n",
      "2023-12-06 18:42:26,224 - MarkovianUniformEnvironment - INFO - Sum of weight difference  reconstructor0.00000000\n",
      "2023-12-06 18:42:26,274 - MarkovianUniformEnvironment - INFO - Sum of weight difference arbiterer0.00000000\n",
      "2023-12-06 18:42:26,275 - MarkovianUniformEnvironment - INFO - Sum of weight difference  reconstructor0.00000000\n",
      "2023-12-06 18:42:26,326 - MarkovianUniformEnvironment - INFO - Sum of weight difference arbiterer0.00000000\n",
      "2023-12-06 18:42:26,327 - MarkovianUniformEnvironment - INFO - Sum of weight difference  reconstructor0.00000000\n",
      "2023-12-06 18:42:26,387 - MarkovianUniformEnvironment - INFO - Sum of weight difference arbiterer0.00000000\n",
      "2023-12-06 18:42:26,388 - MarkovianUniformEnvironment - INFO - Sum of weight difference  reconstructor0.00000000\n",
      "2023-12-06 18:42:26,440 - MarkovianUniformEnvironment - INFO - Sum of weight difference arbiterer0.00000000\n",
      "2023-12-06 18:42:26,441 - MarkovianUniformEnvironment - INFO - Sum of weight difference  reconstructor0.00000000\n",
      "2023-12-06 18:42:26,493 - MarkovianUniformEnvironment - INFO - Sum of weight difference arbiterer0.00000000\n",
      "2023-12-06 18:42:26,494 - MarkovianUniformEnvironment - INFO - Sum of weight difference  reconstructor0.00000000\n",
      "2023-12-06 18:42:26,550 - MarkovianUniformEnvironment - INFO - Sum of weight difference arbiterer0.00000000\n",
      "2023-12-06 18:42:26,551 - MarkovianUniformEnvironment - INFO - Sum of weight difference  reconstructor0.00000000\n",
      "2023-12-06 18:42:26,602 - MarkovianUniformEnvironment - INFO - Sum of weight difference arbiterer0.00000000\n",
      "2023-12-06 18:42:26,603 - MarkovianUniformEnvironment - INFO - Sum of weight difference  reconstructor0.00000000\n",
      "2023-12-06 18:42:26,651 - MarkovianUniformEnvironment - INFO - Sum of weight difference arbiterer0.00000000\n",
      "2023-12-06 18:42:26,652 - MarkovianUniformEnvironment - INFO - Sum of weight difference  reconstructor0.00000000\n",
      "2023-12-06 18:42:26,703 - MarkovianUniformEnvironment - INFO - Sum of weight difference arbiterer0.00000000\n",
      "2023-12-06 18:42:26,704 - MarkovianUniformEnvironment - INFO - Sum of weight difference  reconstructor0.00000000\n",
      "2023-12-06 18:42:26,754 - MarkovianUniformEnvironment - INFO - Sum of weight difference arbiterer0.00000000\n",
      "2023-12-06 18:42:26,755 - MarkovianUniformEnvironment - INFO - Sum of weight difference  reconstructor0.00000000\n"
     ]
    },
    {
     "data": {
      "application/vnd.jupyter.widget-view+json": {
       "model_id": "ed0b932ea01244e0a474ad3209597537",
       "version_major": 2,
       "version_minor": 0
      },
      "text/plain": [
       "Steps:   0%|          | 0/12 [00:00<?, ?it/s]"
      ]
     },
     "metadata": {},
     "output_type": "display_data"
    },
    {
     "name": "stderr",
     "output_type": "stream",
     "text": [
      "2023-12-06 18:42:26,841 - MarkovianUniformEnvironment - INFO - Sum of weight difference arbiterer0.00000000\n",
      "2023-12-06 18:42:26,841 - MarkovianUniformEnvironment - INFO - Sum of weight difference  reconstructor0.00000000\n",
      "2023-12-06 18:42:26,895 - MarkovianUniformEnvironment - INFO - Sum of weight difference arbiterer0.00000000\n",
      "2023-12-06 18:42:26,896 - MarkovianUniformEnvironment - INFO - Sum of weight difference  reconstructor0.00000000\n",
      "2023-12-06 18:42:26,952 - MarkovianUniformEnvironment - INFO - Sum of weight difference arbiterer0.00000000\n",
      "2023-12-06 18:42:26,953 - MarkovianUniformEnvironment - INFO - Sum of weight difference  reconstructor0.00000000\n",
      "2023-12-06 18:42:27,002 - MarkovianUniformEnvironment - INFO - Sum of weight difference arbiterer0.00000000\n",
      "2023-12-06 18:42:27,003 - MarkovianUniformEnvironment - INFO - Sum of weight difference  reconstructor0.00000000\n",
      "2023-12-06 18:42:27,053 - MarkovianUniformEnvironment - INFO - Sum of weight difference arbiterer0.00000000\n",
      "2023-12-06 18:42:27,054 - MarkovianUniformEnvironment - INFO - Sum of weight difference  reconstructor0.00000000\n",
      "2023-12-06 18:42:27,105 - MarkovianUniformEnvironment - INFO - Sum of weight difference arbiterer0.00000000\n",
      "2023-12-06 18:42:27,106 - MarkovianUniformEnvironment - INFO - Sum of weight difference  reconstructor0.00000000\n",
      "2023-12-06 18:42:27,164 - MarkovianUniformEnvironment - INFO - Sum of weight difference arbiterer0.00000000\n",
      "2023-12-06 18:42:27,165 - MarkovianUniformEnvironment - INFO - Sum of weight difference  reconstructor0.00000000\n",
      "2023-12-06 18:42:27,228 - MarkovianUniformEnvironment - INFO - Sum of weight difference arbiterer0.00000000\n",
      "2023-12-06 18:42:27,229 - MarkovianUniformEnvironment - INFO - Sum of weight difference  reconstructor0.00000000\n",
      "2023-12-06 18:42:27,288 - MarkovianUniformEnvironment - INFO - Sum of weight difference arbiterer0.00000000\n",
      "2023-12-06 18:42:27,289 - MarkovianUniformEnvironment - INFO - Sum of weight difference  reconstructor0.00000000\n",
      "2023-12-06 18:42:27,340 - MarkovianUniformEnvironment - INFO - Sum of weight difference arbiterer0.00000000\n",
      "2023-12-06 18:42:27,340 - MarkovianUniformEnvironment - INFO - Sum of weight difference  reconstructor0.00000000\n",
      "2023-12-06 18:42:27,395 - MarkovianUniformEnvironment - INFO - Sum of weight difference arbiterer0.00000000\n",
      "2023-12-06 18:42:27,395 - MarkovianUniformEnvironment - INFO - Sum of weight difference  reconstructor0.00000000\n",
      "2023-12-06 18:42:27,447 - MarkovianUniformEnvironment - INFO - Sum of weight difference arbiterer0.00000000\n",
      "2023-12-06 18:42:27,448 - MarkovianUniformEnvironment - INFO - Sum of weight difference  reconstructor0.00000000\n"
     ]
    },
    {
     "data": {
      "application/vnd.jupyter.widget-view+json": {
       "model_id": "b2102fcddc394b94aeb7de8cc20ac760",
       "version_major": 2,
       "version_minor": 0
      },
      "text/plain": [
       "Steps:   0%|          | 0/12 [00:00<?, ?it/s]"
      ]
     },
     "metadata": {},
     "output_type": "display_data"
    },
    {
     "name": "stderr",
     "output_type": "stream",
     "text": [
      "2023-12-06 18:42:27,511 - MarkovianUniformEnvironment - INFO - Sum of weight difference arbiterer0.00000000\n",
      "2023-12-06 18:42:27,512 - MarkovianUniformEnvironment - INFO - Sum of weight difference  reconstructor0.00000000\n",
      "2023-12-06 18:42:27,562 - MarkovianUniformEnvironment - INFO - Sum of weight difference arbiterer0.00000000\n",
      "2023-12-06 18:42:27,563 - MarkovianUniformEnvironment - INFO - Sum of weight difference  reconstructor0.00000000\n",
      "2023-12-06 18:42:27,622 - MarkovianUniformEnvironment - INFO - Sum of weight difference arbiterer0.00000000\n",
      "2023-12-06 18:42:27,622 - MarkovianUniformEnvironment - INFO - Sum of weight difference  reconstructor0.00000000\n",
      "2023-12-06 18:42:27,674 - MarkovianUniformEnvironment - INFO - Sum of weight difference arbiterer0.00000000\n",
      "2023-12-06 18:42:27,675 - MarkovianUniformEnvironment - INFO - Sum of weight difference  reconstructor0.00000000\n",
      "2023-12-06 18:42:27,726 - MarkovianUniformEnvironment - INFO - Sum of weight difference arbiterer0.00000000\n",
      "2023-12-06 18:42:27,727 - MarkovianUniformEnvironment - INFO - Sum of weight difference  reconstructor0.00000000\n",
      "2023-12-06 18:42:27,778 - MarkovianUniformEnvironment - INFO - Sum of weight difference arbiterer0.00000000\n",
      "2023-12-06 18:42:27,779 - MarkovianUniformEnvironment - INFO - Sum of weight difference  reconstructor0.00000000\n",
      "2023-12-06 18:42:27,831 - MarkovianUniformEnvironment - INFO - Sum of weight difference arbiterer0.00000000\n",
      "2023-12-06 18:42:27,833 - MarkovianUniformEnvironment - INFO - Sum of weight difference  reconstructor0.00000000\n",
      "2023-12-06 18:42:27,885 - MarkovianUniformEnvironment - INFO - Sum of weight difference arbiterer0.00000000\n",
      "2023-12-06 18:42:27,886 - MarkovianUniformEnvironment - INFO - Sum of weight difference  reconstructor0.00000000\n",
      "2023-12-06 18:42:27,941 - MarkovianUniformEnvironment - INFO - Sum of weight difference arbiterer0.00000000\n",
      "2023-12-06 18:42:27,942 - MarkovianUniformEnvironment - INFO - Sum of weight difference  reconstructor0.00000000\n",
      "2023-12-06 18:42:27,993 - MarkovianUniformEnvironment - INFO - Sum of weight difference arbiterer0.00000000\n",
      "2023-12-06 18:42:27,994 - MarkovianUniformEnvironment - INFO - Sum of weight difference  reconstructor0.00000000\n",
      "2023-12-06 18:42:28,048 - MarkovianUniformEnvironment - INFO - Sum of weight difference arbiterer0.00000000\n",
      "2023-12-06 18:42:28,048 - MarkovianUniformEnvironment - INFO - Sum of weight difference  reconstructor0.00000000\n",
      "2023-12-06 18:42:28,100 - MarkovianUniformEnvironment - INFO - Sum of weight difference arbiterer0.00000000\n",
      "2023-12-06 18:42:28,101 - MarkovianUniformEnvironment - INFO - Sum of weight difference  reconstructor0.00000000\n"
     ]
    },
    {
     "data": {
      "application/vnd.jupyter.widget-view+json": {
       "model_id": "eec7b1a814734be09d75a358b8378e22",
       "version_major": 2,
       "version_minor": 0
      },
      "text/plain": [
       "Steps:   0%|          | 0/12 [00:00<?, ?it/s]"
      ]
     },
     "metadata": {},
     "output_type": "display_data"
    },
    {
     "name": "stderr",
     "output_type": "stream",
     "text": [
      "2023-12-06 18:42:28,162 - MarkovianUniformEnvironment - INFO - Sum of weight difference arbiterer0.00000000\n",
      "2023-12-06 18:42:28,162 - MarkovianUniformEnvironment - INFO - Sum of weight difference  reconstructor0.00000000\n",
      "2023-12-06 18:42:28,216 - MarkovianUniformEnvironment - INFO - Sum of weight difference arbiterer0.00000000\n",
      "2023-12-06 18:42:28,217 - MarkovianUniformEnvironment - INFO - Sum of weight difference  reconstructor0.00000000\n",
      "2023-12-06 18:42:28,272 - MarkovianUniformEnvironment - INFO - Sum of weight difference arbiterer0.00000000\n",
      "2023-12-06 18:42:28,273 - MarkovianUniformEnvironment - INFO - Sum of weight difference  reconstructor0.00000000\n",
      "2023-12-06 18:42:28,324 - MarkovianUniformEnvironment - INFO - Sum of weight difference arbiterer0.00000000\n",
      "2023-12-06 18:42:28,325 - MarkovianUniformEnvironment - INFO - Sum of weight difference  reconstructor0.00000000\n",
      "2023-12-06 18:42:28,377 - MarkovianUniformEnvironment - INFO - Sum of weight difference arbiterer0.00000000\n",
      "2023-12-06 18:42:28,378 - MarkovianUniformEnvironment - INFO - Sum of weight difference  reconstructor0.00000000\n",
      "2023-12-06 18:42:28,431 - MarkovianUniformEnvironment - INFO - Sum of weight difference arbiterer0.00000000\n",
      "2023-12-06 18:42:28,432 - MarkovianUniformEnvironment - INFO - Sum of weight difference  reconstructor0.00000000\n",
      "2023-12-06 18:42:28,490 - MarkovianUniformEnvironment - INFO - Sum of weight difference arbiterer0.00000000\n",
      "2023-12-06 18:42:28,491 - MarkovianUniformEnvironment - INFO - Sum of weight difference  reconstructor0.00000000\n",
      "2023-12-06 18:42:28,540 - MarkovianUniformEnvironment - INFO - Sum of weight difference arbiterer0.00000000\n",
      "2023-12-06 18:42:28,541 - MarkovianUniformEnvironment - INFO - Sum of weight difference  reconstructor0.00000000\n",
      "2023-12-06 18:42:28,593 - MarkovianUniformEnvironment - INFO - Sum of weight difference arbiterer0.00000000\n",
      "2023-12-06 18:42:28,594 - MarkovianUniformEnvironment - INFO - Sum of weight difference  reconstructor0.00000000\n",
      "2023-12-06 18:42:28,646 - MarkovianUniformEnvironment - INFO - Sum of weight difference arbiterer0.00000000\n",
      "2023-12-06 18:42:28,647 - MarkovianUniformEnvironment - INFO - Sum of weight difference  reconstructor0.00000000\n",
      "2023-12-06 18:42:28,699 - MarkovianUniformEnvironment - INFO - Sum of weight difference arbiterer0.00000000\n",
      "2023-12-06 18:42:28,700 - MarkovianUniformEnvironment - INFO - Sum of weight difference  reconstructor0.00000000\n",
      "2023-12-06 18:42:28,749 - MarkovianUniformEnvironment - INFO - Sum of weight difference arbiterer0.00000000\n",
      "2023-12-06 18:42:28,750 - MarkovianUniformEnvironment - INFO - Sum of weight difference  reconstructor0.00000000\n"
     ]
    },
    {
     "data": {
      "application/vnd.jupyter.widget-view+json": {
       "model_id": "3c6f02c972894870a3b54741507b50b5",
       "version_major": 2,
       "version_minor": 0
      },
      "text/plain": [
       "Steps:   0%|          | 0/12 [00:00<?, ?it/s]"
      ]
     },
     "metadata": {},
     "output_type": "display_data"
    },
    {
     "name": "stderr",
     "output_type": "stream",
     "text": [
      "2023-12-06 18:42:28,829 - MarkovianUniformEnvironment - INFO - Sum of weight difference arbiterer0.00000000\n",
      "2023-12-06 18:42:28,830 - MarkovianUniformEnvironment - INFO - Sum of weight difference  reconstructor0.00000000\n",
      "2023-12-06 18:42:28,883 - MarkovianUniformEnvironment - INFO - Sum of weight difference arbiterer0.00000000\n",
      "2023-12-06 18:42:28,883 - MarkovianUniformEnvironment - INFO - Sum of weight difference  reconstructor0.00000000\n",
      "2023-12-06 18:42:28,936 - MarkovianUniformEnvironment - INFO - Sum of weight difference arbiterer0.00000000\n",
      "2023-12-06 18:42:28,938 - MarkovianUniformEnvironment - INFO - Sum of weight difference  reconstructor0.00000000\n",
      "2023-12-06 18:42:28,990 - MarkovianUniformEnvironment - INFO - Sum of weight difference arbiterer0.00000000\n",
      "2023-12-06 18:42:28,991 - MarkovianUniformEnvironment - INFO - Sum of weight difference  reconstructor0.00000000\n",
      "2023-12-06 18:42:29,044 - MarkovianUniformEnvironment - INFO - Sum of weight difference arbiterer0.00000000\n",
      "2023-12-06 18:42:29,045 - MarkovianUniformEnvironment - INFO - Sum of weight difference  reconstructor0.00000000\n",
      "2023-12-06 18:42:29,096 - MarkovianUniformEnvironment - INFO - Sum of weight difference arbiterer0.00000000\n",
      "2023-12-06 18:42:29,097 - MarkovianUniformEnvironment - INFO - Sum of weight difference  reconstructor0.00000000\n",
      "2023-12-06 18:42:29,152 - MarkovianUniformEnvironment - INFO - Sum of weight difference arbiterer0.00000000\n",
      "2023-12-06 18:42:29,153 - MarkovianUniformEnvironment - INFO - Sum of weight difference  reconstructor0.00000000\n",
      "2023-12-06 18:42:29,209 - MarkovianUniformEnvironment - INFO - Sum of weight difference arbiterer0.00000000\n",
      "2023-12-06 18:42:29,210 - MarkovianUniformEnvironment - INFO - Sum of weight difference  reconstructor0.00000000\n",
      "2023-12-06 18:42:29,262 - MarkovianUniformEnvironment - INFO - Sum of weight difference arbiterer0.00000000\n",
      "2023-12-06 18:42:29,263 - MarkovianUniformEnvironment - INFO - Sum of weight difference  reconstructor0.00000000\n",
      "2023-12-06 18:42:29,313 - MarkovianUniformEnvironment - INFO - Sum of weight difference arbiterer0.00000000\n",
      "2023-12-06 18:42:29,314 - MarkovianUniformEnvironment - INFO - Sum of weight difference  reconstructor0.00000000\n",
      "2023-12-06 18:42:29,368 - MarkovianUniformEnvironment - INFO - Sum of weight difference arbiterer0.00000000\n",
      "2023-12-06 18:42:29,369 - MarkovianUniformEnvironment - INFO - Sum of weight difference  reconstructor0.00000000\n",
      "2023-12-06 18:42:29,422 - MarkovianUniformEnvironment - INFO - Sum of weight difference arbiterer0.00000000\n",
      "2023-12-06 18:42:29,423 - MarkovianUniformEnvironment - INFO - Sum of weight difference  reconstructor0.00000000\n"
     ]
    },
    {
     "data": {
      "application/vnd.jupyter.widget-view+json": {
       "model_id": "72316acc6973440fb6ad8d2dd05ceba6",
       "version_major": 2,
       "version_minor": 0
      },
      "text/plain": [
       "Steps:   0%|          | 0/12 [00:00<?, ?it/s]"
      ]
     },
     "metadata": {},
     "output_type": "display_data"
    },
    {
     "name": "stderr",
     "output_type": "stream",
     "text": [
      "2023-12-06 18:42:29,499 - MarkovianUniformEnvironment - INFO - Sum of weight difference arbiterer0.00000000\n",
      "2023-12-06 18:42:29,500 - MarkovianUniformEnvironment - INFO - Sum of weight difference  reconstructor0.00000000\n",
      "2023-12-06 18:42:29,554 - MarkovianUniformEnvironment - INFO - Sum of weight difference arbiterer0.00000000\n",
      "2023-12-06 18:42:29,555 - MarkovianUniformEnvironment - INFO - Sum of weight difference  reconstructor0.00000000\n",
      "2023-12-06 18:42:29,612 - MarkovianUniformEnvironment - INFO - Sum of weight difference arbiterer0.00000000\n",
      "2023-12-06 18:42:29,613 - MarkovianUniformEnvironment - INFO - Sum of weight difference  reconstructor0.00000000\n",
      "2023-12-06 18:42:29,662 - MarkovianUniformEnvironment - INFO - Sum of weight difference arbiterer0.00000000\n",
      "2023-12-06 18:42:29,663 - MarkovianUniformEnvironment - INFO - Sum of weight difference  reconstructor0.00000000\n",
      "2023-12-06 18:42:29,715 - MarkovianUniformEnvironment - INFO - Sum of weight difference arbiterer0.00000000\n",
      "2023-12-06 18:42:29,716 - MarkovianUniformEnvironment - INFO - Sum of weight difference  reconstructor0.00000000\n",
      "2023-12-06 18:42:29,771 - MarkovianUniformEnvironment - INFO - Sum of weight difference arbiterer0.00000000\n",
      "2023-12-06 18:42:29,772 - MarkovianUniformEnvironment - INFO - Sum of weight difference  reconstructor0.00000000\n",
      "2023-12-06 18:42:29,828 - MarkovianUniformEnvironment - INFO - Sum of weight difference arbiterer0.00000000\n",
      "2023-12-06 18:42:29,829 - MarkovianUniformEnvironment - INFO - Sum of weight difference  reconstructor0.00000000\n",
      "2023-12-06 18:42:29,879 - MarkovianUniformEnvironment - INFO - Sum of weight difference arbiterer0.00000000\n",
      "2023-12-06 18:42:29,880 - MarkovianUniformEnvironment - INFO - Sum of weight difference  reconstructor0.00000000\n",
      "2023-12-06 18:42:29,933 - MarkovianUniformEnvironment - INFO - Sum of weight difference arbiterer0.00000000\n",
      "2023-12-06 18:42:29,934 - MarkovianUniformEnvironment - INFO - Sum of weight difference  reconstructor0.00000000\n",
      "2023-12-06 18:42:29,983 - MarkovianUniformEnvironment - INFO - Sum of weight difference arbiterer0.00000000\n",
      "2023-12-06 18:42:29,984 - MarkovianUniformEnvironment - INFO - Sum of weight difference  reconstructor0.00000000\n",
      "2023-12-06 18:42:30,035 - MarkovianUniformEnvironment - INFO - Sum of weight difference arbiterer0.00000000\n",
      "2023-12-06 18:42:30,036 - MarkovianUniformEnvironment - INFO - Sum of weight difference  reconstructor0.00000000\n",
      "2023-12-06 18:42:30,088 - MarkovianUniformEnvironment - INFO - Sum of weight difference arbiterer0.00000000\n",
      "2023-12-06 18:42:30,089 - MarkovianUniformEnvironment - INFO - Sum of weight difference  reconstructor0.00000000\n"
     ]
    },
    {
     "data": {
      "application/vnd.jupyter.widget-view+json": {
       "model_id": "f4267524b78940b88f916e5f5d4e3010",
       "version_major": 2,
       "version_minor": 0
      },
      "text/plain": [
       "Steps:   0%|          | 0/12 [00:00<?, ?it/s]"
      ]
     },
     "metadata": {},
     "output_type": "display_data"
    },
    {
     "name": "stderr",
     "output_type": "stream",
     "text": [
      "2023-12-06 18:42:30,162 - MarkovianUniformEnvironment - INFO - Sum of weight difference arbiterer0.00000000\n",
      "2023-12-06 18:42:30,163 - MarkovianUniformEnvironment - INFO - Sum of weight difference  reconstructor0.00000000\n",
      "2023-12-06 18:42:30,215 - MarkovianUniformEnvironment - INFO - Sum of weight difference arbiterer0.00000000\n",
      "2023-12-06 18:42:30,216 - MarkovianUniformEnvironment - INFO - Sum of weight difference  reconstructor0.00000000\n",
      "2023-12-06 18:42:30,272 - MarkovianUniformEnvironment - INFO - Sum of weight difference arbiterer0.00000000\n",
      "2023-12-06 18:42:30,273 - MarkovianUniformEnvironment - INFO - Sum of weight difference  reconstructor0.00000000\n",
      "2023-12-06 18:42:30,324 - MarkovianUniformEnvironment - INFO - Sum of weight difference arbiterer0.00000000\n",
      "2023-12-06 18:42:30,326 - MarkovianUniformEnvironment - INFO - Sum of weight difference  reconstructor0.00000000\n",
      "2023-12-06 18:42:30,376 - MarkovianUniformEnvironment - INFO - Sum of weight difference arbiterer0.00000000\n",
      "2023-12-06 18:42:30,377 - MarkovianUniformEnvironment - INFO - Sum of weight difference  reconstructor0.00000000\n",
      "2023-12-06 18:42:30,428 - MarkovianUniformEnvironment - INFO - Sum of weight difference arbiterer0.00000000\n",
      "2023-12-06 18:42:30,429 - MarkovianUniformEnvironment - INFO - Sum of weight difference  reconstructor0.00000000\n",
      "2023-12-06 18:42:30,482 - MarkovianUniformEnvironment - INFO - Sum of weight difference arbiterer0.00000000\n",
      "2023-12-06 18:42:30,483 - MarkovianUniformEnvironment - INFO - Sum of weight difference  reconstructor0.00000000\n",
      "2023-12-06 18:42:30,532 - MarkovianUniformEnvironment - INFO - Sum of weight difference arbiterer0.00000000\n",
      "2023-12-06 18:42:30,533 - MarkovianUniformEnvironment - INFO - Sum of weight difference  reconstructor0.00000000\n",
      "2023-12-06 18:42:30,585 - MarkovianUniformEnvironment - INFO - Sum of weight difference arbiterer0.00000000\n",
      "2023-12-06 18:42:30,586 - MarkovianUniformEnvironment - INFO - Sum of weight difference  reconstructor0.00000000\n",
      "2023-12-06 18:42:30,638 - MarkovianUniformEnvironment - INFO - Sum of weight difference arbiterer0.00000000\n",
      "2023-12-06 18:42:30,639 - MarkovianUniformEnvironment - INFO - Sum of weight difference  reconstructor0.00000000\n",
      "2023-12-06 18:42:30,691 - MarkovianUniformEnvironment - INFO - Sum of weight difference arbiterer0.00000000\n",
      "2023-12-06 18:42:30,692 - MarkovianUniformEnvironment - INFO - Sum of weight difference  reconstructor0.00000000\n",
      "2023-12-06 18:42:30,743 - MarkovianUniformEnvironment - INFO - Sum of weight difference arbiterer0.00000000\n",
      "2023-12-06 18:42:30,743 - MarkovianUniformEnvironment - INFO - Sum of weight difference  reconstructor0.00000000\n"
     ]
    },
    {
     "data": {
      "application/vnd.jupyter.widget-view+json": {
       "model_id": "a26f01dcc47f4c4790644810b70be5be",
       "version_major": 2,
       "version_minor": 0
      },
      "text/plain": [
       "Steps:   0%|          | 0/12 [00:00<?, ?it/s]"
      ]
     },
     "metadata": {},
     "output_type": "display_data"
    },
    {
     "name": "stderr",
     "output_type": "stream",
     "text": [
      "2023-12-06 18:42:30,816 - MarkovianUniformEnvironment - INFO - Sum of weight difference arbiterer0.00000000\n",
      "2023-12-06 18:42:30,817 - MarkovianUniformEnvironment - INFO - Sum of weight difference  reconstructor0.00000000\n",
      "2023-12-06 18:42:30,871 - MarkovianUniformEnvironment - INFO - Sum of weight difference arbiterer0.00000000\n",
      "2023-12-06 18:42:30,872 - MarkovianUniformEnvironment - INFO - Sum of weight difference  reconstructor0.00000000\n",
      "2023-12-06 18:42:30,926 - MarkovianUniformEnvironment - INFO - Sum of weight difference arbiterer0.00000000\n",
      "2023-12-06 18:42:30,927 - MarkovianUniformEnvironment - INFO - Sum of weight difference  reconstructor0.00000000\n",
      "2023-12-06 18:42:30,977 - MarkovianUniformEnvironment - INFO - Sum of weight difference arbiterer0.00000000\n",
      "2023-12-06 18:42:30,978 - MarkovianUniformEnvironment - INFO - Sum of weight difference  reconstructor0.00000000\n",
      "2023-12-06 18:42:31,031 - MarkovianUniformEnvironment - INFO - Sum of weight difference arbiterer0.00000000\n",
      "2023-12-06 18:42:31,031 - MarkovianUniformEnvironment - INFO - Sum of weight difference  reconstructor0.00000000\n",
      "2023-12-06 18:42:31,082 - MarkovianUniformEnvironment - INFO - Sum of weight difference arbiterer0.00000000\n",
      "2023-12-06 18:42:31,083 - MarkovianUniformEnvironment - INFO - Sum of weight difference  reconstructor0.00000000\n",
      "2023-12-06 18:42:31,140 - MarkovianUniformEnvironment - INFO - Sum of weight difference arbiterer0.00000000\n",
      "2023-12-06 18:42:31,141 - MarkovianUniformEnvironment - INFO - Sum of weight difference  reconstructor0.00000000\n",
      "2023-12-06 18:42:31,192 - MarkovianUniformEnvironment - INFO - Sum of weight difference arbiterer0.00000000\n",
      "2023-12-06 18:42:31,193 - MarkovianUniformEnvironment - INFO - Sum of weight difference  reconstructor0.00000000\n",
      "2023-12-06 18:42:31,244 - MarkovianUniformEnvironment - INFO - Sum of weight difference arbiterer0.00000000\n",
      "2023-12-06 18:42:31,245 - MarkovianUniformEnvironment - INFO - Sum of weight difference  reconstructor0.00000000\n",
      "2023-12-06 18:42:31,298 - MarkovianUniformEnvironment - INFO - Sum of weight difference arbiterer0.00000000\n",
      "2023-12-06 18:42:31,299 - MarkovianUniformEnvironment - INFO - Sum of weight difference  reconstructor0.00000000\n",
      "2023-12-06 18:42:31,354 - MarkovianUniformEnvironment - INFO - Sum of weight difference arbiterer0.00000000\n",
      "2023-12-06 18:42:31,355 - MarkovianUniformEnvironment - INFO - Sum of weight difference  reconstructor0.00000000\n",
      "2023-12-06 18:42:31,404 - MarkovianUniformEnvironment - INFO - Sum of weight difference arbiterer0.00000000\n",
      "2023-12-06 18:42:31,405 - MarkovianUniformEnvironment - INFO - Sum of weight difference  reconstructor0.00000000\n"
     ]
    },
    {
     "data": {
      "application/vnd.jupyter.widget-view+json": {
       "model_id": "73f63279df854a10afb067d53ce2902e",
       "version_major": 2,
       "version_minor": 0
      },
      "text/plain": [
       "Steps:   0%|          | 0/12 [00:00<?, ?it/s]"
      ]
     },
     "metadata": {},
     "output_type": "display_data"
    },
    {
     "name": "stderr",
     "output_type": "stream",
     "text": [
      "2023-12-06 18:42:31,485 - MarkovianUniformEnvironment - INFO - Sum of weight difference arbiterer0.00000000\n",
      "2023-12-06 18:42:31,485 - MarkovianUniformEnvironment - INFO - Sum of weight difference  reconstructor0.00000000\n",
      "2023-12-06 18:42:31,537 - MarkovianUniformEnvironment - INFO - Sum of weight difference arbiterer0.00000000\n",
      "2023-12-06 18:42:31,538 - MarkovianUniformEnvironment - INFO - Sum of weight difference  reconstructor0.00000000\n",
      "2023-12-06 18:42:31,591 - MarkovianUniformEnvironment - INFO - Sum of weight difference arbiterer0.00000000\n",
      "2023-12-06 18:42:31,592 - MarkovianUniformEnvironment - INFO - Sum of weight difference  reconstructor0.00000000\n",
      "2023-12-06 18:42:31,643 - MarkovianUniformEnvironment - INFO - Sum of weight difference arbiterer0.00000000\n",
      "2023-12-06 18:42:31,644 - MarkovianUniformEnvironment - INFO - Sum of weight difference  reconstructor0.00000000\n",
      "2023-12-06 18:42:31,699 - MarkovianUniformEnvironment - INFO - Sum of weight difference arbiterer0.00000000\n",
      "2023-12-06 18:42:31,699 - MarkovianUniformEnvironment - INFO - Sum of weight difference  reconstructor0.00000000\n",
      "2023-12-06 18:42:31,752 - MarkovianUniformEnvironment - INFO - Sum of weight difference arbiterer0.00000000\n",
      "2023-12-06 18:42:31,753 - MarkovianUniformEnvironment - INFO - Sum of weight difference  reconstructor0.00000000\n",
      "2023-12-06 18:42:31,808 - MarkovianUniformEnvironment - INFO - Sum of weight difference arbiterer0.00000000\n",
      "2023-12-06 18:42:31,809 - MarkovianUniformEnvironment - INFO - Sum of weight difference  reconstructor0.00000000\n",
      "2023-12-06 18:42:31,859 - MarkovianUniformEnvironment - INFO - Sum of weight difference arbiterer0.00000000\n",
      "2023-12-06 18:42:31,860 - MarkovianUniformEnvironment - INFO - Sum of weight difference  reconstructor0.00000000\n",
      "2023-12-06 18:42:31,912 - MarkovianUniformEnvironment - INFO - Sum of weight difference arbiterer0.00000000\n",
      "2023-12-06 18:42:31,913 - MarkovianUniformEnvironment - INFO - Sum of weight difference  reconstructor0.00000000\n",
      "2023-12-06 18:42:31,964 - MarkovianUniformEnvironment - INFO - Sum of weight difference arbiterer0.00000000\n",
      "2023-12-06 18:42:31,965 - MarkovianUniformEnvironment - INFO - Sum of weight difference  reconstructor0.00000000\n",
      "2023-12-06 18:42:32,020 - MarkovianUniformEnvironment - INFO - Sum of weight difference arbiterer0.00000000\n",
      "2023-12-06 18:42:32,021 - MarkovianUniformEnvironment - INFO - Sum of weight difference  reconstructor0.00000000\n",
      "2023-12-06 18:42:32,071 - MarkovianUniformEnvironment - INFO - Sum of weight difference arbiterer0.00000000\n",
      "2023-12-06 18:42:32,072 - MarkovianUniformEnvironment - INFO - Sum of weight difference  reconstructor0.00000000\n"
     ]
    },
    {
     "data": {
      "application/vnd.jupyter.widget-view+json": {
       "model_id": "eb40ba770ad44a4eb838ebcef2795909",
       "version_major": 2,
       "version_minor": 0
      },
      "text/plain": [
       "Steps:   0%|          | 0/12 [00:00<?, ?it/s]"
      ]
     },
     "metadata": {},
     "output_type": "display_data"
    },
    {
     "name": "stderr",
     "output_type": "stream",
     "text": [
      "2023-12-06 18:42:32,148 - MarkovianUniformEnvironment - INFO - Sum of weight difference arbiterer0.00000000\n",
      "2023-12-06 18:42:32,149 - MarkovianUniformEnvironment - INFO - Sum of weight difference  reconstructor0.00000000\n",
      "2023-12-06 18:42:32,201 - MarkovianUniformEnvironment - INFO - Sum of weight difference arbiterer0.00000000\n",
      "2023-12-06 18:42:32,202 - MarkovianUniformEnvironment - INFO - Sum of weight difference  reconstructor0.00000000\n",
      "2023-12-06 18:42:32,257 - MarkovianUniformEnvironment - INFO - Sum of weight difference arbiterer0.00000000\n",
      "2023-12-06 18:42:32,258 - MarkovianUniformEnvironment - INFO - Sum of weight difference  reconstructor0.00000000\n",
      "2023-12-06 18:42:32,310 - MarkovianUniformEnvironment - INFO - Sum of weight difference arbiterer0.00000000\n",
      "2023-12-06 18:42:32,311 - MarkovianUniformEnvironment - INFO - Sum of weight difference  reconstructor0.00000000\n",
      "2023-12-06 18:42:32,365 - MarkovianUniformEnvironment - INFO - Sum of weight difference arbiterer0.00000000\n",
      "2023-12-06 18:42:32,366 - MarkovianUniformEnvironment - INFO - Sum of weight difference  reconstructor0.00000000\n",
      "2023-12-06 18:42:32,417 - MarkovianUniformEnvironment - INFO - Sum of weight difference arbiterer0.00000000\n",
      "2023-12-06 18:42:32,417 - MarkovianUniformEnvironment - INFO - Sum of weight difference  reconstructor0.00000000\n",
      "2023-12-06 18:42:32,470 - MarkovianUniformEnvironment - INFO - Sum of weight difference arbiterer0.00000000\n",
      "2023-12-06 18:42:32,471 - MarkovianUniformEnvironment - INFO - Sum of weight difference  reconstructor0.00000000\n",
      "2023-12-06 18:42:32,521 - MarkovianUniformEnvironment - INFO - Sum of weight difference arbiterer0.00000000\n",
      "2023-12-06 18:42:32,522 - MarkovianUniformEnvironment - INFO - Sum of weight difference  reconstructor0.00000000\n",
      "2023-12-06 18:42:32,575 - MarkovianUniformEnvironment - INFO - Sum of weight difference arbiterer0.00000000\n",
      "2023-12-06 18:42:32,576 - MarkovianUniformEnvironment - INFO - Sum of weight difference  reconstructor0.00000000\n",
      "2023-12-06 18:42:32,625 - MarkovianUniformEnvironment - INFO - Sum of weight difference arbiterer0.00000000\n",
      "2023-12-06 18:42:32,626 - MarkovianUniformEnvironment - INFO - Sum of weight difference  reconstructor0.00000000\n",
      "2023-12-06 18:42:32,684 - MarkovianUniformEnvironment - INFO - Sum of weight difference arbiterer0.00000000\n",
      "2023-12-06 18:42:32,685 - MarkovianUniformEnvironment - INFO - Sum of weight difference  reconstructor0.00000000\n",
      "2023-12-06 18:42:32,737 - MarkovianUniformEnvironment - INFO - Sum of weight difference arbiterer0.00000000\n",
      "2023-12-06 18:42:32,741 - MarkovianUniformEnvironment - INFO - Sum of weight difference  reconstructor0.00000000\n"
     ]
    },
    {
     "data": {
      "application/vnd.jupyter.widget-view+json": {
       "model_id": "c738b3fe60a24fcd821c28efbffa1411",
       "version_major": 2,
       "version_minor": 0
      },
      "text/plain": [
       "Steps:   0%|          | 0/12 [00:00<?, ?it/s]"
      ]
     },
     "metadata": {},
     "output_type": "display_data"
    },
    {
     "name": "stderr",
     "output_type": "stream",
     "text": [
      "2023-12-06 18:42:32,805 - MarkovianUniformEnvironment - INFO - Sum of weight difference arbiterer0.00000000\n",
      "2023-12-06 18:42:32,806 - MarkovianUniformEnvironment - INFO - Sum of weight difference  reconstructor0.00000000\n",
      "2023-12-06 18:42:32,857 - MarkovianUniformEnvironment - INFO - Sum of weight difference arbiterer0.00000000\n",
      "2023-12-06 18:42:32,858 - MarkovianUniformEnvironment - INFO - Sum of weight difference  reconstructor0.00000000\n",
      "2023-12-06 18:42:32,909 - MarkovianUniformEnvironment - INFO - Sum of weight difference arbiterer0.00000000\n",
      "2023-12-06 18:42:32,910 - MarkovianUniformEnvironment - INFO - Sum of weight difference  reconstructor0.00000000\n",
      "2023-12-06 18:42:32,961 - MarkovianUniformEnvironment - INFO - Sum of weight difference arbiterer0.00000000\n",
      "2023-12-06 18:42:32,961 - MarkovianUniformEnvironment - INFO - Sum of weight difference  reconstructor0.00000000\n",
      "2023-12-06 18:42:33,014 - MarkovianUniformEnvironment - INFO - Sum of weight difference arbiterer0.00000000\n",
      "2023-12-06 18:42:33,014 - MarkovianUniformEnvironment - INFO - Sum of weight difference  reconstructor0.00000000\n",
      "2023-12-06 18:42:33,069 - MarkovianUniformEnvironment - INFO - Sum of weight difference arbiterer0.00000000\n",
      "2023-12-06 18:42:33,070 - MarkovianUniformEnvironment - INFO - Sum of weight difference  reconstructor0.00000000\n",
      "2023-12-06 18:42:33,123 - MarkovianUniformEnvironment - INFO - Sum of weight difference arbiterer0.00000000\n",
      "2023-12-06 18:42:33,125 - MarkovianUniformEnvironment - INFO - Sum of weight difference  reconstructor0.00000000\n",
      "2023-12-06 18:42:33,178 - MarkovianUniformEnvironment - INFO - Sum of weight difference arbiterer0.00000000\n",
      "2023-12-06 18:42:33,179 - MarkovianUniformEnvironment - INFO - Sum of weight difference  reconstructor0.00000000\n",
      "2023-12-06 18:42:33,233 - MarkovianUniformEnvironment - INFO - Sum of weight difference arbiterer0.00000000\n",
      "2023-12-06 18:42:33,234 - MarkovianUniformEnvironment - INFO - Sum of weight difference  reconstructor0.00000000\n",
      "2023-12-06 18:42:33,284 - MarkovianUniformEnvironment - INFO - Sum of weight difference arbiterer0.00000000\n",
      "2023-12-06 18:42:33,285 - MarkovianUniformEnvironment - INFO - Sum of weight difference  reconstructor0.00000000\n",
      "2023-12-06 18:42:33,336 - MarkovianUniformEnvironment - INFO - Sum of weight difference arbiterer0.00000000\n",
      "2023-12-06 18:42:33,337 - MarkovianUniformEnvironment - INFO - Sum of weight difference  reconstructor0.00000000\n",
      "2023-12-06 18:42:33,388 - MarkovianUniformEnvironment - INFO - Sum of weight difference arbiterer0.00000000\n",
      "2023-12-06 18:42:33,389 - MarkovianUniformEnvironment - INFO - Sum of weight difference  reconstructor0.00000000\n"
     ]
    },
    {
     "data": {
      "application/vnd.jupyter.widget-view+json": {
       "model_id": "bc38f58b0d4b4308b8d7ddcdb1c789d6",
       "version_major": 2,
       "version_minor": 0
      },
      "text/plain": [
       "Steps:   0%|          | 0/12 [00:00<?, ?it/s]"
      ]
     },
     "metadata": {},
     "output_type": "display_data"
    },
    {
     "name": "stderr",
     "output_type": "stream",
     "text": [
      "2023-12-06 18:42:33,456 - MarkovianUniformEnvironment - INFO - Sum of weight difference arbiterer0.00000000\n",
      "2023-12-06 18:42:33,457 - MarkovianUniformEnvironment - INFO - Sum of weight difference  reconstructor0.00000000\n",
      "2023-12-06 18:42:33,506 - MarkovianUniformEnvironment - INFO - Sum of weight difference arbiterer0.00000000\n",
      "2023-12-06 18:42:33,507 - MarkovianUniformEnvironment - INFO - Sum of weight difference  reconstructor0.00000000\n",
      "2023-12-06 18:42:33,561 - MarkovianUniformEnvironment - INFO - Sum of weight difference arbiterer0.00000000\n",
      "2023-12-06 18:42:33,562 - MarkovianUniformEnvironment - INFO - Sum of weight difference  reconstructor0.00000000\n",
      "2023-12-06 18:42:33,623 - MarkovianUniformEnvironment - INFO - Sum of weight difference arbiterer0.00000000\n",
      "2023-12-06 18:42:33,623 - MarkovianUniformEnvironment - INFO - Sum of weight difference  reconstructor0.00000000\n",
      "2023-12-06 18:42:33,681 - MarkovianUniformEnvironment - INFO - Sum of weight difference arbiterer0.00000000\n",
      "2023-12-06 18:42:33,682 - MarkovianUniformEnvironment - INFO - Sum of weight difference  reconstructor0.00000000\n",
      "2023-12-06 18:42:33,735 - MarkovianUniformEnvironment - INFO - Sum of weight difference arbiterer0.00000000\n",
      "2023-12-06 18:42:33,736 - MarkovianUniformEnvironment - INFO - Sum of weight difference  reconstructor0.00000000\n",
      "2023-12-06 18:42:33,789 - MarkovianUniformEnvironment - INFO - Sum of weight difference arbiterer0.00000000\n",
      "2023-12-06 18:42:33,790 - MarkovianUniformEnvironment - INFO - Sum of weight difference  reconstructor0.00000000\n",
      "2023-12-06 18:42:33,840 - MarkovianUniformEnvironment - INFO - Sum of weight difference arbiterer0.00000000\n",
      "2023-12-06 18:42:33,841 - MarkovianUniformEnvironment - INFO - Sum of weight difference  reconstructor0.00000000\n",
      "2023-12-06 18:42:33,893 - MarkovianUniformEnvironment - INFO - Sum of weight difference arbiterer0.00000000\n",
      "2023-12-06 18:42:33,894 - MarkovianUniformEnvironment - INFO - Sum of weight difference  reconstructor0.00000000\n",
      "2023-12-06 18:42:33,947 - MarkovianUniformEnvironment - INFO - Sum of weight difference arbiterer0.00000000\n",
      "2023-12-06 18:42:33,948 - MarkovianUniformEnvironment - INFO - Sum of weight difference  reconstructor0.00000000\n",
      "2023-12-06 18:42:34,003 - MarkovianUniformEnvironment - INFO - Sum of weight difference arbiterer0.00000000\n",
      "2023-12-06 18:42:34,004 - MarkovianUniformEnvironment - INFO - Sum of weight difference  reconstructor0.00000000\n",
      "2023-12-06 18:42:34,058 - MarkovianUniformEnvironment - INFO - Sum of weight difference arbiterer0.00000000\n",
      "2023-12-06 18:42:34,059 - MarkovianUniformEnvironment - INFO - Sum of weight difference  reconstructor0.00000000\n"
     ]
    },
    {
     "data": {
      "application/vnd.jupyter.widget-view+json": {
       "model_id": "f98e5047adf1415080a7a258dfde2c1a",
       "version_major": 2,
       "version_minor": 0
      },
      "text/plain": [
       "Steps:   0%|          | 0/12 [00:00<?, ?it/s]"
      ]
     },
     "metadata": {},
     "output_type": "display_data"
    },
    {
     "name": "stderr",
     "output_type": "stream",
     "text": [
      "2023-12-06 18:42:34,148 - MarkovianUniformEnvironment - INFO - Sum of weight difference arbiterer0.00000000\n",
      "2023-12-06 18:42:34,149 - MarkovianUniformEnvironment - INFO - Sum of weight difference  reconstructor0.00000000\n",
      "2023-12-06 18:42:34,207 - MarkovianUniformEnvironment - INFO - Sum of weight difference arbiterer0.00000000\n",
      "2023-12-06 18:42:34,208 - MarkovianUniformEnvironment - INFO - Sum of weight difference  reconstructor0.00000000\n",
      "2023-12-06 18:42:34,261 - MarkovianUniformEnvironment - INFO - Sum of weight difference arbiterer0.00000000\n",
      "2023-12-06 18:42:34,262 - MarkovianUniformEnvironment - INFO - Sum of weight difference  reconstructor0.00000000\n",
      "2023-12-06 18:42:34,319 - MarkovianUniformEnvironment - INFO - Sum of weight difference arbiterer0.00000000\n",
      "2023-12-06 18:42:34,321 - MarkovianUniformEnvironment - INFO - Sum of weight difference  reconstructor0.00000000\n",
      "2023-12-06 18:42:34,381 - MarkovianUniformEnvironment - INFO - Sum of weight difference arbiterer0.00000000\n",
      "2023-12-06 18:42:34,382 - MarkovianUniformEnvironment - INFO - Sum of weight difference  reconstructor0.00000000\n",
      "2023-12-06 18:42:34,436 - MarkovianUniformEnvironment - INFO - Sum of weight difference arbiterer0.00000000\n",
      "2023-12-06 18:42:34,437 - MarkovianUniformEnvironment - INFO - Sum of weight difference  reconstructor0.00000000\n",
      "2023-12-06 18:42:34,491 - MarkovianUniformEnvironment - INFO - Sum of weight difference arbiterer0.00000000\n",
      "2023-12-06 18:42:34,492 - MarkovianUniformEnvironment - INFO - Sum of weight difference  reconstructor0.00000000\n",
      "2023-12-06 18:42:34,542 - MarkovianUniformEnvironment - INFO - Sum of weight difference arbiterer0.00000000\n",
      "2023-12-06 18:42:34,543 - MarkovianUniformEnvironment - INFO - Sum of weight difference  reconstructor0.00000000\n",
      "2023-12-06 18:42:34,600 - MarkovianUniformEnvironment - INFO - Sum of weight difference arbiterer0.00000000\n",
      "2023-12-06 18:42:34,600 - MarkovianUniformEnvironment - INFO - Sum of weight difference  reconstructor0.00000000\n",
      "2023-12-06 18:42:34,652 - MarkovianUniformEnvironment - INFO - Sum of weight difference arbiterer0.00000000\n",
      "2023-12-06 18:42:34,653 - MarkovianUniformEnvironment - INFO - Sum of weight difference  reconstructor0.00000000\n",
      "2023-12-06 18:42:34,706 - MarkovianUniformEnvironment - INFO - Sum of weight difference arbiterer0.00000000\n",
      "2023-12-06 18:42:34,707 - MarkovianUniformEnvironment - INFO - Sum of weight difference  reconstructor0.00000000\n",
      "2023-12-06 18:42:34,762 - MarkovianUniformEnvironment - INFO - Sum of weight difference arbiterer0.00000000\n",
      "2023-12-06 18:42:34,763 - MarkovianUniformEnvironment - INFO - Sum of weight difference  reconstructor0.00000000\n"
     ]
    },
    {
     "data": {
      "application/vnd.jupyter.widget-view+json": {
       "model_id": "fcf52bc5fc52484fa8e10f0cb98496fe",
       "version_major": 2,
       "version_minor": 0
      },
      "text/plain": [
       "Steps:   0%|          | 0/12 [00:00<?, ?it/s]"
      ]
     },
     "metadata": {},
     "output_type": "display_data"
    },
    {
     "name": "stderr",
     "output_type": "stream",
     "text": [
      "2023-12-06 18:42:34,824 - MarkovianUniformEnvironment - INFO - Sum of weight difference arbiterer0.00000000\n",
      "2023-12-06 18:42:34,825 - MarkovianUniformEnvironment - INFO - Sum of weight difference  reconstructor0.00000000\n",
      "2023-12-06 18:42:34,876 - MarkovianUniformEnvironment - INFO - Sum of weight difference arbiterer0.00000000\n",
      "2023-12-06 18:42:34,877 - MarkovianUniformEnvironment - INFO - Sum of weight difference  reconstructor0.00000000\n",
      "2023-12-06 18:42:34,929 - MarkovianUniformEnvironment - INFO - Sum of weight difference arbiterer0.00000000\n",
      "2023-12-06 18:42:34,930 - MarkovianUniformEnvironment - INFO - Sum of weight difference  reconstructor0.00000000\n",
      "2023-12-06 18:42:34,983 - MarkovianUniformEnvironment - INFO - Sum of weight difference arbiterer0.00000000\n",
      "2023-12-06 18:42:34,984 - MarkovianUniformEnvironment - INFO - Sum of weight difference  reconstructor0.00000000\n",
      "2023-12-06 18:42:35,040 - MarkovianUniformEnvironment - INFO - Sum of weight difference arbiterer0.00000000\n",
      "2023-12-06 18:42:35,041 - MarkovianUniformEnvironment - INFO - Sum of weight difference  reconstructor0.00000000\n",
      "2023-12-06 18:42:35,096 - MarkovianUniformEnvironment - INFO - Sum of weight difference arbiterer0.00000000\n",
      "2023-12-06 18:42:35,097 - MarkovianUniformEnvironment - INFO - Sum of weight difference  reconstructor0.00000000\n",
      "2023-12-06 18:42:35,155 - MarkovianUniformEnvironment - INFO - Sum of weight difference arbiterer0.00000000\n",
      "2023-12-06 18:42:35,158 - MarkovianUniformEnvironment - INFO - Sum of weight difference  reconstructor0.00000000\n",
      "2023-12-06 18:42:35,223 - MarkovianUniformEnvironment - INFO - Sum of weight difference arbiterer0.00000000\n",
      "2023-12-06 18:42:35,224 - MarkovianUniformEnvironment - INFO - Sum of weight difference  reconstructor0.00000000\n",
      "2023-12-06 18:42:35,283 - MarkovianUniformEnvironment - INFO - Sum of weight difference arbiterer0.00000000\n",
      "2023-12-06 18:42:35,284 - MarkovianUniformEnvironment - INFO - Sum of weight difference  reconstructor0.00000000\n",
      "2023-12-06 18:42:35,333 - MarkovianUniformEnvironment - INFO - Sum of weight difference arbiterer0.00000000\n",
      "2023-12-06 18:42:35,335 - MarkovianUniformEnvironment - INFO - Sum of weight difference  reconstructor0.00000000\n",
      "2023-12-06 18:42:35,386 - MarkovianUniformEnvironment - INFO - Sum of weight difference arbiterer0.00000000\n",
      "2023-12-06 18:42:35,387 - MarkovianUniformEnvironment - INFO - Sum of weight difference  reconstructor0.00000000\n",
      "2023-12-06 18:42:35,437 - MarkovianUniformEnvironment - INFO - Sum of weight difference arbiterer0.00000000\n",
      "2023-12-06 18:42:35,438 - MarkovianUniformEnvironment - INFO - Sum of weight difference  reconstructor0.00000000\n"
     ]
    },
    {
     "data": {
      "application/vnd.jupyter.widget-view+json": {
       "model_id": "ba5a58ba20134159bb4e4153f692fb37",
       "version_major": 2,
       "version_minor": 0
      },
      "text/plain": [
       "Steps:   0%|          | 0/12 [00:00<?, ?it/s]"
      ]
     },
     "metadata": {},
     "output_type": "display_data"
    },
    {
     "name": "stderr",
     "output_type": "stream",
     "text": [
      "2023-12-06 18:42:35,496 - MarkovianUniformEnvironment - INFO - Sum of weight difference arbiterer0.00000000\n",
      "2023-12-06 18:42:35,497 - MarkovianUniformEnvironment - INFO - Sum of weight difference  reconstructor0.00000000\n",
      "2023-12-06 18:42:35,547 - MarkovianUniformEnvironment - INFO - Sum of weight difference arbiterer0.00000000\n",
      "2023-12-06 18:42:35,548 - MarkovianUniformEnvironment - INFO - Sum of weight difference  reconstructor0.00000000\n",
      "2023-12-06 18:42:35,603 - MarkovianUniformEnvironment - INFO - Sum of weight difference arbiterer0.00000000\n",
      "2023-12-06 18:42:35,604 - MarkovianUniformEnvironment - INFO - Sum of weight difference  reconstructor0.00000000\n",
      "2023-12-06 18:42:35,656 - MarkovianUniformEnvironment - INFO - Sum of weight difference arbiterer0.00000000\n",
      "2023-12-06 18:42:35,657 - MarkovianUniformEnvironment - INFO - Sum of weight difference  reconstructor0.00000000\n",
      "2023-12-06 18:42:35,710 - MarkovianUniformEnvironment - INFO - Sum of weight difference arbiterer0.00000000\n",
      "2023-12-06 18:42:35,711 - MarkovianUniformEnvironment - INFO - Sum of weight difference  reconstructor0.00000000\n",
      "2023-12-06 18:42:35,764 - MarkovianUniformEnvironment - INFO - Sum of weight difference arbiterer0.00000000\n",
      "2023-12-06 18:42:35,765 - MarkovianUniformEnvironment - INFO - Sum of weight difference  reconstructor0.00000000\n",
      "2023-12-06 18:42:35,823 - MarkovianUniformEnvironment - INFO - Sum of weight difference arbiterer0.00000000\n",
      "2023-12-06 18:42:35,824 - MarkovianUniformEnvironment - INFO - Sum of weight difference  reconstructor0.00000000\n",
      "2023-12-06 18:42:35,873 - MarkovianUniformEnvironment - INFO - Sum of weight difference arbiterer0.00000000\n",
      "2023-12-06 18:42:35,874 - MarkovianUniformEnvironment - INFO - Sum of weight difference  reconstructor0.00000000\n",
      "2023-12-06 18:42:35,926 - MarkovianUniformEnvironment - INFO - Sum of weight difference arbiterer0.00000000\n",
      "2023-12-06 18:42:35,927 - MarkovianUniformEnvironment - INFO - Sum of weight difference  reconstructor0.00000000\n",
      "2023-12-06 18:42:35,978 - MarkovianUniformEnvironment - INFO - Sum of weight difference arbiterer0.00000000\n",
      "2023-12-06 18:42:35,978 - MarkovianUniformEnvironment - INFO - Sum of weight difference  reconstructor0.00000000\n",
      "2023-12-06 18:42:36,031 - MarkovianUniformEnvironment - INFO - Sum of weight difference arbiterer0.00000000\n",
      "2023-12-06 18:42:36,031 - MarkovianUniformEnvironment - INFO - Sum of weight difference  reconstructor0.00000000\n",
      "2023-12-06 18:42:36,084 - MarkovianUniformEnvironment - INFO - Sum of weight difference arbiterer0.00000000\n",
      "2023-12-06 18:42:36,085 - MarkovianUniformEnvironment - INFO - Sum of weight difference  reconstructor0.00000000\n"
     ]
    },
    {
     "data": {
      "application/vnd.jupyter.widget-view+json": {
       "model_id": "d01864de07d84c3eac4eb71ef87c4a20",
       "version_major": 2,
       "version_minor": 0
      },
      "text/plain": [
       "Steps:   0%|          | 0/12 [00:00<?, ?it/s]"
      ]
     },
     "metadata": {},
     "output_type": "display_data"
    },
    {
     "name": "stderr",
     "output_type": "stream",
     "text": [
      "2023-12-06 18:42:36,146 - MarkovianUniformEnvironment - INFO - Sum of weight difference arbiterer0.00000000\n",
      "2023-12-06 18:42:36,148 - MarkovianUniformEnvironment - INFO - Sum of weight difference  reconstructor0.00000000\n",
      "2023-12-06 18:42:36,207 - MarkovianUniformEnvironment - INFO - Sum of weight difference arbiterer0.00000000\n",
      "2023-12-06 18:42:36,208 - MarkovianUniformEnvironment - INFO - Sum of weight difference  reconstructor0.00000000\n",
      "2023-12-06 18:42:36,260 - MarkovianUniformEnvironment - INFO - Sum of weight difference arbiterer0.00000000\n",
      "2023-12-06 18:42:36,261 - MarkovianUniformEnvironment - INFO - Sum of weight difference  reconstructor0.00000000\n",
      "2023-12-06 18:42:36,312 - MarkovianUniformEnvironment - INFO - Sum of weight difference arbiterer0.00000000\n",
      "2023-12-06 18:42:36,313 - MarkovianUniformEnvironment - INFO - Sum of weight difference  reconstructor0.00000000\n",
      "2023-12-06 18:42:36,366 - MarkovianUniformEnvironment - INFO - Sum of weight difference arbiterer0.00000000\n",
      "2023-12-06 18:42:36,367 - MarkovianUniformEnvironment - INFO - Sum of weight difference  reconstructor0.00000000\n",
      "2023-12-06 18:42:36,427 - MarkovianUniformEnvironment - INFO - Sum of weight difference arbiterer0.00000000\n",
      "2023-12-06 18:42:36,428 - MarkovianUniformEnvironment - INFO - Sum of weight difference  reconstructor0.00000000\n",
      "2023-12-06 18:42:36,482 - MarkovianUniformEnvironment - INFO - Sum of weight difference arbiterer0.00000000\n",
      "2023-12-06 18:42:36,483 - MarkovianUniformEnvironment - INFO - Sum of weight difference  reconstructor0.00000000\n",
      "2023-12-06 18:42:36,537 - MarkovianUniformEnvironment - INFO - Sum of weight difference arbiterer0.00000000\n",
      "2023-12-06 18:42:36,538 - MarkovianUniformEnvironment - INFO - Sum of weight difference  reconstructor0.00000000\n",
      "2023-12-06 18:42:36,591 - MarkovianUniformEnvironment - INFO - Sum of weight difference arbiterer0.00000000\n",
      "2023-12-06 18:42:36,592 - MarkovianUniformEnvironment - INFO - Sum of weight difference  reconstructor0.00000000\n",
      "2023-12-06 18:42:36,644 - MarkovianUniformEnvironment - INFO - Sum of weight difference arbiterer0.00000000\n",
      "2023-12-06 18:42:36,644 - MarkovianUniformEnvironment - INFO - Sum of weight difference  reconstructor0.00000000\n",
      "2023-12-06 18:42:36,700 - MarkovianUniformEnvironment - INFO - Sum of weight difference arbiterer0.00000000\n",
      "2023-12-06 18:42:36,700 - MarkovianUniformEnvironment - INFO - Sum of weight difference  reconstructor0.00000000\n",
      "2023-12-06 18:42:36,752 - MarkovianUniformEnvironment - INFO - Sum of weight difference arbiterer0.00000000\n",
      "2023-12-06 18:42:36,752 - MarkovianUniformEnvironment - INFO - Sum of weight difference  reconstructor0.00000000\n"
     ]
    },
    {
     "data": {
      "application/vnd.jupyter.widget-view+json": {
       "model_id": "b7184a97d62a4724969783afcd92005b",
       "version_major": 2,
       "version_minor": 0
      },
      "text/plain": [
       "Steps:   0%|          | 0/12 [00:00<?, ?it/s]"
      ]
     },
     "metadata": {},
     "output_type": "display_data"
    },
    {
     "ename": "KeyboardInterrupt",
     "evalue": "",
     "output_type": "error",
     "traceback": [
      "\u001b[0;31m---------------------------------------------------------------------------\u001b[0m",
      "\u001b[0;31mKeyboardInterrupt\u001b[0m                         Traceback (most recent call last)",
      "\u001b[1;32m/Users/rac716/Research/SamplingReconstruction/exp3_rlsampling.ipynb Cell 5\u001b[0m line \u001b[0;36m9\n\u001b[1;32m      <a href='vscode-notebook-cell:/Users/rac716/Research/SamplingReconstruction/exp3_rlsampling.ipynb#W4sZmlsZQ%3D%3D?line=4'>5</a>\u001b[0m sbar \u001b[39m=\u001b[39m tqdm(\u001b[39mrange\u001b[39m(lenth_of_episode), desc \u001b[39m=\u001b[39m \u001b[39m\"\u001b[39m\u001b[39mSteps\u001b[39m\u001b[39m\"\u001b[39m, leave\u001b[39m=\u001b[39m\u001b[39mTrue\u001b[39;00m, position\u001b[39m=\u001b[39m\u001b[39m1\u001b[39m)\n\u001b[1;32m      <a href='vscode-notebook-cell:/Users/rac716/Research/SamplingReconstruction/exp3_rlsampling.ipynb#W4sZmlsZQ%3D%3D?line=5'>6</a>\u001b[0m \u001b[39mfor\u001b[39;00m step \u001b[39min\u001b[39;00m \u001b[39mrange\u001b[39m(lenth_of_episode):\n\u001b[0;32m----> <a href='vscode-notebook-cell:/Users/rac716/Research/SamplingReconstruction/exp3_rlsampling.ipynb#W4sZmlsZQ%3D%3D?line=8'>9</a>\u001b[0m     loss \u001b[39m=\u001b[39m env\u001b[39m.\u001b[39;49mstep() \n\u001b[1;32m     <a href='vscode-notebook-cell:/Users/rac716/Research/SamplingReconstruction/exp3_rlsampling.ipynb#W4sZmlsZQ%3D%3D?line=9'>10</a>\u001b[0m     sbar\u001b[39m.\u001b[39mset_description(\u001b[39mf\u001b[39m\u001b[39m\"\u001b[39m\u001b[39mLoss: \u001b[39m\u001b[39m{\u001b[39;00mloss\u001b[39m}\u001b[39;00m\u001b[39m\"\u001b[39m)\n\u001b[1;32m     <a href='vscode-notebook-cell:/Users/rac716/Research/SamplingReconstruction/exp3_rlsampling.ipynb#W4sZmlsZQ%3D%3D?line=11'>12</a>\u001b[0m     sbar\u001b[39m.\u001b[39mupdate(\u001b[39m1\u001b[39m)\n",
      "File \u001b[0;32m~/Research/SamplingReconstruction/samprecon/environments/OneEpisodeEnvironments.py:104\u001b[0m, in \u001b[0;36mMarkovianUniformEnvironment.step\u001b[0;34m(self)\u001b[0m\n\u001b[1;32m     98\u001b[0m new_state_oh \u001b[39m=\u001b[39m F\u001b[39m.\u001b[39mone_hot(\n\u001b[1;32m     99\u001b[0m     new_state\u001b[39m.\u001b[39mview(\u001b[39m1\u001b[39m, \u001b[39m-\u001b[39m\u001b[39m1\u001b[39m)\u001b[39m.\u001b[39mto(torch\u001b[39m.\u001b[39mlong),\n\u001b[1;32m    100\u001b[0m     num_classes\u001b[39m=\u001b[39m\u001b[39mself\u001b[39m\u001b[39m.\u001b[39mstate_generator\u001b[39m.\u001b[39mmax_state \u001b[39m+\u001b[39m \u001b[39m1\u001b[39m,\n\u001b[1;32m    101\u001b[0m )\u001b[39m.\u001b[39mfloat()\n\u001b[1;32m    102\u001b[0m dec_state \u001b[39m=\u001b[39m differentiable_uniform_sampler(new_state_oh, action)\n\u001b[0;32m--> 104\u001b[0m reconstruction \u001b[39m=\u001b[39m \u001b[39mself\u001b[39;49m\u001b[39m.\u001b[39;49mreconstructor(\n\u001b[1;32m    105\u001b[0m     dec_state, action, action\u001b[39m.\u001b[39;49msqueeze() \u001b[39m*\u001b[39;49m \u001b[39mself\u001b[39;49m\u001b[39m.\u001b[39;49msampling_budget\n\u001b[1;32m    106\u001b[0m )\n\u001b[1;32m    108\u001b[0m loss \u001b[39m=\u001b[39m \u001b[39mself\u001b[39m\u001b[39m.\u001b[39mcriterion(reconstruction\u001b[39m.\u001b[39msqueeze(), new_state)\n\u001b[1;32m    109\u001b[0m loss\u001b[39m.\u001b[39mbackward()\n",
      "File \u001b[0;32m~/miniforge3/envs/rs39/lib/python3.9/site-packages/torch/nn/modules/module.py:1501\u001b[0m, in \u001b[0;36mModule._call_impl\u001b[0;34m(self, *args, **kwargs)\u001b[0m\n\u001b[1;32m   1496\u001b[0m \u001b[39m# If we don't have any hooks, we want to skip the rest of the logic in\u001b[39;00m\n\u001b[1;32m   1497\u001b[0m \u001b[39m# this function, and just call forward.\u001b[39;00m\n\u001b[1;32m   1498\u001b[0m \u001b[39mif\u001b[39;00m \u001b[39mnot\u001b[39;00m (\u001b[39mself\u001b[39m\u001b[39m.\u001b[39m_backward_hooks \u001b[39mor\u001b[39;00m \u001b[39mself\u001b[39m\u001b[39m.\u001b[39m_backward_pre_hooks \u001b[39mor\u001b[39;00m \u001b[39mself\u001b[39m\u001b[39m.\u001b[39m_forward_hooks \u001b[39mor\u001b[39;00m \u001b[39mself\u001b[39m\u001b[39m.\u001b[39m_forward_pre_hooks\n\u001b[1;32m   1499\u001b[0m         \u001b[39mor\u001b[39;00m _global_backward_pre_hooks \u001b[39mor\u001b[39;00m _global_backward_hooks\n\u001b[1;32m   1500\u001b[0m         \u001b[39mor\u001b[39;00m _global_forward_hooks \u001b[39mor\u001b[39;00m _global_forward_pre_hooks):\n\u001b[0;32m-> 1501\u001b[0m     \u001b[39mreturn\u001b[39;00m forward_call(\u001b[39m*\u001b[39;49margs, \u001b[39m*\u001b[39;49m\u001b[39m*\u001b[39;49mkwargs)\n\u001b[1;32m   1502\u001b[0m \u001b[39m# Do not call functions when jit is used\u001b[39;00m\n\u001b[1;32m   1503\u001b[0m full_backward_hooks, non_full_backward_hooks \u001b[39m=\u001b[39m [], []\n",
      "File \u001b[0;32m~/Research/SamplingReconstruction/samprecon/reconstructors/NNReconstructors.py:42\u001b[0m, in \u001b[0;36mRNNReconstructor.forward\u001b[0;34m(self, subsampled_signal, rate, reconstruct_length)\u001b[0m\n\u001b[1;32m     37\u001b[0m x_count \u001b[39m=\u001b[39m torch\u001b[39m.\u001b[39mflip(torch\u001b[39m.\u001b[39marange(reconstruct_length), [\u001b[39m0\u001b[39m])\u001b[39m.\u001b[39mview(\n\u001b[1;32m     38\u001b[0m     x\u001b[39m.\u001b[39mshape[\u001b[39m0\u001b[39m], \u001b[39m-\u001b[39m\u001b[39m1\u001b[39m, \u001b[39m1\u001b[39m\n\u001b[1;32m     39\u001b[0m )\n\u001b[1;32m     40\u001b[0m x \u001b[39m=\u001b[39m torch\u001b[39m.\u001b[39mcat((x, x_count), dim\u001b[39m=\u001b[39m\u001b[39m-\u001b[39m\u001b[39m1\u001b[39m)\n\u001b[0;32m---> 42\u001b[0m out,hiddn \u001b[39m=\u001b[39m \u001b[39mself\u001b[39;49m\u001b[39m.\u001b[39;49mrnn(x) \u001b[39m# Check what is the difference between, out and hiddn\u001b[39;00m\n\u001b[1;32m     43\u001b[0m y \u001b[39m=\u001b[39m \u001b[39mself\u001b[39m\u001b[39m.\u001b[39mclassifier(out)\n\u001b[1;32m     44\u001b[0m y \u001b[39m=\u001b[39m \u001b[39mself\u001b[39m\u001b[39m.\u001b[39msm(y)\n",
      "File \u001b[0;32m~/miniforge3/envs/rs39/lib/python3.9/site-packages/torch/nn/modules/module.py:1501\u001b[0m, in \u001b[0;36mModule._call_impl\u001b[0;34m(self, *args, **kwargs)\u001b[0m\n\u001b[1;32m   1496\u001b[0m \u001b[39m# If we don't have any hooks, we want to skip the rest of the logic in\u001b[39;00m\n\u001b[1;32m   1497\u001b[0m \u001b[39m# this function, and just call forward.\u001b[39;00m\n\u001b[1;32m   1498\u001b[0m \u001b[39mif\u001b[39;00m \u001b[39mnot\u001b[39;00m (\u001b[39mself\u001b[39m\u001b[39m.\u001b[39m_backward_hooks \u001b[39mor\u001b[39;00m \u001b[39mself\u001b[39m\u001b[39m.\u001b[39m_backward_pre_hooks \u001b[39mor\u001b[39;00m \u001b[39mself\u001b[39m\u001b[39m.\u001b[39m_forward_hooks \u001b[39mor\u001b[39;00m \u001b[39mself\u001b[39m\u001b[39m.\u001b[39m_forward_pre_hooks\n\u001b[1;32m   1499\u001b[0m         \u001b[39mor\u001b[39;00m _global_backward_pre_hooks \u001b[39mor\u001b[39;00m _global_backward_hooks\n\u001b[1;32m   1500\u001b[0m         \u001b[39mor\u001b[39;00m _global_forward_hooks \u001b[39mor\u001b[39;00m _global_forward_pre_hooks):\n\u001b[0;32m-> 1501\u001b[0m     \u001b[39mreturn\u001b[39;00m forward_call(\u001b[39m*\u001b[39;49margs, \u001b[39m*\u001b[39;49m\u001b[39m*\u001b[39;49mkwargs)\n\u001b[1;32m   1502\u001b[0m \u001b[39m# Do not call functions when jit is used\u001b[39;00m\n\u001b[1;32m   1503\u001b[0m full_backward_hooks, non_full_backward_hooks \u001b[39m=\u001b[39m [], []\n",
      "File \u001b[0;32m~/miniforge3/envs/rs39/lib/python3.9/site-packages/torch/nn/modules/rnn.py:812\u001b[0m, in \u001b[0;36mLSTM.forward\u001b[0;34m(self, input, hx)\u001b[0m\n\u001b[1;32m    810\u001b[0m \u001b[39mself\u001b[39m\u001b[39m.\u001b[39mcheck_forward_args(\u001b[39minput\u001b[39m, hx, batch_sizes)\n\u001b[1;32m    811\u001b[0m \u001b[39mif\u001b[39;00m batch_sizes \u001b[39mis\u001b[39;00m \u001b[39mNone\u001b[39;00m:\n\u001b[0;32m--> 812\u001b[0m     result \u001b[39m=\u001b[39m _VF\u001b[39m.\u001b[39;49mlstm(\u001b[39minput\u001b[39;49m, hx, \u001b[39mself\u001b[39;49m\u001b[39m.\u001b[39;49m_flat_weights, \u001b[39mself\u001b[39;49m\u001b[39m.\u001b[39;49mbias, \u001b[39mself\u001b[39;49m\u001b[39m.\u001b[39;49mnum_layers,\n\u001b[1;32m    813\u001b[0m                       \u001b[39mself\u001b[39;49m\u001b[39m.\u001b[39;49mdropout, \u001b[39mself\u001b[39;49m\u001b[39m.\u001b[39;49mtraining, \u001b[39mself\u001b[39;49m\u001b[39m.\u001b[39;49mbidirectional, \u001b[39mself\u001b[39;49m\u001b[39m.\u001b[39;49mbatch_first)\n\u001b[1;32m    814\u001b[0m \u001b[39melse\u001b[39;00m:\n\u001b[1;32m    815\u001b[0m     result \u001b[39m=\u001b[39m _VF\u001b[39m.\u001b[39mlstm(\u001b[39minput\u001b[39m, batch_sizes, hx, \u001b[39mself\u001b[39m\u001b[39m.\u001b[39m_flat_weights, \u001b[39mself\u001b[39m\u001b[39m.\u001b[39mbias,\n\u001b[1;32m    816\u001b[0m                       \u001b[39mself\u001b[39m\u001b[39m.\u001b[39mnum_layers, \u001b[39mself\u001b[39m\u001b[39m.\u001b[39mdropout, \u001b[39mself\u001b[39m\u001b[39m.\u001b[39mtraining, \u001b[39mself\u001b[39m\u001b[39m.\u001b[39mbidirectional)\n",
      "\u001b[0;31mKeyboardInterrupt\u001b[0m: "
     ]
    }
   ],
   "source": [
    "ebar = tqdm(range(epochs), desc = \"Epochs\",leave=False, position=0)\n",
    "e_losses = []\n",
    "for epoch in range(epochs):\n",
    "    # We generate a single step from the generator process\n",
    "    sbar = tqdm(range(lenth_of_episode), desc = \"Steps\", leave=True, position=1)\n",
    "    for step in range(lenth_of_episode):\n",
    "\n",
    "        loss = env.step() \n",
    "        sbar.set_description(f\"Loss: {loss}\")\n",
    "\n",
    "        sbar.update(1)\n",
    "    e_losses = np.append(e_losses,loss)\n",
    "    ebar.set_description(f\"Epoch Mean Loss: {np.mean(e_losses[:-10])}\")\n",
    "    # We get reward based on how close we got to maximum information "
   ]
  },
  {
   "cell_type": "code",
   "execution_count": null,
   "metadata": {},
   "outputs": [],
   "source": []
  }
 ],
 "metadata": {
  "kernelspec": {
   "display_name": "research",
   "language": "python",
   "name": "python3"
  },
  "language_info": {
   "codemirror_mode": {
    "name": "ipython",
    "version": 3
   },
   "file_extension": ".py",
   "mimetype": "text/x-python",
   "name": "python",
   "nbconvert_exporter": "python",
   "pygments_lexer": "ipython3",
   "version": "3.9.15"
  }
 },
 "nbformat": 4,
 "nbformat_minor": 2
}
