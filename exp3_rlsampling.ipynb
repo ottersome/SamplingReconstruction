{
 "cells": [
  {
   "cell_type": "markdown",
   "metadata": {},
   "source": [
    "# Imports\n"
   ]
  },
  {
   "cell_type": "code",
   "execution_count": 1,
   "metadata": {},
   "outputs": [],
   "source": [
    "import numpy as np\n",
    "import matplotlib.pyplot as plt\n",
    "import numpy.random as rnd\n",
    "from time import time\n",
    "from sp_sims.simulators.stochasticprocesses import BDStates\n",
    "from samprecon.environments.OneEpisodeEnvironments import MarkovianUniformEnvironment\n",
    "from samprecon.samplers.agents import SimpleAgent \n",
    "from samprecon.reconstructors.NNReconstructors import RNNReconstructor\n",
    "from tqdm.notebook import tqdm\n",
    "\n",
    "plt.style.use('rose-pine-dawn')\n",
    "rnd.seed(int(time()))\n",
    "%load_ext autoreload\n",
    "%autoreload 2"
   ]
  },
  {
   "cell_type": "code",
   "execution_count": 2,
   "metadata": {},
   "outputs": [
    {
     "name": "stdout",
     "output_type": "stream",
     "text": [
      "Decimation factor is 62\n"
     ]
    }
   ],
   "source": [
    "# Generate Environments on which to learn \n",
    "high_res_delta = 1e-1 # For generating the dataset and later sample\n",
    "baseline_rates = {\"lam\": 1/10,\"mu\":4/10}\n",
    "length_path = 64 # High-res path length\n",
    "max_decimation = length_path//2 # Max decimation factor #CHECK: Maybe not divide by 2\n",
    "starting_dec_rate = 1\n",
    "epochs = 100\n",
    "lenth_of_episode = 12\n",
    "step_path_length = 1\n",
    "sampling_budget = 4\n",
    "used_path_length = 64 # So that we can let the process reach stationarity and take samples from stationary distribution\n",
    "num_states = 4\n",
    "current_decimation_factor = int(# We can start somewhere in between \n",
    "    np.mean(1/np.array(\n",
    "            list(baseline_rates.values())\n",
    "    ))//high_res_delta)\n",
    "print(f\"Decimation factor is {current_decimation_factor}\")\n",
    "# Set random seed with time for randomnessj"
   ]
  },
  {
   "cell_type": "code",
   "execution_count": 3,
   "metadata": {},
   "outputs": [
    {
     "name": "stdout",
     "output_type": "stream",
     "text": [
      "This is bothering you : 1\n"
     ]
    },
    {
     "ename": "AttributeError",
     "evalue": "'int' object has no attribute 'squeeze'",
     "output_type": "error",
     "traceback": [
      "\u001b[0;31m---------------------------------------------------------------------------\u001b[0m",
      "\u001b[0;31mAttributeError\u001b[0m                            Traceback (most recent call last)",
      "\u001b[1;32m/Users/rac716/Research/SamplingReconstruction/exp3_rlsampling.ipynb Cell 4\u001b[0m line \u001b[0;36m6\n\u001b[1;32m      <a href='vscode-notebook-cell:/Users/rac716/Research/SamplingReconstruction/exp3_rlsampling.ipynb#W3sZmlsZQ%3D%3D?line=2'>3</a>\u001b[0m sampling_arbiter \u001b[39m=\u001b[39m SimpleAgent(num_states,max_decimation)\n\u001b[1;32m      <a href='vscode-notebook-cell:/Users/rac716/Research/SamplingReconstruction/exp3_rlsampling.ipynb#W3sZmlsZQ%3D%3D?line=3'>4</a>\u001b[0m reconstructor \u001b[39m=\u001b[39m RNNReconstructor(subsampled_signal_length \u001b[39m=\u001b[39m sampling_budget )\n\u001b[0;32m----> <a href='vscode-notebook-cell:/Users/rac716/Research/SamplingReconstruction/exp3_rlsampling.ipynb#W3sZmlsZQ%3D%3D?line=5'>6</a>\u001b[0m env \u001b[39m=\u001b[39m MarkovianUniformEnvironment(\n\u001b[1;32m      <a href='vscode-notebook-cell:/Users/rac716/Research/SamplingReconstruction/exp3_rlsampling.ipynb#W3sZmlsZQ%3D%3D?line=6'>7</a>\u001b[0m     state_generator \u001b[39m=\u001b[39;49m stateGen,\n\u001b[1;32m      <a href='vscode-notebook-cell:/Users/rac716/Research/SamplingReconstruction/exp3_rlsampling.ipynb#W3sZmlsZQ%3D%3D?line=7'>8</a>\u001b[0m     sampling_arbiter \u001b[39m=\u001b[39;49m sampling_arbiter,\n\u001b[1;32m      <a href='vscode-notebook-cell:/Users/rac716/Research/SamplingReconstruction/exp3_rlsampling.ipynb#W3sZmlsZQ%3D%3D?line=8'>9</a>\u001b[0m     reconstructor \u001b[39m=\u001b[39;49m reconstructor, \n\u001b[1;32m     <a href='vscode-notebook-cell:/Users/rac716/Research/SamplingReconstruction/exp3_rlsampling.ipynb#W3sZmlsZQ%3D%3D?line=9'>10</a>\u001b[0m     starting_decrate \u001b[39m=\u001b[39;49m starting_dec_rate,\n\u001b[1;32m     <a href='vscode-notebook-cell:/Users/rac716/Research/SamplingReconstruction/exp3_rlsampling.ipynb#W3sZmlsZQ%3D%3D?line=10'>11</a>\u001b[0m )\n",
      "File \u001b[0;32m~/Research/SamplingReconstruction/samprecon/environments/OneEpisodeEnvironments.py:53\u001b[0m, in \u001b[0;36mMarkovianUniformEnvironment.__init__\u001b[0;34m(self, state_generator, sampling_arbiter, reconstructor, starting_decrate, sampling_budget)\u001b[0m\n\u001b[1;32m     48\u001b[0m \u001b[39mself\u001b[39m\u001b[39m.\u001b[39msampling_budget \u001b[39m=\u001b[39m sampling_budget\n\u001b[1;32m     49\u001b[0m \u001b[39mself\u001b[39m\u001b[39m.\u001b[39moptimizer \u001b[39m=\u001b[39m optim\u001b[39m.\u001b[39mAdam(\u001b[39mlist\u001b[39m(\u001b[39mself\u001b[39m\u001b[39m.\u001b[39msampling_arbiter\u001b[39m.\u001b[39mparameters()))\n\u001b[1;32m     51\u001b[0m \u001b[39mself\u001b[39m\u001b[39m.\u001b[39mprev_state \u001b[39m=\u001b[39m (\n\u001b[1;32m     52\u001b[0m     torch\u001b[39m.\u001b[39mtensor(\n\u001b[0;32m---> 53\u001b[0m         \u001b[39mself\u001b[39;49m\u001b[39m.\u001b[39;49mstate_generator\u001b[39m.\u001b[39;49msample(starting_decrate, \u001b[39mself\u001b[39;49m\u001b[39m.\u001b[39;49msampling_budget)\n\u001b[1;32m     54\u001b[0m     )\n\u001b[1;32m     55\u001b[0m     \u001b[39m.\u001b[39mto(torch\u001b[39m.\u001b[39mfloat32)\n\u001b[1;32m     56\u001b[0m     \u001b[39m.\u001b[39mview(\u001b[39m-\u001b[39m\u001b[39m1\u001b[39m, sampling_budget)\n\u001b[1;32m     57\u001b[0m )\n\u001b[1;32m     58\u001b[0m \u001b[39mself\u001b[39m\u001b[39m.\u001b[39mcriterion \u001b[39m=\u001b[39m nn\u001b[39m.\u001b[39mMSELoss()\n\u001b[1;32m     60\u001b[0m \u001b[39mself\u001b[39m\u001b[39m.\u001b[39mlogger \u001b[39m=\u001b[39m setup_logger(\u001b[39m\"\u001b[39m\u001b[39mMarkovianUniformEnvironment\u001b[39m\u001b[39m\"\u001b[39m, INFO)\n",
      "File \u001b[0;32m~/Research/SamplingReconstruction/sp_sims/simulators/stochasticprocesses.py:153\u001b[0m, in \u001b[0;36mBDStates.sample\u001b[0;34m(self, decimation_rate, sampling_budget)\u001b[0m\n\u001b[1;32m    147\u001b[0m     path\u001b[39m.\u001b[39mappend(\n\u001b[1;32m    148\u001b[0m         np\u001b[39m.\u001b[39mrandom\u001b[39m.\u001b[39mchoice(\n\u001b[1;32m    149\u001b[0m             np\u001b[39m.\u001b[39marange(\u001b[39mself\u001b[39m\u001b[39m.\u001b[39mmax_state \u001b[39m+\u001b[39m \u001b[39m1\u001b[39m), p\u001b[39m=\u001b[39m\u001b[39mself\u001b[39m\u001b[39m.\u001b[39mP[\u001b[39mself\u001b[39m\u001b[39m.\u001b[39mcurr_history[\u001b[39m-\u001b[39m\u001b[39m1\u001b[39m], :]\n\u001b[1;32m    150\u001b[0m         )\u001b[39m.\u001b[39msqueeze()\n\u001b[1;32m    151\u001b[0m     )\n\u001b[1;32m    152\u001b[0m \u001b[39mprint\u001b[39m(\u001b[39m\"\u001b[39m\u001b[39mThis is bothering you :\u001b[39m\u001b[39m\"\u001b[39m, decimation_rate)\n\u001b[0;32m--> 153\u001b[0m dec_path \u001b[39m=\u001b[39m path[:: decimation_rate\u001b[39m.\u001b[39;49msqueeze()]\n\u001b[1;32m    154\u001b[0m \u001b[39mself\u001b[39m\u001b[39m.\u001b[39mcurr_history \u001b[39m=\u001b[39m dec_path\n\u001b[1;32m    155\u001b[0m \u001b[39mreturn\u001b[39;00m \u001b[39mself\u001b[39m\u001b[39m.\u001b[39mcurr_history\n",
      "\u001b[0;31mAttributeError\u001b[0m: 'int' object has no attribute 'squeeze'"
     ]
    }
   ],
   "source": [
    "# Initialize context first\n",
    "stateGen = BDStates(baseline_rates, high_res_delta, num_states)\n",
    "sampling_arbiter = SimpleAgent(num_states,max_decimation)\n",
    "reconstructor = RNNReconstructor(subsampled_signal_length = sampling_budget )\n",
    "\n",
    "env = MarkovianUniformEnvironment(\n",
    "    state_generator = stateGen,\n",
    "    sampling_arbiter = sampling_arbiter,\n",
    "    reconstructor = reconstructor, \n",
    "    starting_decrate = starting_dec_rate,\n",
    ")"
   ]
  },
  {
   "cell_type": "code",
   "execution_count": null,
   "metadata": {},
   "outputs": [
    {
     "data": {
      "application/vnd.jupyter.widget-view+json": {
       "model_id": "4721f90175d24971b1e3bfa882175351",
       "version_major": 2,
       "version_minor": 0
      },
      "text/plain": [
       "Epochs:   0%|          | 0/100 [00:00<?, ?it/s]"
      ]
     },
     "metadata": {},
     "output_type": "display_data"
    },
    {
     "data": {
      "application/vnd.jupyter.widget-view+json": {
       "model_id": "f5352320eabf4e2fb6b015875be8e376",
       "version_major": 2,
       "version_minor": 0
      },
      "text/plain": [
       "Steps:   0%|          | 0/12 [00:00<?, ?it/s]"
      ]
     },
     "metadata": {},
     "output_type": "display_data"
    },
    {
     "name": "stdout",
     "output_type": "stream",
     "text": [
      "This is bothering you : tensor([[15.7829]], grad_fn=<ViewBackward0>)\n"
     ]
    },
    {
     "name": "stderr",
     "output_type": "stream",
     "text": [
      "/Users/rac716/Research/SamplingReconstruction/samprecon/samplers/spatial_transformers.py:54: UserWarning: To copy construct from a tensor, it is recommended to use sourceTensor.clone().detach() or sourceTensor.clone().detach().requires_grad_(True), rather than torch.tensor(sourceTensor).\n",
      "  torch.tensor(decimation_intervals[i])\n"
     ]
    },
    {
     "ename": "TypeError",
     "evalue": "only integer tensors of a single element can be converted to an index",
     "output_type": "error",
     "traceback": [
      "\u001b[0;31m---------------------------------------------------------------------------\u001b[0m",
      "\u001b[0;31mTypeError\u001b[0m                                 Traceback (most recent call last)",
      "\u001b[1;32m/Users/rac716/Research/SamplingReconstruction/exp3_rlsampling.ipynb Cell 5\u001b[0m line \u001b[0;36m7\n\u001b[1;32m      <a href='vscode-notebook-cell:/Users/rac716/Research/SamplingReconstruction/exp3_rlsampling.ipynb#W4sZmlsZQ%3D%3D?line=3'>4</a>\u001b[0m sbar \u001b[39m=\u001b[39m tqdm(\u001b[39mrange\u001b[39m(lenth_of_episode), desc \u001b[39m=\u001b[39m \u001b[39m\"\u001b[39m\u001b[39mSteps\u001b[39m\u001b[39m\"\u001b[39m)\n\u001b[1;32m      <a href='vscode-notebook-cell:/Users/rac716/Research/SamplingReconstruction/exp3_rlsampling.ipynb#W4sZmlsZQ%3D%3D?line=4'>5</a>\u001b[0m \u001b[39mfor\u001b[39;00m step \u001b[39min\u001b[39;00m \u001b[39mrange\u001b[39m(lenth_of_episode):\n\u001b[0;32m----> <a href='vscode-notebook-cell:/Users/rac716/Research/SamplingReconstruction/exp3_rlsampling.ipynb#W4sZmlsZQ%3D%3D?line=6'>7</a>\u001b[0m     loss \u001b[39m=\u001b[39m env\u001b[39m.\u001b[39;49mstep() \n\u001b[1;32m      <a href='vscode-notebook-cell:/Users/rac716/Research/SamplingReconstruction/exp3_rlsampling.ipynb#W4sZmlsZQ%3D%3D?line=7'>8</a>\u001b[0m     sbar\u001b[39m.\u001b[39mset_description(\u001b[39mf\u001b[39m\u001b[39m\"\u001b[39m\u001b[39mLoss: \u001b[39m\u001b[39m{\u001b[39;00mloss\u001b[39m}\u001b[39;00m\u001b[39m\"\u001b[39m)\n\u001b[1;32m     <a href='vscode-notebook-cell:/Users/rac716/Research/SamplingReconstruction/exp3_rlsampling.ipynb#W4sZmlsZQ%3D%3D?line=9'>10</a>\u001b[0m     sbar\u001b[39m.\u001b[39mupdate(\u001b[39m1\u001b[39m)\n",
      "File \u001b[0;32m~/Research/SamplingReconstruction/samprecon/environments/OneEpisodeEnvironments.py:73\u001b[0m, in \u001b[0;36mMarkovianUniformEnvironment.step\u001b[0;34m(self)\u001b[0m\n\u001b[1;32m     70\u001b[0m action: torch\u001b[39m.\u001b[39mTensor \u001b[39m=\u001b[39m \u001b[39mself\u001b[39m\u001b[39m.\u001b[39msampling_arbiter(\u001b[39mself\u001b[39m\u001b[39m.\u001b[39mprev_state)\u001b[39m.\u001b[39mview(\u001b[39m-\u001b[39m\u001b[39m1\u001b[39m, \u001b[39m1\u001b[39m)\n\u001b[1;32m     71\u001b[0m mask \u001b[39m=\u001b[39m differentiable_uniform_sampler(\u001b[39mself\u001b[39m\u001b[39m.\u001b[39mprev_state, action)\n\u001b[1;32m     72\u001b[0m new_state \u001b[39m=\u001b[39m torch\u001b[39m.\u001b[39mTensor(\n\u001b[0;32m---> 73\u001b[0m     \u001b[39mself\u001b[39;49m\u001b[39m.\u001b[39;49mstate_generator\u001b[39m.\u001b[39;49msample(action, \u001b[39mself\u001b[39;49m\u001b[39m.\u001b[39;49msampling_budget)\n\u001b[1;32m     74\u001b[0m )\n\u001b[1;32m     76\u001b[0m dec_state \u001b[39m=\u001b[39m new_state \u001b[39m*\u001b[39m mask\n\u001b[1;32m     78\u001b[0m reconstruction \u001b[39m=\u001b[39m \u001b[39mself\u001b[39m\u001b[39m.\u001b[39mreconstructor(dec_state, action)\n",
      "File \u001b[0;32m~/Research/SamplingReconstruction/sp_sims/simulators/stochasticprocesses.py:153\u001b[0m, in \u001b[0;36mBDStates.sample\u001b[0;34m(self, decimation_rate, sampling_budget)\u001b[0m\n\u001b[1;32m    147\u001b[0m     path\u001b[39m.\u001b[39mappend(\n\u001b[1;32m    148\u001b[0m         np\u001b[39m.\u001b[39mrandom\u001b[39m.\u001b[39mchoice(\n\u001b[1;32m    149\u001b[0m             np\u001b[39m.\u001b[39marange(\u001b[39mself\u001b[39m\u001b[39m.\u001b[39mmax_state \u001b[39m+\u001b[39m \u001b[39m1\u001b[39m), p\u001b[39m=\u001b[39m\u001b[39mself\u001b[39m\u001b[39m.\u001b[39mP[\u001b[39mself\u001b[39m\u001b[39m.\u001b[39mcurr_history[\u001b[39m-\u001b[39m\u001b[39m1\u001b[39m], :]\n\u001b[1;32m    150\u001b[0m         )\u001b[39m.\u001b[39msqueeze()\n\u001b[1;32m    151\u001b[0m     )\n\u001b[1;32m    152\u001b[0m \u001b[39mprint\u001b[39m(\u001b[39m\"\u001b[39m\u001b[39mThis is bothering you :\u001b[39m\u001b[39m\"\u001b[39m, decimation_rate)\n\u001b[0;32m--> 153\u001b[0m dec_path \u001b[39m=\u001b[39m path[::decimation_rate]\n\u001b[1;32m    154\u001b[0m \u001b[39mself\u001b[39m\u001b[39m.\u001b[39mcurr_history \u001b[39m=\u001b[39m dec_path\n\u001b[1;32m    155\u001b[0m \u001b[39mreturn\u001b[39;00m \u001b[39mself\u001b[39m\u001b[39m.\u001b[39mcurr_history\n",
      "\u001b[0;31mTypeError\u001b[0m: only integer tensors of a single element can be converted to an index"
     ]
    }
   ],
   "source": [
    "ebar = tqdm(range(epochs), desc = \"Epochs\")\n",
    "for epoch in range(epochs):\n",
    "    # We generate a single step from the generator process\n",
    "    sbar = tqdm(range(lenth_of_episode), desc = \"Steps\")\n",
    "    for step in range(lenth_of_episode):\n",
    "\n",
    "        loss = env.step() \n",
    "        sbar.set_description(f\"Loss: {loss}\")\n",
    "\n",
    "        sbar.update(1)\n",
    "    ebar.update(1)\n",
    "    # We get reward based on how close we got to maximum information "
   ]
  }
 ],
 "metadata": {
  "kernelspec": {
   "display_name": "research",
   "language": "python",
   "name": "python3"
  },
  "language_info": {
   "codemirror_mode": {
    "name": "ipython",
    "version": 3
   },
   "file_extension": ".py",
   "mimetype": "text/x-python",
   "name": "python",
   "nbconvert_exporter": "python",
   "pygments_lexer": "ipython3",
   "version": "3.9.15"
  }
 },
 "nbformat": 4,
 "nbformat_minor": 2
}
